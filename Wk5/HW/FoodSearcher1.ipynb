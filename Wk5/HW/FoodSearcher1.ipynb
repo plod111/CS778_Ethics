{
 "cells": [
  {
   "cell_type": "markdown",
   "id": "8ac7cd0b-4c1b-4134-a75d-cf81ae5a26f9",
   "metadata": {},
   "source": [
    "CSCI 77800 -- 2024 FA -- Edgar E. Troudt, Ph.D.\n",
    "\n",
    "Notebook 1 - Demonstrating loading and displaying a basic photo from a web API. \n",
    "\n",
    "This demonstrates using Jupyter notebook's picture display option.  It is explained here:\n",
    "    https://saturncloud.io/blog/how-to-show-images-in-jupyter-notebook/\n",
    "\n",
    "Code example borrows heavily from above site, with Edgar's customizations."
   ]
  },
  {
   "cell_type": "markdown",
   "id": "069faaa6-0e54-475b-8e8f-d4f3d86ae233",
   "metadata": {},
   "source": [
    "The code requires the installation of the pillow library.  You can do this with the below pip command.\n",
    "\n",
    "Some folks may need to customize the call to pip.  It may be /usr/bin/python3 -m pip for some."
   ]
  },
  {
   "cell_type": "code",
   "execution_count": 1,
   "id": "589edcce-7a1b-4f08-a115-d31f2d8110fa",
   "metadata": {},
   "outputs": [
    {
     "name": "stdout",
     "output_type": "stream",
     "text": [
      "\u001b[1;31merror\u001b[0m: \u001b[1mexternally-managed-environment\u001b[0m\n",
      "\n",
      "\u001b[31m×\u001b[0m This environment is externally managed\n",
      "\u001b[31m╰─>\u001b[0m To install Python packages system-wide, try apt install\n",
      "\u001b[31m   \u001b[0m python3-xyz, where xyz is the package you are trying to\n",
      "\u001b[31m   \u001b[0m install.\n",
      "\u001b[31m   \u001b[0m \n",
      "\u001b[31m   \u001b[0m If you wish to install a non-Debian-packaged Python package,\n",
      "\u001b[31m   \u001b[0m create a virtual environment using python3 -m venv path/to/venv.\n",
      "\u001b[31m   \u001b[0m Then use path/to/venv/bin/python and path/to/venv/bin/pip. Make\n",
      "\u001b[31m   \u001b[0m sure you have python3-full installed.\n",
      "\u001b[31m   \u001b[0m \n",
      "\u001b[31m   \u001b[0m If you wish to install a non-Debian packaged Python application,\n",
      "\u001b[31m   \u001b[0m it may be easiest to use pipx install xyz, which will manage a\n",
      "\u001b[31m   \u001b[0m virtual environment for you. Make sure you have pipx installed.\n",
      "\u001b[31m   \u001b[0m \n",
      "\u001b[31m   \u001b[0m See /usr/share/doc/python3.12/README.venv for more information.\n",
      "\n",
      "\u001b[1;35mnote\u001b[0m: If you believe this is a mistake, please contact your Python installation or OS distribution provider. You can override this, at the risk of breaking your Python installation or OS, by passing --break-system-packages.\n",
      "\u001b[1;36mhint\u001b[0m: See PEP 668 for the detailed specification.\n"
     ]
    }
   ],
   "source": [
    "! pip install pillow"
   ]
  },
  {
   "cell_type": "markdown",
   "id": "8ad808ba-c40b-4126-bfe2-f90fb951e763",
   "metadata": {},
   "source": [
    "After installing the pillow library, execute the below code.\n",
    "\n",
    "As this is pulling live from the web twice, it may take a few minutes to load.\n",
    "Also, if your Jupyter installation is firewalled, you will not be able to access the web at all."
   ]
  },
  {
   "cell_type": "code",
   "execution_count": null,
   "id": "9900a1a5-fef4-4a6f-b02e-090df95701d2",
   "metadata": {},
   "outputs": [],
   "source": [
    "# PIL = pillow library\n",
    "from PIL import Image\n",
    "from IPython.display import display\n",
    "\n",
    "# This code is taken from my simpleFood2.py example.\n",
    "import json\n",
    "import urllib.request\n",
    "\n",
    "web_data = urllib.request.urlopen( url=\"https://foodish-api.com/api/images/burger\" )\n",
    "json_data = web_data.read()\n",
    "json_string = json.loads( json_data )\n",
    "\n",
    "img_data = urllib.request.urlopen( json_string['image'] )\n",
    "img = Image.open( img_data )\n",
    "display(img)"
   ]
  },
  {
   "cell_type": "code",
   "execution_count": null,
   "id": "a087f96e-91d0-43a7-9ad0-7520c8d2aba1",
   "metadata": {},
   "outputs": [],
   "source": []
  }
 ],
 "metadata": {
  "kernelspec": {
   "display_name": "Python 3 (ipykernel)",
   "language": "python",
   "name": "python3"
  },
  "language_info": {
   "codemirror_mode": {
    "name": "ipython",
    "version": 3
   },
   "file_extension": ".py",
   "mimetype": "text/x-python",
   "name": "python",
   "nbconvert_exporter": "python",
   "pygments_lexer": "ipython3",
   "version": "3.12.3"
  }
 },
 "nbformat": 4,
 "nbformat_minor": 5
}
