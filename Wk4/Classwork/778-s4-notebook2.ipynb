{
 "cells": [
  {
   "cell_type": "markdown",
   "id": "4036383a-416a-421a-97dc-04090c7307da",
   "metadata": {},
   "source": [
    "CSCI 778 - Session 4 - Notebook #2\n",
    "\n",
    "This notebook is about the RE/REGEX exercises -- regular expressions"
   ]
  },
  {
   "cell_type": "markdown",
   "id": "507e6177-6c03-4e18-8912-db4fa9f83a5e",
   "metadata": {},
   "source": [
    "Choose one of the below libraries -- RE is built-in and doesn't require installation.  It is not as fast and lacks some features of REGEX."
   ]
  },
  {
   "cell_type": "code",
   "execution_count": null,
   "id": "e08bf516-cc41-44a8-9b77-793720d4475a",
   "metadata": {},
   "outputs": [],
   "source": [
    "import re"
   ]
  },
  {
   "cell_type": "code",
   "execution_count": null,
   "id": "ea3538a0-0e8e-4c9c-86d3-df023fc4f7a4",
   "metadata": {},
   "outputs": [],
   "source": [
    "import regex"
   ]
  },
  {
   "cell_type": "markdown",
   "id": "89ebb14a-a07e-49be-80d7-0b3725b2d3d3",
   "metadata": {},
   "source": [
    "Import the sentences for the below exercises."
   ]
  },
  {
   "cell_type": "code",
   "execution_count": null,
   "id": "36dc5adc-6b14-4e0c-b622-e24295edd651",
   "metadata": {},
   "outputs": [],
   "source": [
    "sentences = [ \"A quick cat jumped over a dog.\",\n",
    "\t\t\"My email address is edgartroudt@gmail.com.\" ]"
   ]
  },
  {
   "cell_type": "markdown",
   "id": "ce6de663-9d01-4a8e-bc65-16d32fe14b4e",
   "metadata": {},
   "source": [
    "Let's start with matching."
   ]
  },
  {
   "cell_type": "code",
   "execution_count": null,
   "id": "b526e4a0-d3c0-449e-b158-5994fc5008c5",
   "metadata": {},
   "outputs": [],
   "source": [
    "# Let's find an \"a\".\n",
    "print( sentences[0] )\n",
    "mtch = re.search( \"a+\", sentences[0] )\n",
    "print (\"You can find the first occurrence of vowels at span: \", end=\"\")\n",
    "print ( mtch.span() )\n",
    "\n",
    "# the span will show that it goes from char 23-24."
   ]
  },
  {
   "cell_type": "code",
   "execution_count": null,
   "id": "0f8c563e-07d3-47c3-bd1f-9d12971b4108",
   "metadata": {},
   "outputs": [],
   "source": [
    "# let's find all \"a\"s.\n",
    "# Would be more useful with a more interesting regex pattern.\n",
    "print( sentences[0] )\n",
    "mtch_set = re.findall( \"a+\", sentences[0] )\n",
    "\n",
    "for x in mtch_set :\n",
    "    print( x )"
   ]
  },
  {
   "cell_type": "code",
   "execution_count": null,
   "id": "0fd143be-d5bd-440e-85d6-f09fb06f2213",
   "metadata": {},
   "outputs": [],
   "source": [
    "# Let's find all vowels.\n",
    "print( sentences[0] )\n",
    "mtch_set = re.findall( \"[aeiou]\", sentences[0] )\n",
    "\n",
    "for x in mtch_set :\n",
    "    print( x )"
   ]
  },
  {
   "cell_type": "markdown",
   "id": "1181890c-bc0b-47a1-8310-eb0e3b5d8210",
   "metadata": {},
   "source": [
    "Python also allows us to substitute (much like find/replace)."
   ]
  },
  {
   "cell_type": "code",
   "execution_count": null,
   "id": "01e44793-08b4-4992-b2ad-bb8f1594a85c",
   "metadata": {},
   "outputs": [],
   "source": [
    "# regex2.py - E. Troudt - 2024 FA\n",
    "# uses sub function to replace all vowels with the word \"VOWEL\".\n",
    "\n",
    "print( sentences[4] )\n",
    "\n",
    "x = re.sub( \"[aeiou]+\", \"VOWEL\" , sentences[4] )\n",
    "print ( x )"
   ]
  },
  {
   "cell_type": "code",
   "execution_count": null,
   "id": "442ab4c0-2a9b-44c1-ac0c-05577bdf425a",
   "metadata": {},
   "outputs": [],
   "source": [
    "# regex.py - E. Troudt - 2024 FA\n",
    "# uses multiple substitute functions to individually capitalize vowels.\n",
    "\n",
    "print( sentences[0] )\n",
    "\n",
    "x = re.sub( r\"a+\", \"A\", sentences[0] )\n",
    "x = re.sub( r\"e+\", \"E\", x )\n",
    "x = re.sub( r\"i+\", \"I\", x )\n",
    "x = re.sub( r\"o+\", \"O\", x )\n",
    "x = re.sub( r\"u+\", \"U\", x )\n",
    "print ( x )"
   ]
  },
  {
   "cell_type": "code",
   "execution_count": null,
   "id": "0ce3d564-6703-4fa3-ad4f-441a9338b4f5",
   "metadata": {},
   "outputs": [],
   "source": [
    "And, we can split the string based on a RegEx."
   ]
  },
  {
   "cell_type": "code",
   "execution_count": null,
   "id": "3a1997ba-1516-43dc-947e-3ad175f9d649",
   "metadata": {},
   "outputs": [],
   "source": [
    "# split the sentence into individual words.\n",
    "# https://www.w3schools.com/python/python_regex.asp\n",
    "print( sentences[0] )\n",
    "x = re.split( \"\\s\", sentences[0] )\n",
    "print ( x )"
   ]
  },
  {
   "cell_type": "markdown",
   "id": "828968db-4c31-494e-ad18-40050c82d6ca",
   "metadata": {},
   "source": [
    "We can also use RegEx to find (or validate) input from the user."
   ]
  },
  {
   "cell_type": "code",
   "execution_count": null,
   "id": "2dd61a75-a127-457f-bc7f-2f9e16dc3969",
   "metadata": {},
   "outputs": [],
   "source": [
    "# Match the email address only.\n",
    "# RE syntax taken from: https://www.geeksforgeeks.org/write-regular-expressions/\n",
    "print( \"Original sentence: \", end=\"\" )\n",
    "print( sentences[1] )\n",
    "mtch = re.search( \"([a-zA-Z0-9_\\-\\.]+)@([a-zA-Z0-9_\\-\\.]+)\\.([a-zA-Z]{2,5})\", sentences[1] )\n",
    "print ( f\"Match object returned: {mtch}.\" )\n",
    "print ( f\"Match was at: {mtch.span()}.\" )\n",
    "print ( f\"Matched email is {mtch.group()}\" )"
   ]
  }
 ],
 "metadata": {
  "kernelspec": {
   "display_name": "Python 3 (ipykernel)",
   "language": "python",
   "name": "python3"
  },
  "language_info": {
   "codemirror_mode": {
    "name": "ipython",
    "version": 3
   },
   "file_extension": ".py",
   "mimetype": "text/x-python",
   "name": "python",
   "nbconvert_exporter": "python",
   "pygments_lexer": "ipython3",
   "version": "3.10.12"
  }
 },
 "nbformat": 4,
 "nbformat_minor": 5
}
