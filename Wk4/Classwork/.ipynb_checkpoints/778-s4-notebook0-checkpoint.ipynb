{
 "cells": [
  {
   "cell_type": "markdown",
   "id": "e1f66de2-240a-4fd5-a00c-397b27351762",
   "metadata": {},
   "source": [
    "CSCI 778 - Session 4 - Notebook #0\n",
    "\n",
    "Let's examine tuples through this notebook."
   ]
  },
  {
   "cell_type": "code",
   "execution_count": null,
   "id": "0f49b501-7a4c-4b8b-8079-466c71c0c218",
   "metadata": {},
   "outputs": [],
   "source": [
    "# CSCI 77800 -- 2024 FA -- E. Troudt\n",
    "# tupleTest.py: How are tuples useful?\n",
    "#\n",
    "# Examples inspired by Reddit question and answers:\n",
    "# https://www.reddit.com/r/learnpython/comments/zuzdvr/what_are_some_use_cases_for_tuples_in_python/\n",
    "\n",
    "import sys\n",
    "\n",
    "def func1 ( x, y ):\n",
    "        return x+1, y+1\n",
    "\n",
    "tup_x = func1( 5, 6 )\n",
    "tup_y = (7,8)\n",
    "\n",
    "print ( \"tup_x\\t\\t= \", end=\"\" )\n",
    "print ( tup_x )\n",
    "\n",
    "print ( \"tup_x[0]\\t= \", end=\"\" )\n",
    "print ( tup_x[0] )\n",
    "print ()\n",
    "\n",
    "# tup_x[0] += 1         # Can we do this?\n",
    "\n",
    "# can be used as a dictionary key, source:\n",
    "dict_z = { tup_x:\"cat\", tup_y:\"dog\" }\n",
    "\n",
    "print ( \"dict_z[tup_x] = \", end=\"\" )\n",
    "print ( dict_z[tup_x] )\n",
    "\n",
    "print ( \"dict_z[(7,8)] = \", end=\"\" )\n",
    "print ( dict_z[(7,8)] )\n",
    "print ()\n",
    "\n",
    "# Also memory efficiency.\n",
    "print ( \"Tuple byte size:\\t\", end=\"\" )\n",
    "print ( sys.getsizeof( (0,1,2) ) ) # tuple\n",
    "\n",
    "print ( \"List byte size:\\t\\t\", end=\"\" )\n",
    "print ( sys.getsizeof( [0,1,2] ) ) # list"
   ]
  }
 ],
 "metadata": {
  "kernelspec": {
   "display_name": "Python 3 (ipykernel)",
   "language": "python",
   "name": "python3"
  },
  "language_info": {
   "codemirror_mode": {
    "name": "ipython",
    "version": 3
   },
   "file_extension": ".py",
   "mimetype": "text/x-python",
   "name": "python",
   "nbconvert_exporter": "python",
   "pygments_lexer": "ipython3",
   "version": "3.10.12"
  }
 },
 "nbformat": 4,
 "nbformat_minor": 5
}
