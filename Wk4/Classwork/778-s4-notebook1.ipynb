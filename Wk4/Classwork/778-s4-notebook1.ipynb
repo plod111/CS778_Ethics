{
 "cells": [
  {
   "cell_type": "markdown",
   "id": "86fd796e-51de-44d1-b98f-7620b545b22c",
   "metadata": {},
   "source": [
    "CSCI 778 - Session 4 - Notebook #1\n",
    "\n",
    "This notebook finishes the packet scheduling algorithms lecture."
   ]
  },
  {
   "cell_type": "markdown",
   "id": "54d4097c-3e57-4d84-8f7f-3551e5ae2c8c",
   "metadata": {},
   "source": [
    "First, let's finish understanding IWRR and DWRR.\n",
    "Run both boxes below for the common variable setup."
   ]
  },
  {
   "cell_type": "code",
   "execution_count": null,
   "id": "fff5c1dc-cf20-4a7f-85ad-d5f1afc3a85a",
   "metadata": {},
   "outputs": [],
   "source": [
    "# set up packet class from packet.py\n",
    "# CSCI 778 - 2024 FA - E. Troudt\n",
    "# Packet.py: A simple packet object for today's network scheduling demo.\n",
    "\n",
    "class Packet:\n",
    "\t# constructor\n",
    "\tdef __init__(this, name, time, len ):\n",
    "\t\tthis.name = name\n",
    "\t\tthis.time = time\n",
    "\t\tthis.len  = len"
   ]
  },
  {
   "cell_type": "code",
   "execution_count": null,
   "id": "0731aa0a-394a-4eba-b938-efdf78e648cc",
   "metadata": {},
   "outputs": [],
   "source": [
    "# CSCI 778 - 2024 FA - E. Troudt\n",
    "# drr.py/iwrr.py: the Interleaved Weighted Round Robin\n",
    "# Portions based on Wikipedia pseudocode: https://en.wikipedia.org/wiki/Weighted_round_robin\n",
    "\n",
    "import collections as dq\n",
    "\n",
    "Q_COUNT = 3\n",
    "q1 = dq.deque()\n",
    "q2 = dq.deque()\n",
    "q3 = dq.deque()\n",
    "\n",
    "queues = [ q1, q2, q3 ]\n",
    "weight = [  5,  2,  3 ] # list, Python doesn't have \"arrays\"."
   ]
  },
  {
   "cell_type": "markdown",
   "id": "ae361def-ce90-4a13-ba05-592fb2b02784",
   "metadata": {},
   "source": [
    "Choose one of the below boxes, but not both.  The first has evenly sized packets.  The second has unevenly sized packets."
   ]
  },
  {
   "cell_type": "code",
   "execution_count": null,
   "id": "5c0c66e1-ecca-4398-a023-ffb4fff8efdd",
   "metadata": {},
   "outputs": [],
   "source": [
    "# Evenly sized.\n",
    "# Fill queues.\n",
    "for x in range( ord('A'), ord('G')+1 ): # queue 1\n",
    "        pkt = Packet( chr(x), 1, 1 )          # need to use chr, if you use str you get \"65\".\n",
    "        q1.append( pkt )\n",
    "\n",
    "for x in range( ord('U'), ord('W')+1 ): # queue 2\n",
    "        pkt = Packet( chr(x), 1, 1 )          # need to use +1 in control because < not <=.\n",
    "        q2.append( pkt )\n",
    "\n",
    "for x in range( ord('X'), ord('Y')+1 ): # queue 3\n",
    "        pkt = Packet( chr(x), 1, 1 )\n",
    "        q3.append( pkt )\n"
   ]
  },
  {
   "cell_type": "markdown",
   "id": "68280704-1f24-42d2-a49d-26d8bad704db",
   "metadata": {},
   "source": [
    "Remember - not both setups."
   ]
  },
  {
   "cell_type": "code",
   "execution_count": null,
   "id": "dc5bc2c8-59fc-4d31-b20e-288e2250101f",
   "metadata": {},
   "outputs": [],
   "source": [
    "# Unevenly sized packets.\n",
    "# Fill queues.\n",
    "# queue 1\n",
    "q1.append( Packet(\"A\",1,1) )\n",
    "q1.append( Packet(\"B\",1,1) )\n",
    "q1.append( Packet(\"C\",1,1) )\n",
    "q1.append( Packet(\"D\",1,1) )\n",
    "q1.append( Packet(\"E\",1,3) )\n",
    "\n",
    "# queue 2\n",
    "q2.append( Packet(\"U\",1,3) )\n",
    "q2.append( Packet(\"V\",1,3) )\n",
    "q2.append( Packet(\"W\",1,1) )\n",
    "\n",
    "# queue 3\n",
    "q3.append( Packet(\"X\",1,2) )\n",
    "q3.append( Packet(\"Y\",1,3) )\n",
    "q3.append( Packet(\"Z\",1,1) )"
   ]
  },
  {
   "cell_type": "markdown",
   "id": "df1c8efe-3365-44af-b1c4-cb24e4b9975e",
   "metadata": {},
   "source": [
    "Now choose one of the below: IWRR (first) or DRR (second).\n",
    "Remember to reset your queues if you want to run both, as running one will empty the queue."
   ]
  },
  {
   "cell_type": "code",
   "execution_count": null,
   "id": "9b259b84-63f2-4ea7-9b8e-01154962236e",
   "metadata": {},
   "outputs": [],
   "source": [
    "# IWRR - interleaved weighted round robin\n",
    "#\n",
    "# the algorithm calls for an infinite loop, but for the demo we should\n",
    "# stop after all of the elements have been exhausted.\n",
    "elements = len( q1 ) + len( q2 ) + len( q3 )\n",
    "\n",
    "# this code is based on the pseudocode from Wikipedia\n",
    "#       https://en.wikipedia.org/wiki/Weighted_round_robin\n",
    "maximum = max( weight[0], weight[1], weight[2] )\n",
    "\n",
    "while elements > 0 :\n",
    "        for curr_wght in range ( 0, maximum ) :\n",
    "                for i in range ( 0, Q_COUNT ) :\n",
    "                        if( len( queues[i] ) > 0 ) and ( weight[i] > curr_wght ) :\n",
    "                                print( f\"Sending { queues[i][0] } with name { queues[i][0].name } from queue {i}.\" )\n",
    "                                queues[i].popleft()     # removes it.\n",
    "                                elements -= 1"
   ]
  },
  {
   "cell_type": "markdown",
   "id": "f349d651-3c6d-4c76-bc27-562ba55733fb",
   "metadata": {},
   "source": [
    "Remember to refill your queues above if you run twice.  You can also reset the kernel and start from scratch -- Kernel -> Restart Kernel and Clear Outputs of All Cells."
   ]
  },
  {
   "cell_type": "code",
   "execution_count": null,
   "id": "719804a5-69a3-4455-84e2-6425e0a01a99",
   "metadata": {},
   "outputs": [],
   "source": [
    "# drr.py - Deficit Round Robin\n",
    "#\n",
    "# Portions based on Wikipedia pseudocode: https://en.wikipedia.org/wiki/Deficit_round_robin\n",
    "#\n",
    "# the algorithm calls for an infinite loop, but for the demo we should\n",
    "# stop after all of the elements have been exhausted.\n",
    "\n",
    "deficit  = [  0,  0,  0 ]\n",
    "\n",
    "elements = len( q1 ) + len( q2 ) + len( q3 )\n",
    "\n",
    "# this code is based on the pseudocode from Wikipedia\n",
    "#       https://en.wikipedia.org/wiki/Deficit_round_robin\n",
    "maximum = max( weight[0], weight[1], weight[2] )\n",
    "\n",
    "while elements > 0 :\n",
    "        for queue_select in range ( 0, Q_COUNT ) :\n",
    "                if len( queues[queue_select] ) > 0 :    # is empty?\n",
    "                        deficit[queue_select] += weight[queue_select]\n",
    "                        while ( (len( queues[queue_select] ) > 0)  # not empty\n",
    "                                and queues[queue_select][0].len < deficit[queue_select] ) :\n",
    "\n",
    "                                deficit[queue_select] -= queues[queue_select][0].len\n",
    "                                print( f\"Sending { queues[queue_select][0] } with name\", end=\"\" )\n",
    "                                print( f\" { queues[queue_select][0].name } from queue {queue_select}.\" )\n",
    "                                queues[queue_select].popleft()  # removes it.\n",
    "                                elements -= 1\n",
    "                        if len( queues[queue_select] ) <= 0 :   # is empty\n",
    "                                deficit[queue_select] = 0"
   ]
  }
 ],
 "metadata": {
  "kernelspec": {
   "display_name": "Python 3 (ipykernel)",
   "language": "python",
   "name": "python3"
  },
  "language_info": {
   "codemirror_mode": {
    "name": "ipython",
    "version": 3
   },
   "file_extension": ".py",
   "mimetype": "text/x-python",
   "name": "python",
   "nbconvert_exporter": "python",
   "pygments_lexer": "ipython3",
   "version": "3.10.12"
  }
 },
 "nbformat": 4,
 "nbformat_minor": 5
}
