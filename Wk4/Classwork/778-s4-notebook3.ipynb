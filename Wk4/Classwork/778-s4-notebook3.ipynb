{
 "cells": [
  {
   "cell_type": "markdown",
   "id": "c528e63f-277d-46ab-8eb9-0006350ba23b",
   "metadata": {},
   "source": [
    "CSCI 778 - Session 4 - Notebook #3\n",
    "\n",
    "Modify this to implement your name validator."
   ]
  },
  {
   "cell_type": "code",
   "execution_count": null,
   "id": "9cc575ff-b7ea-4211-b5f6-ff0c9d7f530d",
   "metadata": {},
   "outputs": [],
   "source": [
    "# CSCI 778 - 2024 FA - E. Troudt\n",
    "# starter.py: Starter code for pairwise exercise\n",
    "\n",
    "import re;\n",
    "\n",
    "input_lst = []\n",
    "curr_input = input( \"Enter first word:>>\" )\n",
    "\n",
    "# takes in input and appends to list\n",
    "while curr_input != \"STOP\" :\n",
    "\tinput_lst.append( curr_input )\n",
    "\tcurr_input = input (\"Enter more words or \\\"STOP\\\">>\")\n",
    "\n",
    "# input_list.reverse()\n",
    "# print ( input_list ) # print out the entire list in list format\n",
    "\n",
    "# print individual elements\n",
    "for i in range( len(input_lst) ) :\n",
    "\tprint ( input_lst[i] )\n",
    "\n",
    "# can you also do this for-each style?"
   ]
  }
 ],
 "metadata": {
  "kernelspec": {
   "display_name": "Python 3 (ipykernel)",
   "language": "python",
   "name": "python3"
  },
  "language_info": {
   "codemirror_mode": {
    "name": "ipython",
    "version": 3
   },
   "file_extension": ".py",
   "mimetype": "text/x-python",
   "name": "python",
   "nbconvert_exporter": "python",
   "pygments_lexer": "ipython3",
   "version": "3.10.12"
  }
 },
 "nbformat": 4,
 "nbformat_minor": 5
}
