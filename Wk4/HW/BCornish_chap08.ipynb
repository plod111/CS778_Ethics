{
 "cells": [
  {
   "cell_type": "markdown",
   "id": "1331faa1",
   "metadata": {
    "id": "1331faa1"
   },
   "source": [
    "You can order print and ebook versions of *Think Python 3e* from\n",
    "[Bookshop.org](https://bookshop.org/a/98697/9781098155438) and\n",
    "[Amazon](https://www.amazon.com/_/dp/1098155432?smid=ATVPDKIKX0DER&_encoding=UTF8&tag=oreilly20-20&_encoding=UTF8&tag=greenteapre01-20&linkCode=ur2&linkId=e2a529f94920295d27ec8a06e757dc7c&camp=1789&creative=9325)."
   ]
  },
  {
   "cell_type": "code",
   "execution_count": 1,
   "id": "361d390a",
   "metadata": {
    "id": "361d390a",
    "tags": []
   },
   "outputs": [
    {
     "name": "stdout",
     "output_type": "stream",
     "text": [
      "Downloaded thinkpython.py\n",
      "Downloaded diagram.py\n"
     ]
    }
   ],
   "source": [
    "from os.path import basename, exists\n",
    "\n",
    "def download(url):\n",
    "    filename = basename(url)\n",
    "    if not exists(filename):\n",
    "        from urllib.request import urlretrieve\n",
    "\n",
    "        local, _ = urlretrieve(url, filename)\n",
    "        print(\"Downloaded \" + str(local))\n",
    "    return filename\n",
    "\n",
    "download('https://github.com/AllenDowney/ThinkPython/raw/v3/thinkpython.py');\n",
    "download('https://github.com/AllenDowney/ThinkPython/raw/v3/diagram.py');\n",
    "\n",
    "import thinkpython"
   ]
  },
  {
   "cell_type": "markdown",
   "id": "9d97603b",
   "metadata": {
    "id": "9d97603b"
   },
   "source": [
    "# Strings and Regular Expressions\n",
    "\n",
    "Strings are not like integers, floats, and booleans. A string is a **sequence**, which means it contains multiple values in a particular order.\n",
    "In this chapter we'll see how to access the values that make up a string, and we'll use functions that process strings.\n",
    "\n",
    "We'll also use regular expressions, which are a powerful tool for finding patterns in a string and performing operations like search and replace.\n",
    "\n",
    "As an exercise, you'll have a chance to apply these tools to a word game called Wordle."
   ]
  },
  {
   "cell_type": "markdown",
   "id": "1280dd83",
   "metadata": {
    "id": "1280dd83"
   },
   "source": [
    "## A string is a sequence\n",
    "\n",
    "A string is a sequence of characters. A **character** can be a letter (in almost any alphabet), a digit, a punctuation mark, or white space.\n",
    "\n",
    "You can select a character from a string with the bracket operator.\n",
    "This example statement selects character number 1 from `fruit` and\n",
    "assigns it to `letter`:"
   ]
  },
  {
   "cell_type": "code",
   "execution_count": 2,
   "id": "9b53c1fe",
   "metadata": {
    "id": "9b53c1fe"
   },
   "outputs": [],
   "source": [
    "fruit = 'banana'\n",
    "letter = fruit[1]"
   ]
  },
  {
   "cell_type": "markdown",
   "id": "a307e429",
   "metadata": {
    "id": "a307e429"
   },
   "source": [
    "The expression in brackets is an **index**, so called because it *indicates* which character in the sequence to select.\n",
    "But the result might not be what you expect."
   ]
  },
  {
   "cell_type": "code",
   "execution_count": 3,
   "id": "2cb1d58c",
   "metadata": {
    "id": "2cb1d58c"
   },
   "outputs": [
    {
     "data": {
      "text/plain": [
       "'a'"
      ]
     },
     "execution_count": 3,
     "metadata": {},
     "output_type": "execute_result"
    }
   ],
   "source": [
    "letter"
   ]
  },
  {
   "cell_type": "markdown",
   "id": "57c13319",
   "metadata": {
    "id": "57c13319"
   },
   "source": [
    "The letter with index `1` is actually the second letter of the string.\n",
    "An index is an offset from the beginning of the string, so the offset of the first letter is `0`."
   ]
  },
  {
   "cell_type": "code",
   "execution_count": 4,
   "id": "4ce1eb16",
   "metadata": {
    "id": "4ce1eb16"
   },
   "outputs": [
    {
     "data": {
      "text/plain": [
       "'b'"
      ]
     },
     "execution_count": 4,
     "metadata": {},
     "output_type": "execute_result"
    }
   ],
   "source": [
    "fruit[0]"
   ]
  },
  {
   "cell_type": "markdown",
   "id": "57d8e54c",
   "metadata": {
    "id": "57d8e54c"
   },
   "source": [
    "You can think of `'b'` as the 0th letter of `'banana'` -- pronounced \"zero-eth\".\n",
    "\n",
    "The index in brackets can be a variable."
   ]
  },
  {
   "cell_type": "code",
   "execution_count": 5,
   "id": "11201ba9",
   "metadata": {
    "id": "11201ba9"
   },
   "outputs": [
    {
     "data": {
      "text/plain": [
       "'a'"
      ]
     },
     "execution_count": 5,
     "metadata": {},
     "output_type": "execute_result"
    }
   ],
   "source": [
    "i = 1\n",
    "fruit[i]"
   ]
  },
  {
   "cell_type": "markdown",
   "id": "9630e2e7",
   "metadata": {
    "id": "9630e2e7"
   },
   "source": [
    "Or an expression that contains variables and operators."
   ]
  },
  {
   "cell_type": "code",
   "execution_count": 6,
   "id": "fc4383d0",
   "metadata": {
    "id": "fc4383d0"
   },
   "outputs": [
    {
     "data": {
      "text/plain": [
       "'n'"
      ]
     },
     "execution_count": 6,
     "metadata": {},
     "output_type": "execute_result"
    }
   ],
   "source": [
    "fruit[i+1]"
   ]
  },
  {
   "cell_type": "markdown",
   "id": "939b602d",
   "metadata": {
    "id": "939b602d"
   },
   "source": [
    "But the value of the index has to be an integer -- otherwise you get a `TypeError`."
   ]
  },
  {
   "cell_type": "code",
   "execution_count": 8,
   "id": "aec20975",
   "metadata": {
    "id": "aec20975",
    "tags": []
   },
   "outputs": [
    {
     "ename": "TypeError",
     "evalue": "string indices must be integers, not 'float'",
     "output_type": "error",
     "traceback": [
      "\u001b[0;31mTypeError\u001b[0m\u001b[0;31m:\u001b[0m string indices must be integers, not 'float'\n"
     ]
    }
   ],
   "source": [
    "%%expect TypeError\n",
    "\n",
    "fruit[1.5]"
   ]
  },
  {
   "cell_type": "markdown",
   "id": "3f0f7e3a",
   "metadata": {
    "id": "3f0f7e3a"
   },
   "source": [
    "As we saw in Chapter 1, we can use the built-in function `len` to get the length of a string."
   ]
  },
  {
   "cell_type": "code",
   "execution_count": 9,
   "id": "796ce317",
   "metadata": {
    "id": "796ce317"
   },
   "outputs": [
    {
     "data": {
      "text/plain": [
       "6"
      ]
     },
     "execution_count": 9,
     "metadata": {},
     "output_type": "execute_result"
    }
   ],
   "source": [
    "n = len(fruit)\n",
    "n"
   ]
  },
  {
   "cell_type": "markdown",
   "id": "29013c47",
   "metadata": {
    "id": "29013c47"
   },
   "source": [
    "To get the last letter of a string, you might be tempted to write this:"
   ]
  },
  {
   "cell_type": "code",
   "execution_count": 10,
   "id": "3ccb4a64",
   "metadata": {
    "id": "3ccb4a64",
    "tags": []
   },
   "outputs": [
    {
     "ename": "IndexError",
     "evalue": "string index out of range",
     "output_type": "error",
     "traceback": [
      "\u001b[0;31mIndexError\u001b[0m\u001b[0;31m:\u001b[0m string index out of range\n"
     ]
    }
   ],
   "source": [
    "%%expect IndexError\n",
    "\n",
    "fruit[n]"
   ]
  },
  {
   "cell_type": "markdown",
   "id": "b87e09bd",
   "metadata": {
    "id": "b87e09bd"
   },
   "source": [
    "But that causes an `IndexError` because there is no letter in `'banana'` with the index 6. Because we started counting at `0`, the six letters are numbered `0` to `5`. To get the last character, you have to subtract `1` from `n`:"
   ]
  },
  {
   "cell_type": "code",
   "execution_count": 11,
   "id": "2cf99de6",
   "metadata": {
    "id": "2cf99de6"
   },
   "outputs": [
    {
     "data": {
      "text/plain": [
       "'a'"
      ]
     },
     "execution_count": 11,
     "metadata": {},
     "output_type": "execute_result"
    }
   ],
   "source": [
    "fruit[n-1]"
   ]
  },
  {
   "cell_type": "markdown",
   "id": "3c79dcec",
   "metadata": {
    "id": "3c79dcec"
   },
   "source": [
    "But there's an easier way.\n",
    "To get the last letter in a string, you can use a negative index, which counts backward from the end."
   ]
  },
  {
   "cell_type": "code",
   "execution_count": 12,
   "id": "3dedf6fa",
   "metadata": {
    "id": "3dedf6fa"
   },
   "outputs": [
    {
     "data": {
      "text/plain": [
       "'a'"
      ]
     },
     "execution_count": 12,
     "metadata": {},
     "output_type": "execute_result"
    }
   ],
   "source": [
    "fruit[-1]"
   ]
  },
  {
   "cell_type": "markdown",
   "id": "5677b727",
   "metadata": {
    "id": "5677b727"
   },
   "source": [
    "The index `-1` selects the last letter, `-2` selects the second to last, and so on."
   ]
  },
  {
   "cell_type": "markdown",
   "id": "8392a12a",
   "metadata": {
    "id": "8392a12a"
   },
   "source": [
    "## String slices\n",
    "\n",
    "A segment of a string is called a **slice**.\n",
    "Selecting a slice is similar to selecting a character."
   ]
  },
  {
   "cell_type": "code",
   "execution_count": 13,
   "id": "386b9df2",
   "metadata": {
    "id": "386b9df2"
   },
   "outputs": [
    {
     "data": {
      "text/plain": [
       "'ban'"
      ]
     },
     "execution_count": 13,
     "metadata": {},
     "output_type": "execute_result"
    }
   ],
   "source": [
    "fruit = 'banana'\n",
    "fruit[0:3]"
   ]
  },
  {
   "cell_type": "markdown",
   "id": "5cc12531",
   "metadata": {
    "id": "5cc12531"
   },
   "source": [
    "The operator `[n:m]` returns the part of the string from the `n`th\n",
    "character to the `m`th character, including the first but excluding the second.\n",
    "This behavior is counterintuitive, but it might help to imagine the indices pointing *between* the characters, as in this figure:"
   ]
  },
  {
   "cell_type": "code",
   "execution_count": 14,
   "id": "05f9743d",
   "metadata": {
    "id": "05f9743d",
    "tags": []
   },
   "outputs": [],
   "source": [
    "from diagram import make_binding, Element, Value\n",
    "\n",
    "binding = make_binding(\"fruit\", ' b a n a n a ')\n",
    "elements = [Element(Value(i), None) for i in range(7)]"
   ]
  },
  {
   "cell_type": "code",
   "execution_count": 15,
   "id": "b09d8356",
   "metadata": {
    "id": "b09d8356",
    "tags": []
   },
   "outputs": [
    {
     "data": {
      "image/png": "[encoded data removed]",
      "text/plain": [
       "<Figure size 135x54 with 1 Axes>"
      ]
     },
     "metadata": {},
     "output_type": "display_data"
    }
   ],
   "source": [
    "import matplotlib.pyplot as plt\n",
    "from diagram import diagram, adjust\n",
    "from matplotlib.transforms import Bbox\n",
    "\n",
    "width, height, x, y = [1.35, 0.54, 0.23, 0.39]\n",
    "\n",
    "ax = diagram(width, height)\n",
    "bbox = binding.draw(ax, x, y)\n",
    "bboxes = [bbox]\n",
    "\n",
    "def draw_elts(x, y, elements):\n",
    "    for elt in elements:\n",
    "        bbox = elt.draw(ax, x, y, draw_value=False)\n",
    "        bboxes.append(bbox)\n",
    "\n",
    "        x1 = (bbox.xmin + bbox.xmax) / 2\n",
    "        y1 = bbox.ymax + 0.02\n",
    "        y2 = y1 + 0.14\n",
    "        handle = plt.plot([x1, x1], [y1, y2], ':', lw=0.5, color='gray')\n",
    "        x += 0.105\n",
    "\n",
    "draw_elts(x + 0.48, y - 0.25, elements)\n",
    "bbox = Bbox.union(bboxes)\n",
    "# adjust(x, y, bbox)"
   ]
  },
  {
   "cell_type": "markdown",
   "id": "c391abbf",
   "metadata": {
    "id": "c391abbf"
   },
   "source": [
    "For example, the slice `[3:6]` selects the letters `ana`, which means that `6` is legal as part of a slice, but not legal as an index.\n",
    "\n",
    "\n",
    "If you omit the first index, the slice starts at the beginning of the string."
   ]
  },
  {
   "cell_type": "code",
   "execution_count": 16,
   "id": "00592313",
   "metadata": {
    "id": "00592313"
   },
   "outputs": [
    {
     "data": {
      "text/plain": [
       "'ban'"
      ]
     },
     "execution_count": 16,
     "metadata": {},
     "output_type": "execute_result"
    }
   ],
   "source": [
    "fruit[:3]"
   ]
  },
  {
   "cell_type": "markdown",
   "id": "1bd7dcb1",
   "metadata": {
    "id": "1bd7dcb1"
   },
   "source": [
    "If you omit the second index, the slice goes to the end of the string:"
   ]
  },
  {
   "cell_type": "code",
   "execution_count": 17,
   "id": "01684797",
   "metadata": {
    "id": "01684797"
   },
   "outputs": [
    {
     "data": {
      "text/plain": [
       "'ana'"
      ]
     },
     "execution_count": 17,
     "metadata": {},
     "output_type": "execute_result"
    }
   ],
   "source": [
    "fruit[3:]"
   ]
  },
  {
   "cell_type": "markdown",
   "id": "4701123b",
   "metadata": {
    "id": "4701123b"
   },
   "source": [
    "If the first index is greater than or equal to the second, the result is an **empty string**, represented by two quotation marks:"
   ]
  },
  {
   "cell_type": "code",
   "execution_count": 18,
   "id": "c7551ded",
   "metadata": {
    "id": "c7551ded"
   },
   "outputs": [
    {
     "data": {
      "text/plain": [
       "''"
      ]
     },
     "execution_count": 18,
     "metadata": {},
     "output_type": "execute_result"
    }
   ],
   "source": [
    "fruit[3:3]"
   ]
  },
  {
   "cell_type": "markdown",
   "id": "d12735ab",
   "metadata": {
    "id": "d12735ab"
   },
   "source": [
    "An empty string contains no characters and has length 0.\n",
    "\n",
    "Continuing this example, what do you think `fruit[:]` means? Try it and\n",
    "see."
   ]
  },
  {
   "cell_type": "code",
   "execution_count": 19,
   "id": "b5c5ce3e",
   "metadata": {
    "id": "b5c5ce3e",
    "tags": []
   },
   "outputs": [
    {
     "data": {
      "text/plain": [
       "'banana'"
      ]
     },
     "execution_count": 19,
     "metadata": {},
     "output_type": "execute_result"
    }
   ],
   "source": [
    "fruit[:]"
   ]
  },
  {
   "cell_type": "markdown",
   "id": "918d3dd0",
   "metadata": {
    "id": "918d3dd0"
   },
   "source": [
    "## Strings are immutable\n",
    "\n",
    "It is tempting to use the `[]` operator on the left side of an\n",
    "assignment, with the intention of changing a character in a string, like this:"
   ]
  },
  {
   "cell_type": "code",
   "execution_count": 20,
   "id": "69ccd380",
   "metadata": {
    "id": "69ccd380",
    "tags": []
   },
   "outputs": [
    {
     "ename": "TypeError",
     "evalue": "'str' object does not support item assignment",
     "output_type": "error",
     "traceback": [
      "\u001b[0;31mTypeError\u001b[0m\u001b[0;31m:\u001b[0m 'str' object does not support item assignment\n"
     ]
    }
   ],
   "source": [
    "%%expect TypeError\n",
    "\n",
    "greeting = 'Hello, world!'\n",
    "greeting[0] = 'J'"
   ]
  },
  {
   "cell_type": "markdown",
   "id": "df3dd7d1",
   "metadata": {
    "id": "df3dd7d1"
   },
   "source": [
    "The result is a `TypeError`.\n",
    "In the error message, the \"object\" is the string and the \"item\" is the character\n",
    "we tried to assign.\n",
    "For now, an **object** is the same thing as a value, but we will refine that definition later.\n",
    "\n",
    "The reason for this error is that strings are **immutable**, which means you can't change an existing string.\n",
    "The best you can do is create a new string that is a variation of the original."
   ]
  },
  {
   "cell_type": "code",
   "execution_count": 21,
   "id": "280d27a1",
   "metadata": {
    "id": "280d27a1"
   },
   "outputs": [
    {
     "data": {
      "text/plain": [
       "'Jello, world!'"
      ]
     },
     "execution_count": 21,
     "metadata": {},
     "output_type": "execute_result"
    }
   ],
   "source": [
    "new_greeting = 'J' + greeting[1:]\n",
    "new_greeting"
   ]
  },
  {
   "cell_type": "markdown",
   "id": "2848546f",
   "metadata": {
    "id": "2848546f"
   },
   "source": [
    "This example concatenates a new first letter onto a slice of `greeting`.\n",
    "It has no effect on the original string."
   ]
  },
  {
   "cell_type": "code",
   "execution_count": 22,
   "id": "8fa4a4cf",
   "metadata": {
    "id": "8fa4a4cf"
   },
   "outputs": [
    {
     "data": {
      "text/plain": [
       "'Hello, world!'"
      ]
     },
     "execution_count": 22,
     "metadata": {},
     "output_type": "execute_result"
    }
   ],
   "source": [
    "greeting"
   ]
  },
  {
   "cell_type": "markdown",
   "id": "49e4da57",
   "metadata": {
    "id": "49e4da57"
   },
   "source": [
    "## String comparison\n",
    "\n",
    "The relational operators work on strings. To see if two strings are\n",
    "equal, we can use the `==` operator."
   ]
  },
  {
   "cell_type": "code",
   "execution_count": 23,
   "id": "b754d462",
   "metadata": {
    "id": "b754d462"
   },
   "outputs": [
    {
     "name": "stdout",
     "output_type": "stream",
     "text": [
      "All right, banana.\n"
     ]
    }
   ],
   "source": [
    "word = 'banana'\n",
    "\n",
    "if word == 'banana':\n",
    "    print('All right, banana.')"
   ]
  },
  {
   "cell_type": "markdown",
   "id": "e9be6097",
   "metadata": {
    "id": "e9be6097"
   },
   "source": [
    "Other relational operations are useful for putting words in alphabetical\n",
    "order:"
   ]
  },
  {
   "cell_type": "code",
   "execution_count": 24,
   "id": "44374eb8",
   "metadata": {
    "id": "44374eb8"
   },
   "outputs": [],
   "source": [
    "def compare_word(word):\n",
    "    if word < 'banana':\n",
    "        print(word, 'comes before banana.')\n",
    "    elif word > 'banana':\n",
    "        print(word, 'comes after banana.')\n",
    "    else:\n",
    "        print('All right, banana.')"
   ]
  },
  {
   "cell_type": "code",
   "execution_count": 25,
   "id": "a46f7035",
   "metadata": {
    "id": "a46f7035"
   },
   "outputs": [
    {
     "name": "stdout",
     "output_type": "stream",
     "text": [
      "apple comes before banana.\n"
     ]
    }
   ],
   "source": [
    "compare_word('apple')"
   ]
  },
  {
   "cell_type": "markdown",
   "id": "b66f449a",
   "metadata": {
    "id": "b66f449a"
   },
   "source": [
    "Python does not handle uppercase and lowercase letters the same way\n",
    "people do. All the uppercase letters come before all the lowercase\n",
    "letters, so:"
   ]
  },
  {
   "cell_type": "code",
   "execution_count": 26,
   "id": "a691f9e2",
   "metadata": {
    "id": "a691f9e2"
   },
   "outputs": [
    {
     "name": "stdout",
     "output_type": "stream",
     "text": [
      "Pineapple comes before banana.\n"
     ]
    }
   ],
   "source": [
    "compare_word('Pineapple')"
   ]
  },
  {
   "cell_type": "markdown",
   "id": "f9b916c9",
   "metadata": {
    "id": "f9b916c9"
   },
   "source": [
    "To solve this problem, we can convert strings to a standard format, such as all lowercase, before performing the comparison.\n",
    "Keep that in mind if you have to defend yourself against a man armed with a Pineapple."
   ]
  },
  {
   "cell_type": "markdown",
   "id": "531069f1",
   "metadata": {
    "id": "531069f1"
   },
   "source": [
    "## String methods\n",
    "\n",
    "Strings provide methods that perform a variety of useful operations.\n",
    "A method is similar to a function -- it takes arguments and returns a value -- but the syntax is different.\n",
    "For example, the method `upper` takes a string and returns a new string with all uppercase letters.\n",
    "\n",
    "Instead of the function syntax `upper(word)`, it uses the method syntax `word.upper()`."
   ]
  },
  {
   "cell_type": "code",
   "execution_count": 27,
   "id": "fa6140a6",
   "metadata": {
    "id": "fa6140a6"
   },
   "outputs": [
    {
     "data": {
      "text/plain": [
       "'BANANA'"
      ]
     },
     "execution_count": 27,
     "metadata": {},
     "output_type": "execute_result"
    }
   ],
   "source": [
    "word = 'banana'\n",
    "new_word = word.upper()\n",
    "new_word"
   ]
  },
  {
   "cell_type": "markdown",
   "id": "1ac41744",
   "metadata": {
    "id": "1ac41744"
   },
   "source": [
    "This use of the dot operator specifies the name of the method, `upper`, and the name of the string to apply the method to, `word`.\n",
    "The empty parentheses indicate that this method takes no arguments.\n",
    "\n",
    "A method call is called an **invocation**; in this case, we would say that we are invoking `upper` on `word`."
   ]
  },
  {
   "cell_type": "markdown",
   "id": "2a13d4ef",
   "metadata": {
    "id": "2a13d4ef",
    "tags": []
   },
   "source": [
    "## Writing files\n",
    "\n",
    "String operators and methods are useful for reading and writing text files.\n",
    "As an example, we'll work with the text of *Dracula*, a novel by Bram Stoker that is available from Project Gutenberg (<https://www.gutenberg.org/ebooks/345>)."
   ]
  },
  {
   "cell_type": "code",
   "execution_count": 28,
   "id": "e3f1dc18",
   "metadata": {
    "id": "e3f1dc18",
    "tags": []
   },
   "outputs": [
    {
     "name": "stdout",
     "output_type": "stream",
     "text": [
      "--2024-09-21 10:40:22--  https://www.gutenberg.org/cache/epub/345/pg345.txt\n",
      "Resolving www.gutenberg.org (www.gutenberg.org)... 152.19.134.47, 2610:28:3090:3000:0:bad:cafe:47\n",
      "Connecting to www.gutenberg.org (www.gutenberg.org)|152.19.134.47|:443... connected.\n",
      "HTTP request sent, awaiting response... 200 OK\n",
      "Length: 890394 (870K) [text/plain]\n",
      "Saving to: ‘pg345.txt’\n",
      "\n",
      "pg345.txt           100%[===================>] 869.53K  2.48MB/s    in 0.3s    \n",
      "\n",
      "2024-09-21 10:40:23 (2.48 MB/s) - ‘pg345.txt’ saved [890394/890394]\n",
      "\n"
     ]
    }
   ],
   "source": [
    "import os\n",
    "\n",
    "if not os.path.exists('pg345.txt'):\n",
    "    !wget https://www.gutenberg.org/cache/epub/345/pg345.txt"
   ]
  },
  {
   "cell_type": "markdown",
   "id": "963dda79",
   "metadata": {
    "id": "963dda79"
   },
   "source": [
    "I've downloaded the book in a plain text file called `pg345.txt`, which we can open for reading like this:"
   ]
  },
  {
   "cell_type": "code",
   "execution_count": 29,
   "id": "bd2d5175",
   "metadata": {
    "id": "bd2d5175"
   },
   "outputs": [],
   "source": [
    "reader = open('pg345.txt')"
   ]
  },
  {
   "cell_type": "markdown",
   "id": "b5d99e8c",
   "metadata": {
    "id": "b5d99e8c"
   },
   "source": [
    "In addition to the text of the book, this file contains a section at the beginning with information about the book and a section at the end with information about the license.\n",
    "Before we process the text, we can remove this extra material by finding the special lines at the beginning and end that begin with `'***'`.\n",
    "\n",
    "The following function takes a line and checks whether it is one of the special lines.\n",
    "It uses the `startswith` method, which checks whether a string starts with a given sequence of characters."
   ]
  },
  {
   "cell_type": "code",
   "execution_count": 30,
   "id": "b9c9318c",
   "metadata": {
    "id": "b9c9318c"
   },
   "outputs": [],
   "source": [
    "def is_special_line(line):\n",
    "    return line.startswith('*** ')"
   ]
  },
  {
   "cell_type": "markdown",
   "id": "2efdfe35",
   "metadata": {
    "id": "2efdfe35"
   },
   "source": [
    "We can use this function to loop through the lines in the file and print only the special lines."
   ]
  },
  {
   "cell_type": "code",
   "execution_count": 31,
   "id": "a9417d4c",
   "metadata": {
    "id": "a9417d4c"
   },
   "outputs": [
    {
     "name": "stdout",
     "output_type": "stream",
     "text": [
      "*** START OF THE PROJECT GUTENBERG EBOOK DRACULA ***\n",
      "*** END OF THE PROJECT GUTENBERG EBOOK DRACULA ***\n"
     ]
    }
   ],
   "source": [
    "for line in reader:\n",
    "    if is_special_line(line):\n",
    "        print(line.strip())"
   ]
  },
  {
   "cell_type": "markdown",
   "id": "07fb5992",
   "metadata": {
    "id": "07fb5992"
   },
   "source": [
    "Now let's create a new file, called `pg345_cleaned.txt`, that contains only the text of the book.\n",
    "In order to loop through the book again, we have to open it again for reading.\n",
    "And, to write a new file, we can open it for writing."
   ]
  },
  {
   "cell_type": "code",
   "execution_count": 32,
   "id": "f2336825",
   "metadata": {
    "id": "f2336825"
   },
   "outputs": [],
   "source": [
    "reader = open('pg345.txt')\n",
    "writer = open('pg345_cleaned.txt', 'w')"
   ]
  },
  {
   "cell_type": "markdown",
   "id": "96d881aa",
   "metadata": {
    "id": "96d881aa"
   },
   "source": [
    "`open` takes an optional parameters that specifies the \"mode\" -- in this example, `'w'` indicates that we're opening the file for writing.\n",
    "If the file doesn't exist, it will be created; if it already exists, the contents will be replaced.\n",
    "\n",
    "As a first step, we'll loop through the file until we find the first special line."
   ]
  },
  {
   "cell_type": "code",
   "execution_count": 33,
   "id": "d1b286ee",
   "metadata": {
    "id": "d1b286ee"
   },
   "outputs": [],
   "source": [
    "for line in reader:\n",
    "    if is_special_line(line):\n",
    "        break"
   ]
  },
  {
   "cell_type": "markdown",
   "id": "1989d5a1",
   "metadata": {
    "id": "1989d5a1"
   },
   "source": [
    "The `break` statement \"breaks\" out of the loop -- that is, it causes the loop to end immediately, before we get to the end of the file.\n",
    "\n",
    "When the loop exits, `line` contains the special line that made the conditional true."
   ]
  },
  {
   "cell_type": "code",
   "execution_count": 34,
   "id": "b4ecf365",
   "metadata": {
    "id": "b4ecf365"
   },
   "outputs": [
    {
     "data": {
      "text/plain": [
       "'*** START OF THE PROJECT GUTENBERG EBOOK DRACULA ***\\n'"
      ]
     },
     "execution_count": 34,
     "metadata": {},
     "output_type": "execute_result"
    }
   ],
   "source": [
    "line"
   ]
  },
  {
   "cell_type": "markdown",
   "id": "9f28c3b4",
   "metadata": {
    "id": "9f28c3b4"
   },
   "source": [
    "Because `reader` keeps track of where it is in the file, we can use a second loop to pick up where we left off.\n",
    "\n",
    "The following loop reads the rest of the file, one line at a time.\n",
    "When it finds the special line that indicates the end of the text, it breaks out of the loop.\n",
    "Otherwise, it writes the line to the output file."
   ]
  },
  {
   "cell_type": "code",
   "execution_count": 35,
   "id": "a99dc11c",
   "metadata": {
    "id": "a99dc11c"
   },
   "outputs": [],
   "source": [
    "for line in reader:\n",
    "    if is_special_line(line):\n",
    "        break\n",
    "    writer.write(line)"
   ]
  },
  {
   "cell_type": "markdown",
   "id": "c07032a4",
   "metadata": {
    "id": "c07032a4"
   },
   "source": [
    "When this loop exits, `line` contains the second special line."
   ]
  },
  {
   "cell_type": "code",
   "execution_count": 36,
   "id": "dfd6b264",
   "metadata": {
    "id": "dfd6b264"
   },
   "outputs": [
    {
     "data": {
      "text/plain": [
       "'*** END OF THE PROJECT GUTENBERG EBOOK DRACULA ***\\n'"
      ]
     },
     "execution_count": 36,
     "metadata": {},
     "output_type": "execute_result"
    }
   ],
   "source": [
    "line"
   ]
  },
  {
   "cell_type": "markdown",
   "id": "0c30b41c",
   "metadata": {
    "id": "0c30b41c"
   },
   "source": [
    "At this point `reader` and `writer` are still open, which means we could keep reading lines from `reader` or writing lines to `writer`.\n",
    "To indicate that we're done, we can close both files by invoking the `close` method."
   ]
  },
  {
   "cell_type": "code",
   "execution_count": 37,
   "id": "4eda555c",
   "metadata": {
    "id": "4eda555c"
   },
   "outputs": [],
   "source": [
    "reader.close()\n",
    "writer.close()"
   ]
  },
  {
   "cell_type": "markdown",
   "id": "d5084cdc",
   "metadata": {
    "id": "d5084cdc"
   },
   "source": [
    "To check whether this process was successful, we can read the first few lines from the new file we just created."
   ]
  },
  {
   "cell_type": "code",
   "execution_count": 38,
   "id": "5e1e8c74",
   "metadata": {
    "id": "5e1e8c74"
   },
   "outputs": [
    {
     "name": "stdout",
     "output_type": "stream",
     "text": [
      "DRACULA\n",
      "_by_\n",
      "Bram Stoker\n"
     ]
    }
   ],
   "source": [
    "for line in open('pg345_cleaned.txt'):\n",
    "    line = line.strip()\n",
    "    if len(line) > 0:\n",
    "        print(line)\n",
    "    if line.endswith('Stoker'):\n",
    "        break"
   ]
  },
  {
   "cell_type": "markdown",
   "id": "34c93df3",
   "metadata": {
    "id": "34c93df3"
   },
   "source": [
    "The `endswidth` method checks whether a string ends with a given sequence of characters."
   ]
  },
  {
   "cell_type": "markdown",
   "id": "fcdb4bbf",
   "metadata": {
    "id": "fcdb4bbf"
   },
   "source": [
    "## Find and replace\n",
    "\n",
    "In the Icelandic translation of *Dracula* from 1901, the name of one of the characters was changed from \"Jonathan\" to \"Thomas\".\n",
    "To make this change in the English version, we can loop through the book, use the `replace` method to replace one name with another, and write the result to a new file.\n",
    "\n",
    "We'll start by counting the lines in the cleaned version of the file."
   ]
  },
  {
   "cell_type": "code",
   "execution_count": 39,
   "id": "63ebaafb",
   "metadata": {
    "id": "63ebaafb"
   },
   "outputs": [
    {
     "data": {
      "text/plain": [
       "15477"
      ]
     },
     "execution_count": 39,
     "metadata": {},
     "output_type": "execute_result"
    }
   ],
   "source": [
    "total = 0\n",
    "for line in open('pg345_cleaned.txt'):\n",
    "    total += 1\n",
    "\n",
    "total"
   ]
  },
  {
   "cell_type": "markdown",
   "id": "8ba9b9ca",
   "metadata": {
    "id": "8ba9b9ca"
   },
   "source": [
    "To see whether a line contains \"Jonathan\", we can use the `in` operator, which checks whether this sequence of characters appears anywhere in the line."
   ]
  },
  {
   "cell_type": "code",
   "execution_count": 40,
   "id": "9973e6e8",
   "metadata": {
    "id": "9973e6e8"
   },
   "outputs": [
    {
     "data": {
      "text/plain": [
       "199"
      ]
     },
     "execution_count": 40,
     "metadata": {},
     "output_type": "execute_result"
    }
   ],
   "source": [
    "total = 0\n",
    "for line in open('pg345_cleaned.txt'):\n",
    "    if 'Jonathan' in line:\n",
    "        total += 1\n",
    "\n",
    "total"
   ]
  },
  {
   "cell_type": "markdown",
   "id": "27805245",
   "metadata": {
    "id": "27805245"
   },
   "source": [
    "There are 199 lines that contain the name, but that's not quite the total number of times it appears, because it can appear more than once in a line.\n",
    "To get the total, we can use the `count` method, which returns the number of times a sequence appears in a string."
   ]
  },
  {
   "cell_type": "code",
   "execution_count": 41,
   "id": "02e06ff1",
   "metadata": {
    "id": "02e06ff1"
   },
   "outputs": [
    {
     "data": {
      "text/plain": [
       "200"
      ]
     },
     "execution_count": 41,
     "metadata": {},
     "output_type": "execute_result"
    }
   ],
   "source": [
    "total = 0\n",
    "for line in open('pg345_cleaned.txt'):\n",
    "    total += line.count('Jonathan')\n",
    "\n",
    "total"
   ]
  },
  {
   "cell_type": "markdown",
   "id": "68026797",
   "metadata": {
    "id": "68026797"
   },
   "source": [
    "Now we can replace `'Jonathan'` with `'Thomas'` like this:"
   ]
  },
  {
   "cell_type": "code",
   "execution_count": 42,
   "id": "1450e82c",
   "metadata": {
    "id": "1450e82c"
   },
   "outputs": [],
   "source": [
    "writer = open('pg345_replaced.txt', 'w')\n",
    "\n",
    "for line in open('pg345_cleaned.txt'):\n",
    "    line = line.replace('Jonathan', 'Thomas')\n",
    "    writer.write(line)"
   ]
  },
  {
   "cell_type": "markdown",
   "id": "57ba56f3",
   "metadata": {
    "id": "57ba56f3"
   },
   "source": [
    "The result is a new file called `pg345_replaced.txt` that contains a version of *Dracula* where Jonathan Harker is called Thomas."
   ]
  },
  {
   "cell_type": "code",
   "execution_count": 43,
   "id": "a57b64c6",
   "metadata": {
    "id": "a57b64c6",
    "tags": []
   },
   "outputs": [
    {
     "data": {
      "text/plain": [
       "205"
      ]
     },
     "execution_count": 43,
     "metadata": {},
     "output_type": "execute_result"
    }
   ],
   "source": [
    "total = 0\n",
    "for line in open('pg345_replaced.txt'):\n",
    "    total += line.count('Thomas')\n",
    "\n",
    "total"
   ]
  },
  {
   "cell_type": "markdown",
   "id": "cc9af187",
   "metadata": {
    "id": "cc9af187"
   },
   "source": [
    "## Regular expressions\n",
    "\n",
    "If we know exactly what sequence of characters we're looking for, we can use the `in` operator to find it and the `replace` method to replace it.\n",
    "But there is another tool, called a **regular expression** that can also perform these operations -- and a lot more.\n",
    "\n",
    "To demonstrate, I'll start with a simple example and we'll work our way up.\n",
    "Suppose, again, that we want to find all lines that contain a particular word.\n",
    "For a change, let's look for references to the titular character of the book, Count Dracula.\n",
    "Here's a line that mentions him."
   ]
  },
  {
   "cell_type": "code",
   "execution_count": 44,
   "id": "a6069027",
   "metadata": {
    "id": "a6069027"
   },
   "outputs": [],
   "source": [
    "text = \"I am Dracula; and I bid you welcome, Mr. Harker, to my house.\""
   ]
  },
  {
   "cell_type": "markdown",
   "id": "d4fd6d11",
   "metadata": {
    "id": "d4fd6d11"
   },
   "source": [
    "And here's the **pattern** we'll use to search."
   ]
  },
  {
   "cell_type": "code",
   "execution_count": 45,
   "id": "e3c19abe",
   "metadata": {
    "id": "e3c19abe"
   },
   "outputs": [],
   "source": [
    "pattern = 'Dracula'"
   ]
  },
  {
   "cell_type": "markdown",
   "id": "268f647c",
   "metadata": {
    "id": "268f647c"
   },
   "source": [
    "A module called `re` provides functions related to regular expressions.\n",
    "We can import it like this and use the `search` function to check whether the pattern appears in the text."
   ]
  },
  {
   "cell_type": "code",
   "execution_count": 46,
   "id": "db588abb",
   "metadata": {
    "id": "db588abb"
   },
   "outputs": [
    {
     "data": {
      "text/plain": [
       "<re.Match object; span=(5, 12), match='Dracula'>"
      ]
     },
     "execution_count": 46,
     "metadata": {},
     "output_type": "execute_result"
    }
   ],
   "source": [
    "import re\n",
    "\n",
    "result = re.search(pattern, text)\n",
    "result"
   ]
  },
  {
   "cell_type": "markdown",
   "id": "e17f6731",
   "metadata": {
    "id": "e17f6731"
   },
   "source": [
    "If the pattern appears in the text, `search` returns a `Match` object that contains the results of the search.\n",
    "Among other information, it has a variable named `string` that contains the text that was searched."
   ]
  },
  {
   "cell_type": "code",
   "execution_count": 47,
   "id": "924524a6",
   "metadata": {
    "id": "924524a6"
   },
   "outputs": [
    {
     "data": {
      "text/plain": [
       "'I am Dracula; and I bid you welcome, Mr. Harker, to my house.'"
      ]
     },
     "execution_count": 47,
     "metadata": {},
     "output_type": "execute_result"
    }
   ],
   "source": [
    "result.string"
   ]
  },
  {
   "cell_type": "markdown",
   "id": "a8eab0f6",
   "metadata": {
    "id": "a8eab0f6"
   },
   "source": [
    "It also provides a method called `group` that returns the part of the text that matched the pattern."
   ]
  },
  {
   "cell_type": "code",
   "execution_count": 48,
   "id": "c72b860c",
   "metadata": {
    "id": "c72b860c"
   },
   "outputs": [
    {
     "data": {
      "text/plain": [
       "'Dracula'"
      ]
     },
     "execution_count": 48,
     "metadata": {},
     "output_type": "execute_result"
    }
   ],
   "source": [
    "result.group()"
   ]
  },
  {
   "cell_type": "markdown",
   "id": "b6962a7d",
   "metadata": {
    "id": "b6962a7d"
   },
   "source": [
    "And it provides a method called `span` that returns the index in the text where the pattern starts and ends."
   ]
  },
  {
   "cell_type": "code",
   "execution_count": 49,
   "id": "7c2f556c",
   "metadata": {
    "id": "7c2f556c"
   },
   "outputs": [
    {
     "data": {
      "text/plain": [
       "(5, 12)"
      ]
     },
     "execution_count": 49,
     "metadata": {},
     "output_type": "execute_result"
    }
   ],
   "source": [
    "result.span()"
   ]
  },
  {
   "cell_type": "markdown",
   "id": "8f1e5261",
   "metadata": {
    "id": "8f1e5261"
   },
   "source": [
    "If the pattern doesn't appear in the text, the return value from `search` is `None`."
   ]
  },
  {
   "cell_type": "code",
   "execution_count": 50,
   "id": "d5242ef6",
   "metadata": {
    "id": "d5242ef6"
   },
   "outputs": [
    {
     "name": "stdout",
     "output_type": "stream",
     "text": [
      "None\n"
     ]
    }
   ],
   "source": [
    "result = re.search('Count', text)\n",
    "print(result)"
   ]
  },
  {
   "cell_type": "markdown",
   "id": "d5ed33ff",
   "metadata": {
    "id": "d5ed33ff"
   },
   "source": [
    "So we can check whether the search was successful by checking whether the result is `None`."
   ]
  },
  {
   "cell_type": "code",
   "execution_count": 51,
   "id": "18c09b63",
   "metadata": {
    "id": "18c09b63"
   },
   "outputs": [
    {
     "data": {
      "text/plain": [
       "True"
      ]
     },
     "execution_count": 51,
     "metadata": {},
     "output_type": "execute_result"
    }
   ],
   "source": [
    "result == None"
   ]
  },
  {
   "cell_type": "markdown",
   "id": "a08e38f6",
   "metadata": {
    "id": "a08e38f6"
   },
   "source": [
    "Putting all that together, here's a function that loops through the lines in the book until it finds one that matches the given pattern, and returns the `Match` object."
   ]
  },
  {
   "cell_type": "code",
   "execution_count": 52,
   "id": "fedb7d95",
   "metadata": {
    "id": "fedb7d95"
   },
   "outputs": [],
   "source": [
    "def find_first(pattern):\n",
    "    for line in open('pg345_cleaned.txt'):\n",
    "        result = re.search(pattern, line)\n",
    "        if result != None:\n",
    "            return result"
   ]
  },
  {
   "cell_type": "markdown",
   "id": "96570515",
   "metadata": {
    "id": "96570515"
   },
   "source": [
    "We can use it to find the first mention of a character."
   ]
  },
  {
   "cell_type": "code",
   "execution_count": 53,
   "id": "d7cbe2c2",
   "metadata": {
    "id": "d7cbe2c2"
   },
   "outputs": [
    {
     "data": {
      "text/plain": [
       "'CHAPTER I. Jonathan Harker’s Journal\\n'"
      ]
     },
     "execution_count": 53,
     "metadata": {},
     "output_type": "execute_result"
    }
   ],
   "source": [
    "result = find_first('Harker')\n",
    "result.string"
   ]
  },
  {
   "cell_type": "markdown",
   "id": "3f687fdc",
   "metadata": {
    "id": "3f687fdc"
   },
   "source": [
    "For this example, we didn't have to use regular expressions -- we could have done the same thing more easily with the `in` operator.\n",
    "But regular expressions can do things the `in` operator cannot.\n",
    "\n",
    "For example, if the pattern includes the vertical bar character, `'|'`, it can match either the sequence on the left or the sequence on the right.\n",
    "Suppose we want to find the first mention of Mina Murray in the book, but we are not sure whether she is referred to by first name or last.\n",
    "We can use the following pattern, which matches either name."
   ]
  },
  {
   "cell_type": "code",
   "execution_count": 54,
   "id": "96c64f83",
   "metadata": {
    "id": "96c64f83"
   },
   "outputs": [
    {
     "data": {
      "text/plain": [
       "'CHAPTER V. Letters—Lucy and Mina\\n'"
      ]
     },
     "execution_count": 54,
     "metadata": {},
     "output_type": "execute_result"
    }
   ],
   "source": [
    "pattern = r'Mina|Murray'\n",
    "result = find_first(pattern)\n",
    "result.string"
   ]
  },
  {
   "cell_type": "markdown",
   "id": "8bea66a6",
   "metadata": {
    "id": "8bea66a6"
   },
   "source": [
    "We can use a pattern like this to see how many times a character is mentioned by either name.\n",
    "Here's a function that loops through the book and counts the number of lines that match the given pattern."
   ]
  },
  {
   "cell_type": "code",
   "execution_count": 55,
   "id": "d0d2e926",
   "metadata": {
    "id": "d0d2e926"
   },
   "outputs": [],
   "source": [
    "def count_matches(pattern):\n",
    "    count = 0\n",
    "    for line in open('pg345_cleaned.txt'):\n",
    "        result = re.search(pattern, line)\n",
    "        if result != None:\n",
    "            count += 1\n",
    "    return count"
   ]
  },
  {
   "cell_type": "markdown",
   "id": "0e753a5b",
   "metadata": {
    "id": "0e753a5b"
   },
   "source": [
    "Now let's see how many times Mina is mentioned."
   ]
  },
  {
   "cell_type": "code",
   "execution_count": 56,
   "id": "d7e8c5b4",
   "metadata": {
    "id": "d7e8c5b4"
   },
   "outputs": [
    {
     "data": {
      "text/plain": [
       "229"
      ]
     },
     "execution_count": 56,
     "metadata": {},
     "output_type": "execute_result"
    }
   ],
   "source": [
    "count_matches('Mina|Murray')"
   ]
  },
  {
   "cell_type": "markdown",
   "id": "780c9fab",
   "metadata": {
    "id": "780c9fab"
   },
   "source": [
    "The special character `'^'` matches the beginning of a string, so we can find a line that starts with a given pattern."
   ]
  },
  {
   "cell_type": "code",
   "execution_count": 57,
   "id": "be63c5b0",
   "metadata": {
    "id": "be63c5b0"
   },
   "outputs": [
    {
     "data": {
      "text/plain": [
       "'Dracula, jumping to his feet, said:--\\n'"
      ]
     },
     "execution_count": 57,
     "metadata": {},
     "output_type": "execute_result"
    }
   ],
   "source": [
    "result = find_first('^Dracula')\n",
    "result.string"
   ]
  },
  {
   "cell_type": "markdown",
   "id": "332bad2e",
   "metadata": {
    "id": "332bad2e"
   },
   "source": [
    "And the special character `'$'` matches the end of a string, so we can find a line that ends with a given pattern (ignoring the newline at the end)."
   ]
  },
  {
   "cell_type": "code",
   "execution_count": 58,
   "id": "37595ac5",
   "metadata": {
    "id": "37595ac5"
   },
   "outputs": [
    {
     "data": {
      "text/plain": [
       "'by five o’clock, we must start off; for it won’t do to leave Mrs. Harker\\n'"
      ]
     },
     "execution_count": 58,
     "metadata": {},
     "output_type": "execute_result"
    }
   ],
   "source": [
    "result = find_first('Harker$')\n",
    "result.string"
   ]
  },
  {
   "cell_type": "markdown",
   "id": "d4b22b6e",
   "metadata": {
    "id": "d4b22b6e"
   },
   "source": [
    "## String substitution\n",
    "\n",
    "Bram Stoker was born in Ireland, and when *Dracula* was published in 1897, he was living in England.\n",
    "So we would expect him to use the British spelling of words like \"centre\" and \"colour\".\n",
    "To check, we can use the following pattern, which matches either \"centre\" or the American spelling \"center\"."
   ]
  },
  {
   "cell_type": "code",
   "execution_count": 59,
   "id": "18237bea",
   "metadata": {
    "id": "18237bea"
   },
   "outputs": [],
   "source": [
    "pattern = 'cent(er|re)'"
   ]
  },
  {
   "cell_type": "markdown",
   "id": "35abfd7d",
   "metadata": {
    "id": "35abfd7d"
   },
   "source": [
    "In this pattern, the parentheses enclose the part of the pattern the vertical bar applies to.\n",
    "So this pattern matches a sequence that starts with `'cent'` and ends with either `'er'` or `'re'`."
   ]
  },
  {
   "cell_type": "code",
   "execution_count": 60,
   "id": "ce65805f",
   "metadata": {
    "id": "ce65805f"
   },
   "outputs": [
    {
     "data": {
      "text/plain": [
       "'horseshoe of the Carpathians, as if it were the centre of some sort of\\n'"
      ]
     },
     "execution_count": 60,
     "metadata": {},
     "output_type": "execute_result"
    }
   ],
   "source": [
    "result = find_first(pattern)\n",
    "result.string"
   ]
  },
  {
   "cell_type": "markdown",
   "id": "e5703c18",
   "metadata": {
    "id": "e5703c18"
   },
   "source": [
    "As expected, he used the British spelling.\n",
    "\n",
    "We can also check whether he used the British spelling of \"colour\".\n",
    "The following pattern uses the special character `'?'`, which means that the previous character is optional."
   ]
  },
  {
   "cell_type": "code",
   "execution_count": 61,
   "id": "af770664",
   "metadata": {
    "id": "af770664"
   },
   "outputs": [],
   "source": [
    "pattern = 'colou?r'"
   ]
  },
  {
   "cell_type": "markdown",
   "id": "beed9a7b",
   "metadata": {
    "id": "beed9a7b"
   },
   "source": [
    "This pattern matches either \"colour\" with the `'u'` or \"color\" without it."
   ]
  },
  {
   "cell_type": "code",
   "execution_count": 62,
   "id": "ed67bde7",
   "metadata": {
    "id": "ed67bde7"
   },
   "outputs": [
    {
     "data": {
      "text/plain": [
       "'undergarment with long double apron, front, and back, of coloured stuff\\n'"
      ]
     },
     "execution_count": 62,
     "metadata": {},
     "output_type": "execute_result"
    }
   ],
   "source": [
    "result = find_first(pattern)\n",
    "line = result.string\n",
    "line"
   ]
  },
  {
   "cell_type": "markdown",
   "id": "1a31f179",
   "metadata": {
    "id": "1a31f179"
   },
   "source": [
    "Again, as expected, he used the British spelling.\n",
    "\n",
    "Now suppose we want to produce an edition of the book with American spellings.\n",
    "We can use the `sub` function in the `re` module, which does **string substitution**."
   ]
  },
  {
   "cell_type": "code",
   "execution_count": 63,
   "id": "52dd938c",
   "metadata": {
    "id": "52dd938c"
   },
   "outputs": [
    {
     "data": {
      "text/plain": [
       "'undergarment with long double apron, front, and back, of colored stuff\\n'"
      ]
     },
     "execution_count": 63,
     "metadata": {},
     "output_type": "execute_result"
    }
   ],
   "source": [
    "re.sub(pattern, 'color', line)"
   ]
  },
  {
   "cell_type": "markdown",
   "id": "04a80fc6",
   "metadata": {
    "id": "04a80fc6"
   },
   "source": [
    "The first argument is the pattern we want to find and replace, the second is what we want to replace it with, and the third is the string we want to search.\n",
    "In the result, you can see that \"colour\" has been replaced with \"color\"."
   ]
  },
  {
   "cell_type": "code",
   "execution_count": 64,
   "id": "d2e309a2",
   "metadata": {
    "id": "d2e309a2",
    "tags": []
   },
   "outputs": [],
   "source": [
    "# I used this function to search for lines to use as examples\n",
    "\n",
    "def all_matches(pattern):\n",
    "    for line in open('pg345_cleaned.txt'):\n",
    "        result = re.search(pattern, line)\n",
    "        if result:\n",
    "            print(line.strip())"
   ]
  },
  {
   "cell_type": "code",
   "execution_count": null,
   "id": "3d8b2a9f",
   "metadata": {
    "id": "3d8b2a9f",
    "tags": []
   },
   "outputs": [],
   "source": [
    "names = r'(?<!\\.\\s)[A-Z][a-zA-Z]+'\n",
    "\n",
    "all_matches(names)"
   ]
  },
  {
   "cell_type": "markdown",
   "id": "bf041a4d-41f1-4af8-a726-f3b57dd48f23",
   "metadata": {},
   "source": [
    "### Looks like the above pattern matches any/all lines that are not blank."
   ]
  },
  {
   "cell_type": "markdown",
   "id": "0318507d",
   "metadata": {
    "id": "0318507d"
   },
   "source": [
    "## Debugging\n",
    "\n",
    "When you are reading and writing files, debugging can be tricky.\n",
    "If you are working in a Jupyter notebook, you can use **shell commands** to help.\n",
    "For example, to display the first few lines of a file, you can use the command `!head`, like this:"
   ]
  },
  {
   "cell_type": "code",
   "execution_count": 66,
   "id": "cc39942c",
   "metadata": {
    "id": "cc39942c",
    "tags": []
   },
   "outputs": [
    {
     "name": "stdout",
     "output_type": "stream",
     "text": [
      "\n",
      "\n",
      "\n",
      "\n",
      "                                DRACULA\n",
      "\n",
      "                                  _by_\n",
      "\n",
      "                              Bram Stoker\n",
      "\n"
     ]
    }
   ],
   "source": [
    "!head pg345_cleaned.txt"
   ]
  },
  {
   "cell_type": "markdown",
   "id": "1d480c02",
   "metadata": {
    "id": "1d480c02"
   },
   "source": [
    "The initial exclamation point, `!`, indicates that this is a shell command, which is not part of Python.\n",
    "To display the last few lines, you can use `!tail`."
   ]
  },
  {
   "cell_type": "code",
   "execution_count": 67,
   "id": "bc3741e1",
   "metadata": {
    "id": "bc3741e1",
    "tags": []
   },
   "outputs": [
    {
     "name": "stdout",
     "output_type": "stream",
     "text": [
      "\n",
      "_Ask for Complete free list of G. & D. Popular Copyrighted Fiction_\n",
      "\n",
      "GROSSET & DUNLAP, _Publishers_, NEW YORK\n",
      "\n",
      "\n",
      "\n",
      "\n",
      "\n",
      "\n"
     ]
    }
   ],
   "source": [
    "!tail pg345_cleaned.txt"
   ]
  },
  {
   "cell_type": "markdown",
   "id": "6874023a",
   "metadata": {
    "id": "6874023a"
   },
   "source": [
    "When you are working with large files, debugging can be difficult because there might be too much output to check by hand.\n",
    "A good debugging strategy is to start with just part of the file, get the program working, and then run it with the whole file.\n",
    "\n",
    "To make a small file that contains part of a larger file, we can use `!head` again with the redirect operator, `>`, which indicates that the results should be written to a file rather than displayed."
   ]
  },
  {
   "cell_type": "code",
   "execution_count": 68,
   "id": "d4c92501",
   "metadata": {
    "id": "d4c92501"
   },
   "outputs": [],
   "source": [
    "!head pg345_cleaned.txt > pg345_cleaned_10_lines.txt"
   ]
  },
  {
   "cell_type": "markdown",
   "id": "3fc851f8",
   "metadata": {
    "id": "3fc851f8"
   },
   "source": [
    "By default, `!head` reads the first 10 lines, but it takes an optional argument that indicates the number of lines to read."
   ]
  },
  {
   "cell_type": "code",
   "execution_count": 69,
   "id": "8f6606dd",
   "metadata": {
    "id": "8f6606dd"
   },
   "outputs": [],
   "source": [
    "!head -100 pg345_cleaned.txt > pg345_cleaned_100_lines.txt"
   ]
  },
  {
   "cell_type": "markdown",
   "id": "24871c78",
   "metadata": {
    "id": "24871c78"
   },
   "source": [
    "This shell command reads the first 100 lines from `pg345_cleaned.txt` and writes them to a file called `pg345_cleaned_100_lines.txt`.\n",
    "\n",
    "Note: The shell commands `!head` and `!tail` are not available on all operating systems.\n",
    "If they don't work for you, we can write similar functions in Python.\n",
    "See the first exercise at the end of this chapter for suggestions."
   ]
  },
  {
   "cell_type": "markdown",
   "id": "c842524d",
   "metadata": {
    "id": "c842524d"
   },
   "source": [
    "## Glossary\n",
    "\n",
    "**sequence:**\n",
    " An ordered collection of values where each value is identified by an integer index.\n",
    "\n",
    "**character:**\n",
    "An element of a string, including letters, numbers, and symbols.\n",
    "\n",
    "**index:**\n",
    " An integer value used to select an item in a sequence, such as a character in a string. In Python indices start from `0`.\n",
    "\n",
    "**slice:**\n",
    " A part of a string specified by a range of indices.\n",
    "\n",
    "**empty string:**\n",
    "A string that contains no characters and has length `0`.\n",
    "\n",
    "**object:**\n",
    " Something a variable can refer to. An object has a type and a value.\n",
    "\n",
    "**immutable:**\n",
    "If the elements of an object cannot be changed, the object is immutable.\n",
    "\n",
    "**invocation:**\n",
    " An expression -- or part of an expression -- that calls a method.\n",
    "\n",
    "**regular expression:**\n",
    "A sequence of characters that defines a search pattern.\n",
    "\n",
    "**pattern:**\n",
    "A rule that specifies the requirements a string has to meet to constitute a match.\n",
    "\n",
    "**string substitution:**\n",
    "Replacement of a string, or part of a string, with another string.\n",
    "\n",
    "**shell command:**\n",
    "A statement in a shell language, which is a language used to interact with an operating system.\n",
    "\n",
    "**raw string:**\n",
    "A Python string that is preceded by the letter `r`, which indicates that backslashes that appear in the string should not be considered part of a special sequence."
   ]
  },
  {
   "cell_type": "markdown",
   "id": "4306e765",
   "metadata": {
    "id": "4306e765"
   },
   "source": [
    "## 8.12 Exercises"
   ]
  },
  {
   "cell_type": "code",
   "execution_count": 70,
   "id": "18bced21",
   "metadata": {
    "id": "18bced21",
    "tags": []
   },
   "outputs": [
    {
     "name": "stdout",
     "output_type": "stream",
     "text": [
      "Exception reporting mode: Verbose\n"
     ]
    }
   ],
   "source": [
    "# This cell tells Jupyter to provide detailed debugging information\n",
    "# when a runtime error occurs. Run it before working on the exercises.\n",
    "\n",
    "%xmode Verbose"
   ]
  },
  {
   "cell_type": "code",
   "execution_count": 71,
   "id": "772f5c14",
   "metadata": {
    "id": "772f5c14",
    "tags": []
   },
   "outputs": [
    {
     "name": "stdout",
     "output_type": "stream",
     "text": [
      "Downloaded words.txt\n"
     ]
    }
   ],
   "source": [
    "download('https://raw.githubusercontent.com/AllenDowney/ThinkPython/v3/words.txt');"
   ]
  },
  {
   "cell_type": "markdown",
   "id": "da882730-34c2-4201-b711-96d7a6d170af",
   "metadata": {
    "id": "5be97ddc"
   },
   "source": [
    "### "
   ]
  },
  {
   "cell_type": "markdown",
   "id": "bc6bbe15-c82a-4940-854b-d65756ff6ca1",
   "metadata": {
    "id": "5be97ddc"
   },
   "source": [
    "### 8.12.1 Ask a virtual assistant\n",
    "\n",
    "In this chapter, we only scratched the surface of what regular expressions can do.\n",
    "To get an idea of what's possible, ask a virtual assistant, \"What are the most common special characters used in Python regular expressions?\"\n"
   ]
  },
  {
   "cell_type": "markdown",
   "id": "30868b38-dd1e-4614-870e-046e58779f09",
   "metadata": {},
   "source": [
    "## From Gemini: Common Special Characters in Python Regular Expressions\n",
    "\n",
    "Python's regular expressions use a variety of special characters to represent different patterns. Here are some of the most common ones:\n",
    "\n",
    "### Character Classes\n",
    "* **`.`:** Matches any character except a newline.\n",
    "* **`^`:** Matches the beginning of a string.\n",
    "* **`$`:** Matches the end of a string.\n",
    "* **`[ ]`:** Matches any character within the brackets.\n",
    "    * **`[^ ]`:** Matches any character *not* within the brackets.\n",
    "* **`\\d`:** Matches any digit (0-9).\n",
    "* **`\\D`:** Matches any non-digit character.\n",
    "* **`\\s`:** Matches any whitespace character (space, tab, newline, etc.).\n",
    "* **`\\S`:** Matches any non-whitespace character.\n",
    "* **`\\w`:** Matches any alphanumeric character (letters, digits, underscores).\n",
    "* **`\\W`:** Matches any non-alphanumeric character.\n",
    "\n",
    "### Quantifiers\n",
    "* **`*`:** Matches the preceding character zero or more times.\n",
    "* **`+`:** Matches the preceding character one or more times.\n",
    "* **`?`:** Matches the preceding character zero or one time.\n",
    "* **`{n}`:** Matches the preceding character exactly n times.\n",
    "* **`{n,}`:** Matches the preceding character at least n times.\n",
    "* **`{n,m}`:** Matches the preceding character between n and m times.\n",
    "\n",
    "### Special Sequences\n",
    "* **`\\b`:** Matches a word boundary.\n",
    "* **`\\B`:** Matches a non-word boundary.\n",
    "* **`\\A`:** Matches the beginning of a string (similar to `^` but matches the beginning of a multi-line string).\n",
    "* **`\\Z`:** Matches the end of a string (similar to `$` but matches the end of a multi-line string).\n",
    "\n",
    "### Other Special Characters\n",
    "* **`|`:** Matches either the expression before or after it.\n",
    "* **`()`:** Groups a part of the regular expression.\n",
    "* **`?=`:** Positive lookahead assertion.\n",
    "* **`?!`:** Negative lookahead assertion.\n",
    "* **`?=`:** Positive lookbehind assertion.\n",
    "* **`?!`:** Negative lookbehind assertion.\n",
    "\n",
    "**Example:**\n",
    "```python\n",
    "import re\n",
    "\n",
    "text = \"The quick brown fox jumps over the lazy dog.\"\n",
    "\n",
    "# Find all words that start with 't' and end with 'h':\n",
    "matches = re.findall(r\"\\bt\\w+h\\b\", text)\n",
    "print(matches)  # Output: ['The', 'the']\n",
    "```\n",
    "\n",
    "By understanding these special characters, you can create powerful regular expressions to match and extract various patterns from text.\n"
   ]
  },
  {
   "cell_type": "markdown",
   "id": "e8f3cfd7-b144-476d-86b5-516e3491206b",
   "metadata": {},
   "source": [
    "### Huh...?  Don't understand the above, Gemini.  hmm. fix below."
   ]
  },
  {
   "cell_type": "code",
   "execution_count": 87,
   "id": "fdddd3d8-98da-4e50-965b-5d07f3a252fc",
   "metadata": {},
   "outputs": [
    {
     "name": "stdout",
     "output_type": "stream",
     "text": [
      "['The', 'the']\n"
     ]
    }
   ],
   "source": [
    "import re\n",
    "\n",
    "text = \"The quick brown fox jumps over the lazy dog.\"\n",
    "\n",
    "# Find all words that start with 't' and end with 'e':\n",
    "matches = re.findall(r\"\\b[Tt]\\w+e\\b\", text)\n",
    "print(matches)  # Output: ['The', 'the']"
   ]
  },
  {
   "cell_type": "markdown",
   "id": "119720f0-e7d6-45e1-ab93-a28a70c94e7d",
   "metadata": {
    "id": "5be97ddc"
   },
   "source": [
    "Try asking:\n",
    "\n",
    "* Write a Python regular expression that matches a 10-digit phone number with hyphens."
   ]
  },
  {
   "cell_type": "markdown",
   "id": "65834b44-3f06-423a-b965-c69cfa5b0a40",
   "metadata": {},
   "source": [
    "```python\n",
    "import re\n",
    "\n",
    "# Regular expression to match a 10-digit phone number with hyphens\n",
    "pattern = r\"\\d{3}-\\d{3}-\\d{4}\"\n",
    "\n",
    "# Example usage\n",
    "phone_number = \"123-456-7890\"\n",
    "if re.match(pattern, phone_number):\n",
    "    print(\"Valid phone number\")\n",
    "else:\n",
    "    print(\"Invalid phone number\")\n",
    "```\n",
    "\n",
    "This regular expression:\n",
    "\n",
    "1. **`\\d{3}`:** Matches three digits.\n",
    "2. **`-`:** Matches a hyphen.\n",
    "3. **`\\d{3}`:** Matches three more digits.\n",
    "4. **`-`:** Matches another hyphen.\n",
    "5. **`\\d{4}`:** Matches four more digits.\n",
    "\n",
    "The `re.match()` function checks if the entire phone number string matches the pattern. If it does, it returns a match object; otherwise, it returns `None`.\n"
   ]
  },
  {
   "cell_type": "code",
   "execution_count": 88,
   "id": "d918ff05-be32-47e5-9878-4987c820efe0",
   "metadata": {},
   "outputs": [
    {
     "name": "stdout",
     "output_type": "stream",
     "text": [
      "Valid phone number\n"
     ]
    }
   ],
   "source": [
    "import re\n",
    "\n",
    "# Regular expression to match a 10-digit phone number with hyphens\n",
    "pattern = r\"\\d{3}-\\d{3}-\\d{4}\"\n",
    "\n",
    "# Example usage\n",
    "phone_number = \"123-456-7890\"\n",
    "if re.match(pattern, phone_number):\n",
    "    print(\"Valid phone number\")\n",
    "else:\n",
    "    print(\"Invalid phone number\")"
   ]
  },
  {
   "cell_type": "markdown",
   "id": "edb40647-7e7a-431b-a8f6-cdc7105c265d",
   "metadata": {
    "id": "5be97ddc"
   },
   "source": [
    "* Write a Python regular expression that matches a street address with a number and a street name, followed by `ST` or `AVE`."
   ]
  },
  {
   "cell_type": "markdown",
   "id": "01db07b0-061c-4ae0-b747-cbb7b75389bb",
   "metadata": {},
   "source": [
    "```python\n",
    "import re\n",
    "\n",
    "# Regular expression to match a street address with a number and a street name, followed by ST or AVE\n",
    "pattern = r\"\\d+\\s+(?:[A-Za-z]+)(?:\\s+ST|\\s+AVE)\"\n",
    "\n",
    "# Example usage\n",
    "street_address = \"123 Main ST\"\n",
    "if re.match(pattern, street_address):\n",
    "    print(\"Valid street address\")\n",
    "else:\n",
    "    print(\"Invalid street address\")\n",
    "```\n",
    "\n",
    "This regular expression:\n",
    "\n",
    "1. **`\\d+`:** Matches one or more digits (the house number).\n",
    "2. **`\\s+`:** Matches one or more whitespace characters (space, tab, etc.).\n",
    "3. **`(?:[A-Za-z]+)`:** Matches one or more letters (the street name).\n",
    "4. **`(?:\\s+ST|\\s+AVE)`:** Matches either \" ST\" or \" AVE\" (the street type).\n",
    "\n",
    "The `(?: )` non-capturing groups are used to avoid capturing the street type in the match object if you don't need it.\n"
   ]
  },
  {
   "cell_type": "code",
   "execution_count": 89,
   "id": "dc8ca02d-7eaa-4843-b22f-d354affb1ea0",
   "metadata": {},
   "outputs": [
    {
     "name": "stdout",
     "output_type": "stream",
     "text": [
      "Valid street address\n"
     ]
    }
   ],
   "source": [
    "import re\n",
    "\n",
    "# Regular expression to match a street address with a number and a street name, followed by ST or AVE\n",
    "pattern = r\"\\d+\\s+(?:[A-Za-z]+)(?:\\s+ST|\\s+AVE)\"\n",
    "\n",
    "# Example usage\n",
    "street_address = \"123 Main ST\"\n",
    "if re.match(pattern, street_address):\n",
    "    print(\"Valid street address\")\n",
    "else:\n",
    "    print(\"Invalid street address\")"
   ]
  },
  {
   "cell_type": "markdown",
   "id": "744fe27d-c105-4c8d-8da0-7cd1c010912d",
   "metadata": {
    "id": "5be97ddc"
   },
   "source": [
    "* Write a Python regular expression that matches a full name with any common title like `Mr` or `Mrs` followed by any number of names beginning with capital letters, possibly with hyphens between some names."
   ]
  },
  {
   "cell_type": "markdown",
   "id": "b3fa4418-43d7-44f7-b0fe-2e16b8a2b0ec",
   "metadata": {},
   "source": [
    "```python\n",
    "import re\n",
    "\n",
    "# Regular expression to match a full name with a common title and any number of names\n",
    "pattern = r\"(?:Mr|Mrs|Ms|Miss|Dr)\\.?\\s+(?:[A-Z][a-z]+(?:-[A-Z][a-z]+)*\\s*)+\"\n",
    "\n",
    "# Example usage\n",
    "full_name = \"Mr. John Doe\"\n",
    "if re.match(pattern, full_name):\n",
    "    print(\"Valid full name\")\n",
    "else:\n",
    "    print(\"Invalid full name\")\n",
    "```\n",
    "\n",
    "This regular expression:\n",
    "\n",
    "1. **`(?:Mr|Mrs|Ms|Miss|Dr)`:** Matches one of the common titles (Mr, Mrs, Ms, Miss, or Dr).\n",
    "2. **`\\.?`:** Optionally matches a period after the title.\n",
    "3. **`\\s+`:** Matches one or more whitespace characters.\n",
    "4. **`(?:[A-Z][a-z]+(?:-[A-Z][a-z]+)*\\s*)+`:** Matches one or more names, each consisting of:\n",
    "   - A capital letter followed by one or more lowercase letters.\n",
    "   - Optionally followed by a hyphen and another name of the same format.\n",
    "   - Followed by one or more whitespace characters.\n",
    "\n",
    "The `(?: )` non-capturing groups are used to avoid capturing unnecessary parts of the name if you don't need them.\n"
   ]
  },
  {
   "cell_type": "code",
   "execution_count": 95,
   "id": "9b5153ef-7d58-401c-844c-00d14d90c1a0",
   "metadata": {},
   "outputs": [
    {
     "name": "stdout",
     "output_type": "stream",
     "text": [
      "Valid full name\n"
     ]
    }
   ],
   "source": [
    "import re\n",
    "\n",
    "# Regular expression to match a full name with a common title and any number of names\n",
    "pattern = r\"(?:Mr|Mrs|Ms|Miss|Dr)\\.?\\s+(?:[A-Z][a-z]+(?:-[A-Z][a-z]+)*\\s*)+\"\n",
    "\n",
    "# Example usage\n",
    "full_name = \"Mr. John Doe\"\n",
    "if re.match(pattern, full_name):\n",
    "    print(\"Valid full name\")\n",
    "else:\n",
    "    print(\"Invalid full name\")"
   ]
  },
  {
   "cell_type": "markdown",
   "id": "9a6a02f7-c5eb-44a2-9cbe-8dd3230a4795",
   "metadata": {
    "id": "5be97ddc"
   },
   "source": [
    "And if you want to see something more complicated, try asking for a regular expression that matches any legal URL."
   ]
  },
  {
   "cell_type": "markdown",
   "id": "b78bdb38-8bf6-4f84-bde1-2a2b2768bba9",
   "metadata": {},
   "source": [
    "## A Python Regular Expression for Valid URLs\n",
    "\n",
    "**Disclaimer:** While this regular expression provides a good foundation, it's important to note that URLs can be quite complex and evolve over time. For more robust URL validation, consider using a dedicated URL validation library or service.\n",
    "\n",
    "Here's a Python regular expression that can match a wide range of URLs:\n",
    "\n",
    "```python\n",
    "import re\n",
    "\n",
    "url_pattern = r\"(?:https?|ftp)://(?:(?:[a-z0-9](?:[a-z0-9-]{0,61}[a-z0-9])?\\.)+[a-z0-9][a-z0-9-]{0,61}[a-z0-9])|(?:\\[(?:[0-9]{1,3}\\.){3}[0-9]{1,3}\\]))(?:\\:[0-9]+)?(?:/(?:(?:[~\\.\\!\\@\\#\\$\\%\\^\\&\\*\\(\\)\\+\\-\\=\\|\\?\\/\\:\\;<>\\[\\]\\{\\}\\']|[a-z0-9])|(?:%[0-9a-f]{2}))+)*(?:\\?(?:(?:[~\\.\\!\\@\\#\\$\\%\\^\\&\\*\\(\\)\\+\\-\\=\\|\\?\\/\\:\\;<>\\[\\]\\{\\}\\']|[a-z0-9])|(?:%[0-9a-f]{2}))+)?(?:#(?:(?:[~\\.\\!\\@\\#\\$\\%\\^\\&\\*\\(\\)\\+\\-\\=\\|\\?\\/\\:\\;<>\\[\\]\\{\\}\\']|[a-z0-9])|(?:%[0-9a-f]{2}))+)?$\"\n",
    "\n",
    "def is_valid_url(url):\n",
    "    return re.match(url_pattern, url) is not None\n",
    "\n",
    "# Example usage\n",
    "url = \"https://www.example.com/path/to/file.html?param1=value1&param2=value2#section\"\n",
    "if is_valid_url(url):\n",
    "    print(\"Valid URL\")\n",
    "else:\n",
    "    print(\"Invalid URL\")\n",
    "```\n",
    "\n",
    "This regular expression covers the following URL components:\n",
    "\n",
    "* **Protocol:** `https?|ftp` matches HTTP, HTTPS, or FTP.\n",
    "* **Hostname:** Matches domain names and IP addresses.\n",
    "* **Port:** Optionally matches a port number.\n",
    "* **Path:** Matches the path component of the URL.\n",
    "* **Query string:** Optionally matches query parameters.\n",
    "* **Fragment:** Optionally matches a fragment identifier.\n",
    "\n",
    "**Note:** While this regular expression is comprehensive, it might not cover every possible edge case or future URL format. For more critical applications, consider using a dedicated URL validation library or service.\n"
   ]
  },
  {
   "cell_type": "markdown",
   "id": "6cdccf22-7ffc-4d68-a2d6-1793f6c8dd32",
   "metadata": {
    "id": "5be97ddc"
   },
   "source": [
    "A regular expression often has the letter `r` before the quotation mark, which indicates that it is a **raw string**.\n",
    "For more information, ask a virtual assistant, \"What is a raw string in Python?\""
   ]
  },
  {
   "cell_type": "markdown",
   "id": "f68e6987-93d3-48d2-b793-9a0ed298a3d3",
   "metadata": {},
   "source": [
    "**Raw strings** in Python are a special type of string literal that treats backslashes (`\\`) as literal characters instead of escape sequences. This is particularly useful when working with regular expressions or paths that contain backslashes.\n",
    "\n",
    "**Syntax:**\n",
    "\n",
    "```python\n",
    "r\"raw string\"\n",
    "```\n",
    "\n",
    "**Example:**\n",
    "\n",
    "```python\n",
    "# Regular expression to match a Windows path\n",
    "regex = r\"C:\\\\Users\\\\John\\\\Documents\\\\file.txt\"\n",
    "\n",
    "# Printing the raw string\n",
    "print(regex)  # Output: C:\\Users\\John\\Documents\\file.txt\n",
    "```\n",
    "\n",
    "In this example, the backslashes in the regular expression are treated as literal characters, allowing the regex to match the specified Windows path correctly.\n",
    "\n",
    "**Key points about raw strings:**\n",
    "\n",
    "* **No escape sequences:** Backslashes are treated as regular characters, not escape sequences.\n",
    "* **Triple quotes not allowed:** Raw strings cannot be defined using triple quotes (`\"\"\"`).\n",
    "* **Useful for regular expressions:** Raw strings are often used in regular expressions to avoid escaping special characters.\n",
    "* **Other applications:** They can also be used for paths, file names, or any other context where backslashes need to be treated literally.\n",
    "\n",
    "By understanding raw strings, you can write more concise and readable Python code, especially when working with strings that contain backslashes.\n"
   ]
  },
  {
   "cell_type": "code",
   "execution_count": 96,
   "id": "8e86d4c3-5059-4457-a999-9e5afc45f295",
   "metadata": {},
   "outputs": [
    {
     "name": "stdout",
     "output_type": "stream",
     "text": [
      "C:\\\\Users\\\\John\\\\Documents\\\\file.txt\n"
     ]
    }
   ],
   "source": [
    "# Regular expression to match a Windows path\n",
    "regex = r\"C:\\\\Users\\\\John\\\\Documents\\\\file.txt\"\n",
    "\n",
    "# Printing the raw string\n",
    "print(regex)  # Output: C:\\Users\\John\\Documents\\file.txt"
   ]
  },
  {
   "cell_type": "code",
   "execution_count": 97,
   "id": "8650dec2",
   "metadata": {
    "id": "8650dec2",
    "tags": []
   },
   "outputs": [],
   "source": [
    "from doctest import run_docstring_examples\n",
    "\n",
    "def run_doctests(func):\n",
    "    run_docstring_examples(func, globals(), name=func.__name__)"
   ]
  },
  {
   "cell_type": "markdown",
   "id": "20dcbbb3",
   "metadata": {
    "id": "20dcbbb3"
   },
   "source": [
    "### 8.12.2 Exercise\n",
    "\n",
    "See if you can write a function that does the same thing as the shell command `!head`.\n",
    "It should take as arguments the name of a file to read, the number of lines to read, and the name of the file to write the lines into.\n",
    "If the third parameter is `None`, it should display the lines rather than write them to a file.\n",
    "\n",
    "Consider asking a virtual assistant for help, but if you do, tell it not to use a `with` statement or a `try` statement."
   ]
  },
  {
   "cell_type": "code",
   "execution_count": 136,
   "id": "75b12538",
   "metadata": {
    "id": "75b12538"
   },
   "outputs": [],
   "source": [
    "# Solution\n",
    "\n",
    "def head(fileRead, numLines, fileWrite=None):\n",
    "    \"\"\"\n",
    "    Reads the specified number of lines from the given file and writes them to the output file (or prints them to the console if fileWrite is None).\n",
    "\n",
    "    Args:\n",
    "        fileRead (str): The name of the file to read.\n",
    "        numLines (int): The number of lines to read.\n",
    "        fileWrite (str, optional): The name of the file to write the lines to. If None, the lines are printed to the console.\n",
    "    \"\"\"\n",
    "    lineCount = 0\n",
    "    \n",
    "    reader = open(fileRead)\n",
    "    \n",
    "    if fileWrite != None:\n",
    "        toFile = True\n",
    "        writer = open(fileWrite,'w')\n",
    "    else:\n",
    "        toFile = False\n",
    "        \n",
    "    for line in reader:\n",
    "        if lineCount < numLines:\n",
    "            if toFile:\n",
    "                writer.write(line)\n",
    "            else:\n",
    "                print(line)\n",
    "            \n",
    "            lineCount += 1\n",
    "        \n",
    "    reader.close()\n",
    "\n",
    "    if toFile:\n",
    "        writer.close()"
   ]
  },
  {
   "cell_type": "markdown",
   "id": "24f6aac3",
   "metadata": {
    "id": "24f6aac3",
    "tags": []
   },
   "source": [
    "You can use the following examples to test your function."
   ]
  },
  {
   "cell_type": "code",
   "execution_count": 132,
   "id": "9cbc19cd",
   "metadata": {
    "id": "9cbc19cd",
    "tags": []
   },
   "outputs": [
    {
     "name": "stdout",
     "output_type": "stream",
     "text": [
      "\n",
      "\n",
      "\n",
      "\n",
      "\n",
      "\n",
      "\n",
      "\n",
      "                                DRACULA\n",
      "\n",
      "\n",
      "\n",
      "                                  _by_\n",
      "\n",
      "\n",
      "\n",
      "                              Bram Stoker\n",
      "\n",
      "\n",
      "\n"
     ]
    }
   ],
   "source": [
    "head('pg345_cleaned.txt', 10)\n"
   ]
  },
  {
   "cell_type": "code",
   "execution_count": 133,
   "id": "19de7df0",
   "metadata": {
    "id": "19de7df0",
    "tags": []
   },
   "outputs": [],
   "source": [
    "head('pg345_cleaned.txt', 100, 'pg345_cleaned_100_lines2.txt')"
   ]
  },
  {
   "cell_type": "code",
   "execution_count": 135,
   "id": "242f7ba6",
   "metadata": {
    "id": "242f7ba6",
    "tags": []
   },
   "outputs": [
    {
     "name": "stdout",
     "output_type": "stream",
     "text": [
      "JONATHAN HARKER’S JOURNAL\n",
      "\n",
      "(_Kept in shorthand._)\n",
      "\n",
      "\n",
      "_3 May. Bistritz._--Left Munich at 8:35 P. M., on 1st May, arriving at\n",
      "Vienna early next morning; should have arrived at 6:46, but train was an\n",
      "hour late. Buda-Pesth seems a wonderful place, from the glimpse which I\n",
      "got of it from the train and the little I could walk through the\n",
      "streets. I feared to go very far from the station, as we had arrived\n"
     ]
    }
   ],
   "source": [
    "!tail pg345_cleaned_100_lines2.txt"
   ]
  },
  {
   "cell_type": "code",
   "execution_count": 137,
   "id": "524bbec3-2bdd-4b1e-aa98-55db2ea5c58f",
   "metadata": {},
   "outputs": [],
   "source": [
    "# Genini's Version:\n",
    "\n",
    "def head(file_name, lines_to_read, output_file=None):\n",
    "    \"\"\"\n",
    "    Reads the specified number of lines from the given file and writes them to the output file (or prints them to the console if output_file is None).\n",
    "\n",
    "    Args:\n",
    "        file_name (str): The name of the file to read.\n",
    "        lines_to_read (int): The number of lines to read.\n",
    "        output_file (str, optional): The name of the file to write the lines to. If None, the lines are printed to the console.\n",
    "    \"\"\"\n",
    "\n",
    "    try:\n",
    "        file_handle = open(file_name, 'r')\n",
    "        for i in range(lines_to_read):\n",
    "            line = file_handle.readline()\n",
    "            if not line:\n",
    "                break\n",
    "            if output_file:\n",
    "                with open(output_file, 'w') as output_file_handle:\n",
    "                    output_file_handle.write(line)\n",
    "            else:\n",
    "                print(line, end='')\n",
    "        file_handle.close()\n",
    "    except FileNotFoundError:\n",
    "        print(f\"Error: File '{file_name}' not found.\")"
   ]
  },
  {
   "cell_type": "code",
   "execution_count": 138,
   "id": "466e7c2b-3baf-4da3-8b92-90c5c10be3ff",
   "metadata": {},
   "outputs": [],
   "source": [
    "head('pg345_cleaned.txt', 100, 'pg345_cleaned_100_lines3.txt')"
   ]
  },
  {
   "cell_type": "code",
   "execution_count": 139,
   "id": "700c6296-50ae-4f31-b7aa-158b57f3de02",
   "metadata": {},
   "outputs": [
    {
     "name": "stdout",
     "output_type": "stream",
     "text": [
      "streets. I feared to go very far from the station, as we had arrived\n"
     ]
    }
   ],
   "source": [
    "!tail pg345_cleaned_100_lines3.txt"
   ]
  },
  {
   "cell_type": "markdown",
   "id": "e951d141-254e-4a0f-994c-99363deda232",
   "metadata": {},
   "source": [
    "### This doesnt seem write, and note it still used a try statement, even when explicitly told not to!"
   ]
  },
  {
   "cell_type": "markdown",
   "id": "adb78357",
   "metadata": {
    "id": "adb78357"
   },
   "source": [
    "### 8.12.3 Exercise\n",
    "\n",
    "\"Wordle\" is an online word game where the objective is to guess a five-letter word in six or fewer attempts.\n",
    "Each attempt has to be recognized as a word, not including proper nouns.\n",
    "After each attempt, you get information about which of the letters you guessed appear in the target word, and which ones are in the correct position.\n",
    "\n",
    "For example, suppose the target word is `MOWER` and you guess `TRIED`. You would learn that `E` is in the word and in the correct position, `R` is in the word but not in the correct position, and `T`, `I`, and `D` are not in the word.\n",
    "\n",
    "As a different example, suppose you have guessed the words `SPADE` and `CLERK`, and you've learned that `E` is in the word, but not in either of those positions, and none of the other letters appear in the word.\n",
    "\n",
    "Of the words in the word list, how many could be the target word?\n",
    "Write a function called `check_word` that takes a five-letter word and checks whether it could be the target word."
   ]
  },
  {
   "cell_type": "markdown",
   "id": "87fdf676",
   "metadata": {
    "id": "87fdf676"
   },
   "source": [
    "You can use any of the functions from the previous chapter, like `uses_any`."
   ]
  },
  {
   "cell_type": "code",
   "execution_count": 140,
   "id": "8d19b6ce",
   "metadata": {
    "id": "8d19b6ce",
    "tags": []
   },
   "outputs": [],
   "source": [
    "def uses_any(word, letters):\n",
    "    for letter in word.lower():\n",
    "        if letter in letters.lower():\n",
    "            return True\n",
    "    return False"
   ]
  },
  {
   "cell_type": "code",
   "execution_count": 167,
   "id": "2a37092e",
   "metadata": {
    "id": "2a37092e"
   },
   "outputs": [],
   "source": [
    "# Solution\n",
    "\n",
    "def check_word(word):\n",
    "    \"\"\"\n",
    "    Checks the specified word against a target word.\n",
    "    Returns True if any of the letters are in the target word\n",
    "    \n",
    "    Args:\n",
    "        word (str): A 5-letter word to check.\n",
    "    \"\"\"\n",
    "    target = \"MOWER\"\n",
    "    if uses_any(target,word.upper()):\n",
    "        return True\n",
    "    else:\n",
    "        return False\n",
    "\n"
   ]
  },
  {
   "cell_type": "markdown",
   "id": "63593f1b",
   "metadata": {
    "id": "63593f1b",
    "tags": []
   },
   "source": [
    "You can use the following loop to test your function."
   ]
  },
  {
   "cell_type": "code",
   "execution_count": null,
   "id": "9bbf0b1c",
   "metadata": {
    "id": "9bbf0b1c",
    "tags": []
   },
   "outputs": [],
   "source": [
    "for line in open('words.txt'):\n",
    "    word = line.strip()\n",
    "    if len(word) == 5 and check_word(word):\n",
    "        print(word)"
   ]
  },
  {
   "cell_type": "markdown",
   "id": "d009cb52",
   "metadata": {
    "id": "d009cb52"
   },
   "source": [
    "### 8.12.4 Exercise\n",
    "\n",
    "Continuing the previous exercise, suppose you guess the word `TOTEM` and learn that the `E` is *still* not in the right place, but the `M` is. How many words are left?"
   ]
  },
  {
   "cell_type": "code",
   "execution_count": 186,
   "id": "925c7aa9",
   "metadata": {
    "id": "925c7aa9"
   },
   "outputs": [
    {
     "name": "stdout",
     "output_type": "stream",
     "text": [
      "abeam\n",
      "bedim\n",
      "begum\n",
      "besom\n",
      "bream\n",
      "cecum\n",
      "celom\n",
      "cream\n",
      "degum\n",
      "deism\n",
      "denim\n",
      "dream\n",
      "enorm\n",
      "enzym\n",
      "fleam\n",
      "genom\n",
      "gleam\n",
      "ileum\n",
      "odeum\n",
      "oleum\n",
      "realm\n",
      "rearm\n",
      "rheum\n",
      "sebum\n",
      "sedum\n",
      "seism\n",
      "serum\n",
      "sperm\n",
      "steam\n",
      "therm\n",
      "velum\n",
      "venom\n",
      "whelm\n",
      "Number of words left as possible match = 33\n"
     ]
    }
   ],
   "source": [
    "# Solution\n",
    "count = 0\n",
    "for line in open('words.txt'):\n",
    "    word = line.strip()\n",
    "    if len(word) == 5 and check_word(word):\n",
    "        #pattern = r'^[E]{1}[A-Z]{2}[^E]{1}M$'\n",
    "        #pattern = r'^[E]{1}[^E]{2}[^E]{1}[M]|[^E][E][^E]{2}[M]|[^E]{2}[E][^E][M]'  # My own pattern after trial and error\n",
    "        #pattern = r'^[E]{1}[^E]{2}[^E]{1}M$' # -- Per Gemini asking it to simplify mine - a bad suggestion that doestn work!\n",
    "        pattern = r'^[^E]*[E][^E]*[^E]M$'  #  Told the AI it gave me bad info - it revised it again and provided this much more succint version\n",
    "        if re.match(pattern,word.upper()):\n",
    "            print(word)\n",
    "            count += 1\n",
    "\n",
    "print(f\"Number of words left as possible match = {count}\")\n",
    "        "
   ]
  },
  {
   "cell_type": "markdown",
   "id": "0489d343-4b9a-4a47-a58c-f20d5cdd606a",
   "metadata": {
    "id": "3f658f3a"
   },
   "source": [
    "### Solution goes here\n",
    "\n",
    "From Gemini:\n",
    "\n",
    "You're absolutely right! I apologize for the oversight. The previous pattern only matched words where the 'E' is at the beginning.\n",
    "\n",
    "Here's the corrected regular expression:\n",
    "\n",
    "```regex\n",
    "^[^E]*[E][^E]*[^E]M$\n",
    "```\n",
    "\n",
    "This pattern matches a five-letter word with the following conditions:\n",
    "\n",
    "- It starts with zero or more non-'E' characters.\n",
    "- It has exactly one 'E'.\n",
    "- It has zero or more non-'E' characters after the 'E'.\n",
    "- It ends with an 'M'.\n",
    "\n",
    "This pattern ensures that the 'E' can appear anywhere within the first three letters but only once, and the word ends with 'M'.\n"
   ]
  },
  {
   "cell_type": "markdown",
   "id": "c1d0f892",
   "metadata": {
    "id": "c1d0f892"
   },
   "source": [
    "### 8.12.5 Exercise\n",
    "\n",
    "*The Count of Monte Cristo* is a novel by Alexandre Dumas that is considered a classic.\n",
    "Nevertheless, in the introduction of an English translation of the book, the writer Umberto Eco confesses that he found the book to be \"one of the most badly written novels of all time\".\n",
    "\n",
    "In particular, he says it is \"shameless in its repetition of the same adjective,\" and mentions in particular the number of times \"its characters either shudder or turn pale.\"\n",
    "\n",
    "To see whether his objection is valid, let's count the number number of times the word `pale` appears in any form, including `pale`, `pales`, `paled`, and `paleness`, as well as the related word `pallor`.\n",
    "Use a single regular expression that matches all of these words and no others."
   ]
  },
  {
   "cell_type": "markdown",
   "id": "742efd98",
   "metadata": {
    "id": "742efd98",
    "tags": []
   },
   "source": [
    "The following cell downloads the book from Project Gutenberg <https://www.gutenberg.org/ebooks/1184>."
   ]
  },
  {
   "cell_type": "code",
   "execution_count": 187,
   "id": "9a74be13",
   "metadata": {
    "id": "9a74be13",
    "tags": []
   },
   "outputs": [
    {
     "name": "stdout",
     "output_type": "stream",
     "text": [
      "--2024-09-21 17:37:44--  https://www.gutenberg.org/cache/epub/1184/pg1184.txt\n",
      "Resolving www.gutenberg.org (www.gutenberg.org)... 152.19.134.47, 2610:28:3090:3000:0:bad:cafe:47\n",
      "Connecting to www.gutenberg.org (www.gutenberg.org)|152.19.134.47|:443... connected.\n",
      "HTTP request sent, awaiting response... 200 OK\n",
      "Length: 2787202 (2.7M) [text/plain]\n",
      "Saving to: ‘pg1184.txt’\n",
      "\n",
      "pg1184.txt          100%[===================>]   2.66M  6.23MB/s    in 0.4s    \n",
      "\n",
      "2024-09-21 17:37:45 (6.23 MB/s) - ‘pg1184.txt’ saved [2787202/2787202]\n",
      "\n"
     ]
    }
   ],
   "source": [
    "import os\n",
    "\n",
    "if not os.path.exists('pg1184.txt'):\n",
    "    !wget https://www.gutenberg.org/cache/epub/1184/pg1184.txt"
   ]
  },
  {
   "cell_type": "markdown",
   "id": "881c2f99",
   "metadata": {
    "id": "881c2f99",
    "tags": []
   },
   "source": [
    "The following cell runs a function that reads the file from Project Gutenberg and writes a file that contains only the text of the book, not the added information about the book."
   ]
  },
  {
   "cell_type": "code",
   "execution_count": 205,
   "id": "946c63d2",
   "metadata": {
    "id": "946c63d2",
    "tags": []
   },
   "outputs": [],
   "source": [
    "def clean_file(input_file, output_file):\n",
    "    reader = open(input_file)\n",
    "    writer = open(output_file, 'w')\n",
    "\n",
    "    for line in reader:\n",
    "        if is_special_line(line):\n",
    "            break\n",
    "\n",
    "    for line in reader:\n",
    "        if is_special_line(line):\n",
    "            break\n",
    "        writer.write(line)\n",
    "\n",
    "    reader.close()\n",
    "    writer.close()\n",
    "\n",
    "clean_file('pg1184.txt', 'pg1184_cleaned.txt')"
   ]
  },
  {
   "cell_type": "code",
   "execution_count": 252,
   "id": "08294921",
   "metadata": {
    "id": "08294921"
   },
   "outputs": [],
   "source": [
    "# Solution\n",
    "\n",
    "#pattern = r'\\bpale\\b|\\bpales\\b|\\bpaled\\b|\\bpaleness\\b|\\bpallor\\b'\n",
    "pattern = r'\\bpale(s|d|ness)?\\b|\\bpallor\\b'  # -- better version\n",
    "#pattern = r'pale'  # 218\n",
    "#pattern = r'pales'  # 0\n",
    "#pattern = r'paled'  # 1\n",
    "#pattern = r'paleness' # 10\n",
    "#pattern = r'pallor'   # 22\n",
    "\n",
    "def count_Matches(pattern):\n",
    "    count = 0\n",
    "    for line in open('pg1184_cleaned.txt'):\n",
    "        result = re.search(pattern, line)\n",
    "        if result != None:\n",
    "            count += 1\n",
    "    return count"
   ]
  },
  {
   "cell_type": "code",
   "execution_count": 253,
   "id": "3eb8f83f",
   "metadata": {
    "id": "3eb8f83f"
   },
   "outputs": [
    {
     "name": "stdout",
     "output_type": "stream",
     "text": [
      "223\n"
     ]
    }
   ],
   "source": [
    "# Solution\n",
    "\n",
    "print(count_Matches(pattern))"
   ]
  },
  {
   "cell_type": "markdown",
   "id": "71d2148f",
   "metadata": {
    "id": "71d2148f",
    "tags": []
   },
   "source": [
    "By my count, these words appear `223` times in a book that contains about `461,000` words. Mr. Eco might have a point."
   ]
  },
  {
   "cell_type": "markdown",
   "id": "c6cdd408-117b-4e6e-89e7-f5d2144f952c",
   "metadata": {
    "id": "32d539d9"
   },
   "source": [
    "...maybe he has a point..."
   ]
  }
 ],
 "metadata": {
  "celltoolbar": "Tags",
  "colab": {
   "provenance": []
  },
  "kernelspec": {
   "display_name": "Python 3 (ipykernel)",
   "language": "python",
   "name": "python3"
  },
  "language_info": {
   "codemirror_mode": {
    "name": "ipython",
    "version": 3
   },
   "file_extension": ".py",
   "mimetype": "text/x-python",
   "name": "python",
   "nbconvert_exporter": "python",
   "pygments_lexer": "ipython3",
   "version": "3.12.3"
  }
 },
 "nbformat": 4,
 "nbformat_minor": 5
}
