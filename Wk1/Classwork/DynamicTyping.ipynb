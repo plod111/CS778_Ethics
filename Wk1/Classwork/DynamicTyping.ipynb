{
 "cells": [
  {
   "cell_type": "markdown",
   "id": "99eb69cb-3c0c-4410-8d2a-3ff210e3035c",
   "metadata": {},
   "source": [
    "Boxes may be Markdown (text), Raw (as-is), or code.\n",
    "To run a box, use SHIFT-ENTER."
   ]
  },
  {
   "cell_type": "code",
   "execution_count": null,
   "id": "793de9e1-a8ef-4fed-a774-49633848f728",
   "metadata": {},
   "outputs": [],
   "source": [
    "! pip install regex"
   ]
  },
  {
   "cell_type": "markdown",
   "id": "d3e860d2-c6ba-4ae3-822f-ada7c3dd2409",
   "metadata": {},
   "source": [
    "5.\tCode Example: DynamicTyping.py: free form is fun.\n",
    "    a.\tOptional reading: https://stackoverflow.com/questions/2329460/which-languages-are-dynamically-typed-and-compiled-and-which-are-statically-typ\n",
    "        i.\tLists languages that are dynamically typed and compiled and statically typed and interpreted."
   ]
  },
  {
   "cell_type": "code",
   "execution_count": null,
   "id": "23038486-83f0-47db-b576-5166e30fef68",
   "metadata": {},
   "outputs": [],
   "source": [
    "# DynamicTyping.py: We don't need to declare any types!  (But these do still exist.)\n",
    "#\n",
    "# CSCI 77800 - 2024 FA - Edgar Troudt\n",
    "#\n",
    "# What do you notice about the comment style?\n",
    "\n",
    "i = input( \"First: \"  )\n",
    "j = input( \"Second: \" )\n",
    "\n",
    "print( i + j )\n",
    "input ( \"--pause for dramatic effect--pt2--\" )\n",
    "\n",
    "print (type(i))\n",
    "\n",
    "input ( \"--pause for dramatic effect--pt3--\" )\n",
    "i = int(i) * 4  # conversion line - version A\n",
    "#i = i * 4  # conversion line - version B\n",
    "\n",
    "input ( \"--pause for dramatic effect--pt4--\" )\n",
    "print (i)\n",
    "print (type(i))\n",
    "\n",
    "# What happens if you type a word into the first slot?\n",
    "# What happens if I eliminate the int() function from the conversion line?  (Switch from version A to version B.)"
   ]
  },
  {
   "cell_type": "markdown",
   "id": "37cdb37a-23b3-416f-a001-41b880e2ae18",
   "metadata": {},
   "source": [
    "Remember to use SHIFT-ENTER to run the code above.\n",
    "You can also reset the output.  On the menu above: Kernel -> Restart Kernel and Clear Outputs of All Cells."
   ]
  }
 ],
 "metadata": {
  "kernelspec": {
   "display_name": "Python 3 (ipykernel)",
   "language": "python",
   "name": "python3"
  },
  "language_info": {
   "codemirror_mode": {
    "name": "ipython",
    "version": 3
   },
   "file_extension": ".py",
   "mimetype": "text/x-python",
   "name": "python",
   "nbconvert_exporter": "python",
   "pygments_lexer": "ipython3",
   "version": "3.10.12"
  }
 },
 "nbformat": 4,
 "nbformat_minor": 5
}
