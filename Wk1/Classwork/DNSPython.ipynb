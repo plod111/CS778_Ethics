{
 "cells": [
  {
   "cell_type": "markdown",
   "id": "0fd11b91-fec3-4a5a-a230-c1b66cc4f5d2",
   "metadata": {},
   "source": [
    "Let's try DNS.\n",
    "\n",
    "As an individual, but while discussing with your partner:\n",
    "1. Run the below program without having installed the library in the virtual environment. (SHIFT-ENTER or clicking the play button.)\n",
    "2. Note the error.\n",
    "3. Run the below program again after having installed the library (a few boxes below).\n",
    "4. Note (hopefully no error).\n",
    "\n",
    "Pair-wise exercise 1:\n",
    "1. Run the above demo 3 times on www.cnn.com.\n",
    "2. Speculate: Why do we get multiple IP addresses for some domains? (e.g., www.cnn.edu)\n",
    "3. Speculate: Why are those IP addresses in a different order if you query twice?\n",
    "4. Visit: https://adaway.org/hosts.txt\n",
    "5. Speculate: What do these hosts do?\n",
    "6. Run the program to resolve one of these hosts.\n",
    "\n",
    "So, what is one popular way to block ads?\n",
    "\n",
    "Overtime Exercise -- if you have more time:\n",
    "1. Visit: https://adguard-dns.io/en/public-dns.html.\n",
    "2. Review it. Open \"Our Server Addresses\" -> \"Plain DNS\".  What sorts of DNS servers do they offer?\n",
    "3. Is encrypted DNS necessary?  If so, what are two really good reasons for it?\n",
    "4. Visit, review and discuss https://pi-hole.net/. It can be installed on a Raspberry Pi (hence the name)."
   ]
  },
  {
   "cell_type": "code",
   "execution_count": 7,
   "id": "9d2c42eb-a754-4593-a1f4-0de07ad8380b",
   "metadata": {},
   "outputs": [
    {
     "name": "stdin",
     "output_type": "stream",
     "text": [
      "What domain?   ad.a-ads.com\n"
     ]
    },
    {
     "name": "stdout",
     "output_type": "stream",
     "text": [
      "From Google's DNS:\n",
      "148.251.152.47\n",
      "\n",
      "\n",
      "From AdGuard's DNS:\n",
      "0.0.0.0\n"
     ]
    }
   ],
   "source": [
    "# CS778 -- 2024 FA -- Edgar E. Troudt, Ph.D.\n",
    "# dnslookup.py: A simple DNS lookup program using the dnspython library\n",
    "# If you would like to see more sample code: https://github.com/rthalley/dnspython/blob/main/examples/query_specific.py\n",
    "\n",
    "import dns.resolver\n",
    "\n",
    "#############################\n",
    "# using Google's primary DNS.\n",
    "dmn = input (\"What domain?  \")\n",
    "answer_one = dns.resolver.resolve_at(\"8.8.8.8\", dmn, \"A\")\n",
    "print (\"From Google's DNS:\")\n",
    "for x in answer_one:\n",
    "        print (x)\n",
    "\n",
    "#############################\n",
    "# using AdGuard public DNS https://adguard-dns.io/en/public-dns.html\n",
    "# Read about what AdGuard does.\n",
    "print (\"\\n\\nFrom AdGuard's DNS:\")\n",
    "\n",
    "answer_two = dns.resolver.resolve_at(\"94.140.14.14\", dmn, \"A\")\n",
    "for x in answer_two:\n",
    "        print (x)\n"
   ]
  },
  {
   "cell_type": "markdown",
   "id": "64838882-f6fd-4e3f-a5ad-35772afc4d51",
   "metadata": {},
   "source": [
    "Here is the library installation command.\n",
    "\n",
    "1. Remember that \"!\" allows you to run a system command in Jupyter.  \n",
    "2. pip (Python package manager) installs the library needed.  \n",
    "3. Show yourself this works.  First try to run the program WITHOUT running the pip statement below.  Then rerun the program after pip."
   ]
  },
  {
   "cell_type": "code",
   "execution_count": 2,
   "id": "832fb4cb-30a1-415d-8aeb-b08cf275b723",
   "metadata": {},
   "outputs": [
    {
     "name": "stdout",
     "output_type": "stream",
     "text": [
      "Defaulting to user installation because normal site-packages is not writeable\n",
      "Collecting dnspython\n",
      "  Downloading dnspython-2.6.1-py3-none-any.whl (307 kB)\n",
      "\u001b[2K     \u001b[38;2;114;156;31m━━━━━━━━━━━━━━━━━━━━━━━━━━━━━━━━━━━━━━━\u001b[0m \u001b[32m307.7/307.7 KB\u001b[0m \u001b[31m2.7 MB/s\u001b[0m eta \u001b[36m0:00:00\u001b[0m MB/s\u001b[0m eta \u001b[36m0:00:01\u001b[0m:01\u001b[0m\n",
      "\u001b[?25hInstalling collected packages: dnspython\n",
      "Successfully installed dnspython-2.6.1\n"
     ]
    }
   ],
   "source": [
    "! pip install dnspython"
   ]
  },
  {
   "cell_type": "markdown",
   "id": "921dbb17-6bd4-41e6-ae1a-a26effb14001",
   "metadata": {},
   "source": [
    "-------------\n",
    "Everything below this line is for Edgar's next explanation.\n",
    "-------------"
   ]
  },
  {
   "cell_type": "code",
   "execution_count": null,
   "id": "850f289b-b455-481b-934d-662b34eefae8",
   "metadata": {},
   "outputs": [],
   "source": [
    "# CS778 -- 2024 FA -- Edgar E. Troudt, Ph.D.\n",
    "# dnslookup-v2.py: A simple DNS lookup program using the dnspython library\n",
    "# If you would like to see more sample code: https://github.com/rthalley/dnspython/blob/main/examples/query_specific.py\n",
    "\n",
    "import dns.resolver as drv\n",
    "\n",
    "#############################\n",
    "# using Google's primary DNS.\n",
    "dmn = input (\"What domain?  \")\n",
    "answer_one = drv.resolve_at(\"8.8.8.8\", dmn, \"A\")\n",
    "print (\"From Google's DNS:\")\n",
    "for x in answer_one:\n",
    "        print (x)\n",
    "\n",
    "#############################\n",
    "# using AdGuard public DNS https://adguard-dns.io/en/public-dns.html\n",
    "# Read about what AdGuard does.\n",
    "print (\"\\n\\nFrom AdGuard's DNS:\")\n",
    "\n",
    "answer_two = drv.resolve_at(\"94.140.14.14\", dmn, \"A\")\n",
    "for x in answer_two:\n",
    "        print (x)\n"
   ]
  },
  {
   "cell_type": "markdown",
   "id": "47ddee49-fdde-4b6c-8bca-6e8e0a3ecd72",
   "metadata": {},
   "source": [
    "Pair-wise Exercise 2:\n",
    "1. Can you modify the above program to determine the answer to this: Does mail from Hunter's faculty domain (hunter.cuny.edu) and student domain (myhunter.cuny.edu) go to the same server?\n",
    "2. Remember A=domain, MX=mail server.\n",
    "3. Let's do a PTR=reverse lookup IP->name.\n",
    "4. You'll need to use: https://github.com/rthalley/dnspython/blob/main/examples/reverse_name.py"
   ]
  },
  {
   "cell_type": "code",
   "execution_count": null,
   "id": "5a96d90c-4f12-4223-99f3-ea996e90540d",
   "metadata": {},
   "outputs": [],
   "source": [
    "! git clone https://github.com/rthalley/dnspython/blob/main/examples/reverse_name.py"
   ]
  }
 ],
 "metadata": {
  "kernelspec": {
   "display_name": "Python 3 (ipykernel)",
   "language": "python",
   "name": "python3"
  },
  "language_info": {
   "codemirror_mode": {
    "name": "ipython",
    "version": 3
   },
   "file_extension": ".py",
   "mimetype": "text/x-python",
   "name": "python",
   "nbconvert_exporter": "python",
   "pygments_lexer": "ipython3",
   "version": "3.10.12"
  }
 },
 "nbformat": 4,
 "nbformat_minor": 5
}
