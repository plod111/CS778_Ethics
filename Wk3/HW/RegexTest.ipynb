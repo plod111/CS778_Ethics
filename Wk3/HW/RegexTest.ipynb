{
 "cells": [
  {
   "cell_type": "markdown",
   "id": "93d67b53-cfa3-4ccd-b869-083f59090def",
   "metadata": {},
   "source": [
    "Next session we will be working with the built-in re library. Ensure that you are able to run a\n",
    "Python program in Jupyter that uses this library. Minimally, this is a program with the\n",
    "instruction import re."
   ]
  },
  {
   "cell_type": "code",
   "execution_count": 1,
   "id": "e00546c1-7c62-497c-96e6-c4020466973a",
   "metadata": {},
   "outputs": [],
   "source": [
    "import re"
   ]
  },
  {
   "cell_type": "code",
   "execution_count": 3,
   "id": "4da65508-2a95-4fe1-bd8b-06e6489c10bb",
   "metadata": {},
   "outputs": [],
   "source": [
    "import regex"
   ]
  },
  {
   "cell_type": "code",
   "execution_count": 4,
   "id": "fb9b4b5a-47c3-4abd-b883-68e8ef8f9d31",
   "metadata": {},
   "outputs": [
    {
     "data": {
      "text/plain": [
       "'def'"
      ]
     },
     "execution_count": 4,
     "metadata": {},
     "output_type": "execute_result"
    }
   ],
   "source": [
    "m = re.search('(?<=abc)def', 'abcdef')\n",
    "\n",
    "m.group(0)"
   ]
  },
  {
   "cell_type": "code",
   "execution_count": 5,
   "id": "cf90e738-d0ec-4328-b640-79aa68129c8f",
   "metadata": {},
   "outputs": [
    {
     "data": {
      "text/plain": [
       "'egg'"
      ]
     },
     "execution_count": 5,
     "metadata": {},
     "output_type": "execute_result"
    }
   ],
   "source": [
    "m = re.search(r'(?<=-)\\w+', 'spam-egg')\n",
    "\n",
    "m.group(0)"
   ]
  },
  {
   "cell_type": "code",
   "execution_count": null,
   "id": "92f5a957-71c4-4ffa-a95b-d449124d353c",
   "metadata": {},
   "outputs": [],
   "source": []
  }
 ],
 "metadata": {
  "kernelspec": {
   "display_name": "Python 3 (ipykernel)",
   "language": "python",
   "name": "python3"
  },
  "language_info": {
   "codemirror_mode": {
    "name": "ipython",
    "version": 3
   },
   "file_extension": ".py",
   "mimetype": "text/x-python",
   "name": "python",
   "nbconvert_exporter": "python",
   "pygments_lexer": "ipython3",
   "version": "3.12.3"
  }
 },
 "nbformat": 4,
 "nbformat_minor": 5
}
