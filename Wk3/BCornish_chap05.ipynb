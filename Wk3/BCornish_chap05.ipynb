{
 "cells": [
  {
   "cell_type": "markdown",
   "id": "1331faa1",
   "metadata": {
    "id": "1331faa1"
   },
   "source": [
    "You can order print and ebook versions of *Think Python 3e* from\n",
    "[Bookshop.org](https://bookshop.org/a/98697/9781098155438) and\n",
    "[Amazon](https://www.amazon.com/_/dp/1098155432?smid=ATVPDKIKX0DER&_encoding=UTF8&tag=oreilly20-20&_encoding=UTF8&tag=greenteapre01-20&linkCode=ur2&linkId=e2a529f94920295d27ec8a06e757dc7c&camp=1789&creative=9325)."
   ]
  },
  {
   "cell_type": "code",
   "execution_count": 163,
   "id": "8119ba50",
   "metadata": {
    "id": "8119ba50",
    "tags": []
   },
   "outputs": [
    {
     "name": "stdout",
     "output_type": "stream",
     "text": [
      "The history saving thread hit an unexpected error (OperationalError('attempt to write a readonly database')).History will not be written to the database.\n"
     ]
    }
   ],
   "source": [
    "from os.path import basename, exists\n",
    "\n",
    "def download(url):\n",
    "    filename = basename(url)\n",
    "    if not exists(filename):\n",
    "        from urllib.request import urlretrieve\n",
    "\n",
    "        local, _ = urlretrieve(url, filename)\n",
    "        print(\"Downloaded \" + str(local))\n",
    "    return filename\n",
    "\n",
    "download('https://github.com/AllenDowney/ThinkPython/raw/v3/thinkpython.py');\n",
    "download('https://github.com/AllenDowney/ThinkPython/raw/v3/diagram.py');\n",
    "download('https://github.com/ramalho/jupyturtle/releases/download/2024-03/jupyturtle.py');\n",
    "\n",
    "import thinkpython"
   ]
  },
  {
   "cell_type": "markdown",
   "id": "75b60d6c",
   "metadata": {
    "id": "75b60d6c"
   },
   "source": [
    "# Conditionals and Recursion\n",
    "\n",
    "The main topic of this chapter is the `if` statement, which executes different code depending on the state of the program.\n",
    "And with the `if` statement we'll be able to explore one of the most powerful ideas in computing, **recursion**.\n",
    "\n",
    "But we'll start with three new features: the modulus operator, boolean expressions, and logical operators."
   ]
  },
  {
   "cell_type": "markdown",
   "id": "4ab7caf4",
   "metadata": {
    "id": "4ab7caf4"
   },
   "source": [
    "## Integer division and modulus\n",
    "\n",
    "Recall that the integer division operator, `//`, divides two numbers and rounds\n",
    "down to an integer.\n",
    "For example, suppose the run time of a movie is 105 minutes.\n",
    "You might want to know how long that is in hours.\n",
    "Conventional division returns a floating-point number:"
   ]
  },
  {
   "cell_type": "code",
   "execution_count": 2,
   "id": "30bd0ba7",
   "metadata": {
    "id": "30bd0ba7"
   },
   "outputs": [
    {
     "data": {
      "text/plain": [
       "1.75"
      ]
     },
     "execution_count": 2,
     "metadata": {},
     "output_type": "execute_result"
    }
   ],
   "source": [
    "minutes = 105\n",
    "minutes / 60"
   ]
  },
  {
   "cell_type": "markdown",
   "id": "3f224403",
   "metadata": {
    "id": "3f224403"
   },
   "source": [
    "But we don't normally write hours with decimal points.\n",
    "Integer division returns the integer number of hours, rounding down:"
   ]
  },
  {
   "cell_type": "code",
   "execution_count": 3,
   "id": "451e3198",
   "metadata": {
    "id": "451e3198"
   },
   "outputs": [
    {
     "data": {
      "text/plain": [
       "1"
      ]
     },
     "execution_count": 3,
     "metadata": {},
     "output_type": "execute_result"
    }
   ],
   "source": [
    "minutes = 105\n",
    "hours = minutes // 60\n",
    "hours"
   ]
  },
  {
   "cell_type": "markdown",
   "id": "bfa9b0cf",
   "metadata": {
    "id": "bfa9b0cf"
   },
   "source": [
    "To get the remainder, you could subtract off one hour in minutes:"
   ]
  },
  {
   "cell_type": "code",
   "execution_count": 4,
   "id": "64b92876",
   "metadata": {
    "id": "64b92876"
   },
   "outputs": [
    {
     "data": {
      "text/plain": [
       "45"
      ]
     },
     "execution_count": 4,
     "metadata": {},
     "output_type": "execute_result"
    }
   ],
   "source": [
    "remainder = minutes - hours * 60\n",
    "remainder"
   ]
  },
  {
   "cell_type": "markdown",
   "id": "05caf27f",
   "metadata": {
    "id": "05caf27f"
   },
   "source": [
    "Or you could use the **modulus operator**, `%`, which divides two numbers and returns the remainder."
   ]
  },
  {
   "cell_type": "code",
   "execution_count": 5,
   "id": "0a593844",
   "metadata": {
    "id": "0a593844"
   },
   "outputs": [
    {
     "data": {
      "text/plain": [
       "45"
      ]
     },
     "execution_count": 5,
     "metadata": {},
     "output_type": "execute_result"
    }
   ],
   "source": [
    "remainder = minutes % 60\n",
    "remainder"
   ]
  },
  {
   "cell_type": "markdown",
   "id": "18c1e0d0",
   "metadata": {
    "id": "18c1e0d0"
   },
   "source": [
    "The modulus operator is more useful than it might seem.\n",
    "For example, it can check whether one number is divisible by another -- if `x % y` is zero, then `x` is divisible by `y`.\n",
    "\n",
    "Also, it can extract the right-most digit or digits from a number.\n",
    "For example, `x % 10` yields the right-most digit of `x` (in base 10).\n",
    "Similarly, `x % 100` yields the last two digits."
   ]
  },
  {
   "cell_type": "code",
   "execution_count": 6,
   "id": "5bd341f7",
   "metadata": {
    "id": "5bd341f7"
   },
   "outputs": [
    {
     "data": {
      "text/plain": [
       "3"
      ]
     },
     "execution_count": 6,
     "metadata": {},
     "output_type": "execute_result"
    }
   ],
   "source": [
    "x = 123\n",
    "x % 10"
   ]
  },
  {
   "cell_type": "code",
   "execution_count": 7,
   "id": "367fce0c",
   "metadata": {
    "id": "367fce0c"
   },
   "outputs": [
    {
     "data": {
      "text/plain": [
       "23"
      ]
     },
     "execution_count": 7,
     "metadata": {},
     "output_type": "execute_result"
    }
   ],
   "source": [
    "x % 100"
   ]
  },
  {
   "cell_type": "markdown",
   "id": "f2344fc0",
   "metadata": {
    "id": "f2344fc0"
   },
   "source": [
    "Finally, the modulus operator can do \"clock arithmetic\".\n",
    "For example, if an event starts at 11 AM and lasts three hours, we can use the modulus operator to figure out what time it ends."
   ]
  },
  {
   "cell_type": "code",
   "execution_count": 8,
   "id": "db33a44d",
   "metadata": {
    "id": "db33a44d"
   },
   "outputs": [
    {
     "data": {
      "text/plain": [
       "2"
      ]
     },
     "execution_count": 8,
     "metadata": {},
     "output_type": "execute_result"
    }
   ],
   "source": [
    "start = 11\n",
    "duration = 3\n",
    "end = (start + duration) % 12\n",
    "end"
   ]
  },
  {
   "cell_type": "markdown",
   "id": "351c30df",
   "metadata": {
    "id": "351c30df"
   },
   "source": [
    "The event would end at 2 PM."
   ]
  },
  {
   "cell_type": "markdown",
   "id": "5ed1b58b",
   "metadata": {
    "id": "5ed1b58b"
   },
   "source": [
    "## Boolean Expressions\n",
    "\n",
    "A **boolean expression** is an expression that is either true or false.\n",
    "For example, the following expressions use the equals operator, `==`, which compares two values and produces `True` if they are equal and `False` otherwise:"
   ]
  },
  {
   "cell_type": "code",
   "execution_count": 9,
   "id": "85589d38",
   "metadata": {
    "id": "85589d38"
   },
   "outputs": [
    {
     "data": {
      "text/plain": [
       "True"
      ]
     },
     "execution_count": 9,
     "metadata": {},
     "output_type": "execute_result"
    }
   ],
   "source": [
    "5 == 5"
   ]
  },
  {
   "cell_type": "code",
   "execution_count": 10,
   "id": "3c9c8f61",
   "metadata": {
    "id": "3c9c8f61"
   },
   "outputs": [
    {
     "data": {
      "text/plain": [
       "False"
      ]
     },
     "execution_count": 10,
     "metadata": {},
     "output_type": "execute_result"
    }
   ],
   "source": [
    "5 == 7"
   ]
  },
  {
   "cell_type": "markdown",
   "id": "41fbc642",
   "metadata": {
    "id": "41fbc642"
   },
   "source": [
    "A common error is to use a single equal sign (`=`) instead of a double equal sign (`==`).\n",
    "Remember that `=` assigns a value to a variable and `==` compares two values."
   ]
  },
  {
   "cell_type": "code",
   "execution_count": 11,
   "id": "c0e51bcc",
   "metadata": {
    "id": "c0e51bcc"
   },
   "outputs": [],
   "source": [
    "x = 5\n",
    "y = 7"
   ]
  },
  {
   "cell_type": "code",
   "execution_count": 12,
   "id": "a6be44db",
   "metadata": {
    "id": "a6be44db"
   },
   "outputs": [
    {
     "data": {
      "text/plain": [
       "False"
      ]
     },
     "execution_count": 12,
     "metadata": {},
     "output_type": "execute_result"
    }
   ],
   "source": [
    "x == y"
   ]
  },
  {
   "cell_type": "markdown",
   "id": "d3ec6b48",
   "metadata": {
    "id": "d3ec6b48"
   },
   "source": [
    "`True` and `False` are special values that belong to the type `bool`;\n",
    "they are not strings:"
   ]
  },
  {
   "cell_type": "code",
   "execution_count": 13,
   "id": "90fb1c9c",
   "metadata": {
    "id": "90fb1c9c"
   },
   "outputs": [
    {
     "data": {
      "text/plain": [
       "bool"
      ]
     },
     "execution_count": 13,
     "metadata": {},
     "output_type": "execute_result"
    }
   ],
   "source": [
    "type(True)"
   ]
  },
  {
   "cell_type": "code",
   "execution_count": 14,
   "id": "c1cae572",
   "metadata": {
    "id": "c1cae572"
   },
   "outputs": [
    {
     "data": {
      "text/plain": [
       "bool"
      ]
     },
     "execution_count": 14,
     "metadata": {},
     "output_type": "execute_result"
    }
   ],
   "source": [
    "type(False)"
   ]
  },
  {
   "cell_type": "markdown",
   "id": "451b2e8d",
   "metadata": {
    "id": "451b2e8d"
   },
   "source": [
    "The `==` operator is one of the **relational operators**; the others are:"
   ]
  },
  {
   "cell_type": "code",
   "execution_count": 15,
   "id": "c901fe2b",
   "metadata": {
    "id": "c901fe2b"
   },
   "outputs": [
    {
     "data": {
      "text/plain": [
       "True"
      ]
     },
     "execution_count": 15,
     "metadata": {},
     "output_type": "execute_result"
    }
   ],
   "source": [
    "x != y               # x is not equal to y"
   ]
  },
  {
   "cell_type": "code",
   "execution_count": 16,
   "id": "1457949f",
   "metadata": {
    "id": "1457949f"
   },
   "outputs": [
    {
     "data": {
      "text/plain": [
       "False"
      ]
     },
     "execution_count": 16,
     "metadata": {},
     "output_type": "execute_result"
    }
   ],
   "source": [
    "x > y                # x is greater than y"
   ]
  },
  {
   "cell_type": "code",
   "execution_count": 17,
   "id": "56bb7eed",
   "metadata": {
    "id": "56bb7eed"
   },
   "outputs": [
    {
     "data": {
      "text/plain": [
       "True"
      ]
     },
     "execution_count": 17,
     "metadata": {},
     "output_type": "execute_result"
    }
   ],
   "source": [
    "x < y               # x is less than to y"
   ]
  },
  {
   "cell_type": "code",
   "execution_count": 18,
   "id": "1cdcc7ab",
   "metadata": {
    "id": "1cdcc7ab"
   },
   "outputs": [
    {
     "data": {
      "text/plain": [
       "False"
      ]
     },
     "execution_count": 18,
     "metadata": {},
     "output_type": "execute_result"
    }
   ],
   "source": [
    "x >= y               # x is greater than or equal to y"
   ]
  },
  {
   "cell_type": "code",
   "execution_count": 19,
   "id": "df1a1287",
   "metadata": {
    "id": "df1a1287"
   },
   "outputs": [
    {
     "data": {
      "text/plain": [
       "True"
      ]
     },
     "execution_count": 19,
     "metadata": {},
     "output_type": "execute_result"
    }
   ],
   "source": [
    "x <= y               # x is less than or equal to y"
   ]
  },
  {
   "cell_type": "markdown",
   "id": "db5a9477",
   "metadata": {
    "id": "db5a9477"
   },
   "source": [
    "## Logical operators\n",
    "\n",
    "To combine boolean values into expressions, we can use **logical operators**.\n",
    "The most common are `and`, ` or`, and `not`.\n",
    "The meaning of these operators is similar to their meaning in English.\n",
    "For example, the value of the following expression is `True` only if `x` is greater than `0` *and* less than `10`."
   ]
  },
  {
   "cell_type": "code",
   "execution_count": 20,
   "id": "848c5f2c",
   "metadata": {
    "id": "848c5f2c"
   },
   "outputs": [
    {
     "data": {
      "text/plain": [
       "True"
      ]
     },
     "execution_count": 20,
     "metadata": {},
     "output_type": "execute_result"
    }
   ],
   "source": [
    "x > 0 and x < 10"
   ]
  },
  {
   "cell_type": "markdown",
   "id": "e8c14026",
   "metadata": {
    "id": "e8c14026"
   },
   "source": [
    "The following expression is `True` if *either or both* of the conditions is true, that is, if the number is divisible by 2 *or* 3:"
   ]
  },
  {
   "cell_type": "code",
   "execution_count": 21,
   "id": "eb66ee6a",
   "metadata": {
    "id": "eb66ee6a"
   },
   "outputs": [
    {
     "data": {
      "text/plain": [
       "False"
      ]
     },
     "execution_count": 21,
     "metadata": {},
     "output_type": "execute_result"
    }
   ],
   "source": [
    "x % 2 == 0 or x % 3 == 0"
   ]
  },
  {
   "cell_type": "markdown",
   "id": "3bd0ef52",
   "metadata": {
    "id": "3bd0ef52"
   },
   "source": [
    "Finally, the `not` operator negates a boolean expression, so the following expression is `True` if `x > y` is `False`."
   ]
  },
  {
   "cell_type": "code",
   "execution_count": 22,
   "id": "6de8b97c",
   "metadata": {
    "id": "6de8b97c"
   },
   "outputs": [
    {
     "data": {
      "text/plain": [
       "True"
      ]
     },
     "execution_count": 22,
     "metadata": {},
     "output_type": "execute_result"
    }
   ],
   "source": [
    "not x > y"
   ]
  },
  {
   "cell_type": "markdown",
   "id": "fc6098c2",
   "metadata": {
    "id": "fc6098c2"
   },
   "source": [
    "Strictly speaking, the operands of a logical operator should be boolean expressions, but Python is not very strict.\n",
    "Any nonzero number is interpreted as `True`:"
   ]
  },
  {
   "cell_type": "code",
   "execution_count": 23,
   "id": "add63275",
   "metadata": {
    "id": "add63275"
   },
   "outputs": [
    {
     "data": {
      "text/plain": [
       "True"
      ]
     },
     "execution_count": 23,
     "metadata": {},
     "output_type": "execute_result"
    }
   ],
   "source": [
    "42 and True"
   ]
  },
  {
   "cell_type": "markdown",
   "id": "102ceab9",
   "metadata": {
    "id": "102ceab9"
   },
   "source": [
    "This flexibility can be useful, but there are some subtleties to it that can be confusing.\n",
    "You might want to avoid it."
   ]
  },
  {
   "cell_type": "markdown",
   "id": "6b0f2dc1",
   "metadata": {
    "id": "6b0f2dc1"
   },
   "source": [
    "## if statements\n",
    "\n",
    "In order to write useful programs, we almost always need the ability to\n",
    "check conditions and change the behavior of the program accordingly.\n",
    "**Conditional statements** give us this ability. The simplest form is\n",
    "the `if` statement:"
   ]
  },
  {
   "cell_type": "code",
   "execution_count": 24,
   "id": "80937bef",
   "metadata": {
    "id": "80937bef"
   },
   "outputs": [
    {
     "name": "stdout",
     "output_type": "stream",
     "text": [
      "x is positive\n"
     ]
    }
   ],
   "source": [
    "if x > 0:\n",
    "    print('x is positive')"
   ]
  },
  {
   "cell_type": "markdown",
   "id": "973f705e",
   "metadata": {
    "id": "973f705e"
   },
   "source": [
    "`if` is a Python keyword.\n",
    "`if` statements have the same structure as function definitions: a\n",
    "header followed by an indented statement or sequence of statements called a **block**.\n",
    "\n",
    "The boolean expression after `if` is called the **condition**.\n",
    "If it is true, the statements in the indented block run. If not, they don't.\n",
    "\n",
    "There is no limit to the number of statements that can appear in the block, but there has to be at least one.\n",
    "Occasionally, it is useful to have a block that does nothing -- usually as a place keeper for code you haven't written yet.\n",
    "In that case, you can use the `pass` statement, which does nothing."
   ]
  },
  {
   "cell_type": "code",
   "execution_count": 25,
   "id": "bc74a318",
   "metadata": {
    "id": "bc74a318"
   },
   "outputs": [],
   "source": [
    "if x < 0:\n",
    "    pass          # TODO: need to handle negative values!"
   ]
  },
  {
   "cell_type": "markdown",
   "id": "adf3f6c5",
   "metadata": {
    "id": "adf3f6c5"
   },
   "source": [
    "The word `TODO` in a comment is a conventional reminder that there's something you need to do later."
   ]
  },
  {
   "cell_type": "markdown",
   "id": "eb39bcd9",
   "metadata": {
    "id": "eb39bcd9"
   },
   "source": [
    "## The `else` clause\n",
    "\n",
    "An `if` statement can have a second part, called an `else` clause.\n",
    "The syntax looks like this:"
   ]
  },
  {
   "cell_type": "code",
   "execution_count": 26,
   "id": "d16f49f2",
   "metadata": {
    "id": "d16f49f2"
   },
   "outputs": [
    {
     "name": "stdout",
     "output_type": "stream",
     "text": [
      "x is odd\n"
     ]
    }
   ],
   "source": [
    "if x % 2 == 0:\n",
    "    print('x is even')\n",
    "else:\n",
    "    print('x is odd')"
   ]
  },
  {
   "cell_type": "markdown",
   "id": "e7dc8943",
   "metadata": {
    "id": "e7dc8943"
   },
   "source": [
    "If the condition is true, the first indented statement runs; otherwise, the second indented statement runs.\n",
    "\n",
    "In this example, if `x` is even, the remainder when `x` is divided by `2` is `0`, so the condition is true and the program displays `x is even`.\n",
    "If `x` is odd, the remainder is `1`, so the condition\n",
    "is false, and the program displays `x is odd`.\n",
    "\n",
    "Since the condition must be true or false, exactly one of the alternatives will run.\n",
    "The alternatives are called **branches**."
   ]
  },
  {
   "cell_type": "markdown",
   "id": "20c8adb6",
   "metadata": {
    "id": "20c8adb6"
   },
   "source": [
    "## Chained conditionals\n",
    "\n",
    "Sometimes there are more than two possibilities and we need more than two branches.\n",
    "One way to express a computation like that is a **chained conditional**, which includes an `elif` clause."
   ]
  },
  {
   "cell_type": "code",
   "execution_count": 27,
   "id": "309fccb8",
   "metadata": {
    "id": "309fccb8"
   },
   "outputs": [
    {
     "name": "stdout",
     "output_type": "stream",
     "text": [
      "x is less than y\n"
     ]
    }
   ],
   "source": [
    "if x < y:\n",
    "    print('x is less than y')\n",
    "elif x > y:\n",
    "    print('x is greater than y')\n",
    "else:\n",
    "    print('x and y are equal')"
   ]
  },
  {
   "cell_type": "markdown",
   "id": "46916379",
   "metadata": {
    "id": "46916379"
   },
   "source": [
    "`elif` is an abbreviation of \"else if\".\n",
    "There is no limit on the number of `elif` clauses.\n",
    "If there is an `else` clause, it has to be at the end, but there doesn't have to be\n",
    "one.\n",
    "\n",
    "Each condition is checked in order.\n",
    "If the first is false, the next is checked, and so on.\n",
    "If one of them is true, the corresponding branch runs and the `if` statement ends.\n",
    "Even if more than one condition is true, only the first true branch runs."
   ]
  },
  {
   "cell_type": "markdown",
   "id": "e0c0b9dd",
   "metadata": {
    "id": "e0c0b9dd"
   },
   "source": [
    "## Nested Conditionals\n",
    "\n",
    "One conditional can also be nested within another.\n",
    "We could have written the example in the previous section like this:"
   ]
  },
  {
   "cell_type": "code",
   "execution_count": 28,
   "id": "d77539cf",
   "metadata": {
    "id": "d77539cf"
   },
   "outputs": [
    {
     "name": "stdout",
     "output_type": "stream",
     "text": [
      "x is less than y\n"
     ]
    }
   ],
   "source": [
    "if x == y:\n",
    "    print('x and y are equal')\n",
    "else:\n",
    "    if x < y:\n",
    "        print('x is less than y')\n",
    "    else:\n",
    "        print('x is greater than y')"
   ]
  },
  {
   "cell_type": "markdown",
   "id": "29f67a0a",
   "metadata": {
    "id": "29f67a0a"
   },
   "source": [
    "The outer `if` statement contains two branches.\n",
    "The first branch contains a simple statement. The second branch contains another `if` statement, which has two branches of its own.\n",
    "Those two branches are both simple statements, although they could have been conditional statements as well.\n",
    "\n",
    "Although the indentation of the statements makes the structure apparent, **nested conditionals** can be difficult to read.\n",
    "I suggest you avoid them when you can.\n",
    "\n",
    "Logical operators often provide a way to simplify nested conditional statements.\n",
    "Here's an example with a nested conditional."
   ]
  },
  {
   "cell_type": "code",
   "execution_count": 29,
   "id": "91cac1a0",
   "metadata": {
    "id": "91cac1a0"
   },
   "outputs": [
    {
     "name": "stdout",
     "output_type": "stream",
     "text": [
      "x is a positive single-digit number.\n"
     ]
    }
   ],
   "source": [
    "if 0 < x:\n",
    "    if x < 10:\n",
    "        print('x is a positive single-digit number.')"
   ]
  },
  {
   "cell_type": "markdown",
   "id": "5292eb11",
   "metadata": {
    "id": "5292eb11"
   },
   "source": [
    "The `print` statement runs only if we make it past both conditionals, so we get the same effect with the `and` operator."
   ]
  },
  {
   "cell_type": "code",
   "execution_count": 30,
   "id": "f8ba1724",
   "metadata": {
    "id": "f8ba1724"
   },
   "outputs": [
    {
     "name": "stdout",
     "output_type": "stream",
     "text": [
      "x is a positive single-digit number.\n"
     ]
    }
   ],
   "source": [
    "if 0 < x and x < 10:\n",
    "    print('x is a positive single-digit number.')"
   ]
  },
  {
   "cell_type": "markdown",
   "id": "dd8e808a",
   "metadata": {
    "id": "dd8e808a"
   },
   "source": [
    "For this kind of condition, Python provides a more concise option:"
   ]
  },
  {
   "cell_type": "code",
   "execution_count": 31,
   "id": "014cd6f4",
   "metadata": {
    "id": "014cd6f4"
   },
   "outputs": [
    {
     "name": "stdout",
     "output_type": "stream",
     "text": [
      "x is a positive single-digit number.\n"
     ]
    }
   ],
   "source": [
    "if 0 < x < 10:\n",
    "    print('x is a positive single-digit number.')"
   ]
  },
  {
   "cell_type": "markdown",
   "id": "db583cd9",
   "metadata": {
    "id": "db583cd9"
   },
   "source": [
    "## Recursion\n",
    "\n",
    "It is legal for a function to call itself.\n",
    "It may not be obvious why that is a good thing, but it turns out to be one of the most magical things a program can do.\n",
    "Here's an example."
   ]
  },
  {
   "cell_type": "code",
   "execution_count": 32,
   "id": "17904e98",
   "metadata": {
    "id": "17904e98"
   },
   "outputs": [],
   "source": [
    "def countdown(n):\n",
    "    if n <= 0:\n",
    "        print('Blastoff!')\n",
    "    else:\n",
    "        print(n)\n",
    "        countdown(n-1)"
   ]
  },
  {
   "cell_type": "markdown",
   "id": "c88e0dc7",
   "metadata": {
    "id": "c88e0dc7"
   },
   "source": [
    "If `n` is 0 or negative, `countdown` outputs the word, \"Blastoff!\" Otherwise, it\n",
    "outputs `n` and then calls itself, passing `n-1` as an argument.\n",
    "\n",
    "Here's what happens when we call this function with the argument `3`."
   ]
  },
  {
   "cell_type": "code",
   "execution_count": 33,
   "id": "6c1e32e2",
   "metadata": {
    "id": "6c1e32e2"
   },
   "outputs": [
    {
     "name": "stdout",
     "output_type": "stream",
     "text": [
      "3\n",
      "2\n",
      "1\n",
      "Blastoff!\n"
     ]
    }
   ],
   "source": [
    "countdown(3)"
   ]
  },
  {
   "cell_type": "markdown",
   "id": "3f3c87ec",
   "metadata": {
    "id": "3f3c87ec"
   },
   "source": [
    "The execution of `countdown` begins with `n=3`, and since `n` is greater\n",
    "than `0`, it displays `3`, and then calls itself\\...\n",
    "\n",
    "> The execution of `countdown` begins with `n=2`, and since `n` is\n",
    "> greater than `0`, it displays `2`, and then calls itself\\...\n",
    ">\n",
    "> > The execution of `countdown` begins with `n=1`, and since `n` is\n",
    "> > greater than `0`, it displays `1`, and then calls itself\\...\n",
    "> >\n",
    "> > > The execution of `countdown` begins with `n=0`, and since `n` is\n",
    "> > > not greater than `0`, it displays \"Blastoff!\" and returns.\n",
    "> >\n",
    "> > The `countdown` that got `n=1` returns.\n",
    ">\n",
    "> The `countdown` that got `n=2` returns.\n",
    "\n",
    "The `countdown` that got `n=3` returns."
   ]
  },
  {
   "cell_type": "markdown",
   "id": "782e95bb",
   "metadata": {
    "id": "782e95bb"
   },
   "source": [
    "A function that calls itself is **recursive**.\n",
    "As another example, we can write a function that prints a string `n` times."
   ]
  },
  {
   "cell_type": "code",
   "execution_count": 34,
   "id": "1bb13f8e",
   "metadata": {
    "id": "1bb13f8e"
   },
   "outputs": [],
   "source": [
    "def print_n_times(string, n):\n",
    "    if n > 0:\n",
    "        print(string)\n",
    "        print_n_times(string, n-1)"
   ]
  },
  {
   "cell_type": "markdown",
   "id": "73d07c17",
   "metadata": {
    "id": "73d07c17"
   },
   "source": [
    "If `n` is positive, `print_n_times` displays the value of `string` and then calls itself, passing along `string` and `n-1` as arguments.\n",
    "\n",
    "If `n` is `0` or negative, the condition is false and `print_n_times` does nothing.\n",
    "\n",
    "Here's how it works."
   ]
  },
  {
   "cell_type": "code",
   "execution_count": 35,
   "id": "e7b68c57",
   "metadata": {
    "id": "e7b68c57"
   },
   "outputs": [
    {
     "name": "stdout",
     "output_type": "stream",
     "text": [
      "Spam \n",
      "Spam \n",
      "Spam \n",
      "Spam \n"
     ]
    }
   ],
   "source": [
    "print_n_times('Spam ', 4)"
   ]
  },
  {
   "cell_type": "markdown",
   "id": "1fb55a78",
   "metadata": {
    "id": "1fb55a78"
   },
   "source": [
    "For simple examples like this, it is probably easier to use a `for`\n",
    "loop. But we will see examples later that are hard to write with a `for`\n",
    "loop and easy to write with recursion, so it is good to start early."
   ]
  },
  {
   "cell_type": "markdown",
   "id": "c652c739",
   "metadata": {
    "id": "c652c739"
   },
   "source": [
    "## Stack diagrams for recursive functions\n",
    "\n",
    "Here's a stack diagram that shows the frames created when we called `countdown` with `n = 3`."
   ]
  },
  {
   "cell_type": "code",
   "execution_count": 36,
   "id": "643148da",
   "metadata": {
    "id": "643148da",
    "tags": []
   },
   "outputs": [],
   "source": [
    "from diagram import make_frame, Stack\n",
    "\n",
    "frames = []\n",
    "for n in [3,2,1,0]:\n",
    "    d = dict(n=n)\n",
    "    frame = make_frame(d, name='countdown', dy=-0.3, loc='left')\n",
    "    frames.append(frame)\n",
    "\n",
    "stack = Stack(frames, dy=-0.5)"
   ]
  },
  {
   "cell_type": "code",
   "execution_count": 37,
   "id": "a8510119",
   "metadata": {
    "id": "a8510119",
    "tags": []
   },
   "outputs": [
    {
     "data": {
      "image/png": "[encoded data removed]",
      "text/plain": [
       "<Figure size 174x204 with 1 Axes>"
      ]
     },
     "metadata": {},
     "output_type": "display_data"
    }
   ],
   "source": [
    "from diagram import diagram, adjust\n",
    "\n",
    "\n",
    "width, height, x, y = [1.74, 2.04, 1.05, 1.77]\n",
    "ax = diagram(width, height)\n",
    "bbox = stack.draw(ax, x, y)\n",
    "# adjust(x, y, bbox)"
   ]
  },
  {
   "cell_type": "markdown",
   "id": "9282331b",
   "metadata": {
    "id": "9282331b"
   },
   "source": [
    "The four `countdown` frames have different values for the parameter `n`.\n",
    "The bottom of the stack, where `n=0`, is called the **base case**.\n",
    "It does not make a recursive call, so there are no more frames."
   ]
  },
  {
   "cell_type": "code",
   "execution_count": 38,
   "id": "a2a376b3",
   "metadata": {
    "id": "a2a376b3",
    "tags": []
   },
   "outputs": [
    {
     "data": {
      "image/png": "[encoded data removed]",
      "text/plain": [
       "<Figure size 353x154 with 1 Axes>"
      ]
     },
     "metadata": {},
     "output_type": "display_data"
    }
   ],
   "source": [
    "from diagram import make_frame, Stack\n",
    "from diagram import diagram, adjust\n",
    "\n",
    "frames = []\n",
    "for n in [2,1,0]:\n",
    "    d = dict(string='Hello', n=n)\n",
    "    frame = make_frame(d, name='print_n_times', dx=1.3, loc='left')\n",
    "    frames.append(frame)\n",
    "\n",
    "stack = Stack(frames, dy=-0.5)\n",
    "\n",
    "width, height, x, y = [3.53, 1.54, 1.54, 1.27]\n",
    "ax = diagram(width, height)\n",
    "bbox = stack.draw(ax, x, y)\n",
    "# adjust(x, y, bbox)"
   ]
  },
  {
   "cell_type": "markdown",
   "id": "37bbc2b8",
   "metadata": {
    "id": "37bbc2b8"
   },
   "source": [
    "## Infinite recursion\n",
    "\n",
    "If a recursion never reaches a base case, it goes on making recursive\n",
    "calls forever, and the program never terminates. This is known as\n",
    "**infinite recursion**, and it is generally not a good idea.\n",
    "Here's a minimal function with an infinite recursion."
   ]
  },
  {
   "cell_type": "code",
   "execution_count": 39,
   "id": "af487feb",
   "metadata": {
    "id": "af487feb"
   },
   "outputs": [],
   "source": [
    "def recurse():\n",
    "    recurse()"
   ]
  },
  {
   "cell_type": "markdown",
   "id": "450a20ac",
   "metadata": {
    "id": "450a20ac"
   },
   "source": [
    "Every time `recurse` is called, it calls itself, which creates another frame.\n",
    "In Python, there is a limit to the number of frames that can be on the stack at the same time.\n",
    "If a program exceeds the limit, it causes a runtime error."
   ]
  },
  {
   "cell_type": "code",
   "execution_count": 40,
   "id": "e5d6c732",
   "metadata": {
    "id": "e5d6c732",
    "tags": []
   },
   "outputs": [
    {
     "name": "stdout",
     "output_type": "stream",
     "text": [
      "Exception reporting mode: Context\n"
     ]
    }
   ],
   "source": [
    "%xmode Context"
   ]
  },
  {
   "cell_type": "code",
   "execution_count": 41,
   "id": "22454b51",
   "metadata": {
    "id": "22454b51",
    "tags": []
   },
   "outputs": [
    {
     "ename": "RecursionError",
     "evalue": "maximum recursion depth exceeded",
     "output_type": "error",
     "traceback": [
      "\u001b[0;31m---------------------------------------------------------------------------\u001b[0m",
      "\u001b[0;31mRecursionError\u001b[0m                            Traceback (most recent call last)",
      "Cell \u001b[0;32mIn[41], line 1\u001b[0m\n\u001b[0;32m----> 1\u001b[0m \u001b[43mrecurse\u001b[49m\u001b[43m(\u001b[49m\u001b[43m)\u001b[49m\n",
      "Cell \u001b[0;32mIn[39], line 2\u001b[0m, in \u001b[0;36mrecurse\u001b[0;34m()\u001b[0m\n\u001b[1;32m      1\u001b[0m \u001b[38;5;28;01mdef\u001b[39;00m \u001b[38;5;21mrecurse\u001b[39m():\n\u001b[0;32m----> 2\u001b[0m     \u001b[43mrecurse\u001b[49m\u001b[43m(\u001b[49m\u001b[43m)\u001b[49m\n",
      "Cell \u001b[0;32mIn[39], line 2\u001b[0m, in \u001b[0;36mrecurse\u001b[0;34m()\u001b[0m\n\u001b[1;32m      1\u001b[0m \u001b[38;5;28;01mdef\u001b[39;00m \u001b[38;5;21mrecurse\u001b[39m():\n\u001b[0;32m----> 2\u001b[0m     \u001b[43mrecurse\u001b[49m\u001b[43m(\u001b[49m\u001b[43m)\u001b[49m\n",
      "    \u001b[0;31m[... skipping similar frames: recurse at line 2 (2957 times)]\u001b[0m\n",
      "Cell \u001b[0;32mIn[39], line 2\u001b[0m, in \u001b[0;36mrecurse\u001b[0;34m()\u001b[0m\n\u001b[1;32m      1\u001b[0m \u001b[38;5;28;01mdef\u001b[39;00m \u001b[38;5;21mrecurse\u001b[39m():\n\u001b[0;32m----> 2\u001b[0m     \u001b[43mrecurse\u001b[49m\u001b[43m(\u001b[49m\u001b[43m)\u001b[49m\n",
      "\u001b[0;31mRecursionError\u001b[0m: maximum recursion depth exceeded"
     ]
    }
   ],
   "source": [
    "%%expect RecursionError\n",
    "\n",
    "recurse()"
   ]
  },
  {
   "cell_type": "markdown",
   "id": "39fc5c31",
   "metadata": {
    "id": "39fc5c31"
   },
   "source": [
    "The traceback indicates that there were almost 3000 frames on the stack when the error occurred.\n",
    "\n",
    "If you encounter an infinite recursion by accident, review your function to confirm that there is a base case that does not make a recursive call. And if there is a base case, check whether you are guaranteed to reach it."
   ]
  },
  {
   "cell_type": "markdown",
   "id": "45299414",
   "metadata": {
    "id": "45299414"
   },
   "source": [
    "## Keyboard input\n",
    "\n",
    "The programs we have written so far accept no input from the user. They\n",
    "just do the same thing every time.\n",
    "\n",
    "Python provides a built-in function called `input` that stops the\n",
    "program and waits for the user to type something. When the user presses\n",
    "*Return* or *Enter*, the program resumes and `input` returns what the user\n",
    "typed as a string."
   ]
  },
  {
   "cell_type": "code",
   "execution_count": 42,
   "id": "ac0fb4a6",
   "metadata": {
    "id": "ac0fb4a6",
    "tags": []
   },
   "outputs": [],
   "source": [
    "# Solution goes here\n",
    "# NOT SURE WHAT THIS BLOCK IS FOR...??"
   ]
  },
  {
   "cell_type": "code",
   "execution_count": 43,
   "id": "f6a2e4d6",
   "metadata": {
    "id": "f6a2e4d6"
   },
   "outputs": [
    {
     "name": "stdin",
     "output_type": "stream",
     "text": [
      " Hiya THere!\n"
     ]
    }
   ],
   "source": [
    "text = input()"
   ]
  },
  {
   "cell_type": "markdown",
   "id": "acf9ec53",
   "metadata": {
    "id": "acf9ec53"
   },
   "source": [
    "Before getting input from the user, you might want to display a prompt\n",
    "telling the user what to type. `input` can take a prompt as an argument:"
   ]
  },
  {
   "cell_type": "code",
   "execution_count": 44,
   "id": "e0600e5e",
   "metadata": {
    "id": "e0600e5e",
    "tags": []
   },
   "outputs": [],
   "source": [
    "# Solution goes here"
   ]
  },
  {
   "cell_type": "code",
   "execution_count": 45,
   "id": "964346f0",
   "metadata": {
    "id": "964346f0"
   },
   "outputs": [
    {
     "name": "stdin",
     "output_type": "stream",
     "text": [
      "What...is your name?\n",
      " General CHeese\n"
     ]
    },
    {
     "data": {
      "text/plain": [
       "'General CHeese'"
      ]
     },
     "execution_count": 45,
     "metadata": {},
     "output_type": "execute_result"
    }
   ],
   "source": [
    "name = input('What...is your name?\\n')\n",
    "name"
   ]
  },
  {
   "cell_type": "markdown",
   "id": "1b754b39",
   "metadata": {
    "id": "1b754b39"
   },
   "source": [
    "The sequence `\\n` at the end of the prompt represents a **newline**, which is a special character that causes a line break -- that way the user's input appears below the prompt.\n",
    "\n",
    "If you expect the user to type an integer, you can use the `int` function to convert the return value to `int`."
   ]
  },
  {
   "cell_type": "code",
   "execution_count": 46,
   "id": "590983cd",
   "metadata": {
    "id": "590983cd",
    "tags": []
   },
   "outputs": [],
   "source": [
    "# Solution goes here"
   ]
  },
  {
   "cell_type": "code",
   "execution_count": 47,
   "id": "60a484d7",
   "metadata": {
    "id": "60a484d7"
   },
   "outputs": [
    {
     "name": "stdin",
     "output_type": "stream",
     "text": [
      "What...is the airspeed velocity of an unladen swallow?\n",
      " 2000000\n"
     ]
    },
    {
     "data": {
      "text/plain": [
       "'2000000'"
      ]
     },
     "execution_count": 47,
     "metadata": {},
     "output_type": "execute_result"
    }
   ],
   "source": [
    "prompt = 'What...is the airspeed velocity of an unladen swallow?\\n'\n",
    "speed = input(prompt)\n",
    "speed"
   ]
  },
  {
   "cell_type": "markdown",
   "id": "0a65f2af",
   "metadata": {
    "id": "0a65f2af"
   },
   "source": [
    "But if they type something that's not an integer, you'll get a runtime error."
   ]
  },
  {
   "cell_type": "code",
   "execution_count": 48,
   "id": "8d3d6049",
   "metadata": {
    "id": "8d3d6049",
    "tags": []
   },
   "outputs": [
    {
     "name": "stdout",
     "output_type": "stream",
     "text": [
      "Exception reporting mode: Minimal\n"
     ]
    }
   ],
   "source": [
    "%xmode Minimal"
   ]
  },
  {
   "cell_type": "code",
   "execution_count": 49,
   "id": "a04e3016",
   "metadata": {
    "id": "a04e3016",
    "tags": []
   },
   "outputs": [
    {
     "data": {
      "text/plain": [
       "2000000"
      ]
     },
     "execution_count": 49,
     "metadata": {},
     "output_type": "execute_result"
    }
   ],
   "source": [
    "%%expect ValueError\n",
    "\n",
    "int(speed)"
   ]
  },
  {
   "cell_type": "markdown",
   "id": "a4ce3ed5",
   "metadata": {
    "id": "a4ce3ed5"
   },
   "source": [
    "We will see how to handle this kind of error later."
   ]
  },
  {
   "cell_type": "markdown",
   "id": "14c1d3dc",
   "metadata": {
    "id": "14c1d3dc"
   },
   "source": [
    "## Debugging\n",
    "\n",
    "When a syntax or runtime error occurs, the error message contains a lot\n",
    "of information, but it can be overwhelming. The most useful parts are\n",
    "usually:\n",
    "\n",
    "-   What kind of error it was, and\n",
    "\n",
    "-   Where it occurred.\n",
    "\n",
    "Syntax errors are usually easy to find, but there are a few gotchas.\n",
    "Errors related to spaces and tabs can be tricky because they are invisible\n",
    "and we are used to ignoring them."
   ]
  },
  {
   "cell_type": "code",
   "execution_count": 50,
   "id": "b82642f6",
   "metadata": {
    "id": "b82642f6",
    "tags": []
   },
   "outputs": [
    {
     "ename": "IndentationError",
     "evalue": "unexpected indent (2365500740.py, line 2)",
     "output_type": "error",
     "traceback": [
      "\u001b[0;36m  Cell \u001b[0;32mIn[50], line 2\u001b[0;36m\u001b[0m\n\u001b[0;31m    y = 6\u001b[0m\n\u001b[0m    ^\u001b[0m\n\u001b[0;31mIndentationError\u001b[0m\u001b[0;31m:\u001b[0m unexpected indent\n"
     ]
    }
   ],
   "source": [
    "%%expect IndentationError\n",
    "x = 5\n",
    " y = 6"
   ]
  },
  {
   "cell_type": "markdown",
   "id": "d1d06263",
   "metadata": {
    "id": "d1d06263"
   },
   "source": [
    "In this example, the problem is that the second line is indented by one space.\n",
    "But the error message points to `y`, which is misleading.\n",
    "Error messages indicate where the problem was discovered, but the actual error might be earlier in the code.\n",
    "\n",
    "The same is true of runtime errors.\n",
    "For example, suppose you are trying to convert a ratio to decibels, like this:"
   ]
  },
  {
   "cell_type": "code",
   "execution_count": 51,
   "id": "583ef53c",
   "metadata": {
    "id": "583ef53c",
    "tags": []
   },
   "outputs": [
    {
     "name": "stdout",
     "output_type": "stream",
     "text": [
      "Exception reporting mode: Context\n"
     ]
    }
   ],
   "source": [
    "%xmode Context"
   ]
  },
  {
   "cell_type": "code",
   "execution_count": 52,
   "id": "2f4b6082",
   "metadata": {
    "id": "2f4b6082",
    "tags": []
   },
   "outputs": [
    {
     "ename": "ValueError",
     "evalue": "math domain error",
     "output_type": "error",
     "traceback": [
      "\u001b[0;31m---------------------------------------------------------------------------\u001b[0m",
      "\u001b[0;31mValueError\u001b[0m                                Traceback (most recent call last)",
      "Cell \u001b[0;32mIn[52], line 5\u001b[0m\n\u001b[1;32m      3\u001b[0m denominator \u001b[38;5;241m=\u001b[39m \u001b[38;5;241m10\u001b[39m\n\u001b[1;32m      4\u001b[0m ratio \u001b[38;5;241m=\u001b[39m numerator \u001b[38;5;241m/\u001b[39m\u001b[38;5;241m/\u001b[39m denominator\n\u001b[0;32m----> 5\u001b[0m decibels \u001b[38;5;241m=\u001b[39m \u001b[38;5;241m10\u001b[39m \u001b[38;5;241m*\u001b[39m \u001b[43mmath\u001b[49m\u001b[38;5;241;43m.\u001b[39;49m\u001b[43mlog10\u001b[49m\u001b[43m(\u001b[49m\u001b[43mratio\u001b[49m\u001b[43m)\u001b[49m\n",
      "\u001b[0;31mValueError\u001b[0m: math domain error"
     ]
    }
   ],
   "source": [
    "%%expect ValueError\n",
    "import math\n",
    "numerator = 9\n",
    "denominator = 10\n",
    "ratio = numerator // denominator\n",
    "decibels = 10 * math.log10(ratio)"
   ]
  },
  {
   "cell_type": "markdown",
   "id": "55914374",
   "metadata": {
    "id": "55914374"
   },
   "source": [
    "The error message indicates line 5, but there is nothing wrong with that line.\n",
    "The problem is in line 4, which uses integer division instead of floating-point division -- as a result, the value of `ratio` is `0`.\n",
    "When we call `math.log10`, we get a `ValueError` with the message `math domain error`, because `0` is not in the \"domain\" of valid arguments for `math.log10`, because the logarithm of `0` is undefined.\n",
    "\n",
    "In general, you should take the time to read error messages carefully, but don't assume that everything they say is correct."
   ]
  },
  {
   "cell_type": "markdown",
   "id": "8ffe690e",
   "metadata": {
    "id": "8ffe690e"
   },
   "source": [
    "## Glossary\n",
    "\n",
    "**recursion:**\n",
    "The process of calling the function that is currently executing.\n",
    "\n",
    "**modulus operator:**\n",
    "An operator, `%`, that works on integers and returns the remainder when one number is divided by another.\n",
    "\n",
    "**boolean expression:**\n",
    "An expression whose value is either `True` or `False`.\n",
    "\n",
    "**relational operator:**\n",
    "One of the operators that compares its operands: `==`, `!=`, `>`, `<`, `>=`, and `<=`.\n",
    "\n",
    "**logical operator:**\n",
    "One of the operators that combines boolean expressions, including `and`, `or`, and `not`.\n",
    "\n",
    "**conditional statement:**\n",
    "A statement that controls the flow of execution depending on some condition.\n",
    "\n",
    "**condition:**\n",
    "The boolean expression in a conditional statement that determines which branch runs.\n",
    "\n",
    "**block:**\n",
    "One or more statements indented to indicate they are part of another statement.\n",
    "\n",
    "**branch:**\n",
    "One of the alternative sequences of statements in a conditional statement.\n",
    "\n",
    "**chained conditional:**\n",
    "A conditional statement with a series of alternative branches.\n",
    "\n",
    "**nested conditional:**\n",
    "A conditional statement that appears in one of the branches of another conditional statement.\n",
    "\n",
    "**recursive:**\n",
    "A function that calls itself is recursive.\n",
    "\n",
    "**base case:**\n",
    "A conditional branch in a recursive function that does not make a recursive call.\n",
    "\n",
    "**infinite recursion:**\n",
    "A recursion that doesn't have a base case, or never reaches it.\n",
    "Eventually, an infinite recursion causes a runtime error.\n",
    "\n",
    "**newline:**\n",
    "A character that creates a line break between two parts of a string."
   ]
  },
  {
   "cell_type": "markdown",
   "id": "8d783953",
   "metadata": {
    "id": "8d783953"
   },
   "source": [
    "## Exercises"
   ]
  },
  {
   "cell_type": "code",
   "execution_count": 53,
   "id": "66aae3cb",
   "metadata": {
    "id": "66aae3cb",
    "tags": []
   },
   "outputs": [
    {
     "name": "stdout",
     "output_type": "stream",
     "text": [
      "Exception reporting mode: Verbose\n"
     ]
    }
   ],
   "source": [
    "# This cell tells Jupyter to provide detailed debugging information\n",
    "# when a runtime error occurs. Run it before working on the exercises.\n",
    "\n",
    "%xmode Verbose"
   ]
  },
  {
   "cell_type": "markdown",
   "id": "02f9f1d7",
   "metadata": {
    "id": "02f9f1d7"
   },
   "source": [
    "### 5.14.1 Ask a virtual assistant\n",
    "\n",
    "* Ask a virtual assistant, \"What are some uses of the modulus operator?\"\n",
    "\n",
    "* Python provides operators to compute the logical operations `and`, `or`, and `not`, but it doesn't have an operator that computes the exclusive `or` operation, usually written `xor`. Ask an assistant \"What is the logical xor operation and how do I compute it in Python?\"\n",
    "\n",
    "In this chapter, we saw two ways to write an `if` statement with three branches, using a chained conditional or a nested conditional.\n",
    "You can use a virtual assistant to convert from one to the other.\n",
    "For example, ask a VA, \"Convert this statement to a chained conditional.\""
   ]
  },
  {
   "cell_type": "markdown",
   "id": "e7f36978-bfd7-4b4f-9536-d1f528eba769",
   "metadata": {},
   "source": [
    "In Python, you can compute the logical XOR operation using the bitwise XOR operator ^. Here's an example:\n"
   ]
  },
  {
   "cell_type": "code",
   "execution_count": 57,
   "id": "1d38e25c-eed3-4387-97ec-c5e3156e9010",
   "metadata": {},
   "outputs": [
    {
     "name": "stdout",
     "output_type": "stream",
     "text": [
      "True\n"
     ]
    }
   ],
   "source": [
    "a = True\n",
    "b = False\n",
    "result = a ^ b\n",
    "print(result)  # Output: True"
   ]
  },
  {
   "cell_type": "markdown",
   "id": "f534cff3-aa1f-4113-b0b9-023067d2bdac",
   "metadata": {},
   "source": [
    "### Continuing..."
   ]
  },
  {
   "cell_type": "code",
   "execution_count": 55,
   "id": "ade1ecb4",
   "metadata": {
    "id": "ade1ecb4",
    "tags": []
   },
   "outputs": [],
   "source": [
    "x = 5\n",
    "y = 7"
   ]
  },
  {
   "cell_type": "code",
   "execution_count": 56,
   "id": "dc7026c2",
   "metadata": {
    "id": "dc7026c2"
   },
   "outputs": [
    {
     "name": "stdout",
     "output_type": "stream",
     "text": [
      "x is less than y\n"
     ]
    }
   ],
   "source": [
    "if x == y:\n",
    "    print('x and y are equal')\n",
    "else:\n",
    "    if x < y:\n",
    "        print('x is less than y')\n",
    "    else:\n",
    "        print('x is greater than y')"
   ]
  },
  {
   "cell_type": "code",
   "execution_count": 59,
   "id": "395e7f07-1966-44ff-9b93-d831bba2e8d6",
   "metadata": {},
   "outputs": [],
   "source": [
    "#### Chained conditional by Gemini"
   ]
  },
  {
   "cell_type": "code",
   "execution_count": 58,
   "id": "2d01d590-d2be-48d3-8b52-d70e0caf6fb3",
   "metadata": {},
   "outputs": [
    {
     "name": "stdout",
     "output_type": "stream",
     "text": [
      "x is less than y\n"
     ]
    }
   ],
   "source": [
    "if x == y:\n",
    "    print('x and y are equal')\n",
    "elif x < y:\n",
    "    print('x is less than y')\n",
    "else:\n",
    "    print('x is greater than y')"
   ]
  },
  {
   "cell_type": "markdown",
   "id": "9c2a8466",
   "metadata": {
    "id": "9c2a8466"
   },
   "source": [
    "Ask a VA, \"Rewrite this statement with a single conditional.\""
   ]
  },
  {
   "cell_type": "code",
   "execution_count": 60,
   "id": "1fd919ea",
   "metadata": {
    "id": "1fd919ea"
   },
   "outputs": [
    {
     "name": "stdout",
     "output_type": "stream",
     "text": [
      "x is a positive single-digit number.\n"
     ]
    }
   ],
   "source": [
    "if 0 < x:\n",
    "    if x < 10:\n",
    "        print('x is a positive single-digit number.')"
   ]
  },
  {
   "cell_type": "markdown",
   "id": "0a237538-123c-461c-9e0e-5881403b52ae",
   "metadata": {},
   "source": [
    "#### This is not really a single conditional... it's a compound condition..  with two!"
   ]
  },
  {
   "cell_type": "code",
   "execution_count": 61,
   "id": "8d85d828-d65e-4a4e-8961-90b86c3e7b95",
   "metadata": {},
   "outputs": [
    {
     "name": "stdout",
     "output_type": "stream",
     "text": [
      "x is a positive single-digit number.\n"
     ]
    }
   ],
   "source": [
    "if 0 < x < 10:\n",
    "    print('x is a positive single-digit number.')"
   ]
  },
  {
   "cell_type": "markdown",
   "id": "e0fbed08",
   "metadata": {
    "id": "e0fbed08"
   },
   "source": [
    "See if a VA can simplify this unnecessary complexity."
   ]
  },
  {
   "cell_type": "code",
   "execution_count": 64,
   "id": "1e71702e",
   "metadata": {
    "id": "1e71702e"
   },
   "outputs": [
    {
     "name": "stdout",
     "output_type": "stream",
     "text": [
      "x is a positive single-digit number.\n"
     ]
    }
   ],
   "source": [
    "if not x <= 0 and not x >= 10:\n",
    "    print('x is a positive single-digit number.')"
   ]
  },
  {
   "cell_type": "markdown",
   "id": "e60bbd28-5d6e-4882-86ad-f64a50779ea8",
   "metadata": {},
   "source": [
    "####  Simplifies to the same as above..."
   ]
  },
  {
   "cell_type": "markdown",
   "id": "74ef776d",
   "metadata": {
    "id": "74ef776d"
   },
   "source": [
    "Here's an attempt at a recursive function that counts down by two."
   ]
  },
  {
   "cell_type": "code",
   "execution_count": 65,
   "id": "84cbd5a4",
   "metadata": {
    "id": "84cbd5a4"
   },
   "outputs": [],
   "source": [
    "def countdown_by_two(n):\n",
    "    if n == 0:\n",
    "        print('Blastoff!')\n",
    "    else:\n",
    "        print(n)\n",
    "        countdown_by_two(n-2)"
   ]
  },
  {
   "cell_type": "markdown",
   "id": "77178e79",
   "metadata": {
    "id": "77178e79"
   },
   "source": [
    "It seems to work."
   ]
  },
  {
   "cell_type": "code",
   "execution_count": 66,
   "id": "b0918789",
   "metadata": {
    "id": "b0918789"
   },
   "outputs": [
    {
     "name": "stdout",
     "output_type": "stream",
     "text": [
      "6\n",
      "4\n",
      "2\n",
      "Blastoff!\n"
     ]
    }
   ],
   "source": [
    "countdown_by_two(6)"
   ]
  },
  {
   "cell_type": "markdown",
   "id": "c9d3a8dc",
   "metadata": {
    "id": "c9d3a8dc"
   },
   "source": [
    "But it has an error. Ask a virtual assistant what's wrong and how to fix it.\n",
    "Paste the solution it provides back here and test it."
   ]
  },
  {
   "cell_type": "markdown",
   "id": "1c018945-be38-422e-9015-d13f971ada5d",
   "metadata": {},
   "source": [
    "#### Gemini:\n",
    "\n",
    "**The primary issue with the provided recursive function is the lack of a base case for negative numbers.**\n",
    "\n",
    "Here's a breakdown of the problem:\n",
    "\n",
    "1. **Correctness for positive numbers:** The function works as expected for positive numbers, counting down by two until it reaches 0 and prints \"Blastoff!\".\n",
    "2. **Incorrectness for negative numbers:** However, when `n` is negative, the function will continue to call itself recursively, subtracting 2 in each call. This creates an infinite loop, leading to a `RecursionError` or potentially crashing the program.\n",
    "\n",
    "**To fix this, we need to add a condition to check if `n` is negative before the recursive call:**\n",
    "\n",
    "This modified version ensures that the recursion stops when `n` becomes negative, preventing an infinite loop and providing a more robust and correct implementation.\n"
   ]
  },
  {
   "cell_type": "code",
   "execution_count": 68,
   "id": "18743ebd-7962-418b-9e4f-50916e066363",
   "metadata": {},
   "outputs": [],
   "source": [
    "def countdown_by_two(n):\n",
    "    if n >= 0:  # Check if n is non-negative\n",
    "        if n == 0:\n",
    "            print('Blastoff!')\n",
    "        else:\n",
    "            print(n)\n",
    "            countdown_by_two(n-2)\n",
    "    else:\n",
    "        print(\"Invalid input: n must be non-negative.\")"
   ]
  },
  {
   "cell_type": "code",
   "execution_count": 69,
   "id": "e2527e33-d0bd-4f1d-af96-6038b1a5868d",
   "metadata": {},
   "outputs": [
    {
     "name": "stdout",
     "output_type": "stream",
     "text": [
      "9\n",
      "7\n",
      "5\n",
      "3\n",
      "1\n",
      "Invalid input: n must be non-negative.\n"
     ]
    }
   ],
   "source": [
    "countdown_by_two(9)"
   ]
  },
  {
   "cell_type": "code",
   "execution_count": 70,
   "id": "0bdebd8a-6f0c-4c34-899c-ccb73e292f2c",
   "metadata": {},
   "outputs": [
    {
     "name": "stdout",
     "output_type": "stream",
     "text": [
      "10\n",
      "8\n",
      "6\n",
      "4\n",
      "2\n",
      "Blastoff!\n"
     ]
    }
   ],
   "source": [
    "countdown_by_two(10)"
   ]
  },
  {
   "cell_type": "markdown",
   "id": "240a3888",
   "metadata": {
    "id": "240a3888"
   },
   "source": [
    "### 5.14.2 Exercise\n",
    "\n",
    "The `time` module provides a function, also called `time`, that returns\n",
    "the number of seconds since the \"Unix epoch\", which is January 1, 1970, 00:00:00 UTC (Coordinated Universal Time)."
   ]
  },
  {
   "cell_type": "code",
   "execution_count": 71,
   "id": "1e7a2c07",
   "metadata": {
    "id": "1e7a2c07"
   },
   "outputs": [
    {
     "data": {
      "text/plain": [
       "1726105751.7147927"
      ]
     },
     "execution_count": 71,
     "metadata": {},
     "output_type": "execute_result"
    }
   ],
   "source": [
    "from time import time\n",
    "\n",
    "now = time()\n",
    "now"
   ]
  },
  {
   "cell_type": "markdown",
   "id": "054c3197",
   "metadata": {
    "id": "054c3197"
   },
   "source": [
    "Use integer division and the modulus operator to compute the number of days since January 1, 1970 and the current time of day in hours, minutes, and seconds."
   ]
  },
  {
   "cell_type": "markdown",
   "id": "310196ba",
   "metadata": {
    "id": "310196ba",
    "tags": []
   },
   "source": [
    "You can read more about the `time` module at <https://docs.python.org/3/library/time.html>."
   ]
  },
  {
   "cell_type": "code",
   "execution_count": 77,
   "id": "c5fa57b2",
   "metadata": {
    "id": "c5fa57b2"
   },
   "outputs": [
    {
     "name": "stdout",
     "output_type": "stream",
     "text": [
      "One day = 86400 seconds\n",
      "Number of days since Jan 1, 1970: 19978\n"
     ]
    }
   ],
   "source": [
    "# Solution\n",
    "oneDayInSecs = 24*60*60\n",
    "print(f\"One day = {oneDayInSecs} seconds\")\n",
    "daysSinceEpoch = int(now//oneDayInSecs)\n",
    "print(f\"Number of days since Jan 1, 1970: {daysSinceEpoch}\")"
   ]
  },
  {
   "cell_type": "code",
   "execution_count": 108,
   "id": "322ddd0a",
   "metadata": {
    "id": "322ddd0a"
   },
   "outputs": [
    {
     "name": "stdout",
     "output_type": "stream",
     "text": [
      "Current UTC time of day in seconds: 6551.714792728424\n"
     ]
    }
   ],
   "source": [
    "# Solution\n",
    "currentTimeInSecs = now%oneDayInSecs\n",
    "print(f\"Current UTC time of day in seconds: {currentTimeInSecs}\")"
   ]
  },
  {
   "cell_type": "code",
   "execution_count": 112,
   "id": "fc43df7d",
   "metadata": {
    "id": "fc43df7d"
   },
   "outputs": [
    {
     "name": "stdout",
     "output_type": "stream",
     "text": [
      "Current UTC hour: 1\n",
      "Current UTC min: 49\n",
      "Current UTC secs: 11\n"
     ]
    }
   ],
   "source": [
    "oneHourInSec = 60*60\n",
    "currentUTC_hour = currentTimeInSecs // oneHourInSec\n",
    "print(f\"Current UTC hour: {int(currentUTC_hour)}\")\n",
    "\n",
    "currentUTC_min = (currentTimeInSecs - currentUTC_hour*oneHourInSec)//60\n",
    "print(f\"Current UTC min: {int(currentUTC_min)}\")\n",
    "\n",
    "currentUTC_sec = int(currentTimeInSecs - currentUTC_hour*oneHourInSec - currentUTC_min*60)\n",
    "print(f\"Current UTC secs: {currentUTC_sec}\")"
   ]
  },
  {
   "cell_type": "code",
   "execution_count": 113,
   "id": "0184d21a",
   "metadata": {
    "id": "0184d21a"
   },
   "outputs": [
    {
     "name": "stdout",
     "output_type": "stream",
     "text": [
      "Local hour: 20\n",
      "Current UTC min: 49\n",
      "Local secs: 11\n"
     ]
    }
   ],
   "source": [
    "# Solution - TIMEZONE adjustment: EST: -5 hrs\n",
    "tmznOffset = -5*60*60\n",
    "adjustedNow = now + tmznOffset\n",
    "localTimeInSecs = adjustedNow%oneDayInSecs\n",
    "\n",
    "localHour = localTimeInSecs // oneHourInSec\n",
    "print(f\"Local hour: {int(localHour)}\")\n",
    "\n",
    "localMin = (localTimeInSecs - localHour*oneHourInSec)//60\n",
    "print(f\"Current UTC min: {int(localMin)}\")\n",
    "\n",
    "localSec = int(localTimeInSecs - localHour*oneHourInSec - localMin*60)\n",
    "print(f\"Local secs: {localSec}\")"
   ]
  },
  {
   "cell_type": "markdown",
   "id": "6b1fd514",
   "metadata": {
    "id": "6b1fd514"
   },
   "source": [
    "### 5.14.3 Exercise\n",
    "\n",
    "If you are given three sticks, you may or may not be able to arrange\n",
    "them in a triangle. For example, if one of the sticks is 12 inches long\n",
    "and the other two are one inch long, you will not be able to get the\n",
    "short sticks to meet in the middle. For any three lengths, there is a\n",
    "test to see if it is possible to form a triangle:\n",
    "\n",
    "> If any of the three lengths is greater than the sum of the other two,\n",
    "> then you cannot form a triangle. Otherwise, you can. (If the sum of\n",
    "> two lengths equals the third, they form what is called a \"degenerate\"\n",
    "> triangle.)\n",
    "\n",
    "Write a function named `is_triangle` that takes three integers as\n",
    "arguments, and that prints either \"Yes\" or \"No\", depending on\n",
    "whether you can or cannot form a triangle from sticks with the given\n",
    "lengths. Hint: Use a chained conditional.\n",
    "\n"
   ]
  },
  {
   "cell_type": "code",
   "execution_count": 114,
   "id": "06381639",
   "metadata": {
    "id": "06381639",
    "tags": []
   },
   "outputs": [],
   "source": [
    "# Solution\n",
    "\n",
    "def is_triangle(a,b,c):\n",
    "    \"\"\" Three integers as arguments\n",
    "    Prints \"Yes\" or \"No\", depending on whether you can or cannot form a triangle from sticks with the given lengths.\n",
    "    Returns true or false respectively\n",
    "    \n",
    "    a: side 1\n",
    "    b: side 2\n",
    "    c: side 3\n",
    "    \"\"\"\n",
    "\n",
    "    if a > (b + c):\n",
    "        print(\"No\")\n",
    "        return(False)\n",
    "    elif b > (a + c):\n",
    "        print(\"No\")\n",
    "        return(False)\n",
    "    elif c > (a + b):\n",
    "        print(\"No\")\n",
    "        return(False)\n",
    "    else:\n",
    "        print(\"Yes\")\n",
    "        return(True)\n",
    "        "
   ]
  },
  {
   "cell_type": "markdown",
   "id": "2842401c",
   "metadata": {
    "id": "2842401c",
    "tags": []
   },
   "source": [
    "Test your function with the following cases."
   ]
  },
  {
   "cell_type": "code",
   "execution_count": 115,
   "id": "156273af",
   "metadata": {
    "id": "156273af",
    "tags": []
   },
   "outputs": [
    {
     "name": "stdout",
     "output_type": "stream",
     "text": [
      "Yes\n"
     ]
    },
    {
     "data": {
      "text/plain": [
       "True"
      ]
     },
     "execution_count": 115,
     "metadata": {},
     "output_type": "execute_result"
    }
   ],
   "source": [
    "is_triangle(4, 5, 6)   # should be Yes"
   ]
  },
  {
   "cell_type": "code",
   "execution_count": 116,
   "id": "e00793f4",
   "metadata": {
    "id": "e00793f4",
    "tags": []
   },
   "outputs": [
    {
     "name": "stdout",
     "output_type": "stream",
     "text": [
      "Yes\n"
     ]
    },
    {
     "data": {
      "text/plain": [
       "True"
      ]
     },
     "execution_count": 116,
     "metadata": {},
     "output_type": "execute_result"
    }
   ],
   "source": [
    "is_triangle(1, 2, 3)   # should be Yes"
   ]
  },
  {
   "cell_type": "code",
   "execution_count": 117,
   "id": "d2911c71",
   "metadata": {
    "id": "d2911c71",
    "tags": []
   },
   "outputs": [
    {
     "name": "stdout",
     "output_type": "stream",
     "text": [
      "No\n"
     ]
    },
    {
     "data": {
      "text/plain": [
       "False"
      ]
     },
     "execution_count": 117,
     "metadata": {},
     "output_type": "execute_result"
    }
   ],
   "source": [
    "is_triangle(6, 2, 3)   # should be No"
   ]
  },
  {
   "cell_type": "code",
   "execution_count": 118,
   "id": "2b05586e",
   "metadata": {
    "id": "2b05586e",
    "tags": []
   },
   "outputs": [
    {
     "name": "stdout",
     "output_type": "stream",
     "text": [
      "No\n"
     ]
    },
    {
     "data": {
      "text/plain": [
       "False"
      ]
     },
     "execution_count": 118,
     "metadata": {},
     "output_type": "execute_result"
    }
   ],
   "source": [
    "is_triangle(1, 1, 12)   # should be No"
   ]
  },
  {
   "cell_type": "markdown",
   "id": "2ba42106",
   "metadata": {
    "id": "2ba42106"
   },
   "source": [
    "### 5.14.4 Exercise\n",
    "\n",
    "What is the output of the following program? Draw a stack diagram that\n",
    "shows the state of the program when it prints the result."
   ]
  },
  {
   "cell_type": "code",
   "execution_count": 119,
   "id": "dac374ad",
   "metadata": {
    "id": "dac374ad"
   },
   "outputs": [
    {
     "name": "stdout",
     "output_type": "stream",
     "text": [
      "6\n"
     ]
    }
   ],
   "source": [
    "def recurse(n, s):\n",
    "    if n == 0:\n",
    "        print(s)\n",
    "    else:\n",
    "        recurse(n-1, n+s)\n",
    "\n",
    "recurse(3, 0)"
   ]
  },
  {
   "cell_type": "markdown",
   "id": "354f176f-6f85-4a1d-b9ce-90ceb6945d46",
   "metadata": {},
   "source": [
    "-- it prints the final cumulative sum at end. In this case: 3+2+1 = 6"
   ]
  },
  {
   "cell_type": "code",
   "execution_count": 160,
   "id": "1db6a270-e1be-4019-8c1f-fa3ec649be76",
   "metadata": {},
   "outputs": [
    {
     "data": {
      "image/png": "[encoded data removed]",
      "text/plain": [
       "<Figure size 174x204 with 1 Axes>"
      ]
     },
     "metadata": {},
     "output_type": "display_data"
    }
   ],
   "source": [
    "frames = []\n",
    "for n in [3,2,1,0]:\n",
    "    d = dict(n=n,s=n)\n",
    "    frame = make_frame(d, name='recurse', dy=-0.3, loc='left')\n",
    "    frames.append(frame)\n",
    "\n",
    "stack = Stack(frames, dy=-0.7)\n",
    "\n",
    "\n",
    "width, height, x, y = [1.74, 2.04, 1.05, 1.77]\n",
    "ax = diagram(width, height)\n",
    "bbox = stack.draw(ax, x, y)\n",
    "# adjust(x, y, bbox)"
   ]
  },
  {
   "cell_type": "code",
   "execution_count": 162,
   "id": "a438cec5",
   "metadata": {
    "id": "a438cec5"
   },
   "outputs": [],
   "source": [
    "# Solution - kinda clunky - but, basically there: not worth the mucking around to fix the graphics right now...\n"
   ]
  },
  {
   "cell_type": "markdown",
   "id": "bca9517d",
   "metadata": {
    "id": "bca9517d"
   },
   "source": [
    "### 5.14.5 Exercise\n",
    "\n",
    "The following exercises use the `jupyturtle` module, described in Chapter 4.\n",
    "\n",
    "Read the following function and see if you can figure out what it does.\n",
    "Then run it and see if you got it right.\n",
    "Adjust the values of `length`, `angle` and `factor` and see what effect they have on the result.\n",
    "If you are not sure you understand how it works, try asking a virtual assistant."
   ]
  },
  {
   "cell_type": "code",
   "execution_count": 3,
   "id": "2b0d60a1",
   "metadata": {
    "id": "2b0d60a1"
   },
   "outputs": [],
   "source": [
    "from jupyturtle import forward, left, right, back, make_turtle\n",
    "\n",
    "def draw(length):\n",
    "    angle = 50\n",
    "    factor = 0.6\n",
    "\n",
    "    if length > 5:\n",
    "        forward(length)\n",
    "        left(angle)\n",
    "        draw(factor * length)\n",
    "        right(2 * angle)\n",
    "        draw(factor * length)\n",
    "        left(angle)\n",
    "        back(length)"
   ]
  },
  {
   "cell_type": "code",
   "execution_count": 7,
   "id": "ef0256ee",
   "metadata": {
    "id": "ef0256ee"
   },
   "outputs": [
    {
     "data": {
      "text/html": [
       "<svg width=\"300\" height=\"150\">\n",
       "    <rect width=\"100%\" height=\"100%\" fill=\"#F3F3F7\" />\n",
       "\n",
       "<line x1=\"150\" y1=\"75\" x2=\"220.0\" y2=\"75.0\"\n",
       "    stroke=\"#663399\" stroke-width=\"2\" />\n",
       "<line x1=\"220.0\" y1=\"75.0\" x2=\"247.0\" y2=\"42.8\"\n",
       "    stroke=\"#663399\" stroke-width=\"2\" />\n",
       "<line x1=\"247.0\" y1=\"42.8\" x2=\"242.6\" y2=\"18.0\"\n",
       "    stroke=\"#663399\" stroke-width=\"2\" />\n",
       "<line x1=\"242.6\" y1=\"18.0\" x2=\"229.5\" y2=\"10.4\"\n",
       "    stroke=\"#663399\" stroke-width=\"2\" />\n",
       "<line x1=\"229.5\" y1=\"10.4\" x2=\"221.0\" y2=\"13.6\"\n",
       "    stroke=\"#663399\" stroke-width=\"2\" />\n",
       "<line x1=\"221.0\" y1=\"13.6\" x2=\"219.1\" y2=\"18.7\"\n",
       "    stroke=\"#663399\" stroke-width=\"2\" />\n",
       "<line x1=\"219.1\" y1=\"18.7\" x2=\"221.0\" y2=\"13.6\"\n",
       "    stroke=\"#663399\" stroke-width=\"2\" />\n",
       "<line x1=\"221.0\" y1=\"13.6\" x2=\"216.3\" y2=\"10.8\"\n",
       "    stroke=\"#663399\" stroke-width=\"2\" />\n",
       "<line x1=\"216.3\" y1=\"10.8\" x2=\"221.0\" y2=\"13.6\"\n",
       "    stroke=\"#663399\" stroke-width=\"2\" />\n",
       "<line x1=\"221.0\" y1=\"13.6\" x2=\"229.5\" y2=\"10.4\"\n",
       "    stroke=\"#663399\" stroke-width=\"2\" />\n",
       "<line x1=\"229.5\" y1=\"10.4\" x2=\"228.0\" y2=\"1.5\"\n",
       "    stroke=\"#663399\" stroke-width=\"2\" />\n",
       "<line x1=\"228.0\" y1=\"1.5\" x2=\"223.2\" y2=\"-1.2\"\n",
       "    stroke=\"#663399\" stroke-width=\"2\" />\n",
       "<line x1=\"223.2\" y1=\"-1.2\" x2=\"228.0\" y2=\"1.5\"\n",
       "    stroke=\"#663399\" stroke-width=\"2\" />\n",
       "<line x1=\"228.0\" y1=\"1.5\" x2=\"231.5\" y2=\"-2.7\"\n",
       "    stroke=\"#663399\" stroke-width=\"2\" />\n",
       "<line x1=\"231.5\" y1=\"-2.7\" x2=\"228.0\" y2=\"1.5\"\n",
       "    stroke=\"#663399\" stroke-width=\"2\" />\n",
       "<line x1=\"228.0\" y1=\"1.5\" x2=\"229.5\" y2=\"10.4\"\n",
       "    stroke=\"#663399\" stroke-width=\"2\" />\n",
       "<line x1=\"229.5\" y1=\"10.4\" x2=\"242.6\" y2=\"18.0\"\n",
       "    stroke=\"#663399\" stroke-width=\"2\" />\n",
       "<line x1=\"242.6\" y1=\"18.0\" x2=\"252.3\" y2=\"6.4\"\n",
       "    stroke=\"#663399\" stroke-width=\"2\" />\n",
       "<line x1=\"252.3\" y1=\"6.4\" x2=\"250.8\" y2=\"-2.5\"\n",
       "    stroke=\"#663399\" stroke-width=\"2\" />\n",
       "<line x1=\"250.8\" y1=\"-2.5\" x2=\"246.1\" y2=\"-5.2\"\n",
       "    stroke=\"#663399\" stroke-width=\"2\" />\n",
       "<line x1=\"246.1\" y1=\"-5.2\" x2=\"250.8\" y2=\"-2.5\"\n",
       "    stroke=\"#663399\" stroke-width=\"2\" />\n",
       "<line x1=\"250.8\" y1=\"-2.5\" x2=\"254.3\" y2=\"-6.7\"\n",
       "    stroke=\"#663399\" stroke-width=\"2\" />\n",
       "<line x1=\"254.3\" y1=\"-6.7\" x2=\"250.8\" y2=\"-2.5\"\n",
       "    stroke=\"#663399\" stroke-width=\"2\" />\n",
       "<line x1=\"250.8\" y1=\"-2.5\" x2=\"252.3\" y2=\"6.4\"\n",
       "    stroke=\"#663399\" stroke-width=\"2\" />\n",
       "<line x1=\"252.3\" y1=\"6.4\" x2=\"261.4\" y2=\"6.4\"\n",
       "    stroke=\"#663399\" stroke-width=\"2\" />\n",
       "<line x1=\"261.4\" y1=\"6.4\" x2=\"264.9\" y2=\"2.3\"\n",
       "    stroke=\"#663399\" stroke-width=\"2\" />\n",
       "<line x1=\"264.9\" y1=\"2.3\" x2=\"261.4\" y2=\"6.4\"\n",
       "    stroke=\"#663399\" stroke-width=\"2\" />\n",
       "<line x1=\"261.4\" y1=\"6.4\" x2=\"264.9\" y2=\"10.6\"\n",
       "    stroke=\"#663399\" stroke-width=\"2\" />\n",
       "<line x1=\"264.9\" y1=\"10.6\" x2=\"261.4\" y2=\"6.4\"\n",
       "    stroke=\"#663399\" stroke-width=\"2\" />\n",
       "<line x1=\"261.4\" y1=\"6.4\" x2=\"252.3\" y2=\"6.4\"\n",
       "    stroke=\"#663399\" stroke-width=\"2\" />\n",
       "<line x1=\"252.3\" y1=\"6.4\" x2=\"242.6\" y2=\"18.0\"\n",
       "    stroke=\"#663399\" stroke-width=\"2\" />\n",
       "<line x1=\"242.6\" y1=\"18.0\" x2=\"247.0\" y2=\"42.8\"\n",
       "    stroke=\"#663399\" stroke-width=\"2\" />\n",
       "<line x1=\"247.0\" y1=\"42.8\" x2=\"272.2\" y2=\"42.8\"\n",
       "    stroke=\"#663399\" stroke-width=\"2\" />\n",
       "<line x1=\"272.2\" y1=\"42.8\" x2=\"281.9\" y2=\"31.2\"\n",
       "    stroke=\"#663399\" stroke-width=\"2\" />\n",
       "<line x1=\"281.9\" y1=\"31.2\" x2=\"280.3\" y2=\"22.3\"\n",
       "    stroke=\"#663399\" stroke-width=\"2\" />\n",
       "<line x1=\"280.3\" y1=\"22.3\" x2=\"275.6\" y2=\"19.6\"\n",
       "    stroke=\"#663399\" stroke-width=\"2\" />\n",
       "<line x1=\"275.6\" y1=\"19.6\" x2=\"280.3\" y2=\"22.3\"\n",
       "    stroke=\"#663399\" stroke-width=\"2\" />\n",
       "<line x1=\"280.3\" y1=\"22.3\" x2=\"283.8\" y2=\"18.1\"\n",
       "    stroke=\"#663399\" stroke-width=\"2\" />\n",
       "<line x1=\"283.8\" y1=\"18.1\" x2=\"280.3\" y2=\"22.3\"\n",
       "    stroke=\"#663399\" stroke-width=\"2\" />\n",
       "<line x1=\"280.3\" y1=\"22.3\" x2=\"281.9\" y2=\"31.2\"\n",
       "    stroke=\"#663399\" stroke-width=\"2\" />\n",
       "<line x1=\"281.9\" y1=\"31.2\" x2=\"291.0\" y2=\"31.2\"\n",
       "    stroke=\"#663399\" stroke-width=\"2\" />\n",
       "<line x1=\"291.0\" y1=\"31.2\" x2=\"294.5\" y2=\"27.1\"\n",
       "    stroke=\"#663399\" stroke-width=\"2\" />\n",
       "<line x1=\"294.5\" y1=\"27.1\" x2=\"291.0\" y2=\"31.2\"\n",
       "    stroke=\"#663399\" stroke-width=\"2\" />\n",
       "<line x1=\"291.0\" y1=\"31.2\" x2=\"294.5\" y2=\"35.4\"\n",
       "    stroke=\"#663399\" stroke-width=\"2\" />\n",
       "<line x1=\"294.5\" y1=\"35.4\" x2=\"291.0\" y2=\"31.2\"\n",
       "    stroke=\"#663399\" stroke-width=\"2\" />\n",
       "<line x1=\"291.0\" y1=\"31.2\" x2=\"281.9\" y2=\"31.2\"\n",
       "    stroke=\"#663399\" stroke-width=\"2\" />\n",
       "<line x1=\"281.9\" y1=\"31.2\" x2=\"272.2\" y2=\"42.8\"\n",
       "    stroke=\"#663399\" stroke-width=\"2\" />\n",
       "<line x1=\"272.2\" y1=\"42.8\" x2=\"281.9\" y2=\"54.4\"\n",
       "    stroke=\"#663399\" stroke-width=\"2\" />\n",
       "<line x1=\"281.9\" y1=\"54.4\" x2=\"291.0\" y2=\"54.4\"\n",
       "    stroke=\"#663399\" stroke-width=\"2\" />\n",
       "<line x1=\"291.0\" y1=\"54.4\" x2=\"294.5\" y2=\"50.2\"\n",
       "    stroke=\"#663399\" stroke-width=\"2\" />\n",
       "<line x1=\"294.5\" y1=\"50.2\" x2=\"291.0\" y2=\"54.4\"\n",
       "    stroke=\"#663399\" stroke-width=\"2\" />\n",
       "<line x1=\"291.0\" y1=\"54.4\" x2=\"294.5\" y2=\"58.6\"\n",
       "    stroke=\"#663399\" stroke-width=\"2\" />\n",
       "<line x1=\"294.5\" y1=\"58.6\" x2=\"291.0\" y2=\"54.4\"\n",
       "    stroke=\"#663399\" stroke-width=\"2\" />\n",
       "<line x1=\"291.0\" y1=\"54.4\" x2=\"281.9\" y2=\"54.4\"\n",
       "    stroke=\"#663399\" stroke-width=\"2\" />\n",
       "<line x1=\"281.9\" y1=\"54.4\" x2=\"280.3\" y2=\"63.3\"\n",
       "    stroke=\"#663399\" stroke-width=\"2\" />\n",
       "<line x1=\"280.3\" y1=\"63.3\" x2=\"283.8\" y2=\"67.5\"\n",
       "    stroke=\"#663399\" stroke-width=\"2\" />\n",
       "<line x1=\"283.8\" y1=\"67.5\" x2=\"280.3\" y2=\"63.3\"\n",
       "    stroke=\"#663399\" stroke-width=\"2\" />\n",
       "<line x1=\"280.3\" y1=\"63.3\" x2=\"275.6\" y2=\"66.1\"\n",
       "    stroke=\"#663399\" stroke-width=\"2\" />\n",
       "<line x1=\"275.6\" y1=\"66.1\" x2=\"280.3\" y2=\"63.3\"\n",
       "    stroke=\"#663399\" stroke-width=\"2\" />\n",
       "<line x1=\"280.3\" y1=\"63.3\" x2=\"281.9\" y2=\"54.4\"\n",
       "    stroke=\"#663399\" stroke-width=\"2\" />\n",
       "<line x1=\"281.9\" y1=\"54.4\" x2=\"272.2\" y2=\"42.8\"\n",
       "    stroke=\"#663399\" stroke-width=\"2\" />\n",
       "<line x1=\"272.2\" y1=\"42.8\" x2=\"247.0\" y2=\"42.8\"\n",
       "    stroke=\"#663399\" stroke-width=\"2\" />\n",
       "<line x1=\"247.0\" y1=\"42.8\" x2=\"220.0\" y2=\"75.0\"\n",
       "    stroke=\"#663399\" stroke-width=\"2\" />\n",
       "<line x1=\"220.0\" y1=\"75.0\" x2=\"247.0\" y2=\"107.2\"\n",
       "    stroke=\"#663399\" stroke-width=\"2\" />\n",
       "<line x1=\"247.0\" y1=\"107.2\" x2=\"272.2\" y2=\"107.2\"\n",
       "    stroke=\"#663399\" stroke-width=\"2\" />\n",
       "<line x1=\"272.2\" y1=\"107.2\" x2=\"281.9\" y2=\"95.6\"\n",
       "    stroke=\"#663399\" stroke-width=\"2\" />\n",
       "<line x1=\"281.9\" y1=\"95.6\" x2=\"280.3\" y2=\"86.7\"\n",
       "    stroke=\"#663399\" stroke-width=\"2\" />\n",
       "<line x1=\"280.3\" y1=\"86.7\" x2=\"275.6\" y2=\"83.9\"\n",
       "    stroke=\"#663399\" stroke-width=\"2\" />\n",
       "<line x1=\"275.6\" y1=\"83.9\" x2=\"280.3\" y2=\"86.7\"\n",
       "    stroke=\"#663399\" stroke-width=\"2\" />\n",
       "<line x1=\"280.3\" y1=\"86.7\" x2=\"283.8\" y2=\"82.5\"\n",
       "    stroke=\"#663399\" stroke-width=\"2\" />\n",
       "<line x1=\"283.8\" y1=\"82.5\" x2=\"280.3\" y2=\"86.7\"\n",
       "    stroke=\"#663399\" stroke-width=\"2\" />\n",
       "<line x1=\"280.3\" y1=\"86.7\" x2=\"281.9\" y2=\"95.6\"\n",
       "    stroke=\"#663399\" stroke-width=\"2\" />\n",
       "<line x1=\"281.9\" y1=\"95.6\" x2=\"291.0\" y2=\"95.6\"\n",
       "    stroke=\"#663399\" stroke-width=\"2\" />\n",
       "<line x1=\"291.0\" y1=\"95.6\" x2=\"294.5\" y2=\"91.4\"\n",
       "    stroke=\"#663399\" stroke-width=\"2\" />\n",
       "<line x1=\"294.5\" y1=\"91.4\" x2=\"291.0\" y2=\"95.6\"\n",
       "    stroke=\"#663399\" stroke-width=\"2\" />\n",
       "<line x1=\"291.0\" y1=\"95.6\" x2=\"294.5\" y2=\"99.8\"\n",
       "    stroke=\"#663399\" stroke-width=\"2\" />\n",
       "<line x1=\"294.5\" y1=\"99.8\" x2=\"291.0\" y2=\"95.6\"\n",
       "    stroke=\"#663399\" stroke-width=\"2\" />\n",
       "<line x1=\"291.0\" y1=\"95.6\" x2=\"281.9\" y2=\"95.6\"\n",
       "    stroke=\"#663399\" stroke-width=\"2\" />\n",
       "<line x1=\"281.9\" y1=\"95.6\" x2=\"272.2\" y2=\"107.2\"\n",
       "    stroke=\"#663399\" stroke-width=\"2\" />\n",
       "<line x1=\"272.2\" y1=\"107.2\" x2=\"281.9\" y2=\"118.8\"\n",
       "    stroke=\"#663399\" stroke-width=\"2\" />\n",
       "<line x1=\"281.9\" y1=\"118.8\" x2=\"291.0\" y2=\"118.8\"\n",
       "    stroke=\"#663399\" stroke-width=\"2\" />\n",
       "<line x1=\"291.0\" y1=\"118.8\" x2=\"294.5\" y2=\"114.6\"\n",
       "    stroke=\"#663399\" stroke-width=\"2\" />\n",
       "<line x1=\"294.5\" y1=\"114.6\" x2=\"291.0\" y2=\"118.8\"\n",
       "    stroke=\"#663399\" stroke-width=\"2\" />\n",
       "<line x1=\"291.0\" y1=\"118.8\" x2=\"294.5\" y2=\"122.9\"\n",
       "    stroke=\"#663399\" stroke-width=\"2\" />\n",
       "<line x1=\"294.5\" y1=\"122.9\" x2=\"291.0\" y2=\"118.8\"\n",
       "    stroke=\"#663399\" stroke-width=\"2\" />\n",
       "<line x1=\"291.0\" y1=\"118.8\" x2=\"281.9\" y2=\"118.8\"\n",
       "    stroke=\"#663399\" stroke-width=\"2\" />\n",
       "<line x1=\"281.9\" y1=\"118.8\" x2=\"280.3\" y2=\"127.7\"\n",
       "    stroke=\"#663399\" stroke-width=\"2\" />\n",
       "<line x1=\"280.3\" y1=\"127.7\" x2=\"283.8\" y2=\"131.9\"\n",
       "    stroke=\"#663399\" stroke-width=\"2\" />\n",
       "<line x1=\"283.8\" y1=\"131.9\" x2=\"280.3\" y2=\"127.7\"\n",
       "    stroke=\"#663399\" stroke-width=\"2\" />\n",
       "<line x1=\"280.3\" y1=\"127.7\" x2=\"275.6\" y2=\"130.4\"\n",
       "    stroke=\"#663399\" stroke-width=\"2\" />\n",
       "<line x1=\"275.6\" y1=\"130.4\" x2=\"280.3\" y2=\"127.7\"\n",
       "    stroke=\"#663399\" stroke-width=\"2\" />\n",
       "<line x1=\"280.3\" y1=\"127.7\" x2=\"281.9\" y2=\"118.8\"\n",
       "    stroke=\"#663399\" stroke-width=\"2\" />\n",
       "<line x1=\"281.9\" y1=\"118.8\" x2=\"272.2\" y2=\"107.2\"\n",
       "    stroke=\"#663399\" stroke-width=\"2\" />\n",
       "<line x1=\"272.2\" y1=\"107.2\" x2=\"247.0\" y2=\"107.2\"\n",
       "    stroke=\"#663399\" stroke-width=\"2\" />\n",
       "<line x1=\"247.0\" y1=\"107.2\" x2=\"242.6\" y2=\"132.0\"\n",
       "    stroke=\"#663399\" stroke-width=\"2\" />\n",
       "<line x1=\"242.6\" y1=\"132.0\" x2=\"252.3\" y2=\"143.6\"\n",
       "    stroke=\"#663399\" stroke-width=\"2\" />\n",
       "<line x1=\"252.3\" y1=\"143.6\" x2=\"261.4\" y2=\"143.6\"\n",
       "    stroke=\"#663399\" stroke-width=\"2\" />\n",
       "<line x1=\"261.4\" y1=\"143.6\" x2=\"264.9\" y2=\"139.4\"\n",
       "    stroke=\"#663399\" stroke-width=\"2\" />\n",
       "<line x1=\"264.9\" y1=\"139.4\" x2=\"261.4\" y2=\"143.6\"\n",
       "    stroke=\"#663399\" stroke-width=\"2\" />\n",
       "<line x1=\"261.4\" y1=\"143.6\" x2=\"264.9\" y2=\"147.7\"\n",
       "    stroke=\"#663399\" stroke-width=\"2\" />\n",
       "<line x1=\"264.9\" y1=\"147.7\" x2=\"261.4\" y2=\"143.6\"\n",
       "    stroke=\"#663399\" stroke-width=\"2\" />\n",
       "<line x1=\"261.4\" y1=\"143.6\" x2=\"252.3\" y2=\"143.6\"\n",
       "    stroke=\"#663399\" stroke-width=\"2\" />\n",
       "<line x1=\"252.3\" y1=\"143.6\" x2=\"250.8\" y2=\"152.5\"\n",
       "    stroke=\"#663399\" stroke-width=\"2\" />\n",
       "<line x1=\"250.8\" y1=\"152.5\" x2=\"254.3\" y2=\"156.7\"\n",
       "    stroke=\"#663399\" stroke-width=\"2\" />\n",
       "<line x1=\"254.3\" y1=\"156.7\" x2=\"250.8\" y2=\"152.5\"\n",
       "    stroke=\"#663399\" stroke-width=\"2\" />\n",
       "<line x1=\"250.8\" y1=\"152.5\" x2=\"246.1\" y2=\"155.2\"\n",
       "    stroke=\"#663399\" stroke-width=\"2\" />\n",
       "<line x1=\"246.1\" y1=\"155.2\" x2=\"250.8\" y2=\"152.5\"\n",
       "    stroke=\"#663399\" stroke-width=\"2\" />\n",
       "<line x1=\"250.8\" y1=\"152.5\" x2=\"252.3\" y2=\"143.6\"\n",
       "    stroke=\"#663399\" stroke-width=\"2\" />\n",
       "<line x1=\"252.3\" y1=\"143.6\" x2=\"242.6\" y2=\"132.0\"\n",
       "    stroke=\"#663399\" stroke-width=\"2\" />\n",
       "<line x1=\"242.6\" y1=\"132.0\" x2=\"229.5\" y2=\"139.6\"\n",
       "    stroke=\"#663399\" stroke-width=\"2\" />\n",
       "<line x1=\"229.5\" y1=\"139.6\" x2=\"228.0\" y2=\"148.5\"\n",
       "    stroke=\"#663399\" stroke-width=\"2\" />\n",
       "<line x1=\"228.0\" y1=\"148.5\" x2=\"231.5\" y2=\"152.7\"\n",
       "    stroke=\"#663399\" stroke-width=\"2\" />\n",
       "<line x1=\"231.5\" y1=\"152.7\" x2=\"228.0\" y2=\"148.5\"\n",
       "    stroke=\"#663399\" stroke-width=\"2\" />\n",
       "<line x1=\"228.0\" y1=\"148.5\" x2=\"223.2\" y2=\"151.2\"\n",
       "    stroke=\"#663399\" stroke-width=\"2\" />\n",
       "<line x1=\"223.2\" y1=\"151.2\" x2=\"228.0\" y2=\"148.5\"\n",
       "    stroke=\"#663399\" stroke-width=\"2\" />\n",
       "<line x1=\"228.0\" y1=\"148.5\" x2=\"229.5\" y2=\"139.6\"\n",
       "    stroke=\"#663399\" stroke-width=\"2\" />\n",
       "<line x1=\"229.5\" y1=\"139.6\" x2=\"221.0\" y2=\"136.4\"\n",
       "    stroke=\"#663399\" stroke-width=\"2\" />\n",
       "<line x1=\"221.0\" y1=\"136.4\" x2=\"216.3\" y2=\"139.2\"\n",
       "    stroke=\"#663399\" stroke-width=\"2\" />\n",
       "<line x1=\"216.3\" y1=\"139.2\" x2=\"221.0\" y2=\"136.4\"\n",
       "    stroke=\"#663399\" stroke-width=\"2\" />\n",
       "<line x1=\"221.0\" y1=\"136.4\" x2=\"219.1\" y2=\"131.3\"\n",
       "    stroke=\"#663399\" stroke-width=\"2\" />\n",
       "<line x1=\"219.1\" y1=\"131.3\" x2=\"221.0\" y2=\"136.4\"\n",
       "    stroke=\"#663399\" stroke-width=\"2\" />\n",
       "<line x1=\"221.0\" y1=\"136.4\" x2=\"229.5\" y2=\"139.6\"\n",
       "    stroke=\"#663399\" stroke-width=\"2\" />\n",
       "<line x1=\"229.5\" y1=\"139.6\" x2=\"242.6\" y2=\"132.0\"\n",
       "    stroke=\"#663399\" stroke-width=\"2\" />\n",
       "<line x1=\"242.6\" y1=\"132.0\" x2=\"247.0\" y2=\"107.2\"\n",
       "    stroke=\"#663399\" stroke-width=\"2\" />\n",
       "<line x1=\"247.0\" y1=\"107.2\" x2=\"220.0\" y2=\"75.0\"\n",
       "    stroke=\"#663399\" stroke-width=\"2\" />\n",
       "<line x1=\"220.0\" y1=\"75.0\" x2=\"150.0\" y2=\"75.0\"\n",
       "    stroke=\"#663399\" stroke-width=\"2\" />\n",
       "\n",
       "<g transform=\"rotate(-90.0,150.0,75.0) translate(150.0, 75.0)\">\n",
       "    <circle stroke=\"#63A375\" stroke-width=\"2\" fill=\"transparent\" r=\"5.5\" cx=\"0\" cy=\"0\"/>\n",
       "    <polygon points=\"0,12 2,9 -2,9\" style=\"fill:#63A375;stroke:#63A375;stroke-width:2\"/>\n",
       "</g>\n",
       "\n",
       "</svg>"
      ],
      "text/plain": [
       "<IPython.core.display.HTML object>"
      ]
     },
     "metadata": {},
     "output_type": "display_data"
    }
   ],
   "source": [
    "# Solution \n",
    "make_turtle(delay=0)\n",
    "draw(70)"
   ]
  },
  {
   "cell_type": "markdown",
   "id": "5863788c-8aa3-4943-a8b7-8e5370086a01",
   "metadata": {},
   "source": [
    "Cooool...  a little different than i anticipated... but cool.!"
   ]
  },
  {
   "cell_type": "markdown",
   "id": "e525ba59",
   "metadata": {
    "id": "e525ba59"
   },
   "source": [
    "### 5.14.6 Exercise\n",
    "\n",
    "Ask a virtual assistant \"What is the Koch curve?\"\n",
    "\n",
    "To draw a Koch curve with length `x`, all you\n",
    "have to do is\n",
    "\n",
    "1.  Draw a Koch curve with length `x/3`.\n",
    "\n",
    "2.  Turn left 60 degrees.\n",
    "\n",
    "3.  Draw a Koch curve with length `x/3`.\n",
    "\n",
    "4.  Turn right 120 degrees.\n",
    "\n",
    "5.  Draw a Koch curve with length `x/3`.\n",
    "\n",
    "6.  Turn left 60 degrees.\n",
    "\n",
    "7.  Draw a Koch curve with length `x/3`.\n",
    "\n",
    "The exception is if `x` is less than `5` -- in that case, you can just draw a straight line with length `x`.\n",
    "\n",
    "Write a function called `koch` that takes `x` as an argument and draws a Koch curve with the given length.\n"
   ]
  },
  {
   "cell_type": "code",
   "execution_count": 8,
   "id": "c1acc853",
   "metadata": {
    "id": "c1acc853"
   },
   "outputs": [],
   "source": [
    "# Solution \n",
    "\n",
    "def koch(x):\n",
    "    \"\"\" Koch curve approx - Fractal!\n",
    "    \"\"\"\n",
    "    if x < 5:\n",
    "        forward(x)\n",
    "        return\n",
    "    koch(x/3)\n",
    "    left(60)\n",
    "    koch(x/3)\n",
    "    right(120)\n",
    "    koch(x/3)\n",
    "    left(60)\n",
    "    koch(x/3)"
   ]
  },
  {
   "cell_type": "markdown",
   "id": "2991143a",
   "metadata": {
    "id": "2991143a"
   },
   "source": [
    "The result should look like this:"
   ]
  },
  {
   "cell_type": "code",
   "execution_count": 9,
   "id": "55507716",
   "metadata": {
    "id": "55507716"
   },
   "outputs": [
    {
     "data": {
      "text/html": [
       "<svg width=\"300\" height=\"150\">\n",
       "    <rect width=\"100%\" height=\"100%\" fill=\"#F3F3F7\" />\n",
       "\n",
       "<line x1=\"150\" y1=\"75\" x2=\"154.4\" y2=\"75.0\"\n",
       "    stroke=\"#663399\" stroke-width=\"2\" />\n",
       "<line x1=\"154.4\" y1=\"75.0\" x2=\"156.7\" y2=\"71.2\"\n",
       "    stroke=\"#663399\" stroke-width=\"2\" />\n",
       "<line x1=\"156.7\" y1=\"71.2\" x2=\"158.9\" y2=\"75.0\"\n",
       "    stroke=\"#663399\" stroke-width=\"2\" />\n",
       "<line x1=\"158.9\" y1=\"75.0\" x2=\"163.3\" y2=\"75.0\"\n",
       "    stroke=\"#663399\" stroke-width=\"2\" />\n",
       "<line x1=\"163.3\" y1=\"75.0\" x2=\"165.6\" y2=\"71.2\"\n",
       "    stroke=\"#663399\" stroke-width=\"2\" />\n",
       "<line x1=\"165.6\" y1=\"71.2\" x2=\"163.3\" y2=\"67.3\"\n",
       "    stroke=\"#663399\" stroke-width=\"2\" />\n",
       "<line x1=\"163.3\" y1=\"67.3\" x2=\"167.8\" y2=\"67.3\"\n",
       "    stroke=\"#663399\" stroke-width=\"2\" />\n",
       "<line x1=\"167.8\" y1=\"67.3\" x2=\"170.0\" y2=\"63.5\"\n",
       "    stroke=\"#663399\" stroke-width=\"2\" />\n",
       "<line x1=\"170.0\" y1=\"63.5\" x2=\"172.2\" y2=\"67.3\"\n",
       "    stroke=\"#663399\" stroke-width=\"2\" />\n",
       "<line x1=\"172.2\" y1=\"67.3\" x2=\"176.7\" y2=\"67.3\"\n",
       "    stroke=\"#663399\" stroke-width=\"2\" />\n",
       "<line x1=\"176.7\" y1=\"67.3\" x2=\"174.4\" y2=\"71.2\"\n",
       "    stroke=\"#663399\" stroke-width=\"2\" />\n",
       "<line x1=\"174.4\" y1=\"71.2\" x2=\"176.7\" y2=\"75.0\"\n",
       "    stroke=\"#663399\" stroke-width=\"2\" />\n",
       "<line x1=\"176.7\" y1=\"75.0\" x2=\"181.1\" y2=\"75.0\"\n",
       "    stroke=\"#663399\" stroke-width=\"2\" />\n",
       "<line x1=\"181.1\" y1=\"75.0\" x2=\"183.3\" y2=\"71.2\"\n",
       "    stroke=\"#663399\" stroke-width=\"2\" />\n",
       "<line x1=\"183.3\" y1=\"71.2\" x2=\"185.6\" y2=\"75.0\"\n",
       "    stroke=\"#663399\" stroke-width=\"2\" />\n",
       "<line x1=\"185.6\" y1=\"75.0\" x2=\"190.0\" y2=\"75.0\"\n",
       "    stroke=\"#663399\" stroke-width=\"2\" />\n",
       "<line x1=\"190.0\" y1=\"75.0\" x2=\"192.2\" y2=\"71.2\"\n",
       "    stroke=\"#663399\" stroke-width=\"2\" />\n",
       "<line x1=\"192.2\" y1=\"71.2\" x2=\"190.0\" y2=\"67.3\"\n",
       "    stroke=\"#663399\" stroke-width=\"2\" />\n",
       "<line x1=\"190.0\" y1=\"67.3\" x2=\"194.4\" y2=\"67.3\"\n",
       "    stroke=\"#663399\" stroke-width=\"2\" />\n",
       "<line x1=\"194.4\" y1=\"67.3\" x2=\"196.7\" y2=\"63.5\"\n",
       "    stroke=\"#663399\" stroke-width=\"2\" />\n",
       "<line x1=\"196.7\" y1=\"63.5\" x2=\"194.4\" y2=\"59.6\"\n",
       "    stroke=\"#663399\" stroke-width=\"2\" />\n",
       "<line x1=\"194.4\" y1=\"59.6\" x2=\"190.0\" y2=\"59.6\"\n",
       "    stroke=\"#663399\" stroke-width=\"2\" />\n",
       "<line x1=\"190.0\" y1=\"59.6\" x2=\"192.2\" y2=\"55.8\"\n",
       "    stroke=\"#663399\" stroke-width=\"2\" />\n",
       "<line x1=\"192.2\" y1=\"55.8\" x2=\"190.0\" y2=\"51.9\"\n",
       "    stroke=\"#663399\" stroke-width=\"2\" />\n",
       "<line x1=\"190.0\" y1=\"51.9\" x2=\"194.4\" y2=\"51.9\"\n",
       "    stroke=\"#663399\" stroke-width=\"2\" />\n",
       "<line x1=\"194.4\" y1=\"51.9\" x2=\"196.7\" y2=\"48.1\"\n",
       "    stroke=\"#663399\" stroke-width=\"2\" />\n",
       "<line x1=\"196.7\" y1=\"48.1\" x2=\"198.9\" y2=\"51.9\"\n",
       "    stroke=\"#663399\" stroke-width=\"2\" />\n",
       "<line x1=\"198.9\" y1=\"51.9\" x2=\"203.3\" y2=\"51.9\"\n",
       "    stroke=\"#663399\" stroke-width=\"2\" />\n",
       "<line x1=\"203.3\" y1=\"51.9\" x2=\"205.6\" y2=\"48.1\"\n",
       "    stroke=\"#663399\" stroke-width=\"2\" />\n",
       "<line x1=\"205.6\" y1=\"48.1\" x2=\"203.3\" y2=\"44.2\"\n",
       "    stroke=\"#663399\" stroke-width=\"2\" />\n",
       "<line x1=\"203.3\" y1=\"44.2\" x2=\"207.8\" y2=\"44.2\"\n",
       "    stroke=\"#663399\" stroke-width=\"2\" />\n",
       "<line x1=\"207.8\" y1=\"44.2\" x2=\"210.0\" y2=\"40.4\"\n",
       "    stroke=\"#663399\" stroke-width=\"2\" />\n",
       "<line x1=\"210.0\" y1=\"40.4\" x2=\"212.2\" y2=\"44.2\"\n",
       "    stroke=\"#663399\" stroke-width=\"2\" />\n",
       "<line x1=\"212.2\" y1=\"44.2\" x2=\"216.7\" y2=\"44.2\"\n",
       "    stroke=\"#663399\" stroke-width=\"2\" />\n",
       "<line x1=\"216.7\" y1=\"44.2\" x2=\"214.4\" y2=\"48.1\"\n",
       "    stroke=\"#663399\" stroke-width=\"2\" />\n",
       "<line x1=\"214.4\" y1=\"48.1\" x2=\"216.7\" y2=\"51.9\"\n",
       "    stroke=\"#663399\" stroke-width=\"2\" />\n",
       "<line x1=\"216.7\" y1=\"51.9\" x2=\"221.1\" y2=\"51.9\"\n",
       "    stroke=\"#663399\" stroke-width=\"2\" />\n",
       "<line x1=\"221.1\" y1=\"51.9\" x2=\"223.3\" y2=\"48.1\"\n",
       "    stroke=\"#663399\" stroke-width=\"2\" />\n",
       "<line x1=\"223.3\" y1=\"48.1\" x2=\"225.6\" y2=\"51.9\"\n",
       "    stroke=\"#663399\" stroke-width=\"2\" />\n",
       "<line x1=\"225.6\" y1=\"51.9\" x2=\"230.0\" y2=\"51.9\"\n",
       "    stroke=\"#663399\" stroke-width=\"2\" />\n",
       "<line x1=\"230.0\" y1=\"51.9\" x2=\"227.8\" y2=\"55.8\"\n",
       "    stroke=\"#663399\" stroke-width=\"2\" />\n",
       "<line x1=\"227.8\" y1=\"55.8\" x2=\"230.0\" y2=\"59.6\"\n",
       "    stroke=\"#663399\" stroke-width=\"2\" />\n",
       "<line x1=\"230.0\" y1=\"59.6\" x2=\"225.6\" y2=\"59.6\"\n",
       "    stroke=\"#663399\" stroke-width=\"2\" />\n",
       "<line x1=\"225.6\" y1=\"59.6\" x2=\"223.3\" y2=\"63.5\"\n",
       "    stroke=\"#663399\" stroke-width=\"2\" />\n",
       "<line x1=\"223.3\" y1=\"63.5\" x2=\"225.6\" y2=\"67.3\"\n",
       "    stroke=\"#663399\" stroke-width=\"2\" />\n",
       "<line x1=\"225.6\" y1=\"67.3\" x2=\"230.0\" y2=\"67.3\"\n",
       "    stroke=\"#663399\" stroke-width=\"2\" />\n",
       "<line x1=\"230.0\" y1=\"67.3\" x2=\"227.8\" y2=\"71.2\"\n",
       "    stroke=\"#663399\" stroke-width=\"2\" />\n",
       "<line x1=\"227.8\" y1=\"71.2\" x2=\"230.0\" y2=\"75.0\"\n",
       "    stroke=\"#663399\" stroke-width=\"2\" />\n",
       "<line x1=\"230.0\" y1=\"75.0\" x2=\"234.4\" y2=\"75.0\"\n",
       "    stroke=\"#663399\" stroke-width=\"2\" />\n",
       "<line x1=\"234.4\" y1=\"75.0\" x2=\"236.7\" y2=\"71.2\"\n",
       "    stroke=\"#663399\" stroke-width=\"2\" />\n",
       "<line x1=\"236.7\" y1=\"71.2\" x2=\"238.9\" y2=\"75.0\"\n",
       "    stroke=\"#663399\" stroke-width=\"2\" />\n",
       "<line x1=\"238.9\" y1=\"75.0\" x2=\"243.3\" y2=\"75.0\"\n",
       "    stroke=\"#663399\" stroke-width=\"2\" />\n",
       "<line x1=\"243.3\" y1=\"75.0\" x2=\"245.6\" y2=\"71.2\"\n",
       "    stroke=\"#663399\" stroke-width=\"2\" />\n",
       "<line x1=\"245.6\" y1=\"71.2\" x2=\"243.3\" y2=\"67.3\"\n",
       "    stroke=\"#663399\" stroke-width=\"2\" />\n",
       "<line x1=\"243.3\" y1=\"67.3\" x2=\"247.8\" y2=\"67.3\"\n",
       "    stroke=\"#663399\" stroke-width=\"2\" />\n",
       "<line x1=\"247.8\" y1=\"67.3\" x2=\"250.0\" y2=\"63.5\"\n",
       "    stroke=\"#663399\" stroke-width=\"2\" />\n",
       "<line x1=\"250.0\" y1=\"63.5\" x2=\"252.2\" y2=\"67.3\"\n",
       "    stroke=\"#663399\" stroke-width=\"2\" />\n",
       "<line x1=\"252.2\" y1=\"67.3\" x2=\"256.7\" y2=\"67.3\"\n",
       "    stroke=\"#663399\" stroke-width=\"2\" />\n",
       "<line x1=\"256.7\" y1=\"67.3\" x2=\"254.4\" y2=\"71.2\"\n",
       "    stroke=\"#663399\" stroke-width=\"2\" />\n",
       "<line x1=\"254.4\" y1=\"71.2\" x2=\"256.7\" y2=\"75.0\"\n",
       "    stroke=\"#663399\" stroke-width=\"2\" />\n",
       "<line x1=\"256.7\" y1=\"75.0\" x2=\"261.1\" y2=\"75.0\"\n",
       "    stroke=\"#663399\" stroke-width=\"2\" />\n",
       "<line x1=\"261.1\" y1=\"75.0\" x2=\"263.3\" y2=\"71.2\"\n",
       "    stroke=\"#663399\" stroke-width=\"2\" />\n",
       "<line x1=\"263.3\" y1=\"71.2\" x2=\"265.6\" y2=\"75.0\"\n",
       "    stroke=\"#663399\" stroke-width=\"2\" />\n",
       "<line x1=\"265.6\" y1=\"75.0\" x2=\"270.0\" y2=\"75.0\"\n",
       "    stroke=\"#663399\" stroke-width=\"2\" />\n",
       "\n",
       "<g transform=\"rotate(-90.0,270.0,75.0) translate(270.0, 75.0)\">\n",
       "    <circle stroke=\"#63A375\" stroke-width=\"2\" fill=\"transparent\" r=\"5.5\" cx=\"0\" cy=\"0\"/>\n",
       "    <polygon points=\"0,12 2,9 -2,9\" style=\"fill:#63A375;stroke:#63A375;stroke-width:2\"/>\n",
       "</g>\n",
       "\n",
       "</svg>"
      ],
      "text/plain": [
       "<IPython.core.display.HTML object>"
      ]
     },
     "metadata": {},
     "output_type": "display_data"
    }
   ],
   "source": [
    "make_turtle(delay=0)\n",
    "koch(120)"
   ]
  },
  {
   "cell_type": "markdown",
   "id": "b1c58420",
   "metadata": {
    "id": "b1c58420",
    "tags": []
   },
   "source": [
    "Once you have koch working, you can use this loop to draw three Koch curves in the shape of a snowflake."
   ]
  },
  {
   "cell_type": "code",
   "execution_count": 10,
   "id": "86d3123b",
   "metadata": {
    "id": "86d3123b",
    "tags": []
   },
   "outputs": [
    {
     "data": {
      "text/html": [
       "<svg width=\"300\" height=\"300\">\n",
       "    <rect width=\"100%\" height=\"100%\" fill=\"#F3F3F7\" />\n",
       "\n",
       "<line x1=\"150\" y1=\"150\" x2=\"154.4\" y2=\"150.0\"\n",
       "    stroke=\"#663399\" stroke-width=\"2\" />\n",
       "<line x1=\"154.4\" y1=\"150.0\" x2=\"156.7\" y2=\"146.2\"\n",
       "    stroke=\"#663399\" stroke-width=\"2\" />\n",
       "<line x1=\"156.7\" y1=\"146.2\" x2=\"158.9\" y2=\"150.0\"\n",
       "    stroke=\"#663399\" stroke-width=\"2\" />\n",
       "<line x1=\"158.9\" y1=\"150.0\" x2=\"163.3\" y2=\"150.0\"\n",
       "    stroke=\"#663399\" stroke-width=\"2\" />\n",
       "<line x1=\"163.3\" y1=\"150.0\" x2=\"165.6\" y2=\"146.2\"\n",
       "    stroke=\"#663399\" stroke-width=\"2\" />\n",
       "<line x1=\"165.6\" y1=\"146.2\" x2=\"163.3\" y2=\"142.3\"\n",
       "    stroke=\"#663399\" stroke-width=\"2\" />\n",
       "<line x1=\"163.3\" y1=\"142.3\" x2=\"167.8\" y2=\"142.3\"\n",
       "    stroke=\"#663399\" stroke-width=\"2\" />\n",
       "<line x1=\"167.8\" y1=\"142.3\" x2=\"170.0\" y2=\"138.5\"\n",
       "    stroke=\"#663399\" stroke-width=\"2\" />\n",
       "<line x1=\"170.0\" y1=\"138.5\" x2=\"172.2\" y2=\"142.3\"\n",
       "    stroke=\"#663399\" stroke-width=\"2\" />\n",
       "<line x1=\"172.2\" y1=\"142.3\" x2=\"176.7\" y2=\"142.3\"\n",
       "    stroke=\"#663399\" stroke-width=\"2\" />\n",
       "<line x1=\"176.7\" y1=\"142.3\" x2=\"174.4\" y2=\"146.2\"\n",
       "    stroke=\"#663399\" stroke-width=\"2\" />\n",
       "<line x1=\"174.4\" y1=\"146.2\" x2=\"176.7\" y2=\"150.0\"\n",
       "    stroke=\"#663399\" stroke-width=\"2\" />\n",
       "<line x1=\"176.7\" y1=\"150.0\" x2=\"181.1\" y2=\"150.0\"\n",
       "    stroke=\"#663399\" stroke-width=\"2\" />\n",
       "<line x1=\"181.1\" y1=\"150.0\" x2=\"183.3\" y2=\"146.2\"\n",
       "    stroke=\"#663399\" stroke-width=\"2\" />\n",
       "<line x1=\"183.3\" y1=\"146.2\" x2=\"185.6\" y2=\"150.0\"\n",
       "    stroke=\"#663399\" stroke-width=\"2\" />\n",
       "<line x1=\"185.6\" y1=\"150.0\" x2=\"190.0\" y2=\"150.0\"\n",
       "    stroke=\"#663399\" stroke-width=\"2\" />\n",
       "<line x1=\"190.0\" y1=\"150.0\" x2=\"192.2\" y2=\"146.2\"\n",
       "    stroke=\"#663399\" stroke-width=\"2\" />\n",
       "<line x1=\"192.2\" y1=\"146.2\" x2=\"190.0\" y2=\"142.3\"\n",
       "    stroke=\"#663399\" stroke-width=\"2\" />\n",
       "<line x1=\"190.0\" y1=\"142.3\" x2=\"194.4\" y2=\"142.3\"\n",
       "    stroke=\"#663399\" stroke-width=\"2\" />\n",
       "<line x1=\"194.4\" y1=\"142.3\" x2=\"196.7\" y2=\"138.5\"\n",
       "    stroke=\"#663399\" stroke-width=\"2\" />\n",
       "<line x1=\"196.7\" y1=\"138.5\" x2=\"194.4\" y2=\"134.6\"\n",
       "    stroke=\"#663399\" stroke-width=\"2\" />\n",
       "<line x1=\"194.4\" y1=\"134.6\" x2=\"190.0\" y2=\"134.6\"\n",
       "    stroke=\"#663399\" stroke-width=\"2\" />\n",
       "<line x1=\"190.0\" y1=\"134.6\" x2=\"192.2\" y2=\"130.8\"\n",
       "    stroke=\"#663399\" stroke-width=\"2\" />\n",
       "<line x1=\"192.2\" y1=\"130.8\" x2=\"190.0\" y2=\"126.9\"\n",
       "    stroke=\"#663399\" stroke-width=\"2\" />\n",
       "<line x1=\"190.0\" y1=\"126.9\" x2=\"194.4\" y2=\"126.9\"\n",
       "    stroke=\"#663399\" stroke-width=\"2\" />\n",
       "<line x1=\"194.4\" y1=\"126.9\" x2=\"196.7\" y2=\"123.1\"\n",
       "    stroke=\"#663399\" stroke-width=\"2\" />\n",
       "<line x1=\"196.7\" y1=\"123.1\" x2=\"198.9\" y2=\"126.9\"\n",
       "    stroke=\"#663399\" stroke-width=\"2\" />\n",
       "<line x1=\"198.9\" y1=\"126.9\" x2=\"203.3\" y2=\"126.9\"\n",
       "    stroke=\"#663399\" stroke-width=\"2\" />\n",
       "<line x1=\"203.3\" y1=\"126.9\" x2=\"205.6\" y2=\"123.1\"\n",
       "    stroke=\"#663399\" stroke-width=\"2\" />\n",
       "<line x1=\"205.6\" y1=\"123.1\" x2=\"203.3\" y2=\"119.2\"\n",
       "    stroke=\"#663399\" stroke-width=\"2\" />\n",
       "<line x1=\"203.3\" y1=\"119.2\" x2=\"207.8\" y2=\"119.2\"\n",
       "    stroke=\"#663399\" stroke-width=\"2\" />\n",
       "<line x1=\"207.8\" y1=\"119.2\" x2=\"210.0\" y2=\"115.4\"\n",
       "    stroke=\"#663399\" stroke-width=\"2\" />\n",
       "<line x1=\"210.0\" y1=\"115.4\" x2=\"212.2\" y2=\"119.2\"\n",
       "    stroke=\"#663399\" stroke-width=\"2\" />\n",
       "<line x1=\"212.2\" y1=\"119.2\" x2=\"216.7\" y2=\"119.2\"\n",
       "    stroke=\"#663399\" stroke-width=\"2\" />\n",
       "<line x1=\"216.7\" y1=\"119.2\" x2=\"214.4\" y2=\"123.1\"\n",
       "    stroke=\"#663399\" stroke-width=\"2\" />\n",
       "<line x1=\"214.4\" y1=\"123.1\" x2=\"216.7\" y2=\"126.9\"\n",
       "    stroke=\"#663399\" stroke-width=\"2\" />\n",
       "<line x1=\"216.7\" y1=\"126.9\" x2=\"221.1\" y2=\"126.9\"\n",
       "    stroke=\"#663399\" stroke-width=\"2\" />\n",
       "<line x1=\"221.1\" y1=\"126.9\" x2=\"223.3\" y2=\"123.1\"\n",
       "    stroke=\"#663399\" stroke-width=\"2\" />\n",
       "<line x1=\"223.3\" y1=\"123.1\" x2=\"225.6\" y2=\"126.9\"\n",
       "    stroke=\"#663399\" stroke-width=\"2\" />\n",
       "<line x1=\"225.6\" y1=\"126.9\" x2=\"230.0\" y2=\"126.9\"\n",
       "    stroke=\"#663399\" stroke-width=\"2\" />\n",
       "<line x1=\"230.0\" y1=\"126.9\" x2=\"227.8\" y2=\"130.8\"\n",
       "    stroke=\"#663399\" stroke-width=\"2\" />\n",
       "<line x1=\"227.8\" y1=\"130.8\" x2=\"230.0\" y2=\"134.6\"\n",
       "    stroke=\"#663399\" stroke-width=\"2\" />\n",
       "<line x1=\"230.0\" y1=\"134.6\" x2=\"225.6\" y2=\"134.6\"\n",
       "    stroke=\"#663399\" stroke-width=\"2\" />\n",
       "<line x1=\"225.6\" y1=\"134.6\" x2=\"223.3\" y2=\"138.5\"\n",
       "    stroke=\"#663399\" stroke-width=\"2\" />\n",
       "<line x1=\"223.3\" y1=\"138.5\" x2=\"225.6\" y2=\"142.3\"\n",
       "    stroke=\"#663399\" stroke-width=\"2\" />\n",
       "<line x1=\"225.6\" y1=\"142.3\" x2=\"230.0\" y2=\"142.3\"\n",
       "    stroke=\"#663399\" stroke-width=\"2\" />\n",
       "<line x1=\"230.0\" y1=\"142.3\" x2=\"227.8\" y2=\"146.2\"\n",
       "    stroke=\"#663399\" stroke-width=\"2\" />\n",
       "<line x1=\"227.8\" y1=\"146.2\" x2=\"230.0\" y2=\"150.0\"\n",
       "    stroke=\"#663399\" stroke-width=\"2\" />\n",
       "<line x1=\"230.0\" y1=\"150.0\" x2=\"234.4\" y2=\"150.0\"\n",
       "    stroke=\"#663399\" stroke-width=\"2\" />\n",
       "<line x1=\"234.4\" y1=\"150.0\" x2=\"236.7\" y2=\"146.2\"\n",
       "    stroke=\"#663399\" stroke-width=\"2\" />\n",
       "<line x1=\"236.7\" y1=\"146.2\" x2=\"238.9\" y2=\"150.0\"\n",
       "    stroke=\"#663399\" stroke-width=\"2\" />\n",
       "<line x1=\"238.9\" y1=\"150.0\" x2=\"243.3\" y2=\"150.0\"\n",
       "    stroke=\"#663399\" stroke-width=\"2\" />\n",
       "<line x1=\"243.3\" y1=\"150.0\" x2=\"245.6\" y2=\"146.2\"\n",
       "    stroke=\"#663399\" stroke-width=\"2\" />\n",
       "<line x1=\"245.6\" y1=\"146.2\" x2=\"243.3\" y2=\"142.3\"\n",
       "    stroke=\"#663399\" stroke-width=\"2\" />\n",
       "<line x1=\"243.3\" y1=\"142.3\" x2=\"247.8\" y2=\"142.3\"\n",
       "    stroke=\"#663399\" stroke-width=\"2\" />\n",
       "<line x1=\"247.8\" y1=\"142.3\" x2=\"250.0\" y2=\"138.5\"\n",
       "    stroke=\"#663399\" stroke-width=\"2\" />\n",
       "<line x1=\"250.0\" y1=\"138.5\" x2=\"252.2\" y2=\"142.3\"\n",
       "    stroke=\"#663399\" stroke-width=\"2\" />\n",
       "<line x1=\"252.2\" y1=\"142.3\" x2=\"256.7\" y2=\"142.3\"\n",
       "    stroke=\"#663399\" stroke-width=\"2\" />\n",
       "<line x1=\"256.7\" y1=\"142.3\" x2=\"254.4\" y2=\"146.2\"\n",
       "    stroke=\"#663399\" stroke-width=\"2\" />\n",
       "<line x1=\"254.4\" y1=\"146.2\" x2=\"256.7\" y2=\"150.0\"\n",
       "    stroke=\"#663399\" stroke-width=\"2\" />\n",
       "<line x1=\"256.7\" y1=\"150.0\" x2=\"261.1\" y2=\"150.0\"\n",
       "    stroke=\"#663399\" stroke-width=\"2\" />\n",
       "<line x1=\"261.1\" y1=\"150.0\" x2=\"263.3\" y2=\"146.2\"\n",
       "    stroke=\"#663399\" stroke-width=\"2\" />\n",
       "<line x1=\"263.3\" y1=\"146.2\" x2=\"265.6\" y2=\"150.0\"\n",
       "    stroke=\"#663399\" stroke-width=\"2\" />\n",
       "<line x1=\"265.6\" y1=\"150.0\" x2=\"270.0\" y2=\"150.0\"\n",
       "    stroke=\"#663399\" stroke-width=\"2\" />\n",
       "<line x1=\"270.0\" y1=\"150.0\" x2=\"267.8\" y2=\"153.8\"\n",
       "    stroke=\"#663399\" stroke-width=\"2\" />\n",
       "<line x1=\"267.8\" y1=\"153.8\" x2=\"270.0\" y2=\"157.7\"\n",
       "    stroke=\"#663399\" stroke-width=\"2\" />\n",
       "<line x1=\"270.0\" y1=\"157.7\" x2=\"265.6\" y2=\"157.7\"\n",
       "    stroke=\"#663399\" stroke-width=\"2\" />\n",
       "<line x1=\"265.6\" y1=\"157.7\" x2=\"263.3\" y2=\"161.5\"\n",
       "    stroke=\"#663399\" stroke-width=\"2\" />\n",
       "<line x1=\"263.3\" y1=\"161.5\" x2=\"265.6\" y2=\"165.4\"\n",
       "    stroke=\"#663399\" stroke-width=\"2\" />\n",
       "<line x1=\"265.6\" y1=\"165.4\" x2=\"270.0\" y2=\"165.4\"\n",
       "    stroke=\"#663399\" stroke-width=\"2\" />\n",
       "<line x1=\"270.0\" y1=\"165.4\" x2=\"267.8\" y2=\"169.2\"\n",
       "    stroke=\"#663399\" stroke-width=\"2\" />\n",
       "<line x1=\"267.8\" y1=\"169.2\" x2=\"270.0\" y2=\"173.1\"\n",
       "    stroke=\"#663399\" stroke-width=\"2\" />\n",
       "<line x1=\"270.0\" y1=\"173.1\" x2=\"265.6\" y2=\"173.1\"\n",
       "    stroke=\"#663399\" stroke-width=\"2\" />\n",
       "<line x1=\"265.6\" y1=\"173.1\" x2=\"263.3\" y2=\"176.9\"\n",
       "    stroke=\"#663399\" stroke-width=\"2\" />\n",
       "<line x1=\"263.3\" y1=\"176.9\" x2=\"261.1\" y2=\"173.1\"\n",
       "    stroke=\"#663399\" stroke-width=\"2\" />\n",
       "<line x1=\"261.1\" y1=\"173.1\" x2=\"256.7\" y2=\"173.1\"\n",
       "    stroke=\"#663399\" stroke-width=\"2\" />\n",
       "<line x1=\"256.7\" y1=\"173.1\" x2=\"254.4\" y2=\"176.9\"\n",
       "    stroke=\"#663399\" stroke-width=\"2\" />\n",
       "<line x1=\"254.4\" y1=\"176.9\" x2=\"256.7\" y2=\"180.8\"\n",
       "    stroke=\"#663399\" stroke-width=\"2\" />\n",
       "<line x1=\"256.7\" y1=\"180.8\" x2=\"252.2\" y2=\"180.8\"\n",
       "    stroke=\"#663399\" stroke-width=\"2\" />\n",
       "<line x1=\"252.2\" y1=\"180.8\" x2=\"250.0\" y2=\"184.6\"\n",
       "    stroke=\"#663399\" stroke-width=\"2\" />\n",
       "<line x1=\"250.0\" y1=\"184.6\" x2=\"252.2\" y2=\"188.5\"\n",
       "    stroke=\"#663399\" stroke-width=\"2\" />\n",
       "<line x1=\"252.2\" y1=\"188.5\" x2=\"256.7\" y2=\"188.5\"\n",
       "    stroke=\"#663399\" stroke-width=\"2\" />\n",
       "<line x1=\"256.7\" y1=\"188.5\" x2=\"254.4\" y2=\"192.3\"\n",
       "    stroke=\"#663399\" stroke-width=\"2\" />\n",
       "<line x1=\"254.4\" y1=\"192.3\" x2=\"256.7\" y2=\"196.2\"\n",
       "    stroke=\"#663399\" stroke-width=\"2\" />\n",
       "<line x1=\"256.7\" y1=\"196.2\" x2=\"261.1\" y2=\"196.2\"\n",
       "    stroke=\"#663399\" stroke-width=\"2\" />\n",
       "<line x1=\"261.1\" y1=\"196.2\" x2=\"263.3\" y2=\"192.3\"\n",
       "    stroke=\"#663399\" stroke-width=\"2\" />\n",
       "<line x1=\"263.3\" y1=\"192.3\" x2=\"265.6\" y2=\"196.2\"\n",
       "    stroke=\"#663399\" stroke-width=\"2\" />\n",
       "<line x1=\"265.6\" y1=\"196.2\" x2=\"270.0\" y2=\"196.2\"\n",
       "    stroke=\"#663399\" stroke-width=\"2\" />\n",
       "<line x1=\"270.0\" y1=\"196.2\" x2=\"267.8\" y2=\"200.0\"\n",
       "    stroke=\"#663399\" stroke-width=\"2\" />\n",
       "<line x1=\"267.8\" y1=\"200.0\" x2=\"270.0\" y2=\"203.9\"\n",
       "    stroke=\"#663399\" stroke-width=\"2\" />\n",
       "<line x1=\"270.0\" y1=\"203.9\" x2=\"265.6\" y2=\"203.9\"\n",
       "    stroke=\"#663399\" stroke-width=\"2\" />\n",
       "<line x1=\"265.6\" y1=\"203.9\" x2=\"263.3\" y2=\"207.7\"\n",
       "    stroke=\"#663399\" stroke-width=\"2\" />\n",
       "<line x1=\"263.3\" y1=\"207.7\" x2=\"265.6\" y2=\"211.6\"\n",
       "    stroke=\"#663399\" stroke-width=\"2\" />\n",
       "<line x1=\"265.6\" y1=\"211.6\" x2=\"270.0\" y2=\"211.6\"\n",
       "    stroke=\"#663399\" stroke-width=\"2\" />\n",
       "<line x1=\"270.0\" y1=\"211.6\" x2=\"267.8\" y2=\"215.4\"\n",
       "    stroke=\"#663399\" stroke-width=\"2\" />\n",
       "<line x1=\"267.8\" y1=\"215.4\" x2=\"270.0\" y2=\"219.3\"\n",
       "    stroke=\"#663399\" stroke-width=\"2\" />\n",
       "<line x1=\"270.0\" y1=\"219.3\" x2=\"265.6\" y2=\"219.3\"\n",
       "    stroke=\"#663399\" stroke-width=\"2\" />\n",
       "<line x1=\"265.6\" y1=\"219.3\" x2=\"263.3\" y2=\"223.1\"\n",
       "    stroke=\"#663399\" stroke-width=\"2\" />\n",
       "<line x1=\"263.3\" y1=\"223.1\" x2=\"261.1\" y2=\"219.3\"\n",
       "    stroke=\"#663399\" stroke-width=\"2\" />\n",
       "<line x1=\"261.1\" y1=\"219.3\" x2=\"256.7\" y2=\"219.3\"\n",
       "    stroke=\"#663399\" stroke-width=\"2\" />\n",
       "<line x1=\"256.7\" y1=\"219.3\" x2=\"254.4\" y2=\"223.1\"\n",
       "    stroke=\"#663399\" stroke-width=\"2\" />\n",
       "<line x1=\"254.4\" y1=\"223.1\" x2=\"256.7\" y2=\"227.0\"\n",
       "    stroke=\"#663399\" stroke-width=\"2\" />\n",
       "<line x1=\"256.7\" y1=\"227.0\" x2=\"252.2\" y2=\"227.0\"\n",
       "    stroke=\"#663399\" stroke-width=\"2\" />\n",
       "<line x1=\"252.2\" y1=\"227.0\" x2=\"250.0\" y2=\"230.8\"\n",
       "    stroke=\"#663399\" stroke-width=\"2\" />\n",
       "<line x1=\"250.0\" y1=\"230.8\" x2=\"247.8\" y2=\"227.0\"\n",
       "    stroke=\"#663399\" stroke-width=\"2\" />\n",
       "<line x1=\"247.8\" y1=\"227.0\" x2=\"243.3\" y2=\"227.0\"\n",
       "    stroke=\"#663399\" stroke-width=\"2\" />\n",
       "<line x1=\"243.3\" y1=\"227.0\" x2=\"245.6\" y2=\"223.1\"\n",
       "    stroke=\"#663399\" stroke-width=\"2\" />\n",
       "<line x1=\"245.6\" y1=\"223.1\" x2=\"243.3\" y2=\"219.3\"\n",
       "    stroke=\"#663399\" stroke-width=\"2\" />\n",
       "<line x1=\"243.3\" y1=\"219.3\" x2=\"238.9\" y2=\"219.3\"\n",
       "    stroke=\"#663399\" stroke-width=\"2\" />\n",
       "<line x1=\"238.9\" y1=\"219.3\" x2=\"236.7\" y2=\"223.1\"\n",
       "    stroke=\"#663399\" stroke-width=\"2\" />\n",
       "<line x1=\"236.7\" y1=\"223.1\" x2=\"234.4\" y2=\"219.3\"\n",
       "    stroke=\"#663399\" stroke-width=\"2\" />\n",
       "<line x1=\"234.4\" y1=\"219.3\" x2=\"230.0\" y2=\"219.3\"\n",
       "    stroke=\"#663399\" stroke-width=\"2\" />\n",
       "<line x1=\"230.0\" y1=\"219.3\" x2=\"227.8\" y2=\"223.1\"\n",
       "    stroke=\"#663399\" stroke-width=\"2\" />\n",
       "<line x1=\"227.8\" y1=\"223.1\" x2=\"230.0\" y2=\"227.0\"\n",
       "    stroke=\"#663399\" stroke-width=\"2\" />\n",
       "<line x1=\"230.0\" y1=\"227.0\" x2=\"225.6\" y2=\"227.0\"\n",
       "    stroke=\"#663399\" stroke-width=\"2\" />\n",
       "<line x1=\"225.6\" y1=\"227.0\" x2=\"223.3\" y2=\"230.8\"\n",
       "    stroke=\"#663399\" stroke-width=\"2\" />\n",
       "<line x1=\"223.3\" y1=\"230.8\" x2=\"225.6\" y2=\"234.7\"\n",
       "    stroke=\"#663399\" stroke-width=\"2\" />\n",
       "<line x1=\"225.6\" y1=\"234.7\" x2=\"230.0\" y2=\"234.7\"\n",
       "    stroke=\"#663399\" stroke-width=\"2\" />\n",
       "<line x1=\"230.0\" y1=\"234.7\" x2=\"227.8\" y2=\"238.5\"\n",
       "    stroke=\"#663399\" stroke-width=\"2\" />\n",
       "<line x1=\"227.8\" y1=\"238.5\" x2=\"230.0\" y2=\"242.4\"\n",
       "    stroke=\"#663399\" stroke-width=\"2\" />\n",
       "<line x1=\"230.0\" y1=\"242.4\" x2=\"225.6\" y2=\"242.4\"\n",
       "    stroke=\"#663399\" stroke-width=\"2\" />\n",
       "<line x1=\"225.6\" y1=\"242.4\" x2=\"223.3\" y2=\"246.2\"\n",
       "    stroke=\"#663399\" stroke-width=\"2\" />\n",
       "<line x1=\"223.3\" y1=\"246.2\" x2=\"221.1\" y2=\"242.4\"\n",
       "    stroke=\"#663399\" stroke-width=\"2\" />\n",
       "<line x1=\"221.1\" y1=\"242.4\" x2=\"216.7\" y2=\"242.4\"\n",
       "    stroke=\"#663399\" stroke-width=\"2\" />\n",
       "<line x1=\"216.7\" y1=\"242.4\" x2=\"214.4\" y2=\"246.2\"\n",
       "    stroke=\"#663399\" stroke-width=\"2\" />\n",
       "<line x1=\"214.4\" y1=\"246.2\" x2=\"216.7\" y2=\"250.1\"\n",
       "    stroke=\"#663399\" stroke-width=\"2\" />\n",
       "<line x1=\"216.7\" y1=\"250.1\" x2=\"212.2\" y2=\"250.1\"\n",
       "    stroke=\"#663399\" stroke-width=\"2\" />\n",
       "<line x1=\"212.2\" y1=\"250.1\" x2=\"210.0\" y2=\"253.9\"\n",
       "    stroke=\"#663399\" stroke-width=\"2\" />\n",
       "<line x1=\"210.0\" y1=\"253.9\" x2=\"207.8\" y2=\"250.1\"\n",
       "    stroke=\"#663399\" stroke-width=\"2\" />\n",
       "<line x1=\"207.8\" y1=\"250.1\" x2=\"203.3\" y2=\"250.1\"\n",
       "    stroke=\"#663399\" stroke-width=\"2\" />\n",
       "<line x1=\"203.3\" y1=\"250.1\" x2=\"205.6\" y2=\"246.2\"\n",
       "    stroke=\"#663399\" stroke-width=\"2\" />\n",
       "<line x1=\"205.6\" y1=\"246.2\" x2=\"203.3\" y2=\"242.4\"\n",
       "    stroke=\"#663399\" stroke-width=\"2\" />\n",
       "<line x1=\"203.3\" y1=\"242.4\" x2=\"198.9\" y2=\"242.4\"\n",
       "    stroke=\"#663399\" stroke-width=\"2\" />\n",
       "<line x1=\"198.9\" y1=\"242.4\" x2=\"196.7\" y2=\"246.2\"\n",
       "    stroke=\"#663399\" stroke-width=\"2\" />\n",
       "<line x1=\"196.7\" y1=\"246.2\" x2=\"194.4\" y2=\"242.4\"\n",
       "    stroke=\"#663399\" stroke-width=\"2\" />\n",
       "<line x1=\"194.4\" y1=\"242.4\" x2=\"190.0\" y2=\"242.4\"\n",
       "    stroke=\"#663399\" stroke-width=\"2\" />\n",
       "<line x1=\"190.0\" y1=\"242.4\" x2=\"192.2\" y2=\"238.5\"\n",
       "    stroke=\"#663399\" stroke-width=\"2\" />\n",
       "<line x1=\"192.2\" y1=\"238.5\" x2=\"190.0\" y2=\"234.7\"\n",
       "    stroke=\"#663399\" stroke-width=\"2\" />\n",
       "<line x1=\"190.0\" y1=\"234.7\" x2=\"194.4\" y2=\"234.7\"\n",
       "    stroke=\"#663399\" stroke-width=\"2\" />\n",
       "<line x1=\"194.4\" y1=\"234.7\" x2=\"196.7\" y2=\"230.8\"\n",
       "    stroke=\"#663399\" stroke-width=\"2\" />\n",
       "<line x1=\"196.7\" y1=\"230.8\" x2=\"194.4\" y2=\"227.0\"\n",
       "    stroke=\"#663399\" stroke-width=\"2\" />\n",
       "<line x1=\"194.4\" y1=\"227.0\" x2=\"190.0\" y2=\"227.0\"\n",
       "    stroke=\"#663399\" stroke-width=\"2\" />\n",
       "<line x1=\"190.0\" y1=\"227.0\" x2=\"192.2\" y2=\"223.1\"\n",
       "    stroke=\"#663399\" stroke-width=\"2\" />\n",
       "<line x1=\"192.2\" y1=\"223.1\" x2=\"190.0\" y2=\"219.3\"\n",
       "    stroke=\"#663399\" stroke-width=\"2\" />\n",
       "<line x1=\"190.0\" y1=\"219.3\" x2=\"185.6\" y2=\"219.3\"\n",
       "    stroke=\"#663399\" stroke-width=\"2\" />\n",
       "<line x1=\"185.6\" y1=\"219.3\" x2=\"183.3\" y2=\"223.1\"\n",
       "    stroke=\"#663399\" stroke-width=\"2\" />\n",
       "<line x1=\"183.3\" y1=\"223.1\" x2=\"181.1\" y2=\"219.3\"\n",
       "    stroke=\"#663399\" stroke-width=\"2\" />\n",
       "<line x1=\"181.1\" y1=\"219.3\" x2=\"176.7\" y2=\"219.3\"\n",
       "    stroke=\"#663399\" stroke-width=\"2\" />\n",
       "<line x1=\"176.7\" y1=\"219.3\" x2=\"174.4\" y2=\"223.1\"\n",
       "    stroke=\"#663399\" stroke-width=\"2\" />\n",
       "<line x1=\"174.4\" y1=\"223.1\" x2=\"176.7\" y2=\"227.0\"\n",
       "    stroke=\"#663399\" stroke-width=\"2\" />\n",
       "<line x1=\"176.7\" y1=\"227.0\" x2=\"172.2\" y2=\"227.0\"\n",
       "    stroke=\"#663399\" stroke-width=\"2\" />\n",
       "<line x1=\"172.2\" y1=\"227.0\" x2=\"170.0\" y2=\"230.8\"\n",
       "    stroke=\"#663399\" stroke-width=\"2\" />\n",
       "<line x1=\"170.0\" y1=\"230.8\" x2=\"167.8\" y2=\"227.0\"\n",
       "    stroke=\"#663399\" stroke-width=\"2\" />\n",
       "<line x1=\"167.8\" y1=\"227.0\" x2=\"163.3\" y2=\"227.0\"\n",
       "    stroke=\"#663399\" stroke-width=\"2\" />\n",
       "<line x1=\"163.3\" y1=\"227.0\" x2=\"165.6\" y2=\"223.1\"\n",
       "    stroke=\"#663399\" stroke-width=\"2\" />\n",
       "<line x1=\"165.6\" y1=\"223.1\" x2=\"163.3\" y2=\"219.3\"\n",
       "    stroke=\"#663399\" stroke-width=\"2\" />\n",
       "<line x1=\"163.3\" y1=\"219.3\" x2=\"158.9\" y2=\"219.3\"\n",
       "    stroke=\"#663399\" stroke-width=\"2\" />\n",
       "<line x1=\"158.9\" y1=\"219.3\" x2=\"156.7\" y2=\"223.1\"\n",
       "    stroke=\"#663399\" stroke-width=\"2\" />\n",
       "<line x1=\"156.7\" y1=\"223.1\" x2=\"154.4\" y2=\"219.3\"\n",
       "    stroke=\"#663399\" stroke-width=\"2\" />\n",
       "<line x1=\"154.4\" y1=\"219.3\" x2=\"150.0\" y2=\"219.3\"\n",
       "    stroke=\"#663399\" stroke-width=\"2\" />\n",
       "<line x1=\"150.0\" y1=\"219.3\" x2=\"152.2\" y2=\"215.4\"\n",
       "    stroke=\"#663399\" stroke-width=\"2\" />\n",
       "<line x1=\"152.2\" y1=\"215.4\" x2=\"150.0\" y2=\"211.6\"\n",
       "    stroke=\"#663399\" stroke-width=\"2\" />\n",
       "<line x1=\"150.0\" y1=\"211.6\" x2=\"154.4\" y2=\"211.6\"\n",
       "    stroke=\"#663399\" stroke-width=\"2\" />\n",
       "<line x1=\"154.4\" y1=\"211.6\" x2=\"156.7\" y2=\"207.7\"\n",
       "    stroke=\"#663399\" stroke-width=\"2\" />\n",
       "<line x1=\"156.7\" y1=\"207.7\" x2=\"154.4\" y2=\"203.9\"\n",
       "    stroke=\"#663399\" stroke-width=\"2\" />\n",
       "<line x1=\"154.4\" y1=\"203.9\" x2=\"150.0\" y2=\"203.9\"\n",
       "    stroke=\"#663399\" stroke-width=\"2\" />\n",
       "<line x1=\"150.0\" y1=\"203.9\" x2=\"152.2\" y2=\"200.0\"\n",
       "    stroke=\"#663399\" stroke-width=\"2\" />\n",
       "<line x1=\"152.2\" y1=\"200.0\" x2=\"150.0\" y2=\"196.2\"\n",
       "    stroke=\"#663399\" stroke-width=\"2\" />\n",
       "<line x1=\"150.0\" y1=\"196.2\" x2=\"154.4\" y2=\"196.2\"\n",
       "    stroke=\"#663399\" stroke-width=\"2\" />\n",
       "<line x1=\"154.4\" y1=\"196.2\" x2=\"156.7\" y2=\"192.3\"\n",
       "    stroke=\"#663399\" stroke-width=\"2\" />\n",
       "<line x1=\"156.7\" y1=\"192.3\" x2=\"158.9\" y2=\"196.2\"\n",
       "    stroke=\"#663399\" stroke-width=\"2\" />\n",
       "<line x1=\"158.9\" y1=\"196.2\" x2=\"163.3\" y2=\"196.2\"\n",
       "    stroke=\"#663399\" stroke-width=\"2\" />\n",
       "<line x1=\"163.3\" y1=\"196.2\" x2=\"165.6\" y2=\"192.3\"\n",
       "    stroke=\"#663399\" stroke-width=\"2\" />\n",
       "<line x1=\"165.6\" y1=\"192.3\" x2=\"163.3\" y2=\"188.5\"\n",
       "    stroke=\"#663399\" stroke-width=\"2\" />\n",
       "<line x1=\"163.3\" y1=\"188.5\" x2=\"167.8\" y2=\"188.5\"\n",
       "    stroke=\"#663399\" stroke-width=\"2\" />\n",
       "<line x1=\"167.8\" y1=\"188.5\" x2=\"170.0\" y2=\"184.6\"\n",
       "    stroke=\"#663399\" stroke-width=\"2\" />\n",
       "<line x1=\"170.0\" y1=\"184.6\" x2=\"167.8\" y2=\"180.8\"\n",
       "    stroke=\"#663399\" stroke-width=\"2\" />\n",
       "<line x1=\"167.8\" y1=\"180.8\" x2=\"163.3\" y2=\"180.8\"\n",
       "    stroke=\"#663399\" stroke-width=\"2\" />\n",
       "<line x1=\"163.3\" y1=\"180.8\" x2=\"165.6\" y2=\"176.9\"\n",
       "    stroke=\"#663399\" stroke-width=\"2\" />\n",
       "<line x1=\"165.6\" y1=\"176.9\" x2=\"163.3\" y2=\"173.1\"\n",
       "    stroke=\"#663399\" stroke-width=\"2\" />\n",
       "<line x1=\"163.3\" y1=\"173.1\" x2=\"158.9\" y2=\"173.1\"\n",
       "    stroke=\"#663399\" stroke-width=\"2\" />\n",
       "<line x1=\"158.9\" y1=\"173.1\" x2=\"156.7\" y2=\"176.9\"\n",
       "    stroke=\"#663399\" stroke-width=\"2\" />\n",
       "<line x1=\"156.7\" y1=\"176.9\" x2=\"154.4\" y2=\"173.1\"\n",
       "    stroke=\"#663399\" stroke-width=\"2\" />\n",
       "<line x1=\"154.4\" y1=\"173.1\" x2=\"150.0\" y2=\"173.1\"\n",
       "    stroke=\"#663399\" stroke-width=\"2\" />\n",
       "<line x1=\"150.0\" y1=\"173.1\" x2=\"152.2\" y2=\"169.2\"\n",
       "    stroke=\"#663399\" stroke-width=\"2\" />\n",
       "<line x1=\"152.2\" y1=\"169.2\" x2=\"150.0\" y2=\"165.4\"\n",
       "    stroke=\"#663399\" stroke-width=\"2\" />\n",
       "<line x1=\"150.0\" y1=\"165.4\" x2=\"154.4\" y2=\"165.4\"\n",
       "    stroke=\"#663399\" stroke-width=\"2\" />\n",
       "<line x1=\"154.4\" y1=\"165.4\" x2=\"156.7\" y2=\"161.5\"\n",
       "    stroke=\"#663399\" stroke-width=\"2\" />\n",
       "<line x1=\"156.7\" y1=\"161.5\" x2=\"154.4\" y2=\"157.7\"\n",
       "    stroke=\"#663399\" stroke-width=\"2\" />\n",
       "<line x1=\"154.4\" y1=\"157.7\" x2=\"150.0\" y2=\"157.7\"\n",
       "    stroke=\"#663399\" stroke-width=\"2\" />\n",
       "<line x1=\"150.0\" y1=\"157.7\" x2=\"152.2\" y2=\"153.8\"\n",
       "    stroke=\"#663399\" stroke-width=\"2\" />\n",
       "<line x1=\"152.2\" y1=\"153.8\" x2=\"150.0\" y2=\"150.0\"\n",
       "    stroke=\"#663399\" stroke-width=\"2\" />\n",
       "\n",
       "<g transform=\"rotate(-90.0,150.0,150.0) translate(150.0, 150.0)\">\n",
       "    <circle stroke=\"#63A375\" stroke-width=\"2\" fill=\"transparent\" r=\"5.5\" cx=\"0\" cy=\"0\"/>\n",
       "    <polygon points=\"0,12 2,9 -2,9\" style=\"fill:#63A375;stroke:#63A375;stroke-width:2\"/>\n",
       "</g>\n",
       "\n",
       "</svg>"
      ],
      "text/plain": [
       "<IPython.core.display.HTML object>"
      ]
     },
     "metadata": {},
     "output_type": "display_data"
    }
   ],
   "source": [
    "make_turtle(delay=0, height=300)\n",
    "for i in range(3):\n",
    "    koch(120)\n",
    "    right(120)"
   ]
  },
  {
   "cell_type": "markdown",
   "id": "568f488f-b653-46bf-8fa7-a5033217a753",
   "metadata": {},
   "source": [
    "#### ** Har! Rad!"
   ]
  },
  {
   "cell_type": "markdown",
   "id": "4c964239",
   "metadata": {
    "id": "4c964239"
   },
   "source": [
    "### 5.14.7 Exercise\n",
    "\n",
    "Virtual assistants know about the functions in the `jupyturtle` module, but there are many versions of these functions, with different names, so a VA might not know which one you are talking about.\n",
    "\n",
    "To solve this problem, you can provide additional information before you ask a question.\n",
    "For example, you could start a prompt with \"Here's a program that uses the `jupyturtle` module,\" and then paste in one of the examples from this chapter.\n",
    "After that, the VA should be able to generate code that uses this module.\n",
    "\n",
    "As an example, ask a VA for a program that draws a Sierpiński triangle.\n",
    "The code you get should be a good starting place, but you might have to do some debugging.\n",
    "If the first attempt doesn't work, you can tell the VA what happened and ask for help -- or you can debug it yourself."
   ]
  },
  {
   "cell_type": "code",
   "execution_count": null,
   "id": "68439acf",
   "metadata": {
    "id": "68439acf"
   },
   "outputs": [],
   "source": [
    "# Solution FROM GEMINI (Sept 13, 2024)\n",
    "\n",
    "import turtle\n",
    "\n",
    "def sierpinski_triangle(t, size, depth):\n",
    "  \"\"\"Draws a Sierpiński triangle.\n",
    "\n",
    "  Args:\n",
    "    t: The Turtle object.\n",
    "    size: The side length of the triangle.\n",
    "    depth: The depth of recursion.\n",
    "  \"\"\"\n",
    "\n",
    "  if depth == 0:\n",
    "    t.begin_fill()\n",
    "    for _ in range(3):\n",
    "      t.forward(size)\n",
    "      t.left(120)\n",
    "    t.end_fill()\n",
    "  else:\n",
    "    for _ in range(3):\n",
    "      sierpinski_triangle(t, size / 2, depth - 1)\n",
    "      t.forward(size / 2)\n",
    "      t.left(120)\n",
    "\n",
    "# Set up the turtle\n",
    "turtle.speed(0)  # Set the turtle speed to the fastest\n",
    "turtle.hideturtle()  # Hide the turtle cursor\n",
    "\n",
    "# Draw the Sierpiński triangle\n",
    "sierpinski_triangle(turtle, 300, 6)  # Adjust size and depth as needed\n",
    "\n",
    "turtle.done()  # Keep the window open until closed manually"
   ]
  },
  {
   "cell_type": "code",
   "execution_count": 6,
   "id": "a88eb206-a0c6-4b66-bbf3-831cc421fd25",
   "metadata": {},
   "outputs": [],
   "source": [
    "# 'Debugged' Solution \n",
    "\n",
    "from jupyturtle import forward, left, right, back, make_turtle\n",
    "\n",
    "def draw_sierpinski(size, depth):\n",
    "  \"\"\"Draws a Sierpiński triangle.\n",
    "\n",
    "  Args:\n",
    "    size: The side length of the triangle.\n",
    "    depth: The depth of recursion.\n",
    "  \"\"\"\n",
    "\n",
    "  if depth == 0:\n",
    "    for _ in range(3):\n",
    "      forward(size)\n",
    "      left(120)\n",
    "  else:\n",
    "    for _ in range(3):\n",
    "      sierpinski_triangle(size / 2, depth - 1)\n",
    "      forward(size / 2)\n",
    "      left(120)\n",
    "\n"
   ]
  },
  {
   "cell_type": "markdown",
   "id": "6a95097a",
   "metadata": {
    "id": "6a95097a"
   },
   "source": [
    "Here's what the result might look like, although the version you get might be different."
   ]
  },
  {
   "cell_type": "code",
   "execution_count": 11,
   "id": "43470b3d",
   "metadata": {
    "id": "43470b3d"
   },
   "outputs": [
    {
     "data": {
      "text/html": [
       "<svg width=\"400\" height=\"400\">\n",
       "    <rect width=\"100%\" height=\"100%\" fill=\"#F3F3F7\" />\n",
       "\n",
       "<line x1=\"200\" y1=\"200\" x2=\"209.4\" y2=\"200.0\"\n",
       "    stroke=\"#663399\" stroke-width=\"2\" />\n",
       "<line x1=\"209.4\" y1=\"200.0\" x2=\"204.7\" y2=\"191.9\"\n",
       "    stroke=\"#663399\" stroke-width=\"2\" />\n",
       "<line x1=\"204.7\" y1=\"191.9\" x2=\"200.0\" y2=\"200.0\"\n",
       "    stroke=\"#663399\" stroke-width=\"2\" />\n",
       "<line x1=\"200.0\" y1=\"200.0\" x2=\"209.4\" y2=\"200.0\"\n",
       "    stroke=\"#663399\" stroke-width=\"2\" />\n",
       "<line x1=\"209.4\" y1=\"200.0\" x2=\"204.7\" y2=\"191.9\"\n",
       "    stroke=\"#663399\" stroke-width=\"2\" />\n",
       "<line x1=\"204.7\" y1=\"191.9\" x2=\"200.0\" y2=\"200.0\"\n",
       "    stroke=\"#663399\" stroke-width=\"2\" />\n",
       "<line x1=\"200.0\" y1=\"200.0\" x2=\"209.4\" y2=\"200.0\"\n",
       "    stroke=\"#663399\" stroke-width=\"2\" />\n",
       "<line x1=\"209.4\" y1=\"200.0\" x2=\"204.7\" y2=\"191.9\"\n",
       "    stroke=\"#663399\" stroke-width=\"2\" />\n",
       "<line x1=\"204.7\" y1=\"191.9\" x2=\"200.0\" y2=\"200.0\"\n",
       "    stroke=\"#663399\" stroke-width=\"2\" />\n",
       "<line x1=\"200.0\" y1=\"200.0\" x2=\"209.4\" y2=\"200.0\"\n",
       "    stroke=\"#663399\" stroke-width=\"2\" />\n",
       "<line x1=\"209.4\" y1=\"200.0\" x2=\"204.7\" y2=\"191.9\"\n",
       "    stroke=\"#663399\" stroke-width=\"2\" />\n",
       "<line x1=\"204.7\" y1=\"191.9\" x2=\"200.0\" y2=\"200.0\"\n",
       "    stroke=\"#663399\" stroke-width=\"2\" />\n",
       "<line x1=\"200.0\" y1=\"200.0\" x2=\"218.8\" y2=\"200.0\"\n",
       "    stroke=\"#663399\" stroke-width=\"2\" />\n",
       "<line x1=\"218.8\" y1=\"200.0\" x2=\"214.1\" y2=\"191.9\"\n",
       "    stroke=\"#663399\" stroke-width=\"2\" />\n",
       "<line x1=\"214.1\" y1=\"191.9\" x2=\"209.4\" y2=\"200.0\"\n",
       "    stroke=\"#663399\" stroke-width=\"2\" />\n",
       "<line x1=\"209.4\" y1=\"200.0\" x2=\"218.8\" y2=\"200.0\"\n",
       "    stroke=\"#663399\" stroke-width=\"2\" />\n",
       "<line x1=\"218.8\" y1=\"200.0\" x2=\"214.1\" y2=\"191.9\"\n",
       "    stroke=\"#663399\" stroke-width=\"2\" />\n",
       "<line x1=\"214.1\" y1=\"191.9\" x2=\"209.4\" y2=\"200.0\"\n",
       "    stroke=\"#663399\" stroke-width=\"2\" />\n",
       "<line x1=\"209.4\" y1=\"200.0\" x2=\"218.8\" y2=\"200.0\"\n",
       "    stroke=\"#663399\" stroke-width=\"2\" />\n",
       "<line x1=\"218.8\" y1=\"200.0\" x2=\"214.1\" y2=\"191.9\"\n",
       "    stroke=\"#663399\" stroke-width=\"2\" />\n",
       "<line x1=\"214.1\" y1=\"191.9\" x2=\"209.4\" y2=\"200.0\"\n",
       "    stroke=\"#663399\" stroke-width=\"2\" />\n",
       "<line x1=\"209.4\" y1=\"200.0\" x2=\"218.8\" y2=\"200.0\"\n",
       "    stroke=\"#663399\" stroke-width=\"2\" />\n",
       "<line x1=\"218.8\" y1=\"200.0\" x2=\"214.1\" y2=\"191.9\"\n",
       "    stroke=\"#663399\" stroke-width=\"2\" />\n",
       "<line x1=\"214.1\" y1=\"191.9\" x2=\"209.4\" y2=\"200.0\"\n",
       "    stroke=\"#663399\" stroke-width=\"2\" />\n",
       "<line x1=\"209.4\" y1=\"200.0\" x2=\"218.8\" y2=\"200.0\"\n",
       "    stroke=\"#663399\" stroke-width=\"2\" />\n",
       "<line x1=\"218.8\" y1=\"200.0\" x2=\"209.4\" y2=\"183.8\"\n",
       "    stroke=\"#663399\" stroke-width=\"2\" />\n",
       "<line x1=\"209.4\" y1=\"183.8\" x2=\"204.7\" y2=\"191.9\"\n",
       "    stroke=\"#663399\" stroke-width=\"2\" />\n",
       "<line x1=\"204.7\" y1=\"191.9\" x2=\"214.1\" y2=\"191.9\"\n",
       "    stroke=\"#663399\" stroke-width=\"2\" />\n",
       "<line x1=\"214.1\" y1=\"191.9\" x2=\"209.4\" y2=\"183.8\"\n",
       "    stroke=\"#663399\" stroke-width=\"2\" />\n",
       "<line x1=\"209.4\" y1=\"183.8\" x2=\"204.7\" y2=\"191.9\"\n",
       "    stroke=\"#663399\" stroke-width=\"2\" />\n",
       "<line x1=\"204.7\" y1=\"191.9\" x2=\"214.1\" y2=\"191.9\"\n",
       "    stroke=\"#663399\" stroke-width=\"2\" />\n",
       "<line x1=\"214.1\" y1=\"191.9\" x2=\"209.4\" y2=\"183.8\"\n",
       "    stroke=\"#663399\" stroke-width=\"2\" />\n",
       "<line x1=\"209.4\" y1=\"183.8\" x2=\"204.7\" y2=\"191.9\"\n",
       "    stroke=\"#663399\" stroke-width=\"2\" />\n",
       "<line x1=\"204.7\" y1=\"191.9\" x2=\"214.1\" y2=\"191.9\"\n",
       "    stroke=\"#663399\" stroke-width=\"2\" />\n",
       "<line x1=\"214.1\" y1=\"191.9\" x2=\"209.4\" y2=\"183.8\"\n",
       "    stroke=\"#663399\" stroke-width=\"2\" />\n",
       "<line x1=\"209.4\" y1=\"183.8\" x2=\"204.7\" y2=\"191.9\"\n",
       "    stroke=\"#663399\" stroke-width=\"2\" />\n",
       "<line x1=\"204.7\" y1=\"191.9\" x2=\"214.1\" y2=\"191.9\"\n",
       "    stroke=\"#663399\" stroke-width=\"2\" />\n",
       "<line x1=\"214.1\" y1=\"191.9\" x2=\"209.4\" y2=\"183.8\"\n",
       "    stroke=\"#663399\" stroke-width=\"2\" />\n",
       "<line x1=\"209.4\" y1=\"183.8\" x2=\"200.0\" y2=\"200.0\"\n",
       "    stroke=\"#663399\" stroke-width=\"2\" />\n",
       "<line x1=\"200.0\" y1=\"200.0\" x2=\"237.5\" y2=\"200.0\"\n",
       "    stroke=\"#663399\" stroke-width=\"2\" />\n",
       "<line x1=\"237.5\" y1=\"200.0\" x2=\"232.8\" y2=\"191.9\"\n",
       "    stroke=\"#663399\" stroke-width=\"2\" />\n",
       "<line x1=\"232.8\" y1=\"191.9\" x2=\"228.1\" y2=\"200.0\"\n",
       "    stroke=\"#663399\" stroke-width=\"2\" />\n",
       "<line x1=\"228.1\" y1=\"200.0\" x2=\"237.5\" y2=\"200.0\"\n",
       "    stroke=\"#663399\" stroke-width=\"2\" />\n",
       "<line x1=\"237.5\" y1=\"200.0\" x2=\"232.8\" y2=\"191.9\"\n",
       "    stroke=\"#663399\" stroke-width=\"2\" />\n",
       "<line x1=\"232.8\" y1=\"191.9\" x2=\"228.1\" y2=\"200.0\"\n",
       "    stroke=\"#663399\" stroke-width=\"2\" />\n",
       "<line x1=\"228.1\" y1=\"200.0\" x2=\"237.5\" y2=\"200.0\"\n",
       "    stroke=\"#663399\" stroke-width=\"2\" />\n",
       "<line x1=\"237.5\" y1=\"200.0\" x2=\"232.8\" y2=\"191.9\"\n",
       "    stroke=\"#663399\" stroke-width=\"2\" />\n",
       "<line x1=\"232.8\" y1=\"191.9\" x2=\"228.1\" y2=\"200.0\"\n",
       "    stroke=\"#663399\" stroke-width=\"2\" />\n",
       "<line x1=\"228.1\" y1=\"200.0\" x2=\"237.5\" y2=\"200.0\"\n",
       "    stroke=\"#663399\" stroke-width=\"2\" />\n",
       "<line x1=\"237.5\" y1=\"200.0\" x2=\"232.8\" y2=\"191.9\"\n",
       "    stroke=\"#663399\" stroke-width=\"2\" />\n",
       "<line x1=\"232.8\" y1=\"191.9\" x2=\"228.1\" y2=\"200.0\"\n",
       "    stroke=\"#663399\" stroke-width=\"2\" />\n",
       "<line x1=\"228.1\" y1=\"200.0\" x2=\"237.5\" y2=\"200.0\"\n",
       "    stroke=\"#663399\" stroke-width=\"2\" />\n",
       "<line x1=\"237.5\" y1=\"200.0\" x2=\"228.1\" y2=\"183.8\"\n",
       "    stroke=\"#663399\" stroke-width=\"2\" />\n",
       "<line x1=\"228.1\" y1=\"183.8\" x2=\"223.4\" y2=\"191.9\"\n",
       "    stroke=\"#663399\" stroke-width=\"2\" />\n",
       "<line x1=\"223.4\" y1=\"191.9\" x2=\"232.8\" y2=\"191.9\"\n",
       "    stroke=\"#663399\" stroke-width=\"2\" />\n",
       "<line x1=\"232.8\" y1=\"191.9\" x2=\"228.1\" y2=\"183.8\"\n",
       "    stroke=\"#663399\" stroke-width=\"2\" />\n",
       "<line x1=\"228.1\" y1=\"183.8\" x2=\"223.4\" y2=\"191.9\"\n",
       "    stroke=\"#663399\" stroke-width=\"2\" />\n",
       "<line x1=\"223.4\" y1=\"191.9\" x2=\"232.8\" y2=\"191.9\"\n",
       "    stroke=\"#663399\" stroke-width=\"2\" />\n",
       "<line x1=\"232.8\" y1=\"191.9\" x2=\"228.1\" y2=\"183.8\"\n",
       "    stroke=\"#663399\" stroke-width=\"2\" />\n",
       "<line x1=\"228.1\" y1=\"183.8\" x2=\"223.4\" y2=\"191.9\"\n",
       "    stroke=\"#663399\" stroke-width=\"2\" />\n",
       "<line x1=\"223.4\" y1=\"191.9\" x2=\"232.8\" y2=\"191.9\"\n",
       "    stroke=\"#663399\" stroke-width=\"2\" />\n",
       "<line x1=\"232.8\" y1=\"191.9\" x2=\"228.1\" y2=\"183.8\"\n",
       "    stroke=\"#663399\" stroke-width=\"2\" />\n",
       "<line x1=\"228.1\" y1=\"183.8\" x2=\"223.4\" y2=\"191.9\"\n",
       "    stroke=\"#663399\" stroke-width=\"2\" />\n",
       "<line x1=\"223.4\" y1=\"191.9\" x2=\"232.8\" y2=\"191.9\"\n",
       "    stroke=\"#663399\" stroke-width=\"2\" />\n",
       "<line x1=\"232.8\" y1=\"191.9\" x2=\"228.1\" y2=\"183.8\"\n",
       "    stroke=\"#663399\" stroke-width=\"2\" />\n",
       "<line x1=\"228.1\" y1=\"183.8\" x2=\"218.8\" y2=\"200.0\"\n",
       "    stroke=\"#663399\" stroke-width=\"2\" />\n",
       "<line x1=\"218.8\" y1=\"200.0\" x2=\"228.1\" y2=\"200.0\"\n",
       "    stroke=\"#663399\" stroke-width=\"2\" />\n",
       "<line x1=\"228.1\" y1=\"200.0\" x2=\"223.4\" y2=\"191.9\"\n",
       "    stroke=\"#663399\" stroke-width=\"2\" />\n",
       "<line x1=\"223.4\" y1=\"191.9\" x2=\"218.8\" y2=\"200.0\"\n",
       "    stroke=\"#663399\" stroke-width=\"2\" />\n",
       "<line x1=\"218.8\" y1=\"200.0\" x2=\"228.1\" y2=\"200.0\"\n",
       "    stroke=\"#663399\" stroke-width=\"2\" />\n",
       "<line x1=\"228.1\" y1=\"200.0\" x2=\"223.4\" y2=\"191.9\"\n",
       "    stroke=\"#663399\" stroke-width=\"2\" />\n",
       "<line x1=\"223.4\" y1=\"191.9\" x2=\"218.8\" y2=\"200.0\"\n",
       "    stroke=\"#663399\" stroke-width=\"2\" />\n",
       "<line x1=\"218.8\" y1=\"200.0\" x2=\"228.1\" y2=\"200.0\"\n",
       "    stroke=\"#663399\" stroke-width=\"2\" />\n",
       "<line x1=\"228.1\" y1=\"200.0\" x2=\"223.4\" y2=\"191.9\"\n",
       "    stroke=\"#663399\" stroke-width=\"2\" />\n",
       "<line x1=\"223.4\" y1=\"191.9\" x2=\"218.8\" y2=\"200.0\"\n",
       "    stroke=\"#663399\" stroke-width=\"2\" />\n",
       "<line x1=\"218.8\" y1=\"200.0\" x2=\"228.1\" y2=\"200.0\"\n",
       "    stroke=\"#663399\" stroke-width=\"2\" />\n",
       "<line x1=\"228.1\" y1=\"200.0\" x2=\"223.4\" y2=\"191.9\"\n",
       "    stroke=\"#663399\" stroke-width=\"2\" />\n",
       "<line x1=\"223.4\" y1=\"191.9\" x2=\"218.8\" y2=\"200.0\"\n",
       "    stroke=\"#663399\" stroke-width=\"2\" />\n",
       "<line x1=\"218.8\" y1=\"200.0\" x2=\"237.5\" y2=\"200.0\"\n",
       "    stroke=\"#663399\" stroke-width=\"2\" />\n",
       "<line x1=\"237.5\" y1=\"200.0\" x2=\"218.7\" y2=\"167.5\"\n",
       "    stroke=\"#663399\" stroke-width=\"2\" />\n",
       "<line x1=\"218.7\" y1=\"167.5\" x2=\"214.1\" y2=\"175.6\"\n",
       "    stroke=\"#663399\" stroke-width=\"2\" />\n",
       "<line x1=\"214.1\" y1=\"175.6\" x2=\"223.4\" y2=\"175.6\"\n",
       "    stroke=\"#663399\" stroke-width=\"2\" />\n",
       "<line x1=\"223.4\" y1=\"175.6\" x2=\"218.7\" y2=\"167.5\"\n",
       "    stroke=\"#663399\" stroke-width=\"2\" />\n",
       "<line x1=\"218.7\" y1=\"167.5\" x2=\"214.1\" y2=\"175.6\"\n",
       "    stroke=\"#663399\" stroke-width=\"2\" />\n",
       "<line x1=\"214.1\" y1=\"175.6\" x2=\"223.4\" y2=\"175.6\"\n",
       "    stroke=\"#663399\" stroke-width=\"2\" />\n",
       "<line x1=\"223.4\" y1=\"175.6\" x2=\"218.7\" y2=\"167.5\"\n",
       "    stroke=\"#663399\" stroke-width=\"2\" />\n",
       "<line x1=\"218.7\" y1=\"167.5\" x2=\"214.1\" y2=\"175.6\"\n",
       "    stroke=\"#663399\" stroke-width=\"2\" />\n",
       "<line x1=\"214.1\" y1=\"175.6\" x2=\"223.4\" y2=\"175.6\"\n",
       "    stroke=\"#663399\" stroke-width=\"2\" />\n",
       "<line x1=\"223.4\" y1=\"175.6\" x2=\"218.7\" y2=\"167.5\"\n",
       "    stroke=\"#663399\" stroke-width=\"2\" />\n",
       "<line x1=\"218.7\" y1=\"167.5\" x2=\"214.1\" y2=\"175.6\"\n",
       "    stroke=\"#663399\" stroke-width=\"2\" />\n",
       "<line x1=\"214.1\" y1=\"175.6\" x2=\"223.4\" y2=\"175.6\"\n",
       "    stroke=\"#663399\" stroke-width=\"2\" />\n",
       "<line x1=\"223.4\" y1=\"175.6\" x2=\"218.7\" y2=\"167.5\"\n",
       "    stroke=\"#663399\" stroke-width=\"2\" />\n",
       "<line x1=\"218.7\" y1=\"167.5\" x2=\"209.4\" y2=\"183.8\"\n",
       "    stroke=\"#663399\" stroke-width=\"2\" />\n",
       "<line x1=\"209.4\" y1=\"183.8\" x2=\"218.7\" y2=\"183.8\"\n",
       "    stroke=\"#663399\" stroke-width=\"2\" />\n",
       "<line x1=\"218.7\" y1=\"183.8\" x2=\"214.1\" y2=\"175.6\"\n",
       "    stroke=\"#663399\" stroke-width=\"2\" />\n",
       "<line x1=\"214.1\" y1=\"175.6\" x2=\"209.4\" y2=\"183.8\"\n",
       "    stroke=\"#663399\" stroke-width=\"2\" />\n",
       "<line x1=\"209.4\" y1=\"183.8\" x2=\"218.7\" y2=\"183.8\"\n",
       "    stroke=\"#663399\" stroke-width=\"2\" />\n",
       "<line x1=\"218.7\" y1=\"183.8\" x2=\"214.1\" y2=\"175.6\"\n",
       "    stroke=\"#663399\" stroke-width=\"2\" />\n",
       "<line x1=\"214.1\" y1=\"175.6\" x2=\"209.4\" y2=\"183.8\"\n",
       "    stroke=\"#663399\" stroke-width=\"2\" />\n",
       "<line x1=\"209.4\" y1=\"183.8\" x2=\"218.7\" y2=\"183.8\"\n",
       "    stroke=\"#663399\" stroke-width=\"2\" />\n",
       "<line x1=\"218.7\" y1=\"183.8\" x2=\"214.1\" y2=\"175.6\"\n",
       "    stroke=\"#663399\" stroke-width=\"2\" />\n",
       "<line x1=\"214.1\" y1=\"175.6\" x2=\"209.4\" y2=\"183.8\"\n",
       "    stroke=\"#663399\" stroke-width=\"2\" />\n",
       "<line x1=\"209.4\" y1=\"183.8\" x2=\"218.7\" y2=\"183.8\"\n",
       "    stroke=\"#663399\" stroke-width=\"2\" />\n",
       "<line x1=\"218.7\" y1=\"183.8\" x2=\"214.1\" y2=\"175.6\"\n",
       "    stroke=\"#663399\" stroke-width=\"2\" />\n",
       "<line x1=\"214.1\" y1=\"175.6\" x2=\"209.4\" y2=\"183.8\"\n",
       "    stroke=\"#663399\" stroke-width=\"2\" />\n",
       "<line x1=\"209.4\" y1=\"183.8\" x2=\"228.1\" y2=\"183.8\"\n",
       "    stroke=\"#663399\" stroke-width=\"2\" />\n",
       "<line x1=\"228.1\" y1=\"183.8\" x2=\"223.4\" y2=\"175.6\"\n",
       "    stroke=\"#663399\" stroke-width=\"2\" />\n",
       "<line x1=\"223.4\" y1=\"175.6\" x2=\"218.7\" y2=\"183.8\"\n",
       "    stroke=\"#663399\" stroke-width=\"2\" />\n",
       "<line x1=\"218.7\" y1=\"183.8\" x2=\"228.1\" y2=\"183.8\"\n",
       "    stroke=\"#663399\" stroke-width=\"2\" />\n",
       "<line x1=\"228.1\" y1=\"183.8\" x2=\"223.4\" y2=\"175.6\"\n",
       "    stroke=\"#663399\" stroke-width=\"2\" />\n",
       "<line x1=\"223.4\" y1=\"175.6\" x2=\"218.7\" y2=\"183.8\"\n",
       "    stroke=\"#663399\" stroke-width=\"2\" />\n",
       "<line x1=\"218.7\" y1=\"183.8\" x2=\"228.1\" y2=\"183.8\"\n",
       "    stroke=\"#663399\" stroke-width=\"2\" />\n",
       "<line x1=\"228.1\" y1=\"183.8\" x2=\"223.4\" y2=\"175.6\"\n",
       "    stroke=\"#663399\" stroke-width=\"2\" />\n",
       "<line x1=\"223.4\" y1=\"175.6\" x2=\"218.7\" y2=\"183.8\"\n",
       "    stroke=\"#663399\" stroke-width=\"2\" />\n",
       "<line x1=\"218.7\" y1=\"183.8\" x2=\"228.1\" y2=\"183.8\"\n",
       "    stroke=\"#663399\" stroke-width=\"2\" />\n",
       "<line x1=\"228.1\" y1=\"183.8\" x2=\"223.4\" y2=\"175.6\"\n",
       "    stroke=\"#663399\" stroke-width=\"2\" />\n",
       "<line x1=\"223.4\" y1=\"175.6\" x2=\"218.7\" y2=\"183.8\"\n",
       "    stroke=\"#663399\" stroke-width=\"2\" />\n",
       "<line x1=\"218.7\" y1=\"183.8\" x2=\"228.1\" y2=\"183.8\"\n",
       "    stroke=\"#663399\" stroke-width=\"2\" />\n",
       "<line x1=\"228.1\" y1=\"183.8\" x2=\"218.7\" y2=\"167.5\"\n",
       "    stroke=\"#663399\" stroke-width=\"2\" />\n",
       "<line x1=\"218.7\" y1=\"167.5\" x2=\"200.0\" y2=\"200.0\"\n",
       "    stroke=\"#663399\" stroke-width=\"2\" />\n",
       "<line x1=\"200.0\" y1=\"200.0\" x2=\"275.0\" y2=\"200.0\"\n",
       "    stroke=\"#663399\" stroke-width=\"2\" />\n",
       "<line x1=\"275.0\" y1=\"200.0\" x2=\"270.3\" y2=\"191.9\"\n",
       "    stroke=\"#663399\" stroke-width=\"2\" />\n",
       "<line x1=\"270.3\" y1=\"191.9\" x2=\"265.6\" y2=\"200.0\"\n",
       "    stroke=\"#663399\" stroke-width=\"2\" />\n",
       "<line x1=\"265.6\" y1=\"200.0\" x2=\"275.0\" y2=\"200.0\"\n",
       "    stroke=\"#663399\" stroke-width=\"2\" />\n",
       "<line x1=\"275.0\" y1=\"200.0\" x2=\"270.3\" y2=\"191.9\"\n",
       "    stroke=\"#663399\" stroke-width=\"2\" />\n",
       "<line x1=\"270.3\" y1=\"191.9\" x2=\"265.6\" y2=\"200.0\"\n",
       "    stroke=\"#663399\" stroke-width=\"2\" />\n",
       "<line x1=\"265.6\" y1=\"200.0\" x2=\"275.0\" y2=\"200.0\"\n",
       "    stroke=\"#663399\" stroke-width=\"2\" />\n",
       "<line x1=\"275.0\" y1=\"200.0\" x2=\"270.3\" y2=\"191.9\"\n",
       "    stroke=\"#663399\" stroke-width=\"2\" />\n",
       "<line x1=\"270.3\" y1=\"191.9\" x2=\"265.6\" y2=\"200.0\"\n",
       "    stroke=\"#663399\" stroke-width=\"2\" />\n",
       "<line x1=\"265.6\" y1=\"200.0\" x2=\"275.0\" y2=\"200.0\"\n",
       "    stroke=\"#663399\" stroke-width=\"2\" />\n",
       "<line x1=\"275.0\" y1=\"200.0\" x2=\"270.3\" y2=\"191.9\"\n",
       "    stroke=\"#663399\" stroke-width=\"2\" />\n",
       "<line x1=\"270.3\" y1=\"191.9\" x2=\"265.6\" y2=\"200.0\"\n",
       "    stroke=\"#663399\" stroke-width=\"2\" />\n",
       "<line x1=\"265.6\" y1=\"200.0\" x2=\"275.0\" y2=\"200.0\"\n",
       "    stroke=\"#663399\" stroke-width=\"2\" />\n",
       "<line x1=\"275.0\" y1=\"200.0\" x2=\"265.6\" y2=\"183.8\"\n",
       "    stroke=\"#663399\" stroke-width=\"2\" />\n",
       "<line x1=\"265.6\" y1=\"183.8\" x2=\"260.9\" y2=\"191.9\"\n",
       "    stroke=\"#663399\" stroke-width=\"2\" />\n",
       "<line x1=\"260.9\" y1=\"191.9\" x2=\"270.3\" y2=\"191.9\"\n",
       "    stroke=\"#663399\" stroke-width=\"2\" />\n",
       "<line x1=\"270.3\" y1=\"191.9\" x2=\"265.6\" y2=\"183.8\"\n",
       "    stroke=\"#663399\" stroke-width=\"2\" />\n",
       "<line x1=\"265.6\" y1=\"183.8\" x2=\"260.9\" y2=\"191.9\"\n",
       "    stroke=\"#663399\" stroke-width=\"2\" />\n",
       "<line x1=\"260.9\" y1=\"191.9\" x2=\"270.3\" y2=\"191.9\"\n",
       "    stroke=\"#663399\" stroke-width=\"2\" />\n",
       "<line x1=\"270.3\" y1=\"191.9\" x2=\"265.6\" y2=\"183.8\"\n",
       "    stroke=\"#663399\" stroke-width=\"2\" />\n",
       "<line x1=\"265.6\" y1=\"183.8\" x2=\"260.9\" y2=\"191.9\"\n",
       "    stroke=\"#663399\" stroke-width=\"2\" />\n",
       "<line x1=\"260.9\" y1=\"191.9\" x2=\"270.3\" y2=\"191.9\"\n",
       "    stroke=\"#663399\" stroke-width=\"2\" />\n",
       "<line x1=\"270.3\" y1=\"191.9\" x2=\"265.6\" y2=\"183.8\"\n",
       "    stroke=\"#663399\" stroke-width=\"2\" />\n",
       "<line x1=\"265.6\" y1=\"183.8\" x2=\"260.9\" y2=\"191.9\"\n",
       "    stroke=\"#663399\" stroke-width=\"2\" />\n",
       "<line x1=\"260.9\" y1=\"191.9\" x2=\"270.3\" y2=\"191.9\"\n",
       "    stroke=\"#663399\" stroke-width=\"2\" />\n",
       "<line x1=\"270.3\" y1=\"191.9\" x2=\"265.6\" y2=\"183.8\"\n",
       "    stroke=\"#663399\" stroke-width=\"2\" />\n",
       "<line x1=\"265.6\" y1=\"183.8\" x2=\"256.2\" y2=\"200.0\"\n",
       "    stroke=\"#663399\" stroke-width=\"2\" />\n",
       "<line x1=\"256.2\" y1=\"200.0\" x2=\"265.6\" y2=\"200.0\"\n",
       "    stroke=\"#663399\" stroke-width=\"2\" />\n",
       "<line x1=\"265.6\" y1=\"200.0\" x2=\"260.9\" y2=\"191.9\"\n",
       "    stroke=\"#663399\" stroke-width=\"2\" />\n",
       "<line x1=\"260.9\" y1=\"191.9\" x2=\"256.2\" y2=\"200.0\"\n",
       "    stroke=\"#663399\" stroke-width=\"2\" />\n",
       "<line x1=\"256.2\" y1=\"200.0\" x2=\"265.6\" y2=\"200.0\"\n",
       "    stroke=\"#663399\" stroke-width=\"2\" />\n",
       "<line x1=\"265.6\" y1=\"200.0\" x2=\"260.9\" y2=\"191.9\"\n",
       "    stroke=\"#663399\" stroke-width=\"2\" />\n",
       "<line x1=\"260.9\" y1=\"191.9\" x2=\"256.2\" y2=\"200.0\"\n",
       "    stroke=\"#663399\" stroke-width=\"2\" />\n",
       "<line x1=\"256.2\" y1=\"200.0\" x2=\"265.6\" y2=\"200.0\"\n",
       "    stroke=\"#663399\" stroke-width=\"2\" />\n",
       "<line x1=\"265.6\" y1=\"200.0\" x2=\"260.9\" y2=\"191.9\"\n",
       "    stroke=\"#663399\" stroke-width=\"2\" />\n",
       "<line x1=\"260.9\" y1=\"191.9\" x2=\"256.2\" y2=\"200.0\"\n",
       "    stroke=\"#663399\" stroke-width=\"2\" />\n",
       "<line x1=\"256.2\" y1=\"200.0\" x2=\"265.6\" y2=\"200.0\"\n",
       "    stroke=\"#663399\" stroke-width=\"2\" />\n",
       "<line x1=\"265.6\" y1=\"200.0\" x2=\"260.9\" y2=\"191.9\"\n",
       "    stroke=\"#663399\" stroke-width=\"2\" />\n",
       "<line x1=\"260.9\" y1=\"191.9\" x2=\"256.2\" y2=\"200.0\"\n",
       "    stroke=\"#663399\" stroke-width=\"2\" />\n",
       "<line x1=\"256.2\" y1=\"200.0\" x2=\"275.0\" y2=\"200.0\"\n",
       "    stroke=\"#663399\" stroke-width=\"2\" />\n",
       "<line x1=\"275.0\" y1=\"200.0\" x2=\"256.2\" y2=\"167.5\"\n",
       "    stroke=\"#663399\" stroke-width=\"2\" />\n",
       "<line x1=\"256.2\" y1=\"167.5\" x2=\"251.6\" y2=\"175.6\"\n",
       "    stroke=\"#663399\" stroke-width=\"2\" />\n",
       "<line x1=\"251.6\" y1=\"175.6\" x2=\"260.9\" y2=\"175.6\"\n",
       "    stroke=\"#663399\" stroke-width=\"2\" />\n",
       "<line x1=\"260.9\" y1=\"175.6\" x2=\"256.2\" y2=\"167.5\"\n",
       "    stroke=\"#663399\" stroke-width=\"2\" />\n",
       "<line x1=\"256.2\" y1=\"167.5\" x2=\"251.6\" y2=\"175.6\"\n",
       "    stroke=\"#663399\" stroke-width=\"2\" />\n",
       "<line x1=\"251.6\" y1=\"175.6\" x2=\"260.9\" y2=\"175.6\"\n",
       "    stroke=\"#663399\" stroke-width=\"2\" />\n",
       "<line x1=\"260.9\" y1=\"175.6\" x2=\"256.2\" y2=\"167.5\"\n",
       "    stroke=\"#663399\" stroke-width=\"2\" />\n",
       "<line x1=\"256.2\" y1=\"167.5\" x2=\"251.6\" y2=\"175.6\"\n",
       "    stroke=\"#663399\" stroke-width=\"2\" />\n",
       "<line x1=\"251.6\" y1=\"175.6\" x2=\"260.9\" y2=\"175.6\"\n",
       "    stroke=\"#663399\" stroke-width=\"2\" />\n",
       "<line x1=\"260.9\" y1=\"175.6\" x2=\"256.2\" y2=\"167.5\"\n",
       "    stroke=\"#663399\" stroke-width=\"2\" />\n",
       "<line x1=\"256.2\" y1=\"167.5\" x2=\"251.6\" y2=\"175.6\"\n",
       "    stroke=\"#663399\" stroke-width=\"2\" />\n",
       "<line x1=\"251.6\" y1=\"175.6\" x2=\"260.9\" y2=\"175.6\"\n",
       "    stroke=\"#663399\" stroke-width=\"2\" />\n",
       "<line x1=\"260.9\" y1=\"175.6\" x2=\"256.2\" y2=\"167.5\"\n",
       "    stroke=\"#663399\" stroke-width=\"2\" />\n",
       "<line x1=\"256.2\" y1=\"167.5\" x2=\"246.9\" y2=\"183.8\"\n",
       "    stroke=\"#663399\" stroke-width=\"2\" />\n",
       "<line x1=\"246.9\" y1=\"183.8\" x2=\"256.2\" y2=\"183.8\"\n",
       "    stroke=\"#663399\" stroke-width=\"2\" />\n",
       "<line x1=\"256.2\" y1=\"183.8\" x2=\"251.6\" y2=\"175.6\"\n",
       "    stroke=\"#663399\" stroke-width=\"2\" />\n",
       "<line x1=\"251.6\" y1=\"175.6\" x2=\"246.9\" y2=\"183.8\"\n",
       "    stroke=\"#663399\" stroke-width=\"2\" />\n",
       "<line x1=\"246.9\" y1=\"183.8\" x2=\"256.2\" y2=\"183.8\"\n",
       "    stroke=\"#663399\" stroke-width=\"2\" />\n",
       "<line x1=\"256.2\" y1=\"183.8\" x2=\"251.6\" y2=\"175.6\"\n",
       "    stroke=\"#663399\" stroke-width=\"2\" />\n",
       "<line x1=\"251.6\" y1=\"175.6\" x2=\"246.9\" y2=\"183.8\"\n",
       "    stroke=\"#663399\" stroke-width=\"2\" />\n",
       "<line x1=\"246.9\" y1=\"183.8\" x2=\"256.2\" y2=\"183.8\"\n",
       "    stroke=\"#663399\" stroke-width=\"2\" />\n",
       "<line x1=\"256.2\" y1=\"183.8\" x2=\"251.6\" y2=\"175.6\"\n",
       "    stroke=\"#663399\" stroke-width=\"2\" />\n",
       "<line x1=\"251.6\" y1=\"175.6\" x2=\"246.9\" y2=\"183.8\"\n",
       "    stroke=\"#663399\" stroke-width=\"2\" />\n",
       "<line x1=\"246.9\" y1=\"183.8\" x2=\"256.2\" y2=\"183.8\"\n",
       "    stroke=\"#663399\" stroke-width=\"2\" />\n",
       "<line x1=\"256.2\" y1=\"183.8\" x2=\"251.6\" y2=\"175.6\"\n",
       "    stroke=\"#663399\" stroke-width=\"2\" />\n",
       "<line x1=\"251.6\" y1=\"175.6\" x2=\"246.9\" y2=\"183.8\"\n",
       "    stroke=\"#663399\" stroke-width=\"2\" />\n",
       "<line x1=\"246.9\" y1=\"183.8\" x2=\"265.6\" y2=\"183.8\"\n",
       "    stroke=\"#663399\" stroke-width=\"2\" />\n",
       "<line x1=\"265.6\" y1=\"183.8\" x2=\"260.9\" y2=\"175.6\"\n",
       "    stroke=\"#663399\" stroke-width=\"2\" />\n",
       "<line x1=\"260.9\" y1=\"175.6\" x2=\"256.2\" y2=\"183.8\"\n",
       "    stroke=\"#663399\" stroke-width=\"2\" />\n",
       "<line x1=\"256.2\" y1=\"183.8\" x2=\"265.6\" y2=\"183.8\"\n",
       "    stroke=\"#663399\" stroke-width=\"2\" />\n",
       "<line x1=\"265.6\" y1=\"183.8\" x2=\"260.9\" y2=\"175.6\"\n",
       "    stroke=\"#663399\" stroke-width=\"2\" />\n",
       "<line x1=\"260.9\" y1=\"175.6\" x2=\"256.2\" y2=\"183.8\"\n",
       "    stroke=\"#663399\" stroke-width=\"2\" />\n",
       "<line x1=\"256.2\" y1=\"183.8\" x2=\"265.6\" y2=\"183.8\"\n",
       "    stroke=\"#663399\" stroke-width=\"2\" />\n",
       "<line x1=\"265.6\" y1=\"183.8\" x2=\"260.9\" y2=\"175.6\"\n",
       "    stroke=\"#663399\" stroke-width=\"2\" />\n",
       "<line x1=\"260.9\" y1=\"175.6\" x2=\"256.2\" y2=\"183.8\"\n",
       "    stroke=\"#663399\" stroke-width=\"2\" />\n",
       "<line x1=\"256.2\" y1=\"183.8\" x2=\"265.6\" y2=\"183.8\"\n",
       "    stroke=\"#663399\" stroke-width=\"2\" />\n",
       "<line x1=\"265.6\" y1=\"183.8\" x2=\"260.9\" y2=\"175.6\"\n",
       "    stroke=\"#663399\" stroke-width=\"2\" />\n",
       "<line x1=\"260.9\" y1=\"175.6\" x2=\"256.2\" y2=\"183.8\"\n",
       "    stroke=\"#663399\" stroke-width=\"2\" />\n",
       "<line x1=\"256.2\" y1=\"183.8\" x2=\"265.6\" y2=\"183.8\"\n",
       "    stroke=\"#663399\" stroke-width=\"2\" />\n",
       "<line x1=\"265.6\" y1=\"183.8\" x2=\"256.2\" y2=\"167.5\"\n",
       "    stroke=\"#663399\" stroke-width=\"2\" />\n",
       "<line x1=\"256.2\" y1=\"167.5\" x2=\"237.5\" y2=\"200.0\"\n",
       "    stroke=\"#663399\" stroke-width=\"2\" />\n",
       "<line x1=\"237.5\" y1=\"200.0\" x2=\"246.9\" y2=\"200.0\"\n",
       "    stroke=\"#663399\" stroke-width=\"2\" />\n",
       "<line x1=\"246.9\" y1=\"200.0\" x2=\"242.2\" y2=\"191.9\"\n",
       "    stroke=\"#663399\" stroke-width=\"2\" />\n",
       "<line x1=\"242.2\" y1=\"191.9\" x2=\"237.5\" y2=\"200.0\"\n",
       "    stroke=\"#663399\" stroke-width=\"2\" />\n",
       "<line x1=\"237.5\" y1=\"200.0\" x2=\"246.9\" y2=\"200.0\"\n",
       "    stroke=\"#663399\" stroke-width=\"2\" />\n",
       "<line x1=\"246.9\" y1=\"200.0\" x2=\"242.2\" y2=\"191.9\"\n",
       "    stroke=\"#663399\" stroke-width=\"2\" />\n",
       "<line x1=\"242.2\" y1=\"191.9\" x2=\"237.5\" y2=\"200.0\"\n",
       "    stroke=\"#663399\" stroke-width=\"2\" />\n",
       "<line x1=\"237.5\" y1=\"200.0\" x2=\"246.9\" y2=\"200.0\"\n",
       "    stroke=\"#663399\" stroke-width=\"2\" />\n",
       "<line x1=\"246.9\" y1=\"200.0\" x2=\"242.2\" y2=\"191.9\"\n",
       "    stroke=\"#663399\" stroke-width=\"2\" />\n",
       "<line x1=\"242.2\" y1=\"191.9\" x2=\"237.5\" y2=\"200.0\"\n",
       "    stroke=\"#663399\" stroke-width=\"2\" />\n",
       "<line x1=\"237.5\" y1=\"200.0\" x2=\"246.9\" y2=\"200.0\"\n",
       "    stroke=\"#663399\" stroke-width=\"2\" />\n",
       "<line x1=\"246.9\" y1=\"200.0\" x2=\"242.2\" y2=\"191.9\"\n",
       "    stroke=\"#663399\" stroke-width=\"2\" />\n",
       "<line x1=\"242.2\" y1=\"191.9\" x2=\"237.5\" y2=\"200.0\"\n",
       "    stroke=\"#663399\" stroke-width=\"2\" />\n",
       "<line x1=\"237.5\" y1=\"200.0\" x2=\"256.2\" y2=\"200.0\"\n",
       "    stroke=\"#663399\" stroke-width=\"2\" />\n",
       "<line x1=\"256.2\" y1=\"200.0\" x2=\"251.6\" y2=\"191.9\"\n",
       "    stroke=\"#663399\" stroke-width=\"2\" />\n",
       "<line x1=\"251.6\" y1=\"191.9\" x2=\"246.9\" y2=\"200.0\"\n",
       "    stroke=\"#663399\" stroke-width=\"2\" />\n",
       "<line x1=\"246.9\" y1=\"200.0\" x2=\"256.2\" y2=\"200.0\"\n",
       "    stroke=\"#663399\" stroke-width=\"2\" />\n",
       "<line x1=\"256.2\" y1=\"200.0\" x2=\"251.6\" y2=\"191.9\"\n",
       "    stroke=\"#663399\" stroke-width=\"2\" />\n",
       "<line x1=\"251.6\" y1=\"191.9\" x2=\"246.9\" y2=\"200.0\"\n",
       "    stroke=\"#663399\" stroke-width=\"2\" />\n",
       "<line x1=\"246.9\" y1=\"200.0\" x2=\"256.2\" y2=\"200.0\"\n",
       "    stroke=\"#663399\" stroke-width=\"2\" />\n",
       "<line x1=\"256.2\" y1=\"200.0\" x2=\"251.6\" y2=\"191.9\"\n",
       "    stroke=\"#663399\" stroke-width=\"2\" />\n",
       "<line x1=\"251.6\" y1=\"191.9\" x2=\"246.9\" y2=\"200.0\"\n",
       "    stroke=\"#663399\" stroke-width=\"2\" />\n",
       "<line x1=\"246.9\" y1=\"200.0\" x2=\"256.2\" y2=\"200.0\"\n",
       "    stroke=\"#663399\" stroke-width=\"2\" />\n",
       "<line x1=\"256.2\" y1=\"200.0\" x2=\"251.6\" y2=\"191.9\"\n",
       "    stroke=\"#663399\" stroke-width=\"2\" />\n",
       "<line x1=\"251.6\" y1=\"191.9\" x2=\"246.9\" y2=\"200.0\"\n",
       "    stroke=\"#663399\" stroke-width=\"2\" />\n",
       "<line x1=\"246.9\" y1=\"200.0\" x2=\"256.2\" y2=\"200.0\"\n",
       "    stroke=\"#663399\" stroke-width=\"2\" />\n",
       "<line x1=\"256.2\" y1=\"200.0\" x2=\"246.9\" y2=\"183.8\"\n",
       "    stroke=\"#663399\" stroke-width=\"2\" />\n",
       "<line x1=\"246.9\" y1=\"183.8\" x2=\"242.2\" y2=\"191.9\"\n",
       "    stroke=\"#663399\" stroke-width=\"2\" />\n",
       "<line x1=\"242.2\" y1=\"191.9\" x2=\"251.6\" y2=\"191.9\"\n",
       "    stroke=\"#663399\" stroke-width=\"2\" />\n",
       "<line x1=\"251.6\" y1=\"191.9\" x2=\"246.9\" y2=\"183.8\"\n",
       "    stroke=\"#663399\" stroke-width=\"2\" />\n",
       "<line x1=\"246.9\" y1=\"183.8\" x2=\"242.2\" y2=\"191.9\"\n",
       "    stroke=\"#663399\" stroke-width=\"2\" />\n",
       "<line x1=\"242.2\" y1=\"191.9\" x2=\"251.6\" y2=\"191.9\"\n",
       "    stroke=\"#663399\" stroke-width=\"2\" />\n",
       "<line x1=\"251.6\" y1=\"191.9\" x2=\"246.9\" y2=\"183.8\"\n",
       "    stroke=\"#663399\" stroke-width=\"2\" />\n",
       "<line x1=\"246.9\" y1=\"183.8\" x2=\"242.2\" y2=\"191.9\"\n",
       "    stroke=\"#663399\" stroke-width=\"2\" />\n",
       "<line x1=\"242.2\" y1=\"191.9\" x2=\"251.6\" y2=\"191.9\"\n",
       "    stroke=\"#663399\" stroke-width=\"2\" />\n",
       "<line x1=\"251.6\" y1=\"191.9\" x2=\"246.9\" y2=\"183.8\"\n",
       "    stroke=\"#663399\" stroke-width=\"2\" />\n",
       "<line x1=\"246.9\" y1=\"183.8\" x2=\"242.2\" y2=\"191.9\"\n",
       "    stroke=\"#663399\" stroke-width=\"2\" />\n",
       "<line x1=\"242.2\" y1=\"191.9\" x2=\"251.6\" y2=\"191.9\"\n",
       "    stroke=\"#663399\" stroke-width=\"2\" />\n",
       "<line x1=\"251.6\" y1=\"191.9\" x2=\"246.9\" y2=\"183.8\"\n",
       "    stroke=\"#663399\" stroke-width=\"2\" />\n",
       "<line x1=\"246.9\" y1=\"183.8\" x2=\"237.5\" y2=\"200.0\"\n",
       "    stroke=\"#663399\" stroke-width=\"2\" />\n",
       "<line x1=\"237.5\" y1=\"200.0\" x2=\"275.0\" y2=\"200.0\"\n",
       "    stroke=\"#663399\" stroke-width=\"2\" />\n",
       "<line x1=\"275.0\" y1=\"200.0\" x2=\"237.5\" y2=\"135.0\"\n",
       "    stroke=\"#663399\" stroke-width=\"2\" />\n",
       "<line x1=\"237.5\" y1=\"135.0\" x2=\"232.8\" y2=\"143.2\"\n",
       "    stroke=\"#663399\" stroke-width=\"2\" />\n",
       "<line x1=\"232.8\" y1=\"143.2\" x2=\"242.2\" y2=\"143.2\"\n",
       "    stroke=\"#663399\" stroke-width=\"2\" />\n",
       "<line x1=\"242.2\" y1=\"143.2\" x2=\"237.5\" y2=\"135.0\"\n",
       "    stroke=\"#663399\" stroke-width=\"2\" />\n",
       "<line x1=\"237.5\" y1=\"135.0\" x2=\"232.8\" y2=\"143.2\"\n",
       "    stroke=\"#663399\" stroke-width=\"2\" />\n",
       "<line x1=\"232.8\" y1=\"143.2\" x2=\"242.2\" y2=\"143.2\"\n",
       "    stroke=\"#663399\" stroke-width=\"2\" />\n",
       "<line x1=\"242.2\" y1=\"143.2\" x2=\"237.5\" y2=\"135.0\"\n",
       "    stroke=\"#663399\" stroke-width=\"2\" />\n",
       "<line x1=\"237.5\" y1=\"135.0\" x2=\"232.8\" y2=\"143.2\"\n",
       "    stroke=\"#663399\" stroke-width=\"2\" />\n",
       "<line x1=\"232.8\" y1=\"143.2\" x2=\"242.2\" y2=\"143.2\"\n",
       "    stroke=\"#663399\" stroke-width=\"2\" />\n",
       "<line x1=\"242.2\" y1=\"143.2\" x2=\"237.5\" y2=\"135.0\"\n",
       "    stroke=\"#663399\" stroke-width=\"2\" />\n",
       "<line x1=\"237.5\" y1=\"135.0\" x2=\"232.8\" y2=\"143.2\"\n",
       "    stroke=\"#663399\" stroke-width=\"2\" />\n",
       "<line x1=\"232.8\" y1=\"143.2\" x2=\"242.2\" y2=\"143.2\"\n",
       "    stroke=\"#663399\" stroke-width=\"2\" />\n",
       "<line x1=\"242.2\" y1=\"143.2\" x2=\"237.5\" y2=\"135.0\"\n",
       "    stroke=\"#663399\" stroke-width=\"2\" />\n",
       "<line x1=\"237.5\" y1=\"135.0\" x2=\"228.1\" y2=\"151.3\"\n",
       "    stroke=\"#663399\" stroke-width=\"2\" />\n",
       "<line x1=\"228.1\" y1=\"151.3\" x2=\"237.5\" y2=\"151.3\"\n",
       "    stroke=\"#663399\" stroke-width=\"2\" />\n",
       "<line x1=\"237.5\" y1=\"151.3\" x2=\"232.8\" y2=\"143.2\"\n",
       "    stroke=\"#663399\" stroke-width=\"2\" />\n",
       "<line x1=\"232.8\" y1=\"143.2\" x2=\"228.1\" y2=\"151.3\"\n",
       "    stroke=\"#663399\" stroke-width=\"2\" />\n",
       "<line x1=\"228.1\" y1=\"151.3\" x2=\"237.5\" y2=\"151.3\"\n",
       "    stroke=\"#663399\" stroke-width=\"2\" />\n",
       "<line x1=\"237.5\" y1=\"151.3\" x2=\"232.8\" y2=\"143.2\"\n",
       "    stroke=\"#663399\" stroke-width=\"2\" />\n",
       "<line x1=\"232.8\" y1=\"143.2\" x2=\"228.1\" y2=\"151.3\"\n",
       "    stroke=\"#663399\" stroke-width=\"2\" />\n",
       "<line x1=\"228.1\" y1=\"151.3\" x2=\"237.5\" y2=\"151.3\"\n",
       "    stroke=\"#663399\" stroke-width=\"2\" />\n",
       "<line x1=\"237.5\" y1=\"151.3\" x2=\"232.8\" y2=\"143.2\"\n",
       "    stroke=\"#663399\" stroke-width=\"2\" />\n",
       "<line x1=\"232.8\" y1=\"143.2\" x2=\"228.1\" y2=\"151.3\"\n",
       "    stroke=\"#663399\" stroke-width=\"2\" />\n",
       "<line x1=\"228.1\" y1=\"151.3\" x2=\"237.5\" y2=\"151.3\"\n",
       "    stroke=\"#663399\" stroke-width=\"2\" />\n",
       "<line x1=\"237.5\" y1=\"151.3\" x2=\"232.8\" y2=\"143.2\"\n",
       "    stroke=\"#663399\" stroke-width=\"2\" />\n",
       "<line x1=\"232.8\" y1=\"143.2\" x2=\"228.1\" y2=\"151.3\"\n",
       "    stroke=\"#663399\" stroke-width=\"2\" />\n",
       "<line x1=\"228.1\" y1=\"151.3\" x2=\"246.9\" y2=\"151.3\"\n",
       "    stroke=\"#663399\" stroke-width=\"2\" />\n",
       "<line x1=\"246.9\" y1=\"151.3\" x2=\"242.2\" y2=\"143.2\"\n",
       "    stroke=\"#663399\" stroke-width=\"2\" />\n",
       "<line x1=\"242.2\" y1=\"143.2\" x2=\"237.5\" y2=\"151.3\"\n",
       "    stroke=\"#663399\" stroke-width=\"2\" />\n",
       "<line x1=\"237.5\" y1=\"151.3\" x2=\"246.9\" y2=\"151.3\"\n",
       "    stroke=\"#663399\" stroke-width=\"2\" />\n",
       "<line x1=\"246.9\" y1=\"151.3\" x2=\"242.2\" y2=\"143.2\"\n",
       "    stroke=\"#663399\" stroke-width=\"2\" />\n",
       "<line x1=\"242.2\" y1=\"143.2\" x2=\"237.5\" y2=\"151.3\"\n",
       "    stroke=\"#663399\" stroke-width=\"2\" />\n",
       "<line x1=\"237.5\" y1=\"151.3\" x2=\"246.9\" y2=\"151.3\"\n",
       "    stroke=\"#663399\" stroke-width=\"2\" />\n",
       "<line x1=\"246.9\" y1=\"151.3\" x2=\"242.2\" y2=\"143.2\"\n",
       "    stroke=\"#663399\" stroke-width=\"2\" />\n",
       "<line x1=\"242.2\" y1=\"143.2\" x2=\"237.5\" y2=\"151.3\"\n",
       "    stroke=\"#663399\" stroke-width=\"2\" />\n",
       "<line x1=\"237.5\" y1=\"151.3\" x2=\"246.9\" y2=\"151.3\"\n",
       "    stroke=\"#663399\" stroke-width=\"2\" />\n",
       "<line x1=\"246.9\" y1=\"151.3\" x2=\"242.2\" y2=\"143.2\"\n",
       "    stroke=\"#663399\" stroke-width=\"2\" />\n",
       "<line x1=\"242.2\" y1=\"143.2\" x2=\"237.5\" y2=\"151.3\"\n",
       "    stroke=\"#663399\" stroke-width=\"2\" />\n",
       "<line x1=\"237.5\" y1=\"151.3\" x2=\"246.9\" y2=\"151.3\"\n",
       "    stroke=\"#663399\" stroke-width=\"2\" />\n",
       "<line x1=\"246.9\" y1=\"151.3\" x2=\"237.5\" y2=\"135.0\"\n",
       "    stroke=\"#663399\" stroke-width=\"2\" />\n",
       "<line x1=\"237.5\" y1=\"135.0\" x2=\"218.7\" y2=\"167.5\"\n",
       "    stroke=\"#663399\" stroke-width=\"2\" />\n",
       "<line x1=\"218.7\" y1=\"167.5\" x2=\"228.1\" y2=\"167.5\"\n",
       "    stroke=\"#663399\" stroke-width=\"2\" />\n",
       "<line x1=\"228.1\" y1=\"167.5\" x2=\"223.4\" y2=\"159.4\"\n",
       "    stroke=\"#663399\" stroke-width=\"2\" />\n",
       "<line x1=\"223.4\" y1=\"159.4\" x2=\"218.7\" y2=\"167.5\"\n",
       "    stroke=\"#663399\" stroke-width=\"2\" />\n",
       "<line x1=\"218.7\" y1=\"167.5\" x2=\"228.1\" y2=\"167.5\"\n",
       "    stroke=\"#663399\" stroke-width=\"2\" />\n",
       "<line x1=\"228.1\" y1=\"167.5\" x2=\"223.4\" y2=\"159.4\"\n",
       "    stroke=\"#663399\" stroke-width=\"2\" />\n",
       "<line x1=\"223.4\" y1=\"159.4\" x2=\"218.7\" y2=\"167.5\"\n",
       "    stroke=\"#663399\" stroke-width=\"2\" />\n",
       "<line x1=\"218.7\" y1=\"167.5\" x2=\"228.1\" y2=\"167.5\"\n",
       "    stroke=\"#663399\" stroke-width=\"2\" />\n",
       "<line x1=\"228.1\" y1=\"167.5\" x2=\"223.4\" y2=\"159.4\"\n",
       "    stroke=\"#663399\" stroke-width=\"2\" />\n",
       "<line x1=\"223.4\" y1=\"159.4\" x2=\"218.7\" y2=\"167.5\"\n",
       "    stroke=\"#663399\" stroke-width=\"2\" />\n",
       "<line x1=\"218.7\" y1=\"167.5\" x2=\"228.1\" y2=\"167.5\"\n",
       "    stroke=\"#663399\" stroke-width=\"2\" />\n",
       "<line x1=\"228.1\" y1=\"167.5\" x2=\"223.4\" y2=\"159.4\"\n",
       "    stroke=\"#663399\" stroke-width=\"2\" />\n",
       "<line x1=\"223.4\" y1=\"159.4\" x2=\"218.7\" y2=\"167.5\"\n",
       "    stroke=\"#663399\" stroke-width=\"2\" />\n",
       "<line x1=\"218.7\" y1=\"167.5\" x2=\"237.5\" y2=\"167.5\"\n",
       "    stroke=\"#663399\" stroke-width=\"2\" />\n",
       "<line x1=\"237.5\" y1=\"167.5\" x2=\"232.8\" y2=\"159.4\"\n",
       "    stroke=\"#663399\" stroke-width=\"2\" />\n",
       "<line x1=\"232.8\" y1=\"159.4\" x2=\"228.1\" y2=\"167.5\"\n",
       "    stroke=\"#663399\" stroke-width=\"2\" />\n",
       "<line x1=\"228.1\" y1=\"167.5\" x2=\"237.5\" y2=\"167.5\"\n",
       "    stroke=\"#663399\" stroke-width=\"2\" />\n",
       "<line x1=\"237.5\" y1=\"167.5\" x2=\"232.8\" y2=\"159.4\"\n",
       "    stroke=\"#663399\" stroke-width=\"2\" />\n",
       "<line x1=\"232.8\" y1=\"159.4\" x2=\"228.1\" y2=\"167.5\"\n",
       "    stroke=\"#663399\" stroke-width=\"2\" />\n",
       "<line x1=\"228.1\" y1=\"167.5\" x2=\"237.5\" y2=\"167.5\"\n",
       "    stroke=\"#663399\" stroke-width=\"2\" />\n",
       "<line x1=\"237.5\" y1=\"167.5\" x2=\"232.8\" y2=\"159.4\"\n",
       "    stroke=\"#663399\" stroke-width=\"2\" />\n",
       "<line x1=\"232.8\" y1=\"159.4\" x2=\"228.1\" y2=\"167.5\"\n",
       "    stroke=\"#663399\" stroke-width=\"2\" />\n",
       "<line x1=\"228.1\" y1=\"167.5\" x2=\"237.5\" y2=\"167.5\"\n",
       "    stroke=\"#663399\" stroke-width=\"2\" />\n",
       "<line x1=\"237.5\" y1=\"167.5\" x2=\"232.8\" y2=\"159.4\"\n",
       "    stroke=\"#663399\" stroke-width=\"2\" />\n",
       "<line x1=\"232.8\" y1=\"159.4\" x2=\"228.1\" y2=\"167.5\"\n",
       "    stroke=\"#663399\" stroke-width=\"2\" />\n",
       "<line x1=\"228.1\" y1=\"167.5\" x2=\"237.5\" y2=\"167.5\"\n",
       "    stroke=\"#663399\" stroke-width=\"2\" />\n",
       "<line x1=\"237.5\" y1=\"167.5\" x2=\"228.1\" y2=\"151.3\"\n",
       "    stroke=\"#663399\" stroke-width=\"2\" />\n",
       "<line x1=\"228.1\" y1=\"151.3\" x2=\"223.4\" y2=\"159.4\"\n",
       "    stroke=\"#663399\" stroke-width=\"2\" />\n",
       "<line x1=\"223.4\" y1=\"159.4\" x2=\"232.8\" y2=\"159.4\"\n",
       "    stroke=\"#663399\" stroke-width=\"2\" />\n",
       "<line x1=\"232.8\" y1=\"159.4\" x2=\"228.1\" y2=\"151.3\"\n",
       "    stroke=\"#663399\" stroke-width=\"2\" />\n",
       "<line x1=\"228.1\" y1=\"151.3\" x2=\"223.4\" y2=\"159.4\"\n",
       "    stroke=\"#663399\" stroke-width=\"2\" />\n",
       "<line x1=\"223.4\" y1=\"159.4\" x2=\"232.8\" y2=\"159.4\"\n",
       "    stroke=\"#663399\" stroke-width=\"2\" />\n",
       "<line x1=\"232.8\" y1=\"159.4\" x2=\"228.1\" y2=\"151.3\"\n",
       "    stroke=\"#663399\" stroke-width=\"2\" />\n",
       "<line x1=\"228.1\" y1=\"151.3\" x2=\"223.4\" y2=\"159.4\"\n",
       "    stroke=\"#663399\" stroke-width=\"2\" />\n",
       "<line x1=\"223.4\" y1=\"159.4\" x2=\"232.8\" y2=\"159.4\"\n",
       "    stroke=\"#663399\" stroke-width=\"2\" />\n",
       "<line x1=\"232.8\" y1=\"159.4\" x2=\"228.1\" y2=\"151.3\"\n",
       "    stroke=\"#663399\" stroke-width=\"2\" />\n",
       "<line x1=\"228.1\" y1=\"151.3\" x2=\"223.4\" y2=\"159.4\"\n",
       "    stroke=\"#663399\" stroke-width=\"2\" />\n",
       "<line x1=\"223.4\" y1=\"159.4\" x2=\"232.8\" y2=\"159.4\"\n",
       "    stroke=\"#663399\" stroke-width=\"2\" />\n",
       "<line x1=\"232.8\" y1=\"159.4\" x2=\"228.1\" y2=\"151.3\"\n",
       "    stroke=\"#663399\" stroke-width=\"2\" />\n",
       "<line x1=\"228.1\" y1=\"151.3\" x2=\"218.7\" y2=\"167.5\"\n",
       "    stroke=\"#663399\" stroke-width=\"2\" />\n",
       "<line x1=\"218.7\" y1=\"167.5\" x2=\"256.2\" y2=\"167.5\"\n",
       "    stroke=\"#663399\" stroke-width=\"2\" />\n",
       "<line x1=\"256.2\" y1=\"167.5\" x2=\"251.6\" y2=\"159.4\"\n",
       "    stroke=\"#663399\" stroke-width=\"2\" />\n",
       "<line x1=\"251.6\" y1=\"159.4\" x2=\"246.9\" y2=\"167.5\"\n",
       "    stroke=\"#663399\" stroke-width=\"2\" />\n",
       "<line x1=\"246.9\" y1=\"167.5\" x2=\"256.2\" y2=\"167.5\"\n",
       "    stroke=\"#663399\" stroke-width=\"2\" />\n",
       "<line x1=\"256.2\" y1=\"167.5\" x2=\"251.6\" y2=\"159.4\"\n",
       "    stroke=\"#663399\" stroke-width=\"2\" />\n",
       "<line x1=\"251.6\" y1=\"159.4\" x2=\"246.9\" y2=\"167.5\"\n",
       "    stroke=\"#663399\" stroke-width=\"2\" />\n",
       "<line x1=\"246.9\" y1=\"167.5\" x2=\"256.2\" y2=\"167.5\"\n",
       "    stroke=\"#663399\" stroke-width=\"2\" />\n",
       "<line x1=\"256.2\" y1=\"167.5\" x2=\"251.6\" y2=\"159.4\"\n",
       "    stroke=\"#663399\" stroke-width=\"2\" />\n",
       "<line x1=\"251.6\" y1=\"159.4\" x2=\"246.9\" y2=\"167.5\"\n",
       "    stroke=\"#663399\" stroke-width=\"2\" />\n",
       "<line x1=\"246.9\" y1=\"167.5\" x2=\"256.2\" y2=\"167.5\"\n",
       "    stroke=\"#663399\" stroke-width=\"2\" />\n",
       "<line x1=\"256.2\" y1=\"167.5\" x2=\"251.6\" y2=\"159.4\"\n",
       "    stroke=\"#663399\" stroke-width=\"2\" />\n",
       "<line x1=\"251.6\" y1=\"159.4\" x2=\"246.9\" y2=\"167.5\"\n",
       "    stroke=\"#663399\" stroke-width=\"2\" />\n",
       "<line x1=\"246.9\" y1=\"167.5\" x2=\"256.2\" y2=\"167.5\"\n",
       "    stroke=\"#663399\" stroke-width=\"2\" />\n",
       "<line x1=\"256.2\" y1=\"167.5\" x2=\"246.9\" y2=\"151.3\"\n",
       "    stroke=\"#663399\" stroke-width=\"2\" />\n",
       "<line x1=\"246.9\" y1=\"151.3\" x2=\"242.2\" y2=\"159.4\"\n",
       "    stroke=\"#663399\" stroke-width=\"2\" />\n",
       "<line x1=\"242.2\" y1=\"159.4\" x2=\"251.6\" y2=\"159.4\"\n",
       "    stroke=\"#663399\" stroke-width=\"2\" />\n",
       "<line x1=\"251.6\" y1=\"159.4\" x2=\"246.9\" y2=\"151.3\"\n",
       "    stroke=\"#663399\" stroke-width=\"2\" />\n",
       "<line x1=\"246.9\" y1=\"151.3\" x2=\"242.2\" y2=\"159.4\"\n",
       "    stroke=\"#663399\" stroke-width=\"2\" />\n",
       "<line x1=\"242.2\" y1=\"159.4\" x2=\"251.6\" y2=\"159.4\"\n",
       "    stroke=\"#663399\" stroke-width=\"2\" />\n",
       "<line x1=\"251.6\" y1=\"159.4\" x2=\"246.9\" y2=\"151.3\"\n",
       "    stroke=\"#663399\" stroke-width=\"2\" />\n",
       "<line x1=\"246.9\" y1=\"151.3\" x2=\"242.2\" y2=\"159.4\"\n",
       "    stroke=\"#663399\" stroke-width=\"2\" />\n",
       "<line x1=\"242.2\" y1=\"159.4\" x2=\"251.6\" y2=\"159.4\"\n",
       "    stroke=\"#663399\" stroke-width=\"2\" />\n",
       "<line x1=\"251.6\" y1=\"159.4\" x2=\"246.9\" y2=\"151.3\"\n",
       "    stroke=\"#663399\" stroke-width=\"2\" />\n",
       "<line x1=\"246.9\" y1=\"151.3\" x2=\"242.2\" y2=\"159.4\"\n",
       "    stroke=\"#663399\" stroke-width=\"2\" />\n",
       "<line x1=\"242.2\" y1=\"159.4\" x2=\"251.6\" y2=\"159.4\"\n",
       "    stroke=\"#663399\" stroke-width=\"2\" />\n",
       "<line x1=\"251.6\" y1=\"159.4\" x2=\"246.9\" y2=\"151.3\"\n",
       "    stroke=\"#663399\" stroke-width=\"2\" />\n",
       "<line x1=\"246.9\" y1=\"151.3\" x2=\"237.5\" y2=\"167.5\"\n",
       "    stroke=\"#663399\" stroke-width=\"2\" />\n",
       "<line x1=\"237.5\" y1=\"167.5\" x2=\"246.9\" y2=\"167.5\"\n",
       "    stroke=\"#663399\" stroke-width=\"2\" />\n",
       "<line x1=\"246.9\" y1=\"167.5\" x2=\"242.2\" y2=\"159.4\"\n",
       "    stroke=\"#663399\" stroke-width=\"2\" />\n",
       "<line x1=\"242.2\" y1=\"159.4\" x2=\"237.5\" y2=\"167.5\"\n",
       "    stroke=\"#663399\" stroke-width=\"2\" />\n",
       "<line x1=\"237.5\" y1=\"167.5\" x2=\"246.9\" y2=\"167.5\"\n",
       "    stroke=\"#663399\" stroke-width=\"2\" />\n",
       "<line x1=\"246.9\" y1=\"167.5\" x2=\"242.2\" y2=\"159.4\"\n",
       "    stroke=\"#663399\" stroke-width=\"2\" />\n",
       "<line x1=\"242.2\" y1=\"159.4\" x2=\"237.5\" y2=\"167.5\"\n",
       "    stroke=\"#663399\" stroke-width=\"2\" />\n",
       "<line x1=\"237.5\" y1=\"167.5\" x2=\"246.9\" y2=\"167.5\"\n",
       "    stroke=\"#663399\" stroke-width=\"2\" />\n",
       "<line x1=\"246.9\" y1=\"167.5\" x2=\"242.2\" y2=\"159.4\"\n",
       "    stroke=\"#663399\" stroke-width=\"2\" />\n",
       "<line x1=\"242.2\" y1=\"159.4\" x2=\"237.5\" y2=\"167.5\"\n",
       "    stroke=\"#663399\" stroke-width=\"2\" />\n",
       "<line x1=\"237.5\" y1=\"167.5\" x2=\"246.9\" y2=\"167.5\"\n",
       "    stroke=\"#663399\" stroke-width=\"2\" />\n",
       "<line x1=\"246.9\" y1=\"167.5\" x2=\"242.2\" y2=\"159.4\"\n",
       "    stroke=\"#663399\" stroke-width=\"2\" />\n",
       "<line x1=\"242.2\" y1=\"159.4\" x2=\"237.5\" y2=\"167.5\"\n",
       "    stroke=\"#663399\" stroke-width=\"2\" />\n",
       "<line x1=\"237.5\" y1=\"167.5\" x2=\"256.2\" y2=\"167.5\"\n",
       "    stroke=\"#663399\" stroke-width=\"2\" />\n",
       "<line x1=\"256.2\" y1=\"167.5\" x2=\"237.5\" y2=\"135.0\"\n",
       "    stroke=\"#663399\" stroke-width=\"2\" />\n",
       "<line x1=\"237.5\" y1=\"135.0\" x2=\"200.0\" y2=\"200.0\"\n",
       "    stroke=\"#663399\" stroke-width=\"2\" />\n",
       "<line x1=\"200.0\" y1=\"200.0\" x2=\"350.0\" y2=\"200.0\"\n",
       "    stroke=\"#663399\" stroke-width=\"2\" />\n",
       "<line x1=\"350.0\" y1=\"200.0\" x2=\"345.3\" y2=\"191.9\"\n",
       "    stroke=\"#663399\" stroke-width=\"2\" />\n",
       "<line x1=\"345.3\" y1=\"191.9\" x2=\"340.6\" y2=\"200.0\"\n",
       "    stroke=\"#663399\" stroke-width=\"2\" />\n",
       "<line x1=\"340.6\" y1=\"200.0\" x2=\"350.0\" y2=\"200.0\"\n",
       "    stroke=\"#663399\" stroke-width=\"2\" />\n",
       "<line x1=\"350.0\" y1=\"200.0\" x2=\"345.3\" y2=\"191.9\"\n",
       "    stroke=\"#663399\" stroke-width=\"2\" />\n",
       "<line x1=\"345.3\" y1=\"191.9\" x2=\"340.6\" y2=\"200.0\"\n",
       "    stroke=\"#663399\" stroke-width=\"2\" />\n",
       "<line x1=\"340.6\" y1=\"200.0\" x2=\"350.0\" y2=\"200.0\"\n",
       "    stroke=\"#663399\" stroke-width=\"2\" />\n",
       "<line x1=\"350.0\" y1=\"200.0\" x2=\"345.3\" y2=\"191.9\"\n",
       "    stroke=\"#663399\" stroke-width=\"2\" />\n",
       "<line x1=\"345.3\" y1=\"191.9\" x2=\"340.6\" y2=\"200.0\"\n",
       "    stroke=\"#663399\" stroke-width=\"2\" />\n",
       "<line x1=\"340.6\" y1=\"200.0\" x2=\"350.0\" y2=\"200.0\"\n",
       "    stroke=\"#663399\" stroke-width=\"2\" />\n",
       "<line x1=\"350.0\" y1=\"200.0\" x2=\"345.3\" y2=\"191.9\"\n",
       "    stroke=\"#663399\" stroke-width=\"2\" />\n",
       "<line x1=\"345.3\" y1=\"191.9\" x2=\"340.6\" y2=\"200.0\"\n",
       "    stroke=\"#663399\" stroke-width=\"2\" />\n",
       "<line x1=\"340.6\" y1=\"200.0\" x2=\"350.0\" y2=\"200.0\"\n",
       "    stroke=\"#663399\" stroke-width=\"2\" />\n",
       "<line x1=\"350.0\" y1=\"200.0\" x2=\"340.6\" y2=\"183.8\"\n",
       "    stroke=\"#663399\" stroke-width=\"2\" />\n",
       "<line x1=\"340.6\" y1=\"183.8\" x2=\"335.9\" y2=\"191.9\"\n",
       "    stroke=\"#663399\" stroke-width=\"2\" />\n",
       "<line x1=\"335.9\" y1=\"191.9\" x2=\"345.3\" y2=\"191.9\"\n",
       "    stroke=\"#663399\" stroke-width=\"2\" />\n",
       "<line x1=\"345.3\" y1=\"191.9\" x2=\"340.6\" y2=\"183.8\"\n",
       "    stroke=\"#663399\" stroke-width=\"2\" />\n",
       "<line x1=\"340.6\" y1=\"183.8\" x2=\"335.9\" y2=\"191.9\"\n",
       "    stroke=\"#663399\" stroke-width=\"2\" />\n",
       "<line x1=\"335.9\" y1=\"191.9\" x2=\"345.3\" y2=\"191.9\"\n",
       "    stroke=\"#663399\" stroke-width=\"2\" />\n",
       "<line x1=\"345.3\" y1=\"191.9\" x2=\"340.6\" y2=\"183.8\"\n",
       "    stroke=\"#663399\" stroke-width=\"2\" />\n",
       "<line x1=\"340.6\" y1=\"183.8\" x2=\"335.9\" y2=\"191.9\"\n",
       "    stroke=\"#663399\" stroke-width=\"2\" />\n",
       "<line x1=\"335.9\" y1=\"191.9\" x2=\"345.3\" y2=\"191.9\"\n",
       "    stroke=\"#663399\" stroke-width=\"2\" />\n",
       "<line x1=\"345.3\" y1=\"191.9\" x2=\"340.6\" y2=\"183.8\"\n",
       "    stroke=\"#663399\" stroke-width=\"2\" />\n",
       "<line x1=\"340.6\" y1=\"183.8\" x2=\"335.9\" y2=\"191.9\"\n",
       "    stroke=\"#663399\" stroke-width=\"2\" />\n",
       "<line x1=\"335.9\" y1=\"191.9\" x2=\"345.3\" y2=\"191.9\"\n",
       "    stroke=\"#663399\" stroke-width=\"2\" />\n",
       "<line x1=\"345.3\" y1=\"191.9\" x2=\"340.6\" y2=\"183.8\"\n",
       "    stroke=\"#663399\" stroke-width=\"2\" />\n",
       "<line x1=\"340.6\" y1=\"183.8\" x2=\"331.2\" y2=\"200.0\"\n",
       "    stroke=\"#663399\" stroke-width=\"2\" />\n",
       "<line x1=\"331.2\" y1=\"200.0\" x2=\"340.6\" y2=\"200.0\"\n",
       "    stroke=\"#663399\" stroke-width=\"2\" />\n",
       "<line x1=\"340.6\" y1=\"200.0\" x2=\"335.9\" y2=\"191.9\"\n",
       "    stroke=\"#663399\" stroke-width=\"2\" />\n",
       "<line x1=\"335.9\" y1=\"191.9\" x2=\"331.2\" y2=\"200.0\"\n",
       "    stroke=\"#663399\" stroke-width=\"2\" />\n",
       "<line x1=\"331.2\" y1=\"200.0\" x2=\"340.6\" y2=\"200.0\"\n",
       "    stroke=\"#663399\" stroke-width=\"2\" />\n",
       "<line x1=\"340.6\" y1=\"200.0\" x2=\"335.9\" y2=\"191.9\"\n",
       "    stroke=\"#663399\" stroke-width=\"2\" />\n",
       "<line x1=\"335.9\" y1=\"191.9\" x2=\"331.2\" y2=\"200.0\"\n",
       "    stroke=\"#663399\" stroke-width=\"2\" />\n",
       "<line x1=\"331.2\" y1=\"200.0\" x2=\"340.6\" y2=\"200.0\"\n",
       "    stroke=\"#663399\" stroke-width=\"2\" />\n",
       "<line x1=\"340.6\" y1=\"200.0\" x2=\"335.9\" y2=\"191.9\"\n",
       "    stroke=\"#663399\" stroke-width=\"2\" />\n",
       "<line x1=\"335.9\" y1=\"191.9\" x2=\"331.2\" y2=\"200.0\"\n",
       "    stroke=\"#663399\" stroke-width=\"2\" />\n",
       "<line x1=\"331.2\" y1=\"200.0\" x2=\"340.6\" y2=\"200.0\"\n",
       "    stroke=\"#663399\" stroke-width=\"2\" />\n",
       "<line x1=\"340.6\" y1=\"200.0\" x2=\"335.9\" y2=\"191.9\"\n",
       "    stroke=\"#663399\" stroke-width=\"2\" />\n",
       "<line x1=\"335.9\" y1=\"191.9\" x2=\"331.2\" y2=\"200.0\"\n",
       "    stroke=\"#663399\" stroke-width=\"2\" />\n",
       "<line x1=\"331.2\" y1=\"200.0\" x2=\"350.0\" y2=\"200.0\"\n",
       "    stroke=\"#663399\" stroke-width=\"2\" />\n",
       "<line x1=\"350.0\" y1=\"200.0\" x2=\"331.2\" y2=\"167.5\"\n",
       "    stroke=\"#663399\" stroke-width=\"2\" />\n",
       "<line x1=\"331.2\" y1=\"167.5\" x2=\"326.6\" y2=\"175.6\"\n",
       "    stroke=\"#663399\" stroke-width=\"2\" />\n",
       "<line x1=\"326.6\" y1=\"175.6\" x2=\"335.9\" y2=\"175.6\"\n",
       "    stroke=\"#663399\" stroke-width=\"2\" />\n",
       "<line x1=\"335.9\" y1=\"175.6\" x2=\"331.2\" y2=\"167.5\"\n",
       "    stroke=\"#663399\" stroke-width=\"2\" />\n",
       "<line x1=\"331.2\" y1=\"167.5\" x2=\"326.6\" y2=\"175.6\"\n",
       "    stroke=\"#663399\" stroke-width=\"2\" />\n",
       "<line x1=\"326.6\" y1=\"175.6\" x2=\"335.9\" y2=\"175.6\"\n",
       "    stroke=\"#663399\" stroke-width=\"2\" />\n",
       "<line x1=\"335.9\" y1=\"175.6\" x2=\"331.2\" y2=\"167.5\"\n",
       "    stroke=\"#663399\" stroke-width=\"2\" />\n",
       "<line x1=\"331.2\" y1=\"167.5\" x2=\"326.6\" y2=\"175.6\"\n",
       "    stroke=\"#663399\" stroke-width=\"2\" />\n",
       "<line x1=\"326.6\" y1=\"175.6\" x2=\"335.9\" y2=\"175.6\"\n",
       "    stroke=\"#663399\" stroke-width=\"2\" />\n",
       "<line x1=\"335.9\" y1=\"175.6\" x2=\"331.2\" y2=\"167.5\"\n",
       "    stroke=\"#663399\" stroke-width=\"2\" />\n",
       "<line x1=\"331.2\" y1=\"167.5\" x2=\"326.6\" y2=\"175.6\"\n",
       "    stroke=\"#663399\" stroke-width=\"2\" />\n",
       "<line x1=\"326.6\" y1=\"175.6\" x2=\"335.9\" y2=\"175.6\"\n",
       "    stroke=\"#663399\" stroke-width=\"2\" />\n",
       "<line x1=\"335.9\" y1=\"175.6\" x2=\"331.2\" y2=\"167.5\"\n",
       "    stroke=\"#663399\" stroke-width=\"2\" />\n",
       "<line x1=\"331.2\" y1=\"167.5\" x2=\"321.9\" y2=\"183.8\"\n",
       "    stroke=\"#663399\" stroke-width=\"2\" />\n",
       "<line x1=\"321.9\" y1=\"183.8\" x2=\"331.2\" y2=\"183.8\"\n",
       "    stroke=\"#663399\" stroke-width=\"2\" />\n",
       "<line x1=\"331.2\" y1=\"183.8\" x2=\"326.6\" y2=\"175.6\"\n",
       "    stroke=\"#663399\" stroke-width=\"2\" />\n",
       "<line x1=\"326.6\" y1=\"175.6\" x2=\"321.9\" y2=\"183.8\"\n",
       "    stroke=\"#663399\" stroke-width=\"2\" />\n",
       "<line x1=\"321.9\" y1=\"183.8\" x2=\"331.2\" y2=\"183.8\"\n",
       "    stroke=\"#663399\" stroke-width=\"2\" />\n",
       "<line x1=\"331.2\" y1=\"183.8\" x2=\"326.6\" y2=\"175.6\"\n",
       "    stroke=\"#663399\" stroke-width=\"2\" />\n",
       "<line x1=\"326.6\" y1=\"175.6\" x2=\"321.9\" y2=\"183.8\"\n",
       "    stroke=\"#663399\" stroke-width=\"2\" />\n",
       "<line x1=\"321.9\" y1=\"183.8\" x2=\"331.2\" y2=\"183.8\"\n",
       "    stroke=\"#663399\" stroke-width=\"2\" />\n",
       "<line x1=\"331.2\" y1=\"183.8\" x2=\"326.6\" y2=\"175.6\"\n",
       "    stroke=\"#663399\" stroke-width=\"2\" />\n",
       "<line x1=\"326.6\" y1=\"175.6\" x2=\"321.9\" y2=\"183.8\"\n",
       "    stroke=\"#663399\" stroke-width=\"2\" />\n",
       "<line x1=\"321.9\" y1=\"183.8\" x2=\"331.2\" y2=\"183.8\"\n",
       "    stroke=\"#663399\" stroke-width=\"2\" />\n",
       "<line x1=\"331.2\" y1=\"183.8\" x2=\"326.6\" y2=\"175.6\"\n",
       "    stroke=\"#663399\" stroke-width=\"2\" />\n",
       "<line x1=\"326.6\" y1=\"175.6\" x2=\"321.9\" y2=\"183.8\"\n",
       "    stroke=\"#663399\" stroke-width=\"2\" />\n",
       "<line x1=\"321.9\" y1=\"183.8\" x2=\"340.6\" y2=\"183.8\"\n",
       "    stroke=\"#663399\" stroke-width=\"2\" />\n",
       "<line x1=\"340.6\" y1=\"183.8\" x2=\"335.9\" y2=\"175.6\"\n",
       "    stroke=\"#663399\" stroke-width=\"2\" />\n",
       "<line x1=\"335.9\" y1=\"175.6\" x2=\"331.2\" y2=\"183.8\"\n",
       "    stroke=\"#663399\" stroke-width=\"2\" />\n",
       "<line x1=\"331.2\" y1=\"183.8\" x2=\"340.6\" y2=\"183.8\"\n",
       "    stroke=\"#663399\" stroke-width=\"2\" />\n",
       "<line x1=\"340.6\" y1=\"183.8\" x2=\"335.9\" y2=\"175.6\"\n",
       "    stroke=\"#663399\" stroke-width=\"2\" />\n",
       "<line x1=\"335.9\" y1=\"175.6\" x2=\"331.2\" y2=\"183.8\"\n",
       "    stroke=\"#663399\" stroke-width=\"2\" />\n",
       "<line x1=\"331.2\" y1=\"183.8\" x2=\"340.6\" y2=\"183.8\"\n",
       "    stroke=\"#663399\" stroke-width=\"2\" />\n",
       "<line x1=\"340.6\" y1=\"183.8\" x2=\"335.9\" y2=\"175.6\"\n",
       "    stroke=\"#663399\" stroke-width=\"2\" />\n",
       "<line x1=\"335.9\" y1=\"175.6\" x2=\"331.2\" y2=\"183.8\"\n",
       "    stroke=\"#663399\" stroke-width=\"2\" />\n",
       "<line x1=\"331.2\" y1=\"183.8\" x2=\"340.6\" y2=\"183.8\"\n",
       "    stroke=\"#663399\" stroke-width=\"2\" />\n",
       "<line x1=\"340.6\" y1=\"183.8\" x2=\"335.9\" y2=\"175.6\"\n",
       "    stroke=\"#663399\" stroke-width=\"2\" />\n",
       "<line x1=\"335.9\" y1=\"175.6\" x2=\"331.2\" y2=\"183.8\"\n",
       "    stroke=\"#663399\" stroke-width=\"2\" />\n",
       "<line x1=\"331.2\" y1=\"183.8\" x2=\"340.6\" y2=\"183.8\"\n",
       "    stroke=\"#663399\" stroke-width=\"2\" />\n",
       "<line x1=\"340.6\" y1=\"183.8\" x2=\"331.2\" y2=\"167.5\"\n",
       "    stroke=\"#663399\" stroke-width=\"2\" />\n",
       "<line x1=\"331.2\" y1=\"167.5\" x2=\"312.5\" y2=\"200.0\"\n",
       "    stroke=\"#663399\" stroke-width=\"2\" />\n",
       "<line x1=\"312.5\" y1=\"200.0\" x2=\"321.9\" y2=\"200.0\"\n",
       "    stroke=\"#663399\" stroke-width=\"2\" />\n",
       "<line x1=\"321.9\" y1=\"200.0\" x2=\"317.2\" y2=\"191.9\"\n",
       "    stroke=\"#663399\" stroke-width=\"2\" />\n",
       "<line x1=\"317.2\" y1=\"191.9\" x2=\"312.5\" y2=\"200.0\"\n",
       "    stroke=\"#663399\" stroke-width=\"2\" />\n",
       "<line x1=\"312.5\" y1=\"200.0\" x2=\"321.9\" y2=\"200.0\"\n",
       "    stroke=\"#663399\" stroke-width=\"2\" />\n",
       "<line x1=\"321.9\" y1=\"200.0\" x2=\"317.2\" y2=\"191.9\"\n",
       "    stroke=\"#663399\" stroke-width=\"2\" />\n",
       "<line x1=\"317.2\" y1=\"191.9\" x2=\"312.5\" y2=\"200.0\"\n",
       "    stroke=\"#663399\" stroke-width=\"2\" />\n",
       "<line x1=\"312.5\" y1=\"200.0\" x2=\"321.9\" y2=\"200.0\"\n",
       "    stroke=\"#663399\" stroke-width=\"2\" />\n",
       "<line x1=\"321.9\" y1=\"200.0\" x2=\"317.2\" y2=\"191.9\"\n",
       "    stroke=\"#663399\" stroke-width=\"2\" />\n",
       "<line x1=\"317.2\" y1=\"191.9\" x2=\"312.5\" y2=\"200.0\"\n",
       "    stroke=\"#663399\" stroke-width=\"2\" />\n",
       "<line x1=\"312.5\" y1=\"200.0\" x2=\"321.9\" y2=\"200.0\"\n",
       "    stroke=\"#663399\" stroke-width=\"2\" />\n",
       "<line x1=\"321.9\" y1=\"200.0\" x2=\"317.2\" y2=\"191.9\"\n",
       "    stroke=\"#663399\" stroke-width=\"2\" />\n",
       "<line x1=\"317.2\" y1=\"191.9\" x2=\"312.5\" y2=\"200.0\"\n",
       "    stroke=\"#663399\" stroke-width=\"2\" />\n",
       "<line x1=\"312.5\" y1=\"200.0\" x2=\"331.2\" y2=\"200.0\"\n",
       "    stroke=\"#663399\" stroke-width=\"2\" />\n",
       "<line x1=\"331.2\" y1=\"200.0\" x2=\"326.6\" y2=\"191.9\"\n",
       "    stroke=\"#663399\" stroke-width=\"2\" />\n",
       "<line x1=\"326.6\" y1=\"191.9\" x2=\"321.9\" y2=\"200.0\"\n",
       "    stroke=\"#663399\" stroke-width=\"2\" />\n",
       "<line x1=\"321.9\" y1=\"200.0\" x2=\"331.2\" y2=\"200.0\"\n",
       "    stroke=\"#663399\" stroke-width=\"2\" />\n",
       "<line x1=\"331.2\" y1=\"200.0\" x2=\"326.6\" y2=\"191.9\"\n",
       "    stroke=\"#663399\" stroke-width=\"2\" />\n",
       "<line x1=\"326.6\" y1=\"191.9\" x2=\"321.9\" y2=\"200.0\"\n",
       "    stroke=\"#663399\" stroke-width=\"2\" />\n",
       "<line x1=\"321.9\" y1=\"200.0\" x2=\"331.2\" y2=\"200.0\"\n",
       "    stroke=\"#663399\" stroke-width=\"2\" />\n",
       "<line x1=\"331.2\" y1=\"200.0\" x2=\"326.6\" y2=\"191.9\"\n",
       "    stroke=\"#663399\" stroke-width=\"2\" />\n",
       "<line x1=\"326.6\" y1=\"191.9\" x2=\"321.9\" y2=\"200.0\"\n",
       "    stroke=\"#663399\" stroke-width=\"2\" />\n",
       "<line x1=\"321.9\" y1=\"200.0\" x2=\"331.2\" y2=\"200.0\"\n",
       "    stroke=\"#663399\" stroke-width=\"2\" />\n",
       "<line x1=\"331.2\" y1=\"200.0\" x2=\"326.6\" y2=\"191.9\"\n",
       "    stroke=\"#663399\" stroke-width=\"2\" />\n",
       "<line x1=\"326.6\" y1=\"191.9\" x2=\"321.9\" y2=\"200.0\"\n",
       "    stroke=\"#663399\" stroke-width=\"2\" />\n",
       "<line x1=\"321.9\" y1=\"200.0\" x2=\"331.2\" y2=\"200.0\"\n",
       "    stroke=\"#663399\" stroke-width=\"2\" />\n",
       "<line x1=\"331.2\" y1=\"200.0\" x2=\"321.9\" y2=\"183.8\"\n",
       "    stroke=\"#663399\" stroke-width=\"2\" />\n",
       "<line x1=\"321.9\" y1=\"183.8\" x2=\"317.2\" y2=\"191.9\"\n",
       "    stroke=\"#663399\" stroke-width=\"2\" />\n",
       "<line x1=\"317.2\" y1=\"191.9\" x2=\"326.6\" y2=\"191.9\"\n",
       "    stroke=\"#663399\" stroke-width=\"2\" />\n",
       "<line x1=\"326.6\" y1=\"191.9\" x2=\"321.9\" y2=\"183.8\"\n",
       "    stroke=\"#663399\" stroke-width=\"2\" />\n",
       "<line x1=\"321.9\" y1=\"183.8\" x2=\"317.2\" y2=\"191.9\"\n",
       "    stroke=\"#663399\" stroke-width=\"2\" />\n",
       "<line x1=\"317.2\" y1=\"191.9\" x2=\"326.6\" y2=\"191.9\"\n",
       "    stroke=\"#663399\" stroke-width=\"2\" />\n",
       "<line x1=\"326.6\" y1=\"191.9\" x2=\"321.9\" y2=\"183.8\"\n",
       "    stroke=\"#663399\" stroke-width=\"2\" />\n",
       "<line x1=\"321.9\" y1=\"183.8\" x2=\"317.2\" y2=\"191.9\"\n",
       "    stroke=\"#663399\" stroke-width=\"2\" />\n",
       "<line x1=\"317.2\" y1=\"191.9\" x2=\"326.6\" y2=\"191.9\"\n",
       "    stroke=\"#663399\" stroke-width=\"2\" />\n",
       "<line x1=\"326.6\" y1=\"191.9\" x2=\"321.9\" y2=\"183.8\"\n",
       "    stroke=\"#663399\" stroke-width=\"2\" />\n",
       "<line x1=\"321.9\" y1=\"183.8\" x2=\"317.2\" y2=\"191.9\"\n",
       "    stroke=\"#663399\" stroke-width=\"2\" />\n",
       "<line x1=\"317.2\" y1=\"191.9\" x2=\"326.6\" y2=\"191.9\"\n",
       "    stroke=\"#663399\" stroke-width=\"2\" />\n",
       "<line x1=\"326.6\" y1=\"191.9\" x2=\"321.9\" y2=\"183.8\"\n",
       "    stroke=\"#663399\" stroke-width=\"2\" />\n",
       "<line x1=\"321.9\" y1=\"183.8\" x2=\"312.5\" y2=\"200.0\"\n",
       "    stroke=\"#663399\" stroke-width=\"2\" />\n",
       "<line x1=\"312.5\" y1=\"200.0\" x2=\"350.0\" y2=\"200.0\"\n",
       "    stroke=\"#663399\" stroke-width=\"2\" />\n",
       "<line x1=\"350.0\" y1=\"200.0\" x2=\"312.5\" y2=\"135.0\"\n",
       "    stroke=\"#663399\" stroke-width=\"2\" />\n",
       "<line x1=\"312.5\" y1=\"135.0\" x2=\"307.8\" y2=\"143.2\"\n",
       "    stroke=\"#663399\" stroke-width=\"2\" />\n",
       "<line x1=\"307.8\" y1=\"143.2\" x2=\"317.2\" y2=\"143.2\"\n",
       "    stroke=\"#663399\" stroke-width=\"2\" />\n",
       "<line x1=\"317.2\" y1=\"143.2\" x2=\"312.5\" y2=\"135.0\"\n",
       "    stroke=\"#663399\" stroke-width=\"2\" />\n",
       "<line x1=\"312.5\" y1=\"135.0\" x2=\"307.8\" y2=\"143.2\"\n",
       "    stroke=\"#663399\" stroke-width=\"2\" />\n",
       "<line x1=\"307.8\" y1=\"143.2\" x2=\"317.2\" y2=\"143.2\"\n",
       "    stroke=\"#663399\" stroke-width=\"2\" />\n",
       "<line x1=\"317.2\" y1=\"143.2\" x2=\"312.5\" y2=\"135.0\"\n",
       "    stroke=\"#663399\" stroke-width=\"2\" />\n",
       "<line x1=\"312.5\" y1=\"135.0\" x2=\"307.8\" y2=\"143.2\"\n",
       "    stroke=\"#663399\" stroke-width=\"2\" />\n",
       "<line x1=\"307.8\" y1=\"143.2\" x2=\"317.2\" y2=\"143.2\"\n",
       "    stroke=\"#663399\" stroke-width=\"2\" />\n",
       "<line x1=\"317.2\" y1=\"143.2\" x2=\"312.5\" y2=\"135.0\"\n",
       "    stroke=\"#663399\" stroke-width=\"2\" />\n",
       "<line x1=\"312.5\" y1=\"135.0\" x2=\"307.8\" y2=\"143.2\"\n",
       "    stroke=\"#663399\" stroke-width=\"2\" />\n",
       "<line x1=\"307.8\" y1=\"143.2\" x2=\"317.2\" y2=\"143.2\"\n",
       "    stroke=\"#663399\" stroke-width=\"2\" />\n",
       "<line x1=\"317.2\" y1=\"143.2\" x2=\"312.5\" y2=\"135.0\"\n",
       "    stroke=\"#663399\" stroke-width=\"2\" />\n",
       "<line x1=\"312.5\" y1=\"135.0\" x2=\"303.1\" y2=\"151.3\"\n",
       "    stroke=\"#663399\" stroke-width=\"2\" />\n",
       "<line x1=\"303.1\" y1=\"151.3\" x2=\"312.5\" y2=\"151.3\"\n",
       "    stroke=\"#663399\" stroke-width=\"2\" />\n",
       "<line x1=\"312.5\" y1=\"151.3\" x2=\"307.8\" y2=\"143.2\"\n",
       "    stroke=\"#663399\" stroke-width=\"2\" />\n",
       "<line x1=\"307.8\" y1=\"143.2\" x2=\"303.1\" y2=\"151.3\"\n",
       "    stroke=\"#663399\" stroke-width=\"2\" />\n",
       "<line x1=\"303.1\" y1=\"151.3\" x2=\"312.5\" y2=\"151.3\"\n",
       "    stroke=\"#663399\" stroke-width=\"2\" />\n",
       "<line x1=\"312.5\" y1=\"151.3\" x2=\"307.8\" y2=\"143.2\"\n",
       "    stroke=\"#663399\" stroke-width=\"2\" />\n",
       "<line x1=\"307.8\" y1=\"143.2\" x2=\"303.1\" y2=\"151.3\"\n",
       "    stroke=\"#663399\" stroke-width=\"2\" />\n",
       "<line x1=\"303.1\" y1=\"151.3\" x2=\"312.5\" y2=\"151.3\"\n",
       "    stroke=\"#663399\" stroke-width=\"2\" />\n",
       "<line x1=\"312.5\" y1=\"151.3\" x2=\"307.8\" y2=\"143.2\"\n",
       "    stroke=\"#663399\" stroke-width=\"2\" />\n",
       "<line x1=\"307.8\" y1=\"143.2\" x2=\"303.1\" y2=\"151.3\"\n",
       "    stroke=\"#663399\" stroke-width=\"2\" />\n",
       "<line x1=\"303.1\" y1=\"151.3\" x2=\"312.5\" y2=\"151.3\"\n",
       "    stroke=\"#663399\" stroke-width=\"2\" />\n",
       "<line x1=\"312.5\" y1=\"151.3\" x2=\"307.8\" y2=\"143.2\"\n",
       "    stroke=\"#663399\" stroke-width=\"2\" />\n",
       "<line x1=\"307.8\" y1=\"143.2\" x2=\"303.1\" y2=\"151.3\"\n",
       "    stroke=\"#663399\" stroke-width=\"2\" />\n",
       "<line x1=\"303.1\" y1=\"151.3\" x2=\"321.9\" y2=\"151.3\"\n",
       "    stroke=\"#663399\" stroke-width=\"2\" />\n",
       "<line x1=\"321.9\" y1=\"151.3\" x2=\"317.2\" y2=\"143.2\"\n",
       "    stroke=\"#663399\" stroke-width=\"2\" />\n",
       "<line x1=\"317.2\" y1=\"143.2\" x2=\"312.5\" y2=\"151.3\"\n",
       "    stroke=\"#663399\" stroke-width=\"2\" />\n",
       "<line x1=\"312.5\" y1=\"151.3\" x2=\"321.9\" y2=\"151.3\"\n",
       "    stroke=\"#663399\" stroke-width=\"2\" />\n",
       "<line x1=\"321.9\" y1=\"151.3\" x2=\"317.2\" y2=\"143.2\"\n",
       "    stroke=\"#663399\" stroke-width=\"2\" />\n",
       "<line x1=\"317.2\" y1=\"143.2\" x2=\"312.5\" y2=\"151.3\"\n",
       "    stroke=\"#663399\" stroke-width=\"2\" />\n",
       "<line x1=\"312.5\" y1=\"151.3\" x2=\"321.9\" y2=\"151.3\"\n",
       "    stroke=\"#663399\" stroke-width=\"2\" />\n",
       "<line x1=\"321.9\" y1=\"151.3\" x2=\"317.2\" y2=\"143.2\"\n",
       "    stroke=\"#663399\" stroke-width=\"2\" />\n",
       "<line x1=\"317.2\" y1=\"143.2\" x2=\"312.5\" y2=\"151.3\"\n",
       "    stroke=\"#663399\" stroke-width=\"2\" />\n",
       "<line x1=\"312.5\" y1=\"151.3\" x2=\"321.9\" y2=\"151.3\"\n",
       "    stroke=\"#663399\" stroke-width=\"2\" />\n",
       "<line x1=\"321.9\" y1=\"151.3\" x2=\"317.2\" y2=\"143.2\"\n",
       "    stroke=\"#663399\" stroke-width=\"2\" />\n",
       "<line x1=\"317.2\" y1=\"143.2\" x2=\"312.5\" y2=\"151.3\"\n",
       "    stroke=\"#663399\" stroke-width=\"2\" />\n",
       "<line x1=\"312.5\" y1=\"151.3\" x2=\"321.9\" y2=\"151.3\"\n",
       "    stroke=\"#663399\" stroke-width=\"2\" />\n",
       "<line x1=\"321.9\" y1=\"151.3\" x2=\"312.5\" y2=\"135.0\"\n",
       "    stroke=\"#663399\" stroke-width=\"2\" />\n",
       "<line x1=\"312.5\" y1=\"135.0\" x2=\"293.7\" y2=\"167.5\"\n",
       "    stroke=\"#663399\" stroke-width=\"2\" />\n",
       "<line x1=\"293.7\" y1=\"167.5\" x2=\"303.1\" y2=\"167.5\"\n",
       "    stroke=\"#663399\" stroke-width=\"2\" />\n",
       "<line x1=\"303.1\" y1=\"167.5\" x2=\"298.4\" y2=\"159.4\"\n",
       "    stroke=\"#663399\" stroke-width=\"2\" />\n",
       "<line x1=\"298.4\" y1=\"159.4\" x2=\"293.7\" y2=\"167.5\"\n",
       "    stroke=\"#663399\" stroke-width=\"2\" />\n",
       "<line x1=\"293.7\" y1=\"167.5\" x2=\"303.1\" y2=\"167.5\"\n",
       "    stroke=\"#663399\" stroke-width=\"2\" />\n",
       "<line x1=\"303.1\" y1=\"167.5\" x2=\"298.4\" y2=\"159.4\"\n",
       "    stroke=\"#663399\" stroke-width=\"2\" />\n",
       "<line x1=\"298.4\" y1=\"159.4\" x2=\"293.7\" y2=\"167.5\"\n",
       "    stroke=\"#663399\" stroke-width=\"2\" />\n",
       "<line x1=\"293.7\" y1=\"167.5\" x2=\"303.1\" y2=\"167.5\"\n",
       "    stroke=\"#663399\" stroke-width=\"2\" />\n",
       "<line x1=\"303.1\" y1=\"167.5\" x2=\"298.4\" y2=\"159.4\"\n",
       "    stroke=\"#663399\" stroke-width=\"2\" />\n",
       "<line x1=\"298.4\" y1=\"159.4\" x2=\"293.7\" y2=\"167.5\"\n",
       "    stroke=\"#663399\" stroke-width=\"2\" />\n",
       "<line x1=\"293.7\" y1=\"167.5\" x2=\"303.1\" y2=\"167.5\"\n",
       "    stroke=\"#663399\" stroke-width=\"2\" />\n",
       "<line x1=\"303.1\" y1=\"167.5\" x2=\"298.4\" y2=\"159.4\"\n",
       "    stroke=\"#663399\" stroke-width=\"2\" />\n",
       "<line x1=\"298.4\" y1=\"159.4\" x2=\"293.7\" y2=\"167.5\"\n",
       "    stroke=\"#663399\" stroke-width=\"2\" />\n",
       "<line x1=\"293.7\" y1=\"167.5\" x2=\"312.5\" y2=\"167.5\"\n",
       "    stroke=\"#663399\" stroke-width=\"2\" />\n",
       "<line x1=\"312.5\" y1=\"167.5\" x2=\"307.8\" y2=\"159.4\"\n",
       "    stroke=\"#663399\" stroke-width=\"2\" />\n",
       "<line x1=\"307.8\" y1=\"159.4\" x2=\"303.1\" y2=\"167.5\"\n",
       "    stroke=\"#663399\" stroke-width=\"2\" />\n",
       "<line x1=\"303.1\" y1=\"167.5\" x2=\"312.5\" y2=\"167.5\"\n",
       "    stroke=\"#663399\" stroke-width=\"2\" />\n",
       "<line x1=\"312.5\" y1=\"167.5\" x2=\"307.8\" y2=\"159.4\"\n",
       "    stroke=\"#663399\" stroke-width=\"2\" />\n",
       "<line x1=\"307.8\" y1=\"159.4\" x2=\"303.1\" y2=\"167.5\"\n",
       "    stroke=\"#663399\" stroke-width=\"2\" />\n",
       "<line x1=\"303.1\" y1=\"167.5\" x2=\"312.5\" y2=\"167.5\"\n",
       "    stroke=\"#663399\" stroke-width=\"2\" />\n",
       "<line x1=\"312.5\" y1=\"167.5\" x2=\"307.8\" y2=\"159.4\"\n",
       "    stroke=\"#663399\" stroke-width=\"2\" />\n",
       "<line x1=\"307.8\" y1=\"159.4\" x2=\"303.1\" y2=\"167.5\"\n",
       "    stroke=\"#663399\" stroke-width=\"2\" />\n",
       "<line x1=\"303.1\" y1=\"167.5\" x2=\"312.5\" y2=\"167.5\"\n",
       "    stroke=\"#663399\" stroke-width=\"2\" />\n",
       "<line x1=\"312.5\" y1=\"167.5\" x2=\"307.8\" y2=\"159.4\"\n",
       "    stroke=\"#663399\" stroke-width=\"2\" />\n",
       "<line x1=\"307.8\" y1=\"159.4\" x2=\"303.1\" y2=\"167.5\"\n",
       "    stroke=\"#663399\" stroke-width=\"2\" />\n",
       "<line x1=\"303.1\" y1=\"167.5\" x2=\"312.5\" y2=\"167.5\"\n",
       "    stroke=\"#663399\" stroke-width=\"2\" />\n",
       "<line x1=\"312.5\" y1=\"167.5\" x2=\"303.1\" y2=\"151.3\"\n",
       "    stroke=\"#663399\" stroke-width=\"2\" />\n",
       "<line x1=\"303.1\" y1=\"151.3\" x2=\"298.4\" y2=\"159.4\"\n",
       "    stroke=\"#663399\" stroke-width=\"2\" />\n",
       "<line x1=\"298.4\" y1=\"159.4\" x2=\"307.8\" y2=\"159.4\"\n",
       "    stroke=\"#663399\" stroke-width=\"2\" />\n",
       "<line x1=\"307.8\" y1=\"159.4\" x2=\"303.1\" y2=\"151.3\"\n",
       "    stroke=\"#663399\" stroke-width=\"2\" />\n",
       "<line x1=\"303.1\" y1=\"151.3\" x2=\"298.4\" y2=\"159.4\"\n",
       "    stroke=\"#663399\" stroke-width=\"2\" />\n",
       "<line x1=\"298.4\" y1=\"159.4\" x2=\"307.8\" y2=\"159.4\"\n",
       "    stroke=\"#663399\" stroke-width=\"2\" />\n",
       "<line x1=\"307.8\" y1=\"159.4\" x2=\"303.1\" y2=\"151.3\"\n",
       "    stroke=\"#663399\" stroke-width=\"2\" />\n",
       "<line x1=\"303.1\" y1=\"151.3\" x2=\"298.4\" y2=\"159.4\"\n",
       "    stroke=\"#663399\" stroke-width=\"2\" />\n",
       "<line x1=\"298.4\" y1=\"159.4\" x2=\"307.8\" y2=\"159.4\"\n",
       "    stroke=\"#663399\" stroke-width=\"2\" />\n",
       "<line x1=\"307.8\" y1=\"159.4\" x2=\"303.1\" y2=\"151.3\"\n",
       "    stroke=\"#663399\" stroke-width=\"2\" />\n",
       "<line x1=\"303.1\" y1=\"151.3\" x2=\"298.4\" y2=\"159.4\"\n",
       "    stroke=\"#663399\" stroke-width=\"2\" />\n",
       "<line x1=\"298.4\" y1=\"159.4\" x2=\"307.8\" y2=\"159.4\"\n",
       "    stroke=\"#663399\" stroke-width=\"2\" />\n",
       "<line x1=\"307.8\" y1=\"159.4\" x2=\"303.1\" y2=\"151.3\"\n",
       "    stroke=\"#663399\" stroke-width=\"2\" />\n",
       "<line x1=\"303.1\" y1=\"151.3\" x2=\"293.7\" y2=\"167.5\"\n",
       "    stroke=\"#663399\" stroke-width=\"2\" />\n",
       "<line x1=\"293.7\" y1=\"167.5\" x2=\"331.2\" y2=\"167.5\"\n",
       "    stroke=\"#663399\" stroke-width=\"2\" />\n",
       "<line x1=\"331.2\" y1=\"167.5\" x2=\"326.6\" y2=\"159.4\"\n",
       "    stroke=\"#663399\" stroke-width=\"2\" />\n",
       "<line x1=\"326.6\" y1=\"159.4\" x2=\"321.9\" y2=\"167.5\"\n",
       "    stroke=\"#663399\" stroke-width=\"2\" />\n",
       "<line x1=\"321.9\" y1=\"167.5\" x2=\"331.2\" y2=\"167.5\"\n",
       "    stroke=\"#663399\" stroke-width=\"2\" />\n",
       "<line x1=\"331.2\" y1=\"167.5\" x2=\"326.6\" y2=\"159.4\"\n",
       "    stroke=\"#663399\" stroke-width=\"2\" />\n",
       "<line x1=\"326.6\" y1=\"159.4\" x2=\"321.9\" y2=\"167.5\"\n",
       "    stroke=\"#663399\" stroke-width=\"2\" />\n",
       "<line x1=\"321.9\" y1=\"167.5\" x2=\"331.2\" y2=\"167.5\"\n",
       "    stroke=\"#663399\" stroke-width=\"2\" />\n",
       "<line x1=\"331.2\" y1=\"167.5\" x2=\"326.6\" y2=\"159.4\"\n",
       "    stroke=\"#663399\" stroke-width=\"2\" />\n",
       "<line x1=\"326.6\" y1=\"159.4\" x2=\"321.9\" y2=\"167.5\"\n",
       "    stroke=\"#663399\" stroke-width=\"2\" />\n",
       "<line x1=\"321.9\" y1=\"167.5\" x2=\"331.2\" y2=\"167.5\"\n",
       "    stroke=\"#663399\" stroke-width=\"2\" />\n",
       "<line x1=\"331.2\" y1=\"167.5\" x2=\"326.6\" y2=\"159.4\"\n",
       "    stroke=\"#663399\" stroke-width=\"2\" />\n",
       "<line x1=\"326.6\" y1=\"159.4\" x2=\"321.9\" y2=\"167.5\"\n",
       "    stroke=\"#663399\" stroke-width=\"2\" />\n",
       "<line x1=\"321.9\" y1=\"167.5\" x2=\"331.2\" y2=\"167.5\"\n",
       "    stroke=\"#663399\" stroke-width=\"2\" />\n",
       "<line x1=\"331.2\" y1=\"167.5\" x2=\"321.9\" y2=\"151.3\"\n",
       "    stroke=\"#663399\" stroke-width=\"2\" />\n",
       "<line x1=\"321.9\" y1=\"151.3\" x2=\"317.2\" y2=\"159.4\"\n",
       "    stroke=\"#663399\" stroke-width=\"2\" />\n",
       "<line x1=\"317.2\" y1=\"159.4\" x2=\"326.6\" y2=\"159.4\"\n",
       "    stroke=\"#663399\" stroke-width=\"2\" />\n",
       "<line x1=\"326.6\" y1=\"159.4\" x2=\"321.9\" y2=\"151.3\"\n",
       "    stroke=\"#663399\" stroke-width=\"2\" />\n",
       "<line x1=\"321.9\" y1=\"151.3\" x2=\"317.2\" y2=\"159.4\"\n",
       "    stroke=\"#663399\" stroke-width=\"2\" />\n",
       "<line x1=\"317.2\" y1=\"159.4\" x2=\"326.6\" y2=\"159.4\"\n",
       "    stroke=\"#663399\" stroke-width=\"2\" />\n",
       "<line x1=\"326.6\" y1=\"159.4\" x2=\"321.9\" y2=\"151.3\"\n",
       "    stroke=\"#663399\" stroke-width=\"2\" />\n",
       "<line x1=\"321.9\" y1=\"151.3\" x2=\"317.2\" y2=\"159.4\"\n",
       "    stroke=\"#663399\" stroke-width=\"2\" />\n",
       "<line x1=\"317.2\" y1=\"159.4\" x2=\"326.6\" y2=\"159.4\"\n",
       "    stroke=\"#663399\" stroke-width=\"2\" />\n",
       "<line x1=\"326.6\" y1=\"159.4\" x2=\"321.9\" y2=\"151.3\"\n",
       "    stroke=\"#663399\" stroke-width=\"2\" />\n",
       "<line x1=\"321.9\" y1=\"151.3\" x2=\"317.2\" y2=\"159.4\"\n",
       "    stroke=\"#663399\" stroke-width=\"2\" />\n",
       "<line x1=\"317.2\" y1=\"159.4\" x2=\"326.6\" y2=\"159.4\"\n",
       "    stroke=\"#663399\" stroke-width=\"2\" />\n",
       "<line x1=\"326.6\" y1=\"159.4\" x2=\"321.9\" y2=\"151.3\"\n",
       "    stroke=\"#663399\" stroke-width=\"2\" />\n",
       "<line x1=\"321.9\" y1=\"151.3\" x2=\"312.5\" y2=\"167.5\"\n",
       "    stroke=\"#663399\" stroke-width=\"2\" />\n",
       "<line x1=\"312.5\" y1=\"167.5\" x2=\"321.9\" y2=\"167.5\"\n",
       "    stroke=\"#663399\" stroke-width=\"2\" />\n",
       "<line x1=\"321.9\" y1=\"167.5\" x2=\"317.2\" y2=\"159.4\"\n",
       "    stroke=\"#663399\" stroke-width=\"2\" />\n",
       "<line x1=\"317.2\" y1=\"159.4\" x2=\"312.5\" y2=\"167.5\"\n",
       "    stroke=\"#663399\" stroke-width=\"2\" />\n",
       "<line x1=\"312.5\" y1=\"167.5\" x2=\"321.9\" y2=\"167.5\"\n",
       "    stroke=\"#663399\" stroke-width=\"2\" />\n",
       "<line x1=\"321.9\" y1=\"167.5\" x2=\"317.2\" y2=\"159.4\"\n",
       "    stroke=\"#663399\" stroke-width=\"2\" />\n",
       "<line x1=\"317.2\" y1=\"159.4\" x2=\"312.5\" y2=\"167.5\"\n",
       "    stroke=\"#663399\" stroke-width=\"2\" />\n",
       "<line x1=\"312.5\" y1=\"167.5\" x2=\"321.9\" y2=\"167.5\"\n",
       "    stroke=\"#663399\" stroke-width=\"2\" />\n",
       "<line x1=\"321.9\" y1=\"167.5\" x2=\"317.2\" y2=\"159.4\"\n",
       "    stroke=\"#663399\" stroke-width=\"2\" />\n",
       "<line x1=\"317.2\" y1=\"159.4\" x2=\"312.5\" y2=\"167.5\"\n",
       "    stroke=\"#663399\" stroke-width=\"2\" />\n",
       "<line x1=\"312.5\" y1=\"167.5\" x2=\"321.9\" y2=\"167.5\"\n",
       "    stroke=\"#663399\" stroke-width=\"2\" />\n",
       "<line x1=\"321.9\" y1=\"167.5\" x2=\"317.2\" y2=\"159.4\"\n",
       "    stroke=\"#663399\" stroke-width=\"2\" />\n",
       "<line x1=\"317.2\" y1=\"159.4\" x2=\"312.5\" y2=\"167.5\"\n",
       "    stroke=\"#663399\" stroke-width=\"2\" />\n",
       "<line x1=\"312.5\" y1=\"167.5\" x2=\"331.2\" y2=\"167.5\"\n",
       "    stroke=\"#663399\" stroke-width=\"2\" />\n",
       "<line x1=\"331.2\" y1=\"167.5\" x2=\"312.5\" y2=\"135.0\"\n",
       "    stroke=\"#663399\" stroke-width=\"2\" />\n",
       "<line x1=\"312.5\" y1=\"135.0\" x2=\"275.0\" y2=\"200.0\"\n",
       "    stroke=\"#663399\" stroke-width=\"2\" />\n",
       "<line x1=\"275.0\" y1=\"200.0\" x2=\"284.4\" y2=\"200.0\"\n",
       "    stroke=\"#663399\" stroke-width=\"2\" />\n",
       "<line x1=\"284.4\" y1=\"200.0\" x2=\"279.7\" y2=\"191.9\"\n",
       "    stroke=\"#663399\" stroke-width=\"2\" />\n",
       "<line x1=\"279.7\" y1=\"191.9\" x2=\"275.0\" y2=\"200.0\"\n",
       "    stroke=\"#663399\" stroke-width=\"2\" />\n",
       "<line x1=\"275.0\" y1=\"200.0\" x2=\"284.4\" y2=\"200.0\"\n",
       "    stroke=\"#663399\" stroke-width=\"2\" />\n",
       "<line x1=\"284.4\" y1=\"200.0\" x2=\"279.7\" y2=\"191.9\"\n",
       "    stroke=\"#663399\" stroke-width=\"2\" />\n",
       "<line x1=\"279.7\" y1=\"191.9\" x2=\"275.0\" y2=\"200.0\"\n",
       "    stroke=\"#663399\" stroke-width=\"2\" />\n",
       "<line x1=\"275.0\" y1=\"200.0\" x2=\"284.4\" y2=\"200.0\"\n",
       "    stroke=\"#663399\" stroke-width=\"2\" />\n",
       "<line x1=\"284.4\" y1=\"200.0\" x2=\"279.7\" y2=\"191.9\"\n",
       "    stroke=\"#663399\" stroke-width=\"2\" />\n",
       "<line x1=\"279.7\" y1=\"191.9\" x2=\"275.0\" y2=\"200.0\"\n",
       "    stroke=\"#663399\" stroke-width=\"2\" />\n",
       "<line x1=\"275.0\" y1=\"200.0\" x2=\"284.4\" y2=\"200.0\"\n",
       "    stroke=\"#663399\" stroke-width=\"2\" />\n",
       "<line x1=\"284.4\" y1=\"200.0\" x2=\"279.7\" y2=\"191.9\"\n",
       "    stroke=\"#663399\" stroke-width=\"2\" />\n",
       "<line x1=\"279.7\" y1=\"191.9\" x2=\"275.0\" y2=\"200.0\"\n",
       "    stroke=\"#663399\" stroke-width=\"2\" />\n",
       "<line x1=\"275.0\" y1=\"200.0\" x2=\"293.7\" y2=\"200.0\"\n",
       "    stroke=\"#663399\" stroke-width=\"2\" />\n",
       "<line x1=\"293.7\" y1=\"200.0\" x2=\"289.1\" y2=\"191.9\"\n",
       "    stroke=\"#663399\" stroke-width=\"2\" />\n",
       "<line x1=\"289.1\" y1=\"191.9\" x2=\"284.4\" y2=\"200.0\"\n",
       "    stroke=\"#663399\" stroke-width=\"2\" />\n",
       "<line x1=\"284.4\" y1=\"200.0\" x2=\"293.7\" y2=\"200.0\"\n",
       "    stroke=\"#663399\" stroke-width=\"2\" />\n",
       "<line x1=\"293.7\" y1=\"200.0\" x2=\"289.1\" y2=\"191.9\"\n",
       "    stroke=\"#663399\" stroke-width=\"2\" />\n",
       "<line x1=\"289.1\" y1=\"191.9\" x2=\"284.4\" y2=\"200.0\"\n",
       "    stroke=\"#663399\" stroke-width=\"2\" />\n",
       "<line x1=\"284.4\" y1=\"200.0\" x2=\"293.7\" y2=\"200.0\"\n",
       "    stroke=\"#663399\" stroke-width=\"2\" />\n",
       "<line x1=\"293.7\" y1=\"200.0\" x2=\"289.1\" y2=\"191.9\"\n",
       "    stroke=\"#663399\" stroke-width=\"2\" />\n",
       "<line x1=\"289.1\" y1=\"191.9\" x2=\"284.4\" y2=\"200.0\"\n",
       "    stroke=\"#663399\" stroke-width=\"2\" />\n",
       "<line x1=\"284.4\" y1=\"200.0\" x2=\"293.7\" y2=\"200.0\"\n",
       "    stroke=\"#663399\" stroke-width=\"2\" />\n",
       "<line x1=\"293.7\" y1=\"200.0\" x2=\"289.1\" y2=\"191.9\"\n",
       "    stroke=\"#663399\" stroke-width=\"2\" />\n",
       "<line x1=\"289.1\" y1=\"191.9\" x2=\"284.4\" y2=\"200.0\"\n",
       "    stroke=\"#663399\" stroke-width=\"2\" />\n",
       "<line x1=\"284.4\" y1=\"200.0\" x2=\"293.7\" y2=\"200.0\"\n",
       "    stroke=\"#663399\" stroke-width=\"2\" />\n",
       "<line x1=\"293.7\" y1=\"200.0\" x2=\"284.4\" y2=\"183.8\"\n",
       "    stroke=\"#663399\" stroke-width=\"2\" />\n",
       "<line x1=\"284.4\" y1=\"183.8\" x2=\"279.7\" y2=\"191.9\"\n",
       "    stroke=\"#663399\" stroke-width=\"2\" />\n",
       "<line x1=\"279.7\" y1=\"191.9\" x2=\"289.1\" y2=\"191.9\"\n",
       "    stroke=\"#663399\" stroke-width=\"2\" />\n",
       "<line x1=\"289.1\" y1=\"191.9\" x2=\"284.4\" y2=\"183.8\"\n",
       "    stroke=\"#663399\" stroke-width=\"2\" />\n",
       "<line x1=\"284.4\" y1=\"183.8\" x2=\"279.7\" y2=\"191.9\"\n",
       "    stroke=\"#663399\" stroke-width=\"2\" />\n",
       "<line x1=\"279.7\" y1=\"191.9\" x2=\"289.1\" y2=\"191.9\"\n",
       "    stroke=\"#663399\" stroke-width=\"2\" />\n",
       "<line x1=\"289.1\" y1=\"191.9\" x2=\"284.4\" y2=\"183.8\"\n",
       "    stroke=\"#663399\" stroke-width=\"2\" />\n",
       "<line x1=\"284.4\" y1=\"183.8\" x2=\"279.7\" y2=\"191.9\"\n",
       "    stroke=\"#663399\" stroke-width=\"2\" />\n",
       "<line x1=\"279.7\" y1=\"191.9\" x2=\"289.1\" y2=\"191.9\"\n",
       "    stroke=\"#663399\" stroke-width=\"2\" />\n",
       "<line x1=\"289.1\" y1=\"191.9\" x2=\"284.4\" y2=\"183.8\"\n",
       "    stroke=\"#663399\" stroke-width=\"2\" />\n",
       "<line x1=\"284.4\" y1=\"183.8\" x2=\"279.7\" y2=\"191.9\"\n",
       "    stroke=\"#663399\" stroke-width=\"2\" />\n",
       "<line x1=\"279.7\" y1=\"191.9\" x2=\"289.1\" y2=\"191.9\"\n",
       "    stroke=\"#663399\" stroke-width=\"2\" />\n",
       "<line x1=\"289.1\" y1=\"191.9\" x2=\"284.4\" y2=\"183.8\"\n",
       "    stroke=\"#663399\" stroke-width=\"2\" />\n",
       "<line x1=\"284.4\" y1=\"183.8\" x2=\"275.0\" y2=\"200.0\"\n",
       "    stroke=\"#663399\" stroke-width=\"2\" />\n",
       "<line x1=\"275.0\" y1=\"200.0\" x2=\"312.5\" y2=\"200.0\"\n",
       "    stroke=\"#663399\" stroke-width=\"2\" />\n",
       "<line x1=\"312.5\" y1=\"200.0\" x2=\"307.8\" y2=\"191.9\"\n",
       "    stroke=\"#663399\" stroke-width=\"2\" />\n",
       "<line x1=\"307.8\" y1=\"191.9\" x2=\"303.1\" y2=\"200.0\"\n",
       "    stroke=\"#663399\" stroke-width=\"2\" />\n",
       "<line x1=\"303.1\" y1=\"200.0\" x2=\"312.5\" y2=\"200.0\"\n",
       "    stroke=\"#663399\" stroke-width=\"2\" />\n",
       "<line x1=\"312.5\" y1=\"200.0\" x2=\"307.8\" y2=\"191.9\"\n",
       "    stroke=\"#663399\" stroke-width=\"2\" />\n",
       "<line x1=\"307.8\" y1=\"191.9\" x2=\"303.1\" y2=\"200.0\"\n",
       "    stroke=\"#663399\" stroke-width=\"2\" />\n",
       "<line x1=\"303.1\" y1=\"200.0\" x2=\"312.5\" y2=\"200.0\"\n",
       "    stroke=\"#663399\" stroke-width=\"2\" />\n",
       "<line x1=\"312.5\" y1=\"200.0\" x2=\"307.8\" y2=\"191.9\"\n",
       "    stroke=\"#663399\" stroke-width=\"2\" />\n",
       "<line x1=\"307.8\" y1=\"191.9\" x2=\"303.1\" y2=\"200.0\"\n",
       "    stroke=\"#663399\" stroke-width=\"2\" />\n",
       "<line x1=\"303.1\" y1=\"200.0\" x2=\"312.5\" y2=\"200.0\"\n",
       "    stroke=\"#663399\" stroke-width=\"2\" />\n",
       "<line x1=\"312.5\" y1=\"200.0\" x2=\"307.8\" y2=\"191.9\"\n",
       "    stroke=\"#663399\" stroke-width=\"2\" />\n",
       "<line x1=\"307.8\" y1=\"191.9\" x2=\"303.1\" y2=\"200.0\"\n",
       "    stroke=\"#663399\" stroke-width=\"2\" />\n",
       "<line x1=\"303.1\" y1=\"200.0\" x2=\"312.5\" y2=\"200.0\"\n",
       "    stroke=\"#663399\" stroke-width=\"2\" />\n",
       "<line x1=\"312.5\" y1=\"200.0\" x2=\"303.1\" y2=\"183.8\"\n",
       "    stroke=\"#663399\" stroke-width=\"2\" />\n",
       "<line x1=\"303.1\" y1=\"183.8\" x2=\"298.4\" y2=\"191.9\"\n",
       "    stroke=\"#663399\" stroke-width=\"2\" />\n",
       "<line x1=\"298.4\" y1=\"191.9\" x2=\"307.8\" y2=\"191.9\"\n",
       "    stroke=\"#663399\" stroke-width=\"2\" />\n",
       "<line x1=\"307.8\" y1=\"191.9\" x2=\"303.1\" y2=\"183.8\"\n",
       "    stroke=\"#663399\" stroke-width=\"2\" />\n",
       "<line x1=\"303.1\" y1=\"183.8\" x2=\"298.4\" y2=\"191.9\"\n",
       "    stroke=\"#663399\" stroke-width=\"2\" />\n",
       "<line x1=\"298.4\" y1=\"191.9\" x2=\"307.8\" y2=\"191.9\"\n",
       "    stroke=\"#663399\" stroke-width=\"2\" />\n",
       "<line x1=\"307.8\" y1=\"191.9\" x2=\"303.1\" y2=\"183.8\"\n",
       "    stroke=\"#663399\" stroke-width=\"2\" />\n",
       "<line x1=\"303.1\" y1=\"183.8\" x2=\"298.4\" y2=\"191.9\"\n",
       "    stroke=\"#663399\" stroke-width=\"2\" />\n",
       "<line x1=\"298.4\" y1=\"191.9\" x2=\"307.8\" y2=\"191.9\"\n",
       "    stroke=\"#663399\" stroke-width=\"2\" />\n",
       "<line x1=\"307.8\" y1=\"191.9\" x2=\"303.1\" y2=\"183.8\"\n",
       "    stroke=\"#663399\" stroke-width=\"2\" />\n",
       "<line x1=\"303.1\" y1=\"183.8\" x2=\"298.4\" y2=\"191.9\"\n",
       "    stroke=\"#663399\" stroke-width=\"2\" />\n",
       "<line x1=\"298.4\" y1=\"191.9\" x2=\"307.8\" y2=\"191.9\"\n",
       "    stroke=\"#663399\" stroke-width=\"2\" />\n",
       "<line x1=\"307.8\" y1=\"191.9\" x2=\"303.1\" y2=\"183.8\"\n",
       "    stroke=\"#663399\" stroke-width=\"2\" />\n",
       "<line x1=\"303.1\" y1=\"183.8\" x2=\"293.7\" y2=\"200.0\"\n",
       "    stroke=\"#663399\" stroke-width=\"2\" />\n",
       "<line x1=\"293.7\" y1=\"200.0\" x2=\"303.1\" y2=\"200.0\"\n",
       "    stroke=\"#663399\" stroke-width=\"2\" />\n",
       "<line x1=\"303.1\" y1=\"200.0\" x2=\"298.4\" y2=\"191.9\"\n",
       "    stroke=\"#663399\" stroke-width=\"2\" />\n",
       "<line x1=\"298.4\" y1=\"191.9\" x2=\"293.7\" y2=\"200.0\"\n",
       "    stroke=\"#663399\" stroke-width=\"2\" />\n",
       "<line x1=\"293.7\" y1=\"200.0\" x2=\"303.1\" y2=\"200.0\"\n",
       "    stroke=\"#663399\" stroke-width=\"2\" />\n",
       "<line x1=\"303.1\" y1=\"200.0\" x2=\"298.4\" y2=\"191.9\"\n",
       "    stroke=\"#663399\" stroke-width=\"2\" />\n",
       "<line x1=\"298.4\" y1=\"191.9\" x2=\"293.7\" y2=\"200.0\"\n",
       "    stroke=\"#663399\" stroke-width=\"2\" />\n",
       "<line x1=\"293.7\" y1=\"200.0\" x2=\"303.1\" y2=\"200.0\"\n",
       "    stroke=\"#663399\" stroke-width=\"2\" />\n",
       "<line x1=\"303.1\" y1=\"200.0\" x2=\"298.4\" y2=\"191.9\"\n",
       "    stroke=\"#663399\" stroke-width=\"2\" />\n",
       "<line x1=\"298.4\" y1=\"191.9\" x2=\"293.7\" y2=\"200.0\"\n",
       "    stroke=\"#663399\" stroke-width=\"2\" />\n",
       "<line x1=\"293.7\" y1=\"200.0\" x2=\"303.1\" y2=\"200.0\"\n",
       "    stroke=\"#663399\" stroke-width=\"2\" />\n",
       "<line x1=\"303.1\" y1=\"200.0\" x2=\"298.4\" y2=\"191.9\"\n",
       "    stroke=\"#663399\" stroke-width=\"2\" />\n",
       "<line x1=\"298.4\" y1=\"191.9\" x2=\"293.7\" y2=\"200.0\"\n",
       "    stroke=\"#663399\" stroke-width=\"2\" />\n",
       "<line x1=\"293.7\" y1=\"200.0\" x2=\"312.5\" y2=\"200.0\"\n",
       "    stroke=\"#663399\" stroke-width=\"2\" />\n",
       "<line x1=\"312.5\" y1=\"200.0\" x2=\"293.7\" y2=\"167.5\"\n",
       "    stroke=\"#663399\" stroke-width=\"2\" />\n",
       "<line x1=\"293.7\" y1=\"167.5\" x2=\"289.1\" y2=\"175.6\"\n",
       "    stroke=\"#663399\" stroke-width=\"2\" />\n",
       "<line x1=\"289.1\" y1=\"175.6\" x2=\"298.4\" y2=\"175.6\"\n",
       "    stroke=\"#663399\" stroke-width=\"2\" />\n",
       "<line x1=\"298.4\" y1=\"175.6\" x2=\"293.7\" y2=\"167.5\"\n",
       "    stroke=\"#663399\" stroke-width=\"2\" />\n",
       "<line x1=\"293.7\" y1=\"167.5\" x2=\"289.1\" y2=\"175.6\"\n",
       "    stroke=\"#663399\" stroke-width=\"2\" />\n",
       "<line x1=\"289.1\" y1=\"175.6\" x2=\"298.4\" y2=\"175.6\"\n",
       "    stroke=\"#663399\" stroke-width=\"2\" />\n",
       "<line x1=\"298.4\" y1=\"175.6\" x2=\"293.7\" y2=\"167.5\"\n",
       "    stroke=\"#663399\" stroke-width=\"2\" />\n",
       "<line x1=\"293.7\" y1=\"167.5\" x2=\"289.1\" y2=\"175.6\"\n",
       "    stroke=\"#663399\" stroke-width=\"2\" />\n",
       "<line x1=\"289.1\" y1=\"175.6\" x2=\"298.4\" y2=\"175.6\"\n",
       "    stroke=\"#663399\" stroke-width=\"2\" />\n",
       "<line x1=\"298.4\" y1=\"175.6\" x2=\"293.7\" y2=\"167.5\"\n",
       "    stroke=\"#663399\" stroke-width=\"2\" />\n",
       "<line x1=\"293.7\" y1=\"167.5\" x2=\"289.1\" y2=\"175.6\"\n",
       "    stroke=\"#663399\" stroke-width=\"2\" />\n",
       "<line x1=\"289.1\" y1=\"175.6\" x2=\"298.4\" y2=\"175.6\"\n",
       "    stroke=\"#663399\" stroke-width=\"2\" />\n",
       "<line x1=\"298.4\" y1=\"175.6\" x2=\"293.7\" y2=\"167.5\"\n",
       "    stroke=\"#663399\" stroke-width=\"2\" />\n",
       "<line x1=\"293.7\" y1=\"167.5\" x2=\"284.4\" y2=\"183.8\"\n",
       "    stroke=\"#663399\" stroke-width=\"2\" />\n",
       "<line x1=\"284.4\" y1=\"183.8\" x2=\"293.7\" y2=\"183.8\"\n",
       "    stroke=\"#663399\" stroke-width=\"2\" />\n",
       "<line x1=\"293.7\" y1=\"183.8\" x2=\"289.1\" y2=\"175.6\"\n",
       "    stroke=\"#663399\" stroke-width=\"2\" />\n",
       "<line x1=\"289.1\" y1=\"175.6\" x2=\"284.4\" y2=\"183.8\"\n",
       "    stroke=\"#663399\" stroke-width=\"2\" />\n",
       "<line x1=\"284.4\" y1=\"183.8\" x2=\"293.7\" y2=\"183.8\"\n",
       "    stroke=\"#663399\" stroke-width=\"2\" />\n",
       "<line x1=\"293.7\" y1=\"183.8\" x2=\"289.1\" y2=\"175.6\"\n",
       "    stroke=\"#663399\" stroke-width=\"2\" />\n",
       "<line x1=\"289.1\" y1=\"175.6\" x2=\"284.4\" y2=\"183.8\"\n",
       "    stroke=\"#663399\" stroke-width=\"2\" />\n",
       "<line x1=\"284.4\" y1=\"183.8\" x2=\"293.7\" y2=\"183.8\"\n",
       "    stroke=\"#663399\" stroke-width=\"2\" />\n",
       "<line x1=\"293.7\" y1=\"183.8\" x2=\"289.1\" y2=\"175.6\"\n",
       "    stroke=\"#663399\" stroke-width=\"2\" />\n",
       "<line x1=\"289.1\" y1=\"175.6\" x2=\"284.4\" y2=\"183.8\"\n",
       "    stroke=\"#663399\" stroke-width=\"2\" />\n",
       "<line x1=\"284.4\" y1=\"183.8\" x2=\"293.7\" y2=\"183.8\"\n",
       "    stroke=\"#663399\" stroke-width=\"2\" />\n",
       "<line x1=\"293.7\" y1=\"183.8\" x2=\"289.1\" y2=\"175.6\"\n",
       "    stroke=\"#663399\" stroke-width=\"2\" />\n",
       "<line x1=\"289.1\" y1=\"175.6\" x2=\"284.4\" y2=\"183.8\"\n",
       "    stroke=\"#663399\" stroke-width=\"2\" />\n",
       "<line x1=\"284.4\" y1=\"183.8\" x2=\"303.1\" y2=\"183.8\"\n",
       "    stroke=\"#663399\" stroke-width=\"2\" />\n",
       "<line x1=\"303.1\" y1=\"183.8\" x2=\"298.4\" y2=\"175.6\"\n",
       "    stroke=\"#663399\" stroke-width=\"2\" />\n",
       "<line x1=\"298.4\" y1=\"175.6\" x2=\"293.7\" y2=\"183.8\"\n",
       "    stroke=\"#663399\" stroke-width=\"2\" />\n",
       "<line x1=\"293.7\" y1=\"183.8\" x2=\"303.1\" y2=\"183.8\"\n",
       "    stroke=\"#663399\" stroke-width=\"2\" />\n",
       "<line x1=\"303.1\" y1=\"183.8\" x2=\"298.4\" y2=\"175.6\"\n",
       "    stroke=\"#663399\" stroke-width=\"2\" />\n",
       "<line x1=\"298.4\" y1=\"175.6\" x2=\"293.7\" y2=\"183.8\"\n",
       "    stroke=\"#663399\" stroke-width=\"2\" />\n",
       "<line x1=\"293.7\" y1=\"183.8\" x2=\"303.1\" y2=\"183.8\"\n",
       "    stroke=\"#663399\" stroke-width=\"2\" />\n",
       "<line x1=\"303.1\" y1=\"183.8\" x2=\"298.4\" y2=\"175.6\"\n",
       "    stroke=\"#663399\" stroke-width=\"2\" />\n",
       "<line x1=\"298.4\" y1=\"175.6\" x2=\"293.7\" y2=\"183.8\"\n",
       "    stroke=\"#663399\" stroke-width=\"2\" />\n",
       "<line x1=\"293.7\" y1=\"183.8\" x2=\"303.1\" y2=\"183.8\"\n",
       "    stroke=\"#663399\" stroke-width=\"2\" />\n",
       "<line x1=\"303.1\" y1=\"183.8\" x2=\"298.4\" y2=\"175.6\"\n",
       "    stroke=\"#663399\" stroke-width=\"2\" />\n",
       "<line x1=\"298.4\" y1=\"175.6\" x2=\"293.7\" y2=\"183.8\"\n",
       "    stroke=\"#663399\" stroke-width=\"2\" />\n",
       "<line x1=\"293.7\" y1=\"183.8\" x2=\"303.1\" y2=\"183.8\"\n",
       "    stroke=\"#663399\" stroke-width=\"2\" />\n",
       "<line x1=\"303.1\" y1=\"183.8\" x2=\"293.7\" y2=\"167.5\"\n",
       "    stroke=\"#663399\" stroke-width=\"2\" />\n",
       "<line x1=\"293.7\" y1=\"167.5\" x2=\"275.0\" y2=\"200.0\"\n",
       "    stroke=\"#663399\" stroke-width=\"2\" />\n",
       "<line x1=\"275.0\" y1=\"200.0\" x2=\"350.0\" y2=\"200.0\"\n",
       "    stroke=\"#663399\" stroke-width=\"2\" />\n",
       "<line x1=\"350.0\" y1=\"200.0\" x2=\"275.0\" y2=\"70.1\"\n",
       "    stroke=\"#663399\" stroke-width=\"2\" />\n",
       "<line x1=\"275.0\" y1=\"70.1\" x2=\"270.3\" y2=\"78.2\"\n",
       "    stroke=\"#663399\" stroke-width=\"2\" />\n",
       "<line x1=\"270.3\" y1=\"78.2\" x2=\"279.7\" y2=\"78.2\"\n",
       "    stroke=\"#663399\" stroke-width=\"2\" />\n",
       "<line x1=\"279.7\" y1=\"78.2\" x2=\"275.0\" y2=\"70.1\"\n",
       "    stroke=\"#663399\" stroke-width=\"2\" />\n",
       "<line x1=\"275.0\" y1=\"70.1\" x2=\"270.3\" y2=\"78.2\"\n",
       "    stroke=\"#663399\" stroke-width=\"2\" />\n",
       "<line x1=\"270.3\" y1=\"78.2\" x2=\"279.7\" y2=\"78.2\"\n",
       "    stroke=\"#663399\" stroke-width=\"2\" />\n",
       "<line x1=\"279.7\" y1=\"78.2\" x2=\"275.0\" y2=\"70.1\"\n",
       "    stroke=\"#663399\" stroke-width=\"2\" />\n",
       "<line x1=\"275.0\" y1=\"70.1\" x2=\"270.3\" y2=\"78.2\"\n",
       "    stroke=\"#663399\" stroke-width=\"2\" />\n",
       "<line x1=\"270.3\" y1=\"78.2\" x2=\"279.7\" y2=\"78.2\"\n",
       "    stroke=\"#663399\" stroke-width=\"2\" />\n",
       "<line x1=\"279.7\" y1=\"78.2\" x2=\"275.0\" y2=\"70.1\"\n",
       "    stroke=\"#663399\" stroke-width=\"2\" />\n",
       "<line x1=\"275.0\" y1=\"70.1\" x2=\"270.3\" y2=\"78.2\"\n",
       "    stroke=\"#663399\" stroke-width=\"2\" />\n",
       "<line x1=\"270.3\" y1=\"78.2\" x2=\"279.7\" y2=\"78.2\"\n",
       "    stroke=\"#663399\" stroke-width=\"2\" />\n",
       "<line x1=\"279.7\" y1=\"78.2\" x2=\"275.0\" y2=\"70.1\"\n",
       "    stroke=\"#663399\" stroke-width=\"2\" />\n",
       "<line x1=\"275.0\" y1=\"70.1\" x2=\"265.6\" y2=\"86.3\"\n",
       "    stroke=\"#663399\" stroke-width=\"2\" />\n",
       "<line x1=\"265.6\" y1=\"86.3\" x2=\"275.0\" y2=\"86.3\"\n",
       "    stroke=\"#663399\" stroke-width=\"2\" />\n",
       "<line x1=\"275.0\" y1=\"86.3\" x2=\"270.3\" y2=\"78.2\"\n",
       "    stroke=\"#663399\" stroke-width=\"2\" />\n",
       "<line x1=\"270.3\" y1=\"78.2\" x2=\"265.6\" y2=\"86.3\"\n",
       "    stroke=\"#663399\" stroke-width=\"2\" />\n",
       "<line x1=\"265.6\" y1=\"86.3\" x2=\"275.0\" y2=\"86.3\"\n",
       "    stroke=\"#663399\" stroke-width=\"2\" />\n",
       "<line x1=\"275.0\" y1=\"86.3\" x2=\"270.3\" y2=\"78.2\"\n",
       "    stroke=\"#663399\" stroke-width=\"2\" />\n",
       "<line x1=\"270.3\" y1=\"78.2\" x2=\"265.6\" y2=\"86.3\"\n",
       "    stroke=\"#663399\" stroke-width=\"2\" />\n",
       "<line x1=\"265.6\" y1=\"86.3\" x2=\"275.0\" y2=\"86.3\"\n",
       "    stroke=\"#663399\" stroke-width=\"2\" />\n",
       "<line x1=\"275.0\" y1=\"86.3\" x2=\"270.3\" y2=\"78.2\"\n",
       "    stroke=\"#663399\" stroke-width=\"2\" />\n",
       "<line x1=\"270.3\" y1=\"78.2\" x2=\"265.6\" y2=\"86.3\"\n",
       "    stroke=\"#663399\" stroke-width=\"2\" />\n",
       "<line x1=\"265.6\" y1=\"86.3\" x2=\"275.0\" y2=\"86.3\"\n",
       "    stroke=\"#663399\" stroke-width=\"2\" />\n",
       "<line x1=\"275.0\" y1=\"86.3\" x2=\"270.3\" y2=\"78.2\"\n",
       "    stroke=\"#663399\" stroke-width=\"2\" />\n",
       "<line x1=\"270.3\" y1=\"78.2\" x2=\"265.6\" y2=\"86.3\"\n",
       "    stroke=\"#663399\" stroke-width=\"2\" />\n",
       "<line x1=\"265.6\" y1=\"86.3\" x2=\"284.4\" y2=\"86.3\"\n",
       "    stroke=\"#663399\" stroke-width=\"2\" />\n",
       "<line x1=\"284.4\" y1=\"86.3\" x2=\"279.7\" y2=\"78.2\"\n",
       "    stroke=\"#663399\" stroke-width=\"2\" />\n",
       "<line x1=\"279.7\" y1=\"78.2\" x2=\"275.0\" y2=\"86.3\"\n",
       "    stroke=\"#663399\" stroke-width=\"2\" />\n",
       "<line x1=\"275.0\" y1=\"86.3\" x2=\"284.4\" y2=\"86.3\"\n",
       "    stroke=\"#663399\" stroke-width=\"2\" />\n",
       "<line x1=\"284.4\" y1=\"86.3\" x2=\"279.7\" y2=\"78.2\"\n",
       "    stroke=\"#663399\" stroke-width=\"2\" />\n",
       "<line x1=\"279.7\" y1=\"78.2\" x2=\"275.0\" y2=\"86.3\"\n",
       "    stroke=\"#663399\" stroke-width=\"2\" />\n",
       "<line x1=\"275.0\" y1=\"86.3\" x2=\"284.4\" y2=\"86.3\"\n",
       "    stroke=\"#663399\" stroke-width=\"2\" />\n",
       "<line x1=\"284.4\" y1=\"86.3\" x2=\"279.7\" y2=\"78.2\"\n",
       "    stroke=\"#663399\" stroke-width=\"2\" />\n",
       "<line x1=\"279.7\" y1=\"78.2\" x2=\"275.0\" y2=\"86.3\"\n",
       "    stroke=\"#663399\" stroke-width=\"2\" />\n",
       "<line x1=\"275.0\" y1=\"86.3\" x2=\"284.4\" y2=\"86.3\"\n",
       "    stroke=\"#663399\" stroke-width=\"2\" />\n",
       "<line x1=\"284.4\" y1=\"86.3\" x2=\"279.7\" y2=\"78.2\"\n",
       "    stroke=\"#663399\" stroke-width=\"2\" />\n",
       "<line x1=\"279.7\" y1=\"78.2\" x2=\"275.0\" y2=\"86.3\"\n",
       "    stroke=\"#663399\" stroke-width=\"2\" />\n",
       "<line x1=\"275.0\" y1=\"86.3\" x2=\"284.4\" y2=\"86.3\"\n",
       "    stroke=\"#663399\" stroke-width=\"2\" />\n",
       "<line x1=\"284.4\" y1=\"86.3\" x2=\"275.0\" y2=\"70.1\"\n",
       "    stroke=\"#663399\" stroke-width=\"2\" />\n",
       "<line x1=\"275.0\" y1=\"70.1\" x2=\"256.2\" y2=\"102.6\"\n",
       "    stroke=\"#663399\" stroke-width=\"2\" />\n",
       "<line x1=\"256.2\" y1=\"102.6\" x2=\"265.6\" y2=\"102.6\"\n",
       "    stroke=\"#663399\" stroke-width=\"2\" />\n",
       "<line x1=\"265.6\" y1=\"102.6\" x2=\"260.9\" y2=\"94.5\"\n",
       "    stroke=\"#663399\" stroke-width=\"2\" />\n",
       "<line x1=\"260.9\" y1=\"94.5\" x2=\"256.2\" y2=\"102.6\"\n",
       "    stroke=\"#663399\" stroke-width=\"2\" />\n",
       "<line x1=\"256.2\" y1=\"102.6\" x2=\"265.6\" y2=\"102.6\"\n",
       "    stroke=\"#663399\" stroke-width=\"2\" />\n",
       "<line x1=\"265.6\" y1=\"102.6\" x2=\"260.9\" y2=\"94.5\"\n",
       "    stroke=\"#663399\" stroke-width=\"2\" />\n",
       "<line x1=\"260.9\" y1=\"94.5\" x2=\"256.2\" y2=\"102.6\"\n",
       "    stroke=\"#663399\" stroke-width=\"2\" />\n",
       "<line x1=\"256.2\" y1=\"102.6\" x2=\"265.6\" y2=\"102.6\"\n",
       "    stroke=\"#663399\" stroke-width=\"2\" />\n",
       "<line x1=\"265.6\" y1=\"102.6\" x2=\"260.9\" y2=\"94.5\"\n",
       "    stroke=\"#663399\" stroke-width=\"2\" />\n",
       "<line x1=\"260.9\" y1=\"94.5\" x2=\"256.2\" y2=\"102.6\"\n",
       "    stroke=\"#663399\" stroke-width=\"2\" />\n",
       "<line x1=\"256.2\" y1=\"102.6\" x2=\"265.6\" y2=\"102.6\"\n",
       "    stroke=\"#663399\" stroke-width=\"2\" />\n",
       "<line x1=\"265.6\" y1=\"102.6\" x2=\"260.9\" y2=\"94.5\"\n",
       "    stroke=\"#663399\" stroke-width=\"2\" />\n",
       "<line x1=\"260.9\" y1=\"94.5\" x2=\"256.2\" y2=\"102.6\"\n",
       "    stroke=\"#663399\" stroke-width=\"2\" />\n",
       "<line x1=\"256.2\" y1=\"102.6\" x2=\"275.0\" y2=\"102.6\"\n",
       "    stroke=\"#663399\" stroke-width=\"2\" />\n",
       "<line x1=\"275.0\" y1=\"102.6\" x2=\"270.3\" y2=\"94.5\"\n",
       "    stroke=\"#663399\" stroke-width=\"2\" />\n",
       "<line x1=\"270.3\" y1=\"94.5\" x2=\"265.6\" y2=\"102.6\"\n",
       "    stroke=\"#663399\" stroke-width=\"2\" />\n",
       "<line x1=\"265.6\" y1=\"102.6\" x2=\"275.0\" y2=\"102.6\"\n",
       "    stroke=\"#663399\" stroke-width=\"2\" />\n",
       "<line x1=\"275.0\" y1=\"102.6\" x2=\"270.3\" y2=\"94.5\"\n",
       "    stroke=\"#663399\" stroke-width=\"2\" />\n",
       "<line x1=\"270.3\" y1=\"94.5\" x2=\"265.6\" y2=\"102.6\"\n",
       "    stroke=\"#663399\" stroke-width=\"2\" />\n",
       "<line x1=\"265.6\" y1=\"102.6\" x2=\"275.0\" y2=\"102.6\"\n",
       "    stroke=\"#663399\" stroke-width=\"2\" />\n",
       "<line x1=\"275.0\" y1=\"102.6\" x2=\"270.3\" y2=\"94.5\"\n",
       "    stroke=\"#663399\" stroke-width=\"2\" />\n",
       "<line x1=\"270.3\" y1=\"94.5\" x2=\"265.6\" y2=\"102.6\"\n",
       "    stroke=\"#663399\" stroke-width=\"2\" />\n",
       "<line x1=\"265.6\" y1=\"102.6\" x2=\"275.0\" y2=\"102.6\"\n",
       "    stroke=\"#663399\" stroke-width=\"2\" />\n",
       "<line x1=\"275.0\" y1=\"102.6\" x2=\"270.3\" y2=\"94.5\"\n",
       "    stroke=\"#663399\" stroke-width=\"2\" />\n",
       "<line x1=\"270.3\" y1=\"94.5\" x2=\"265.6\" y2=\"102.6\"\n",
       "    stroke=\"#663399\" stroke-width=\"2\" />\n",
       "<line x1=\"265.6\" y1=\"102.6\" x2=\"275.0\" y2=\"102.6\"\n",
       "    stroke=\"#663399\" stroke-width=\"2\" />\n",
       "<line x1=\"275.0\" y1=\"102.6\" x2=\"265.6\" y2=\"86.3\"\n",
       "    stroke=\"#663399\" stroke-width=\"2\" />\n",
       "<line x1=\"265.6\" y1=\"86.3\" x2=\"260.9\" y2=\"94.5\"\n",
       "    stroke=\"#663399\" stroke-width=\"2\" />\n",
       "<line x1=\"260.9\" y1=\"94.5\" x2=\"270.3\" y2=\"94.5\"\n",
       "    stroke=\"#663399\" stroke-width=\"2\" />\n",
       "<line x1=\"270.3\" y1=\"94.5\" x2=\"265.6\" y2=\"86.3\"\n",
       "    stroke=\"#663399\" stroke-width=\"2\" />\n",
       "<line x1=\"265.6\" y1=\"86.3\" x2=\"260.9\" y2=\"94.5\"\n",
       "    stroke=\"#663399\" stroke-width=\"2\" />\n",
       "<line x1=\"260.9\" y1=\"94.5\" x2=\"270.3\" y2=\"94.5\"\n",
       "    stroke=\"#663399\" stroke-width=\"2\" />\n",
       "<line x1=\"270.3\" y1=\"94.5\" x2=\"265.6\" y2=\"86.3\"\n",
       "    stroke=\"#663399\" stroke-width=\"2\" />\n",
       "<line x1=\"265.6\" y1=\"86.3\" x2=\"260.9\" y2=\"94.5\"\n",
       "    stroke=\"#663399\" stroke-width=\"2\" />\n",
       "<line x1=\"260.9\" y1=\"94.5\" x2=\"270.3\" y2=\"94.5\"\n",
       "    stroke=\"#663399\" stroke-width=\"2\" />\n",
       "<line x1=\"270.3\" y1=\"94.5\" x2=\"265.6\" y2=\"86.3\"\n",
       "    stroke=\"#663399\" stroke-width=\"2\" />\n",
       "<line x1=\"265.6\" y1=\"86.3\" x2=\"260.9\" y2=\"94.5\"\n",
       "    stroke=\"#663399\" stroke-width=\"2\" />\n",
       "<line x1=\"260.9\" y1=\"94.5\" x2=\"270.3\" y2=\"94.5\"\n",
       "    stroke=\"#663399\" stroke-width=\"2\" />\n",
       "<line x1=\"270.3\" y1=\"94.5\" x2=\"265.6\" y2=\"86.3\"\n",
       "    stroke=\"#663399\" stroke-width=\"2\" />\n",
       "<line x1=\"265.6\" y1=\"86.3\" x2=\"256.2\" y2=\"102.6\"\n",
       "    stroke=\"#663399\" stroke-width=\"2\" />\n",
       "<line x1=\"256.2\" y1=\"102.6\" x2=\"293.7\" y2=\"102.6\"\n",
       "    stroke=\"#663399\" stroke-width=\"2\" />\n",
       "<line x1=\"293.7\" y1=\"102.6\" x2=\"289.1\" y2=\"94.5\"\n",
       "    stroke=\"#663399\" stroke-width=\"2\" />\n",
       "<line x1=\"289.1\" y1=\"94.5\" x2=\"284.4\" y2=\"102.6\"\n",
       "    stroke=\"#663399\" stroke-width=\"2\" />\n",
       "<line x1=\"284.4\" y1=\"102.6\" x2=\"293.7\" y2=\"102.6\"\n",
       "    stroke=\"#663399\" stroke-width=\"2\" />\n",
       "<line x1=\"293.7\" y1=\"102.6\" x2=\"289.1\" y2=\"94.5\"\n",
       "    stroke=\"#663399\" stroke-width=\"2\" />\n",
       "<line x1=\"289.1\" y1=\"94.5\" x2=\"284.4\" y2=\"102.6\"\n",
       "    stroke=\"#663399\" stroke-width=\"2\" />\n",
       "<line x1=\"284.4\" y1=\"102.6\" x2=\"293.7\" y2=\"102.6\"\n",
       "    stroke=\"#663399\" stroke-width=\"2\" />\n",
       "<line x1=\"293.7\" y1=\"102.6\" x2=\"289.1\" y2=\"94.5\"\n",
       "    stroke=\"#663399\" stroke-width=\"2\" />\n",
       "<line x1=\"289.1\" y1=\"94.5\" x2=\"284.4\" y2=\"102.6\"\n",
       "    stroke=\"#663399\" stroke-width=\"2\" />\n",
       "<line x1=\"284.4\" y1=\"102.6\" x2=\"293.7\" y2=\"102.6\"\n",
       "    stroke=\"#663399\" stroke-width=\"2\" />\n",
       "<line x1=\"293.7\" y1=\"102.6\" x2=\"289.1\" y2=\"94.5\"\n",
       "    stroke=\"#663399\" stroke-width=\"2\" />\n",
       "<line x1=\"289.1\" y1=\"94.5\" x2=\"284.4\" y2=\"102.6\"\n",
       "    stroke=\"#663399\" stroke-width=\"2\" />\n",
       "<line x1=\"284.4\" y1=\"102.6\" x2=\"293.7\" y2=\"102.6\"\n",
       "    stroke=\"#663399\" stroke-width=\"2\" />\n",
       "<line x1=\"293.7\" y1=\"102.6\" x2=\"284.4\" y2=\"86.3\"\n",
       "    stroke=\"#663399\" stroke-width=\"2\" />\n",
       "<line x1=\"284.4\" y1=\"86.3\" x2=\"279.7\" y2=\"94.5\"\n",
       "    stroke=\"#663399\" stroke-width=\"2\" />\n",
       "<line x1=\"279.7\" y1=\"94.5\" x2=\"289.1\" y2=\"94.5\"\n",
       "    stroke=\"#663399\" stroke-width=\"2\" />\n",
       "<line x1=\"289.1\" y1=\"94.5\" x2=\"284.4\" y2=\"86.3\"\n",
       "    stroke=\"#663399\" stroke-width=\"2\" />\n",
       "<line x1=\"284.4\" y1=\"86.3\" x2=\"279.7\" y2=\"94.5\"\n",
       "    stroke=\"#663399\" stroke-width=\"2\" />\n",
       "<line x1=\"279.7\" y1=\"94.5\" x2=\"289.1\" y2=\"94.5\"\n",
       "    stroke=\"#663399\" stroke-width=\"2\" />\n",
       "<line x1=\"289.1\" y1=\"94.5\" x2=\"284.4\" y2=\"86.3\"\n",
       "    stroke=\"#663399\" stroke-width=\"2\" />\n",
       "<line x1=\"284.4\" y1=\"86.3\" x2=\"279.7\" y2=\"94.5\"\n",
       "    stroke=\"#663399\" stroke-width=\"2\" />\n",
       "<line x1=\"279.7\" y1=\"94.5\" x2=\"289.1\" y2=\"94.5\"\n",
       "    stroke=\"#663399\" stroke-width=\"2\" />\n",
       "<line x1=\"289.1\" y1=\"94.5\" x2=\"284.4\" y2=\"86.3\"\n",
       "    stroke=\"#663399\" stroke-width=\"2\" />\n",
       "<line x1=\"284.4\" y1=\"86.3\" x2=\"279.7\" y2=\"94.5\"\n",
       "    stroke=\"#663399\" stroke-width=\"2\" />\n",
       "<line x1=\"279.7\" y1=\"94.5\" x2=\"289.1\" y2=\"94.5\"\n",
       "    stroke=\"#663399\" stroke-width=\"2\" />\n",
       "<line x1=\"289.1\" y1=\"94.5\" x2=\"284.4\" y2=\"86.3\"\n",
       "    stroke=\"#663399\" stroke-width=\"2\" />\n",
       "<line x1=\"284.4\" y1=\"86.3\" x2=\"275.0\" y2=\"102.6\"\n",
       "    stroke=\"#663399\" stroke-width=\"2\" />\n",
       "<line x1=\"275.0\" y1=\"102.6\" x2=\"284.4\" y2=\"102.6\"\n",
       "    stroke=\"#663399\" stroke-width=\"2\" />\n",
       "<line x1=\"284.4\" y1=\"102.6\" x2=\"279.7\" y2=\"94.5\"\n",
       "    stroke=\"#663399\" stroke-width=\"2\" />\n",
       "<line x1=\"279.7\" y1=\"94.5\" x2=\"275.0\" y2=\"102.6\"\n",
       "    stroke=\"#663399\" stroke-width=\"2\" />\n",
       "<line x1=\"275.0\" y1=\"102.6\" x2=\"284.4\" y2=\"102.6\"\n",
       "    stroke=\"#663399\" stroke-width=\"2\" />\n",
       "<line x1=\"284.4\" y1=\"102.6\" x2=\"279.7\" y2=\"94.5\"\n",
       "    stroke=\"#663399\" stroke-width=\"2\" />\n",
       "<line x1=\"279.7\" y1=\"94.5\" x2=\"275.0\" y2=\"102.6\"\n",
       "    stroke=\"#663399\" stroke-width=\"2\" />\n",
       "<line x1=\"275.0\" y1=\"102.6\" x2=\"284.4\" y2=\"102.6\"\n",
       "    stroke=\"#663399\" stroke-width=\"2\" />\n",
       "<line x1=\"284.4\" y1=\"102.6\" x2=\"279.7\" y2=\"94.5\"\n",
       "    stroke=\"#663399\" stroke-width=\"2\" />\n",
       "<line x1=\"279.7\" y1=\"94.5\" x2=\"275.0\" y2=\"102.6\"\n",
       "    stroke=\"#663399\" stroke-width=\"2\" />\n",
       "<line x1=\"275.0\" y1=\"102.6\" x2=\"284.4\" y2=\"102.6\"\n",
       "    stroke=\"#663399\" stroke-width=\"2\" />\n",
       "<line x1=\"284.4\" y1=\"102.6\" x2=\"279.7\" y2=\"94.5\"\n",
       "    stroke=\"#663399\" stroke-width=\"2\" />\n",
       "<line x1=\"279.7\" y1=\"94.5\" x2=\"275.0\" y2=\"102.6\"\n",
       "    stroke=\"#663399\" stroke-width=\"2\" />\n",
       "<line x1=\"275.0\" y1=\"102.6\" x2=\"293.7\" y2=\"102.6\"\n",
       "    stroke=\"#663399\" stroke-width=\"2\" />\n",
       "<line x1=\"293.7\" y1=\"102.6\" x2=\"275.0\" y2=\"70.1\"\n",
       "    stroke=\"#663399\" stroke-width=\"2\" />\n",
       "<line x1=\"275.0\" y1=\"70.1\" x2=\"237.5\" y2=\"135.0\"\n",
       "    stroke=\"#663399\" stroke-width=\"2\" />\n",
       "<line x1=\"237.5\" y1=\"135.0\" x2=\"246.9\" y2=\"135.0\"\n",
       "    stroke=\"#663399\" stroke-width=\"2\" />\n",
       "<line x1=\"246.9\" y1=\"135.0\" x2=\"242.2\" y2=\"126.9\"\n",
       "    stroke=\"#663399\" stroke-width=\"2\" />\n",
       "<line x1=\"242.2\" y1=\"126.9\" x2=\"237.5\" y2=\"135.0\"\n",
       "    stroke=\"#663399\" stroke-width=\"2\" />\n",
       "<line x1=\"237.5\" y1=\"135.0\" x2=\"246.9\" y2=\"135.0\"\n",
       "    stroke=\"#663399\" stroke-width=\"2\" />\n",
       "<line x1=\"246.9\" y1=\"135.0\" x2=\"242.2\" y2=\"126.9\"\n",
       "    stroke=\"#663399\" stroke-width=\"2\" />\n",
       "<line x1=\"242.2\" y1=\"126.9\" x2=\"237.5\" y2=\"135.0\"\n",
       "    stroke=\"#663399\" stroke-width=\"2\" />\n",
       "<line x1=\"237.5\" y1=\"135.0\" x2=\"246.9\" y2=\"135.0\"\n",
       "    stroke=\"#663399\" stroke-width=\"2\" />\n",
       "<line x1=\"246.9\" y1=\"135.0\" x2=\"242.2\" y2=\"126.9\"\n",
       "    stroke=\"#663399\" stroke-width=\"2\" />\n",
       "<line x1=\"242.2\" y1=\"126.9\" x2=\"237.5\" y2=\"135.0\"\n",
       "    stroke=\"#663399\" stroke-width=\"2\" />\n",
       "<line x1=\"237.5\" y1=\"135.0\" x2=\"246.9\" y2=\"135.0\"\n",
       "    stroke=\"#663399\" stroke-width=\"2\" />\n",
       "<line x1=\"246.9\" y1=\"135.0\" x2=\"242.2\" y2=\"126.9\"\n",
       "    stroke=\"#663399\" stroke-width=\"2\" />\n",
       "<line x1=\"242.2\" y1=\"126.9\" x2=\"237.5\" y2=\"135.0\"\n",
       "    stroke=\"#663399\" stroke-width=\"2\" />\n",
       "<line x1=\"237.5\" y1=\"135.0\" x2=\"256.2\" y2=\"135.0\"\n",
       "    stroke=\"#663399\" stroke-width=\"2\" />\n",
       "<line x1=\"256.2\" y1=\"135.0\" x2=\"251.6\" y2=\"126.9\"\n",
       "    stroke=\"#663399\" stroke-width=\"2\" />\n",
       "<line x1=\"251.6\" y1=\"126.9\" x2=\"246.9\" y2=\"135.0\"\n",
       "    stroke=\"#663399\" stroke-width=\"2\" />\n",
       "<line x1=\"246.9\" y1=\"135.0\" x2=\"256.2\" y2=\"135.0\"\n",
       "    stroke=\"#663399\" stroke-width=\"2\" />\n",
       "<line x1=\"256.2\" y1=\"135.0\" x2=\"251.6\" y2=\"126.9\"\n",
       "    stroke=\"#663399\" stroke-width=\"2\" />\n",
       "<line x1=\"251.6\" y1=\"126.9\" x2=\"246.9\" y2=\"135.0\"\n",
       "    stroke=\"#663399\" stroke-width=\"2\" />\n",
       "<line x1=\"246.9\" y1=\"135.0\" x2=\"256.2\" y2=\"135.0\"\n",
       "    stroke=\"#663399\" stroke-width=\"2\" />\n",
       "<line x1=\"256.2\" y1=\"135.0\" x2=\"251.6\" y2=\"126.9\"\n",
       "    stroke=\"#663399\" stroke-width=\"2\" />\n",
       "<line x1=\"251.6\" y1=\"126.9\" x2=\"246.9\" y2=\"135.0\"\n",
       "    stroke=\"#663399\" stroke-width=\"2\" />\n",
       "<line x1=\"246.9\" y1=\"135.0\" x2=\"256.2\" y2=\"135.0\"\n",
       "    stroke=\"#663399\" stroke-width=\"2\" />\n",
       "<line x1=\"256.2\" y1=\"135.0\" x2=\"251.6\" y2=\"126.9\"\n",
       "    stroke=\"#663399\" stroke-width=\"2\" />\n",
       "<line x1=\"251.6\" y1=\"126.9\" x2=\"246.9\" y2=\"135.0\"\n",
       "    stroke=\"#663399\" stroke-width=\"2\" />\n",
       "<line x1=\"246.9\" y1=\"135.0\" x2=\"256.2\" y2=\"135.0\"\n",
       "    stroke=\"#663399\" stroke-width=\"2\" />\n",
       "<line x1=\"256.2\" y1=\"135.0\" x2=\"246.9\" y2=\"118.8\"\n",
       "    stroke=\"#663399\" stroke-width=\"2\" />\n",
       "<line x1=\"246.9\" y1=\"118.8\" x2=\"242.2\" y2=\"126.9\"\n",
       "    stroke=\"#663399\" stroke-width=\"2\" />\n",
       "<line x1=\"242.2\" y1=\"126.9\" x2=\"251.6\" y2=\"126.9\"\n",
       "    stroke=\"#663399\" stroke-width=\"2\" />\n",
       "<line x1=\"251.6\" y1=\"126.9\" x2=\"246.9\" y2=\"118.8\"\n",
       "    stroke=\"#663399\" stroke-width=\"2\" />\n",
       "<line x1=\"246.9\" y1=\"118.8\" x2=\"242.2\" y2=\"126.9\"\n",
       "    stroke=\"#663399\" stroke-width=\"2\" />\n",
       "<line x1=\"242.2\" y1=\"126.9\" x2=\"251.6\" y2=\"126.9\"\n",
       "    stroke=\"#663399\" stroke-width=\"2\" />\n",
       "<line x1=\"251.6\" y1=\"126.9\" x2=\"246.9\" y2=\"118.8\"\n",
       "    stroke=\"#663399\" stroke-width=\"2\" />\n",
       "<line x1=\"246.9\" y1=\"118.8\" x2=\"242.2\" y2=\"126.9\"\n",
       "    stroke=\"#663399\" stroke-width=\"2\" />\n",
       "<line x1=\"242.2\" y1=\"126.9\" x2=\"251.6\" y2=\"126.9\"\n",
       "    stroke=\"#663399\" stroke-width=\"2\" />\n",
       "<line x1=\"251.6\" y1=\"126.9\" x2=\"246.9\" y2=\"118.8\"\n",
       "    stroke=\"#663399\" stroke-width=\"2\" />\n",
       "<line x1=\"246.9\" y1=\"118.8\" x2=\"242.2\" y2=\"126.9\"\n",
       "    stroke=\"#663399\" stroke-width=\"2\" />\n",
       "<line x1=\"242.2\" y1=\"126.9\" x2=\"251.6\" y2=\"126.9\"\n",
       "    stroke=\"#663399\" stroke-width=\"2\" />\n",
       "<line x1=\"251.6\" y1=\"126.9\" x2=\"246.9\" y2=\"118.8\"\n",
       "    stroke=\"#663399\" stroke-width=\"2\" />\n",
       "<line x1=\"246.9\" y1=\"118.8\" x2=\"237.5\" y2=\"135.0\"\n",
       "    stroke=\"#663399\" stroke-width=\"2\" />\n",
       "<line x1=\"237.5\" y1=\"135.0\" x2=\"275.0\" y2=\"135.0\"\n",
       "    stroke=\"#663399\" stroke-width=\"2\" />\n",
       "<line x1=\"275.0\" y1=\"135.0\" x2=\"270.3\" y2=\"126.9\"\n",
       "    stroke=\"#663399\" stroke-width=\"2\" />\n",
       "<line x1=\"270.3\" y1=\"126.9\" x2=\"265.6\" y2=\"135.0\"\n",
       "    stroke=\"#663399\" stroke-width=\"2\" />\n",
       "<line x1=\"265.6\" y1=\"135.0\" x2=\"275.0\" y2=\"135.0\"\n",
       "    stroke=\"#663399\" stroke-width=\"2\" />\n",
       "<line x1=\"275.0\" y1=\"135.0\" x2=\"270.3\" y2=\"126.9\"\n",
       "    stroke=\"#663399\" stroke-width=\"2\" />\n",
       "<line x1=\"270.3\" y1=\"126.9\" x2=\"265.6\" y2=\"135.0\"\n",
       "    stroke=\"#663399\" stroke-width=\"2\" />\n",
       "<line x1=\"265.6\" y1=\"135.0\" x2=\"275.0\" y2=\"135.0\"\n",
       "    stroke=\"#663399\" stroke-width=\"2\" />\n",
       "<line x1=\"275.0\" y1=\"135.0\" x2=\"270.3\" y2=\"126.9\"\n",
       "    stroke=\"#663399\" stroke-width=\"2\" />\n",
       "<line x1=\"270.3\" y1=\"126.9\" x2=\"265.6\" y2=\"135.0\"\n",
       "    stroke=\"#663399\" stroke-width=\"2\" />\n",
       "<line x1=\"265.6\" y1=\"135.0\" x2=\"275.0\" y2=\"135.0\"\n",
       "    stroke=\"#663399\" stroke-width=\"2\" />\n",
       "<line x1=\"275.0\" y1=\"135.0\" x2=\"270.3\" y2=\"126.9\"\n",
       "    stroke=\"#663399\" stroke-width=\"2\" />\n",
       "<line x1=\"270.3\" y1=\"126.9\" x2=\"265.6\" y2=\"135.0\"\n",
       "    stroke=\"#663399\" stroke-width=\"2\" />\n",
       "<line x1=\"265.6\" y1=\"135.0\" x2=\"275.0\" y2=\"135.0\"\n",
       "    stroke=\"#663399\" stroke-width=\"2\" />\n",
       "<line x1=\"275.0\" y1=\"135.0\" x2=\"265.6\" y2=\"118.8\"\n",
       "    stroke=\"#663399\" stroke-width=\"2\" />\n",
       "<line x1=\"265.6\" y1=\"118.8\" x2=\"260.9\" y2=\"126.9\"\n",
       "    stroke=\"#663399\" stroke-width=\"2\" />\n",
       "<line x1=\"260.9\" y1=\"126.9\" x2=\"270.3\" y2=\"126.9\"\n",
       "    stroke=\"#663399\" stroke-width=\"2\" />\n",
       "<line x1=\"270.3\" y1=\"126.9\" x2=\"265.6\" y2=\"118.8\"\n",
       "    stroke=\"#663399\" stroke-width=\"2\" />\n",
       "<line x1=\"265.6\" y1=\"118.8\" x2=\"260.9\" y2=\"126.9\"\n",
       "    stroke=\"#663399\" stroke-width=\"2\" />\n",
       "<line x1=\"260.9\" y1=\"126.9\" x2=\"270.3\" y2=\"126.9\"\n",
       "    stroke=\"#663399\" stroke-width=\"2\" />\n",
       "<line x1=\"270.3\" y1=\"126.9\" x2=\"265.6\" y2=\"118.8\"\n",
       "    stroke=\"#663399\" stroke-width=\"2\" />\n",
       "<line x1=\"265.6\" y1=\"118.8\" x2=\"260.9\" y2=\"126.9\"\n",
       "    stroke=\"#663399\" stroke-width=\"2\" />\n",
       "<line x1=\"260.9\" y1=\"126.9\" x2=\"270.3\" y2=\"126.9\"\n",
       "    stroke=\"#663399\" stroke-width=\"2\" />\n",
       "<line x1=\"270.3\" y1=\"126.9\" x2=\"265.6\" y2=\"118.8\"\n",
       "    stroke=\"#663399\" stroke-width=\"2\" />\n",
       "<line x1=\"265.6\" y1=\"118.8\" x2=\"260.9\" y2=\"126.9\"\n",
       "    stroke=\"#663399\" stroke-width=\"2\" />\n",
       "<line x1=\"260.9\" y1=\"126.9\" x2=\"270.3\" y2=\"126.9\"\n",
       "    stroke=\"#663399\" stroke-width=\"2\" />\n",
       "<line x1=\"270.3\" y1=\"126.9\" x2=\"265.6\" y2=\"118.8\"\n",
       "    stroke=\"#663399\" stroke-width=\"2\" />\n",
       "<line x1=\"265.6\" y1=\"118.8\" x2=\"256.2\" y2=\"135.0\"\n",
       "    stroke=\"#663399\" stroke-width=\"2\" />\n",
       "<line x1=\"256.2\" y1=\"135.0\" x2=\"265.6\" y2=\"135.0\"\n",
       "    stroke=\"#663399\" stroke-width=\"2\" />\n",
       "<line x1=\"265.6\" y1=\"135.0\" x2=\"260.9\" y2=\"126.9\"\n",
       "    stroke=\"#663399\" stroke-width=\"2\" />\n",
       "<line x1=\"260.9\" y1=\"126.9\" x2=\"256.2\" y2=\"135.0\"\n",
       "    stroke=\"#663399\" stroke-width=\"2\" />\n",
       "<line x1=\"256.2\" y1=\"135.0\" x2=\"265.6\" y2=\"135.0\"\n",
       "    stroke=\"#663399\" stroke-width=\"2\" />\n",
       "<line x1=\"265.6\" y1=\"135.0\" x2=\"260.9\" y2=\"126.9\"\n",
       "    stroke=\"#663399\" stroke-width=\"2\" />\n",
       "<line x1=\"260.9\" y1=\"126.9\" x2=\"256.2\" y2=\"135.0\"\n",
       "    stroke=\"#663399\" stroke-width=\"2\" />\n",
       "<line x1=\"256.2\" y1=\"135.0\" x2=\"265.6\" y2=\"135.0\"\n",
       "    stroke=\"#663399\" stroke-width=\"2\" />\n",
       "<line x1=\"265.6\" y1=\"135.0\" x2=\"260.9\" y2=\"126.9\"\n",
       "    stroke=\"#663399\" stroke-width=\"2\" />\n",
       "<line x1=\"260.9\" y1=\"126.9\" x2=\"256.2\" y2=\"135.0\"\n",
       "    stroke=\"#663399\" stroke-width=\"2\" />\n",
       "<line x1=\"256.2\" y1=\"135.0\" x2=\"265.6\" y2=\"135.0\"\n",
       "    stroke=\"#663399\" stroke-width=\"2\" />\n",
       "<line x1=\"265.6\" y1=\"135.0\" x2=\"260.9\" y2=\"126.9\"\n",
       "    stroke=\"#663399\" stroke-width=\"2\" />\n",
       "<line x1=\"260.9\" y1=\"126.9\" x2=\"256.2\" y2=\"135.0\"\n",
       "    stroke=\"#663399\" stroke-width=\"2\" />\n",
       "<line x1=\"256.2\" y1=\"135.0\" x2=\"275.0\" y2=\"135.0\"\n",
       "    stroke=\"#663399\" stroke-width=\"2\" />\n",
       "<line x1=\"275.0\" y1=\"135.0\" x2=\"256.2\" y2=\"102.6\"\n",
       "    stroke=\"#663399\" stroke-width=\"2\" />\n",
       "<line x1=\"256.2\" y1=\"102.6\" x2=\"251.6\" y2=\"110.7\"\n",
       "    stroke=\"#663399\" stroke-width=\"2\" />\n",
       "<line x1=\"251.6\" y1=\"110.7\" x2=\"260.9\" y2=\"110.7\"\n",
       "    stroke=\"#663399\" stroke-width=\"2\" />\n",
       "<line x1=\"260.9\" y1=\"110.7\" x2=\"256.2\" y2=\"102.6\"\n",
       "    stroke=\"#663399\" stroke-width=\"2\" />\n",
       "<line x1=\"256.2\" y1=\"102.6\" x2=\"251.6\" y2=\"110.7\"\n",
       "    stroke=\"#663399\" stroke-width=\"2\" />\n",
       "<line x1=\"251.6\" y1=\"110.7\" x2=\"260.9\" y2=\"110.7\"\n",
       "    stroke=\"#663399\" stroke-width=\"2\" />\n",
       "<line x1=\"260.9\" y1=\"110.7\" x2=\"256.2\" y2=\"102.6\"\n",
       "    stroke=\"#663399\" stroke-width=\"2\" />\n",
       "<line x1=\"256.2\" y1=\"102.6\" x2=\"251.6\" y2=\"110.7\"\n",
       "    stroke=\"#663399\" stroke-width=\"2\" />\n",
       "<line x1=\"251.6\" y1=\"110.7\" x2=\"260.9\" y2=\"110.7\"\n",
       "    stroke=\"#663399\" stroke-width=\"2\" />\n",
       "<line x1=\"260.9\" y1=\"110.7\" x2=\"256.2\" y2=\"102.6\"\n",
       "    stroke=\"#663399\" stroke-width=\"2\" />\n",
       "<line x1=\"256.2\" y1=\"102.6\" x2=\"251.6\" y2=\"110.7\"\n",
       "    stroke=\"#663399\" stroke-width=\"2\" />\n",
       "<line x1=\"251.6\" y1=\"110.7\" x2=\"260.9\" y2=\"110.7\"\n",
       "    stroke=\"#663399\" stroke-width=\"2\" />\n",
       "<line x1=\"260.9\" y1=\"110.7\" x2=\"256.2\" y2=\"102.6\"\n",
       "    stroke=\"#663399\" stroke-width=\"2\" />\n",
       "<line x1=\"256.2\" y1=\"102.6\" x2=\"246.9\" y2=\"118.8\"\n",
       "    stroke=\"#663399\" stroke-width=\"2\" />\n",
       "<line x1=\"246.9\" y1=\"118.8\" x2=\"256.2\" y2=\"118.8\"\n",
       "    stroke=\"#663399\" stroke-width=\"2\" />\n",
       "<line x1=\"256.2\" y1=\"118.8\" x2=\"251.6\" y2=\"110.7\"\n",
       "    stroke=\"#663399\" stroke-width=\"2\" />\n",
       "<line x1=\"251.6\" y1=\"110.7\" x2=\"246.9\" y2=\"118.8\"\n",
       "    stroke=\"#663399\" stroke-width=\"2\" />\n",
       "<line x1=\"246.9\" y1=\"118.8\" x2=\"256.2\" y2=\"118.8\"\n",
       "    stroke=\"#663399\" stroke-width=\"2\" />\n",
       "<line x1=\"256.2\" y1=\"118.8\" x2=\"251.6\" y2=\"110.7\"\n",
       "    stroke=\"#663399\" stroke-width=\"2\" />\n",
       "<line x1=\"251.6\" y1=\"110.7\" x2=\"246.9\" y2=\"118.8\"\n",
       "    stroke=\"#663399\" stroke-width=\"2\" />\n",
       "<line x1=\"246.9\" y1=\"118.8\" x2=\"256.2\" y2=\"118.8\"\n",
       "    stroke=\"#663399\" stroke-width=\"2\" />\n",
       "<line x1=\"256.2\" y1=\"118.8\" x2=\"251.6\" y2=\"110.7\"\n",
       "    stroke=\"#663399\" stroke-width=\"2\" />\n",
       "<line x1=\"251.6\" y1=\"110.7\" x2=\"246.9\" y2=\"118.8\"\n",
       "    stroke=\"#663399\" stroke-width=\"2\" />\n",
       "<line x1=\"246.9\" y1=\"118.8\" x2=\"256.2\" y2=\"118.8\"\n",
       "    stroke=\"#663399\" stroke-width=\"2\" />\n",
       "<line x1=\"256.2\" y1=\"118.8\" x2=\"251.6\" y2=\"110.7\"\n",
       "    stroke=\"#663399\" stroke-width=\"2\" />\n",
       "<line x1=\"251.6\" y1=\"110.7\" x2=\"246.9\" y2=\"118.8\"\n",
       "    stroke=\"#663399\" stroke-width=\"2\" />\n",
       "<line x1=\"246.9\" y1=\"118.8\" x2=\"265.6\" y2=\"118.8\"\n",
       "    stroke=\"#663399\" stroke-width=\"2\" />\n",
       "<line x1=\"265.6\" y1=\"118.8\" x2=\"260.9\" y2=\"110.7\"\n",
       "    stroke=\"#663399\" stroke-width=\"2\" />\n",
       "<line x1=\"260.9\" y1=\"110.7\" x2=\"256.2\" y2=\"118.8\"\n",
       "    stroke=\"#663399\" stroke-width=\"2\" />\n",
       "<line x1=\"256.2\" y1=\"118.8\" x2=\"265.6\" y2=\"118.8\"\n",
       "    stroke=\"#663399\" stroke-width=\"2\" />\n",
       "<line x1=\"265.6\" y1=\"118.8\" x2=\"260.9\" y2=\"110.7\"\n",
       "    stroke=\"#663399\" stroke-width=\"2\" />\n",
       "<line x1=\"260.9\" y1=\"110.7\" x2=\"256.2\" y2=\"118.8\"\n",
       "    stroke=\"#663399\" stroke-width=\"2\" />\n",
       "<line x1=\"256.2\" y1=\"118.8\" x2=\"265.6\" y2=\"118.8\"\n",
       "    stroke=\"#663399\" stroke-width=\"2\" />\n",
       "<line x1=\"265.6\" y1=\"118.8\" x2=\"260.9\" y2=\"110.7\"\n",
       "    stroke=\"#663399\" stroke-width=\"2\" />\n",
       "<line x1=\"260.9\" y1=\"110.7\" x2=\"256.2\" y2=\"118.8\"\n",
       "    stroke=\"#663399\" stroke-width=\"2\" />\n",
       "<line x1=\"256.2\" y1=\"118.8\" x2=\"265.6\" y2=\"118.8\"\n",
       "    stroke=\"#663399\" stroke-width=\"2\" />\n",
       "<line x1=\"265.6\" y1=\"118.8\" x2=\"260.9\" y2=\"110.7\"\n",
       "    stroke=\"#663399\" stroke-width=\"2\" />\n",
       "<line x1=\"260.9\" y1=\"110.7\" x2=\"256.2\" y2=\"118.8\"\n",
       "    stroke=\"#663399\" stroke-width=\"2\" />\n",
       "<line x1=\"256.2\" y1=\"118.8\" x2=\"265.6\" y2=\"118.8\"\n",
       "    stroke=\"#663399\" stroke-width=\"2\" />\n",
       "<line x1=\"265.6\" y1=\"118.8\" x2=\"256.2\" y2=\"102.6\"\n",
       "    stroke=\"#663399\" stroke-width=\"2\" />\n",
       "<line x1=\"256.2\" y1=\"102.6\" x2=\"237.5\" y2=\"135.0\"\n",
       "    stroke=\"#663399\" stroke-width=\"2\" />\n",
       "<line x1=\"237.5\" y1=\"135.0\" x2=\"312.5\" y2=\"135.0\"\n",
       "    stroke=\"#663399\" stroke-width=\"2\" />\n",
       "<line x1=\"312.5\" y1=\"135.0\" x2=\"307.8\" y2=\"126.9\"\n",
       "    stroke=\"#663399\" stroke-width=\"2\" />\n",
       "<line x1=\"307.8\" y1=\"126.9\" x2=\"303.1\" y2=\"135.0\"\n",
       "    stroke=\"#663399\" stroke-width=\"2\" />\n",
       "<line x1=\"303.1\" y1=\"135.0\" x2=\"312.5\" y2=\"135.0\"\n",
       "    stroke=\"#663399\" stroke-width=\"2\" />\n",
       "<line x1=\"312.5\" y1=\"135.0\" x2=\"307.8\" y2=\"126.9\"\n",
       "    stroke=\"#663399\" stroke-width=\"2\" />\n",
       "<line x1=\"307.8\" y1=\"126.9\" x2=\"303.1\" y2=\"135.0\"\n",
       "    stroke=\"#663399\" stroke-width=\"2\" />\n",
       "<line x1=\"303.1\" y1=\"135.0\" x2=\"312.5\" y2=\"135.0\"\n",
       "    stroke=\"#663399\" stroke-width=\"2\" />\n",
       "<line x1=\"312.5\" y1=\"135.0\" x2=\"307.8\" y2=\"126.9\"\n",
       "    stroke=\"#663399\" stroke-width=\"2\" />\n",
       "<line x1=\"307.8\" y1=\"126.9\" x2=\"303.1\" y2=\"135.0\"\n",
       "    stroke=\"#663399\" stroke-width=\"2\" />\n",
       "<line x1=\"303.1\" y1=\"135.0\" x2=\"312.5\" y2=\"135.0\"\n",
       "    stroke=\"#663399\" stroke-width=\"2\" />\n",
       "<line x1=\"312.5\" y1=\"135.0\" x2=\"307.8\" y2=\"126.9\"\n",
       "    stroke=\"#663399\" stroke-width=\"2\" />\n",
       "<line x1=\"307.8\" y1=\"126.9\" x2=\"303.1\" y2=\"135.0\"\n",
       "    stroke=\"#663399\" stroke-width=\"2\" />\n",
       "<line x1=\"303.1\" y1=\"135.0\" x2=\"312.5\" y2=\"135.0\"\n",
       "    stroke=\"#663399\" stroke-width=\"2\" />\n",
       "<line x1=\"312.5\" y1=\"135.0\" x2=\"303.1\" y2=\"118.8\"\n",
       "    stroke=\"#663399\" stroke-width=\"2\" />\n",
       "<line x1=\"303.1\" y1=\"118.8\" x2=\"298.4\" y2=\"126.9\"\n",
       "    stroke=\"#663399\" stroke-width=\"2\" />\n",
       "<line x1=\"298.4\" y1=\"126.9\" x2=\"307.8\" y2=\"126.9\"\n",
       "    stroke=\"#663399\" stroke-width=\"2\" />\n",
       "<line x1=\"307.8\" y1=\"126.9\" x2=\"303.1\" y2=\"118.8\"\n",
       "    stroke=\"#663399\" stroke-width=\"2\" />\n",
       "<line x1=\"303.1\" y1=\"118.8\" x2=\"298.4\" y2=\"126.9\"\n",
       "    stroke=\"#663399\" stroke-width=\"2\" />\n",
       "<line x1=\"298.4\" y1=\"126.9\" x2=\"307.8\" y2=\"126.9\"\n",
       "    stroke=\"#663399\" stroke-width=\"2\" />\n",
       "<line x1=\"307.8\" y1=\"126.9\" x2=\"303.1\" y2=\"118.8\"\n",
       "    stroke=\"#663399\" stroke-width=\"2\" />\n",
       "<line x1=\"303.1\" y1=\"118.8\" x2=\"298.4\" y2=\"126.9\"\n",
       "    stroke=\"#663399\" stroke-width=\"2\" />\n",
       "<line x1=\"298.4\" y1=\"126.9\" x2=\"307.8\" y2=\"126.9\"\n",
       "    stroke=\"#663399\" stroke-width=\"2\" />\n",
       "<line x1=\"307.8\" y1=\"126.9\" x2=\"303.1\" y2=\"118.8\"\n",
       "    stroke=\"#663399\" stroke-width=\"2\" />\n",
       "<line x1=\"303.1\" y1=\"118.8\" x2=\"298.4\" y2=\"126.9\"\n",
       "    stroke=\"#663399\" stroke-width=\"2\" />\n",
       "<line x1=\"298.4\" y1=\"126.9\" x2=\"307.8\" y2=\"126.9\"\n",
       "    stroke=\"#663399\" stroke-width=\"2\" />\n",
       "<line x1=\"307.8\" y1=\"126.9\" x2=\"303.1\" y2=\"118.8\"\n",
       "    stroke=\"#663399\" stroke-width=\"2\" />\n",
       "<line x1=\"303.1\" y1=\"118.8\" x2=\"293.7\" y2=\"135.0\"\n",
       "    stroke=\"#663399\" stroke-width=\"2\" />\n",
       "<line x1=\"293.7\" y1=\"135.0\" x2=\"303.1\" y2=\"135.0\"\n",
       "    stroke=\"#663399\" stroke-width=\"2\" />\n",
       "<line x1=\"303.1\" y1=\"135.0\" x2=\"298.4\" y2=\"126.9\"\n",
       "    stroke=\"#663399\" stroke-width=\"2\" />\n",
       "<line x1=\"298.4\" y1=\"126.9\" x2=\"293.7\" y2=\"135.0\"\n",
       "    stroke=\"#663399\" stroke-width=\"2\" />\n",
       "<line x1=\"293.7\" y1=\"135.0\" x2=\"303.1\" y2=\"135.0\"\n",
       "    stroke=\"#663399\" stroke-width=\"2\" />\n",
       "<line x1=\"303.1\" y1=\"135.0\" x2=\"298.4\" y2=\"126.9\"\n",
       "    stroke=\"#663399\" stroke-width=\"2\" />\n",
       "<line x1=\"298.4\" y1=\"126.9\" x2=\"293.7\" y2=\"135.0\"\n",
       "    stroke=\"#663399\" stroke-width=\"2\" />\n",
       "<line x1=\"293.7\" y1=\"135.0\" x2=\"303.1\" y2=\"135.0\"\n",
       "    stroke=\"#663399\" stroke-width=\"2\" />\n",
       "<line x1=\"303.1\" y1=\"135.0\" x2=\"298.4\" y2=\"126.9\"\n",
       "    stroke=\"#663399\" stroke-width=\"2\" />\n",
       "<line x1=\"298.4\" y1=\"126.9\" x2=\"293.7\" y2=\"135.0\"\n",
       "    stroke=\"#663399\" stroke-width=\"2\" />\n",
       "<line x1=\"293.7\" y1=\"135.0\" x2=\"303.1\" y2=\"135.0\"\n",
       "    stroke=\"#663399\" stroke-width=\"2\" />\n",
       "<line x1=\"303.1\" y1=\"135.0\" x2=\"298.4\" y2=\"126.9\"\n",
       "    stroke=\"#663399\" stroke-width=\"2\" />\n",
       "<line x1=\"298.4\" y1=\"126.9\" x2=\"293.7\" y2=\"135.0\"\n",
       "    stroke=\"#663399\" stroke-width=\"2\" />\n",
       "<line x1=\"293.7\" y1=\"135.0\" x2=\"312.5\" y2=\"135.0\"\n",
       "    stroke=\"#663399\" stroke-width=\"2\" />\n",
       "<line x1=\"312.5\" y1=\"135.0\" x2=\"293.7\" y2=\"102.6\"\n",
       "    stroke=\"#663399\" stroke-width=\"2\" />\n",
       "<line x1=\"293.7\" y1=\"102.6\" x2=\"289.1\" y2=\"110.7\"\n",
       "    stroke=\"#663399\" stroke-width=\"2\" />\n",
       "<line x1=\"289.1\" y1=\"110.7\" x2=\"298.4\" y2=\"110.7\"\n",
       "    stroke=\"#663399\" stroke-width=\"2\" />\n",
       "<line x1=\"298.4\" y1=\"110.7\" x2=\"293.7\" y2=\"102.6\"\n",
       "    stroke=\"#663399\" stroke-width=\"2\" />\n",
       "<line x1=\"293.7\" y1=\"102.6\" x2=\"289.1\" y2=\"110.7\"\n",
       "    stroke=\"#663399\" stroke-width=\"2\" />\n",
       "<line x1=\"289.1\" y1=\"110.7\" x2=\"298.4\" y2=\"110.7\"\n",
       "    stroke=\"#663399\" stroke-width=\"2\" />\n",
       "<line x1=\"298.4\" y1=\"110.7\" x2=\"293.7\" y2=\"102.6\"\n",
       "    stroke=\"#663399\" stroke-width=\"2\" />\n",
       "<line x1=\"293.7\" y1=\"102.6\" x2=\"289.1\" y2=\"110.7\"\n",
       "    stroke=\"#663399\" stroke-width=\"2\" />\n",
       "<line x1=\"289.1\" y1=\"110.7\" x2=\"298.4\" y2=\"110.7\"\n",
       "    stroke=\"#663399\" stroke-width=\"2\" />\n",
       "<line x1=\"298.4\" y1=\"110.7\" x2=\"293.7\" y2=\"102.6\"\n",
       "    stroke=\"#663399\" stroke-width=\"2\" />\n",
       "<line x1=\"293.7\" y1=\"102.6\" x2=\"289.1\" y2=\"110.7\"\n",
       "    stroke=\"#663399\" stroke-width=\"2\" />\n",
       "<line x1=\"289.1\" y1=\"110.7\" x2=\"298.4\" y2=\"110.7\"\n",
       "    stroke=\"#663399\" stroke-width=\"2\" />\n",
       "<line x1=\"298.4\" y1=\"110.7\" x2=\"293.7\" y2=\"102.6\"\n",
       "    stroke=\"#663399\" stroke-width=\"2\" />\n",
       "<line x1=\"293.7\" y1=\"102.6\" x2=\"284.4\" y2=\"118.8\"\n",
       "    stroke=\"#663399\" stroke-width=\"2\" />\n",
       "<line x1=\"284.4\" y1=\"118.8\" x2=\"293.7\" y2=\"118.8\"\n",
       "    stroke=\"#663399\" stroke-width=\"2\" />\n",
       "<line x1=\"293.7\" y1=\"118.8\" x2=\"289.1\" y2=\"110.7\"\n",
       "    stroke=\"#663399\" stroke-width=\"2\" />\n",
       "<line x1=\"289.1\" y1=\"110.7\" x2=\"284.4\" y2=\"118.8\"\n",
       "    stroke=\"#663399\" stroke-width=\"2\" />\n",
       "<line x1=\"284.4\" y1=\"118.8\" x2=\"293.7\" y2=\"118.8\"\n",
       "    stroke=\"#663399\" stroke-width=\"2\" />\n",
       "<line x1=\"293.7\" y1=\"118.8\" x2=\"289.1\" y2=\"110.7\"\n",
       "    stroke=\"#663399\" stroke-width=\"2\" />\n",
       "<line x1=\"289.1\" y1=\"110.7\" x2=\"284.4\" y2=\"118.8\"\n",
       "    stroke=\"#663399\" stroke-width=\"2\" />\n",
       "<line x1=\"284.4\" y1=\"118.8\" x2=\"293.7\" y2=\"118.8\"\n",
       "    stroke=\"#663399\" stroke-width=\"2\" />\n",
       "<line x1=\"293.7\" y1=\"118.8\" x2=\"289.1\" y2=\"110.7\"\n",
       "    stroke=\"#663399\" stroke-width=\"2\" />\n",
       "<line x1=\"289.1\" y1=\"110.7\" x2=\"284.4\" y2=\"118.8\"\n",
       "    stroke=\"#663399\" stroke-width=\"2\" />\n",
       "<line x1=\"284.4\" y1=\"118.8\" x2=\"293.7\" y2=\"118.8\"\n",
       "    stroke=\"#663399\" stroke-width=\"2\" />\n",
       "<line x1=\"293.7\" y1=\"118.8\" x2=\"289.1\" y2=\"110.7\"\n",
       "    stroke=\"#663399\" stroke-width=\"2\" />\n",
       "<line x1=\"289.1\" y1=\"110.7\" x2=\"284.4\" y2=\"118.8\"\n",
       "    stroke=\"#663399\" stroke-width=\"2\" />\n",
       "<line x1=\"284.4\" y1=\"118.8\" x2=\"303.1\" y2=\"118.8\"\n",
       "    stroke=\"#663399\" stroke-width=\"2\" />\n",
       "<line x1=\"303.1\" y1=\"118.8\" x2=\"298.4\" y2=\"110.7\"\n",
       "    stroke=\"#663399\" stroke-width=\"2\" />\n",
       "<line x1=\"298.4\" y1=\"110.7\" x2=\"293.7\" y2=\"118.8\"\n",
       "    stroke=\"#663399\" stroke-width=\"2\" />\n",
       "<line x1=\"293.7\" y1=\"118.8\" x2=\"303.1\" y2=\"118.8\"\n",
       "    stroke=\"#663399\" stroke-width=\"2\" />\n",
       "<line x1=\"303.1\" y1=\"118.8\" x2=\"298.4\" y2=\"110.7\"\n",
       "    stroke=\"#663399\" stroke-width=\"2\" />\n",
       "<line x1=\"298.4\" y1=\"110.7\" x2=\"293.7\" y2=\"118.8\"\n",
       "    stroke=\"#663399\" stroke-width=\"2\" />\n",
       "<line x1=\"293.7\" y1=\"118.8\" x2=\"303.1\" y2=\"118.8\"\n",
       "    stroke=\"#663399\" stroke-width=\"2\" />\n",
       "<line x1=\"303.1\" y1=\"118.8\" x2=\"298.4\" y2=\"110.7\"\n",
       "    stroke=\"#663399\" stroke-width=\"2\" />\n",
       "<line x1=\"298.4\" y1=\"110.7\" x2=\"293.7\" y2=\"118.8\"\n",
       "    stroke=\"#663399\" stroke-width=\"2\" />\n",
       "<line x1=\"293.7\" y1=\"118.8\" x2=\"303.1\" y2=\"118.8\"\n",
       "    stroke=\"#663399\" stroke-width=\"2\" />\n",
       "<line x1=\"303.1\" y1=\"118.8\" x2=\"298.4\" y2=\"110.7\"\n",
       "    stroke=\"#663399\" stroke-width=\"2\" />\n",
       "<line x1=\"298.4\" y1=\"110.7\" x2=\"293.7\" y2=\"118.8\"\n",
       "    stroke=\"#663399\" stroke-width=\"2\" />\n",
       "<line x1=\"293.7\" y1=\"118.8\" x2=\"303.1\" y2=\"118.8\"\n",
       "    stroke=\"#663399\" stroke-width=\"2\" />\n",
       "<line x1=\"303.1\" y1=\"118.8\" x2=\"293.7\" y2=\"102.6\"\n",
       "    stroke=\"#663399\" stroke-width=\"2\" />\n",
       "<line x1=\"293.7\" y1=\"102.6\" x2=\"275.0\" y2=\"135.0\"\n",
       "    stroke=\"#663399\" stroke-width=\"2\" />\n",
       "<line x1=\"275.0\" y1=\"135.0\" x2=\"284.4\" y2=\"135.0\"\n",
       "    stroke=\"#663399\" stroke-width=\"2\" />\n",
       "<line x1=\"284.4\" y1=\"135.0\" x2=\"279.7\" y2=\"126.9\"\n",
       "    stroke=\"#663399\" stroke-width=\"2\" />\n",
       "<line x1=\"279.7\" y1=\"126.9\" x2=\"275.0\" y2=\"135.0\"\n",
       "    stroke=\"#663399\" stroke-width=\"2\" />\n",
       "<line x1=\"275.0\" y1=\"135.0\" x2=\"284.4\" y2=\"135.0\"\n",
       "    stroke=\"#663399\" stroke-width=\"2\" />\n",
       "<line x1=\"284.4\" y1=\"135.0\" x2=\"279.7\" y2=\"126.9\"\n",
       "    stroke=\"#663399\" stroke-width=\"2\" />\n",
       "<line x1=\"279.7\" y1=\"126.9\" x2=\"275.0\" y2=\"135.0\"\n",
       "    stroke=\"#663399\" stroke-width=\"2\" />\n",
       "<line x1=\"275.0\" y1=\"135.0\" x2=\"284.4\" y2=\"135.0\"\n",
       "    stroke=\"#663399\" stroke-width=\"2\" />\n",
       "<line x1=\"284.4\" y1=\"135.0\" x2=\"279.7\" y2=\"126.9\"\n",
       "    stroke=\"#663399\" stroke-width=\"2\" />\n",
       "<line x1=\"279.7\" y1=\"126.9\" x2=\"275.0\" y2=\"135.0\"\n",
       "    stroke=\"#663399\" stroke-width=\"2\" />\n",
       "<line x1=\"275.0\" y1=\"135.0\" x2=\"284.4\" y2=\"135.0\"\n",
       "    stroke=\"#663399\" stroke-width=\"2\" />\n",
       "<line x1=\"284.4\" y1=\"135.0\" x2=\"279.7\" y2=\"126.9\"\n",
       "    stroke=\"#663399\" stroke-width=\"2\" />\n",
       "<line x1=\"279.7\" y1=\"126.9\" x2=\"275.0\" y2=\"135.0\"\n",
       "    stroke=\"#663399\" stroke-width=\"2\" />\n",
       "<line x1=\"275.0\" y1=\"135.0\" x2=\"293.7\" y2=\"135.0\"\n",
       "    stroke=\"#663399\" stroke-width=\"2\" />\n",
       "<line x1=\"293.7\" y1=\"135.0\" x2=\"289.1\" y2=\"126.9\"\n",
       "    stroke=\"#663399\" stroke-width=\"2\" />\n",
       "<line x1=\"289.1\" y1=\"126.9\" x2=\"284.4\" y2=\"135.0\"\n",
       "    stroke=\"#663399\" stroke-width=\"2\" />\n",
       "<line x1=\"284.4\" y1=\"135.0\" x2=\"293.7\" y2=\"135.0\"\n",
       "    stroke=\"#663399\" stroke-width=\"2\" />\n",
       "<line x1=\"293.7\" y1=\"135.0\" x2=\"289.1\" y2=\"126.9\"\n",
       "    stroke=\"#663399\" stroke-width=\"2\" />\n",
       "<line x1=\"289.1\" y1=\"126.9\" x2=\"284.4\" y2=\"135.0\"\n",
       "    stroke=\"#663399\" stroke-width=\"2\" />\n",
       "<line x1=\"284.4\" y1=\"135.0\" x2=\"293.7\" y2=\"135.0\"\n",
       "    stroke=\"#663399\" stroke-width=\"2\" />\n",
       "<line x1=\"293.7\" y1=\"135.0\" x2=\"289.1\" y2=\"126.9\"\n",
       "    stroke=\"#663399\" stroke-width=\"2\" />\n",
       "<line x1=\"289.1\" y1=\"126.9\" x2=\"284.4\" y2=\"135.0\"\n",
       "    stroke=\"#663399\" stroke-width=\"2\" />\n",
       "<line x1=\"284.4\" y1=\"135.0\" x2=\"293.7\" y2=\"135.0\"\n",
       "    stroke=\"#663399\" stroke-width=\"2\" />\n",
       "<line x1=\"293.7\" y1=\"135.0\" x2=\"289.1\" y2=\"126.9\"\n",
       "    stroke=\"#663399\" stroke-width=\"2\" />\n",
       "<line x1=\"289.1\" y1=\"126.9\" x2=\"284.4\" y2=\"135.0\"\n",
       "    stroke=\"#663399\" stroke-width=\"2\" />\n",
       "<line x1=\"284.4\" y1=\"135.0\" x2=\"293.7\" y2=\"135.0\"\n",
       "    stroke=\"#663399\" stroke-width=\"2\" />\n",
       "<line x1=\"293.7\" y1=\"135.0\" x2=\"284.4\" y2=\"118.8\"\n",
       "    stroke=\"#663399\" stroke-width=\"2\" />\n",
       "<line x1=\"284.4\" y1=\"118.8\" x2=\"279.7\" y2=\"126.9\"\n",
       "    stroke=\"#663399\" stroke-width=\"2\" />\n",
       "<line x1=\"279.7\" y1=\"126.9\" x2=\"289.1\" y2=\"126.9\"\n",
       "    stroke=\"#663399\" stroke-width=\"2\" />\n",
       "<line x1=\"289.1\" y1=\"126.9\" x2=\"284.4\" y2=\"118.8\"\n",
       "    stroke=\"#663399\" stroke-width=\"2\" />\n",
       "<line x1=\"284.4\" y1=\"118.8\" x2=\"279.7\" y2=\"126.9\"\n",
       "    stroke=\"#663399\" stroke-width=\"2\" />\n",
       "<line x1=\"279.7\" y1=\"126.9\" x2=\"289.1\" y2=\"126.9\"\n",
       "    stroke=\"#663399\" stroke-width=\"2\" />\n",
       "<line x1=\"289.1\" y1=\"126.9\" x2=\"284.4\" y2=\"118.8\"\n",
       "    stroke=\"#663399\" stroke-width=\"2\" />\n",
       "<line x1=\"284.4\" y1=\"118.8\" x2=\"279.7\" y2=\"126.9\"\n",
       "    stroke=\"#663399\" stroke-width=\"2\" />\n",
       "<line x1=\"279.7\" y1=\"126.9\" x2=\"289.1\" y2=\"126.9\"\n",
       "    stroke=\"#663399\" stroke-width=\"2\" />\n",
       "<line x1=\"289.1\" y1=\"126.9\" x2=\"284.4\" y2=\"118.8\"\n",
       "    stroke=\"#663399\" stroke-width=\"2\" />\n",
       "<line x1=\"284.4\" y1=\"118.8\" x2=\"279.7\" y2=\"126.9\"\n",
       "    stroke=\"#663399\" stroke-width=\"2\" />\n",
       "<line x1=\"279.7\" y1=\"126.9\" x2=\"289.1\" y2=\"126.9\"\n",
       "    stroke=\"#663399\" stroke-width=\"2\" />\n",
       "<line x1=\"289.1\" y1=\"126.9\" x2=\"284.4\" y2=\"118.8\"\n",
       "    stroke=\"#663399\" stroke-width=\"2\" />\n",
       "<line x1=\"284.4\" y1=\"118.8\" x2=\"275.0\" y2=\"135.0\"\n",
       "    stroke=\"#663399\" stroke-width=\"2\" />\n",
       "<line x1=\"275.0\" y1=\"135.0\" x2=\"312.5\" y2=\"135.0\"\n",
       "    stroke=\"#663399\" stroke-width=\"2\" />\n",
       "<line x1=\"312.5\" y1=\"135.0\" x2=\"275.0\" y2=\"70.1\"\n",
       "    stroke=\"#663399\" stroke-width=\"2\" />\n",
       "<line x1=\"275.0\" y1=\"70.1\" x2=\"200.0\" y2=\"200.0\"\n",
       "    stroke=\"#663399\" stroke-width=\"2\" />\n",
       "\n",
       "<g transform=\"rotate(-90.0,200.0,200.0) translate(200.0, 200.0)\">\n",
       "    <circle stroke=\"#63A375\" stroke-width=\"2\" fill=\"transparent\" r=\"5.5\" cx=\"0\" cy=\"0\"/>\n",
       "    <polygon points=\"0,12 2,9 -2,9\" style=\"fill:#63A375;stroke:#63A375;stroke-width:2\"/>\n",
       "</g>\n",
       "\n",
       "</svg>"
      ],
      "text/plain": [
       "<IPython.core.display.HTML object>"
      ]
     },
     "metadata": {},
     "output_type": "display_data"
    }
   ],
   "source": [
    "make_turtle(delay=0, height=400, width=400)\n",
    "\n",
    "draw_sierpinski(300, 5)"
   ]
  },
  {
   "cell_type": "markdown",
   "id": "b412f986-d88f-46b7-a7f8-702788610280",
   "metadata": {
    "id": "9d6969d4"
   },
   "source": [
    "### ** NEAT!  :-)"
   ]
  }
 ],
 "metadata": {
  "celltoolbar": "Tags",
  "colab": {
   "provenance": []
  },
  "kernelspec": {
   "display_name": "Python 3 (ipykernel)",
   "language": "python",
   "name": "python3"
  },
  "language_info": {
   "codemirror_mode": {
    "name": "ipython",
    "version": 3
   },
   "file_extension": ".py",
   "mimetype": "text/x-python",
   "name": "python",
   "nbconvert_exporter": "python",
   "pygments_lexer": "ipython3",
   "version": "3.10.12"
  }
 },
 "nbformat": 4,
 "nbformat_minor": 5
}
